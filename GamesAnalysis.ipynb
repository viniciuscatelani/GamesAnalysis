{
 "cells": [
  {
   "cell_type": "markdown",
   "metadata": {},
   "source": [
    "# Projeto Integrado T10 - Análise de sucesso de jogos de videogame"
   ]
  },
  {
   "cell_type": "markdown",
   "metadata": {},
   "source": [
    "## Objetivo\n",
    "\n",
    "Para todo negócio prosperar e continuar evoluindo, é essencial que seja avaliado o histórico de vendas, pois nele é possível entender os principais gostos dos clientes, nichos, produtos populares, entre outros.\n",
    "\n",
    "Digamos então que a empresa Ice - empresa hipotética para a qual trabalho - deseja determinar e entender o sucesso de um jogo, de forma a investir precisamente em campanhas publicitárias para novos jogos a serem lançados no(s) próximo(s) ano(s). Os dados disponibilizados são de 2016, portanto será feita uma análise tendo em vista projeções para o ano de 2017.\n",
    "\n",
    "Portanto, vamos iniciar as análises e tentar entender a tendência para jogos de acordo com os últimos anos."
   ]
  },
  {
   "cell_type": "markdown",
   "metadata": {},
   "source": [
    "## Importação das bibliotecas"
   ]
  },
  {
   "cell_type": "code",
   "execution_count": 1,
   "metadata": {},
   "outputs": [],
   "source": [
    "import pandas as pd\n",
    "import numpy as np\n",
    "import plotly.express as px\n",
    "import seaborn as sns\n",
    "import matplotlib.pyplot as plt\n",
    "from scipy import stats as st\n",
    "from scipy.stats import levene\n",
    "from datetime import datetime"
   ]
  },
  {
   "cell_type": "markdown",
   "metadata": {},
   "source": [
    "## Preparação dos dados"
   ]
  },
  {
   "cell_type": "code",
   "execution_count": 2,
   "metadata": {},
   "outputs": [],
   "source": [
    "# Leitura da base de dados\n",
    "\n",
    "games = pd.read_csv('datasets/games.csv')"
   ]
  },
  {
   "cell_type": "code",
   "execution_count": 3,
   "metadata": {},
   "outputs": [
    {
     "name": "stdout",
     "output_type": "stream",
     "text": [
      "<class 'pandas.core.frame.DataFrame'>\n",
      "RangeIndex: 16715 entries, 0 to 16714\n",
      "Data columns (total 11 columns):\n",
      " #   Column           Non-Null Count  Dtype  \n",
      "---  ------           --------------  -----  \n",
      " 0   Name             16713 non-null  object \n",
      " 1   Platform         16715 non-null  object \n",
      " 2   Year_of_Release  16446 non-null  float64\n",
      " 3   Genre            16713 non-null  object \n",
      " 4   NA_sales         16715 non-null  float64\n",
      " 5   EU_sales         16715 non-null  float64\n",
      " 6   JP_sales         16715 non-null  float64\n",
      " 7   Other_sales      16715 non-null  float64\n",
      " 8   Critic_Score     8137 non-null   float64\n",
      " 9   User_Score       10014 non-null  object \n",
      " 10  Rating           9949 non-null   object \n",
      "dtypes: float64(6), object(5)\n",
      "memory usage: 1.4+ MB\n",
      "Quantidade de linhas duplicadas: 0\n"
     ]
    },
    {
     "data": {
      "text/html": [
       "<div>\n",
       "<style scoped>\n",
       "    .dataframe tbody tr th:only-of-type {\n",
       "        vertical-align: middle;\n",
       "    }\n",
       "\n",
       "    .dataframe tbody tr th {\n",
       "        vertical-align: top;\n",
       "    }\n",
       "\n",
       "    .dataframe thead th {\n",
       "        text-align: right;\n",
       "    }\n",
       "</style>\n",
       "<table border=\"1\" class=\"dataframe\">\n",
       "  <thead>\n",
       "    <tr style=\"text-align: right;\">\n",
       "      <th></th>\n",
       "      <th>Name</th>\n",
       "      <th>Platform</th>\n",
       "      <th>Year_of_Release</th>\n",
       "      <th>Genre</th>\n",
       "      <th>NA_sales</th>\n",
       "      <th>EU_sales</th>\n",
       "      <th>JP_sales</th>\n",
       "      <th>Other_sales</th>\n",
       "      <th>Critic_Score</th>\n",
       "      <th>User_Score</th>\n",
       "      <th>Rating</th>\n",
       "    </tr>\n",
       "  </thead>\n",
       "  <tbody>\n",
       "    <tr>\n",
       "      <th>0</th>\n",
       "      <td>Wii Sports</td>\n",
       "      <td>Wii</td>\n",
       "      <td>2006.0</td>\n",
       "      <td>Sports</td>\n",
       "      <td>41.36</td>\n",
       "      <td>28.96</td>\n",
       "      <td>3.77</td>\n",
       "      <td>8.45</td>\n",
       "      <td>76.0</td>\n",
       "      <td>8</td>\n",
       "      <td>E</td>\n",
       "    </tr>\n",
       "    <tr>\n",
       "      <th>1</th>\n",
       "      <td>Super Mario Bros.</td>\n",
       "      <td>NES</td>\n",
       "      <td>1985.0</td>\n",
       "      <td>Platform</td>\n",
       "      <td>29.08</td>\n",
       "      <td>3.58</td>\n",
       "      <td>6.81</td>\n",
       "      <td>0.77</td>\n",
       "      <td>NaN</td>\n",
       "      <td>NaN</td>\n",
       "      <td>NaN</td>\n",
       "    </tr>\n",
       "    <tr>\n",
       "      <th>2</th>\n",
       "      <td>Mario Kart Wii</td>\n",
       "      <td>Wii</td>\n",
       "      <td>2008.0</td>\n",
       "      <td>Racing</td>\n",
       "      <td>15.68</td>\n",
       "      <td>12.76</td>\n",
       "      <td>3.79</td>\n",
       "      <td>3.29</td>\n",
       "      <td>82.0</td>\n",
       "      <td>8.3</td>\n",
       "      <td>E</td>\n",
       "    </tr>\n",
       "    <tr>\n",
       "      <th>3</th>\n",
       "      <td>Wii Sports Resort</td>\n",
       "      <td>Wii</td>\n",
       "      <td>2009.0</td>\n",
       "      <td>Sports</td>\n",
       "      <td>15.61</td>\n",
       "      <td>10.93</td>\n",
       "      <td>3.28</td>\n",
       "      <td>2.95</td>\n",
       "      <td>80.0</td>\n",
       "      <td>8</td>\n",
       "      <td>E</td>\n",
       "    </tr>\n",
       "    <tr>\n",
       "      <th>4</th>\n",
       "      <td>Pokemon Red/Pokemon Blue</td>\n",
       "      <td>GB</td>\n",
       "      <td>1996.0</td>\n",
       "      <td>Role-Playing</td>\n",
       "      <td>11.27</td>\n",
       "      <td>8.89</td>\n",
       "      <td>10.22</td>\n",
       "      <td>1.00</td>\n",
       "      <td>NaN</td>\n",
       "      <td>NaN</td>\n",
       "      <td>NaN</td>\n",
       "    </tr>\n",
       "  </tbody>\n",
       "</table>\n",
       "</div>"
      ],
      "text/plain": [
       "                       Name Platform  Year_of_Release         Genre  NA_sales  \\\n",
       "0                Wii Sports      Wii           2006.0        Sports     41.36   \n",
       "1         Super Mario Bros.      NES           1985.0      Platform     29.08   \n",
       "2            Mario Kart Wii      Wii           2008.0        Racing     15.68   \n",
       "3         Wii Sports Resort      Wii           2009.0        Sports     15.61   \n",
       "4  Pokemon Red/Pokemon Blue       GB           1996.0  Role-Playing     11.27   \n",
       "\n",
       "   EU_sales  JP_sales  Other_sales  Critic_Score User_Score Rating  \n",
       "0     28.96      3.77         8.45          76.0          8      E  \n",
       "1      3.58      6.81         0.77           NaN        NaN    NaN  \n",
       "2     12.76      3.79         3.29          82.0        8.3      E  \n",
       "3     10.93      3.28         2.95          80.0          8      E  \n",
       "4      8.89     10.22         1.00           NaN        NaN    NaN  "
      ]
     },
     "execution_count": 3,
     "metadata": {},
     "output_type": "execute_result"
    }
   ],
   "source": [
    "# Visualização de inforamçaões iniciais e de algumas linhas\n",
    "\n",
    "games.info()\n",
    "print('Quantidade de linhas duplicadas:', games.duplicated().sum())\n",
    "games.head()"
   ]
  },
  {
   "cell_type": "markdown",
   "metadata": {},
   "source": [
    "A partir das primeiras observações simples, é possível concluir que:\n",
    "\n",
    "- Não há linhas duplicadas; \n",
    "- Somente as colunas **Name**, **Year_of_Release**, **Genre**, **Critic_Score**, **User_Score** e **Rating** possuem valores nulos. No caso das duas primeiras, como são informações de extrema importância, não é desejável ter valores nulos nos dados, portanto as linhas correspondentes serão excluídas. Para o caso das colunas de score, serão excluídas as linhas em que não há valor para nenhuma das três, já que o objetivo é justamente entender o jogos que fizeram sucesso, e sem a informação de score, não é possível determinar o nível de sucesso do jogo; para a última coluna, os valores nulos serão substituídos por 'NR' (No Rating); para a coluna **Genre** serão trocados por 'NG'(No Genre);\n",
    "- As colunas estão todas com maiúsculos no começo de cada nova palavra, além de não apresentar um padrão de como isso acontece para alguns casos, então, para fins de padronização, todas as colunas terão seus nomes convertidos para minúsculo;\n",
    "- A colunas **Year_of_Release** apresenta os anos como números decimais, por conta da presença de valores ausentes, portanto, após a exclusão dos valores ausentes, será transformada em tipo inteiro para fins de coerência;\n",
    "- A coluna **User_Score** não só apresenta os scores numa escala de 0 a 10, assim como está como tipo string, enquanto a coluna **Critic_Score** apresenta-os numa escala de 0 a 100, portanto, para padronizar, a coluna **User_Score** será transformada para ter dados do tipo float e refletir uma escala de 0 a 100, porém há de se considerar as linhas com valores igual a 'tbd', que significa 'to be determined'. Para esses casos, serão trocados por nulo, já que é um valor que significa que não há classificação;\n",
    "- No caso das colunas **User_Score** e **Critic_Score**, como a quantidade de dados nulos é muito grande, os dados nulos serão mantidos como estão, já que as análises em cima dessas colunas não evolverá os valores nulos, porém os dados das linhas com estes valores nulos são importantes para outras análises;\n",
    "- A fim de se armazenar informaçãoes sobre o total de vendas, independente da região, será criada uma coluna chamada **total_sales** para representar essa informação;"
   ]
  },
  {
   "cell_type": "code",
   "execution_count": 4,
   "metadata": {},
   "outputs": [
    {
     "data": {
      "text/plain": [
       "Index(['name', 'platform', 'year_of_release', 'genre', 'na_sales', 'eu_sales',\n",
       "       'jp_sales', 'other_sales', 'critic_score', 'user_score', 'rating'],\n",
       "      dtype='object')"
      ]
     },
     "execution_count": 4,
     "metadata": {},
     "output_type": "execute_result"
    }
   ],
   "source": [
    "# Ajuste nos nomes das colunas\n",
    "\n",
    "games.columns = [column.lower() for column in games.columns]\n",
    "games.columns"
   ]
  },
  {
   "cell_type": "code",
   "execution_count": 5,
   "metadata": {},
   "outputs": [
    {
     "data": {
      "text/plain": [
       "0    80.0\n",
       "1     NaN\n",
       "2    83.0\n",
       "3    80.0\n",
       "4     NaN\n",
       "Name: user_score, dtype: float64"
      ]
     },
     "execution_count": 5,
     "metadata": {},
     "output_type": "execute_result"
    }
   ],
   "source": [
    "# Ajuste nos valores da coluna user_score iguais a tbd com valore nulo\n",
    "\n",
    "games['user_score'] = games['user_score'].replace('tbd', np.nan)\n",
    "games['user_score'] = np.where(games['user_score'].notnull(),\n",
    "                               games['user_score'].astype(float) * 10,\n",
    "                               games['user_score']\n",
    "                               )\n",
    "games['user_score'] = games['user_score'].astype(float)\n",
    "games['user_score'].head()"
   ]
  },
  {
   "cell_type": "code",
   "execution_count": 6,
   "metadata": {},
   "outputs": [
    {
     "name": "stdout",
     "output_type": "stream",
     "text": [
      "<class 'pandas.core.frame.DataFrame'>\n",
      "Index: 16444 entries, 0 to 16714\n",
      "Data columns (total 11 columns):\n",
      " #   Column           Non-Null Count  Dtype  \n",
      "---  ------           --------------  -----  \n",
      " 0   name             16444 non-null  object \n",
      " 1   platform         16444 non-null  object \n",
      " 2   year_of_release  16444 non-null  int32  \n",
      " 3   genre            16444 non-null  object \n",
      " 4   na_sales         16444 non-null  float64\n",
      " 5   eu_sales         16444 non-null  float64\n",
      " 6   jp_sales         16444 non-null  float64\n",
      " 7   other_sales      16444 non-null  float64\n",
      " 8   critic_score     7983 non-null   float64\n",
      " 9   user_score       7463 non-null   float64\n",
      " 10  rating           9768 non-null   object \n",
      "dtypes: float64(6), int32(1), object(4)\n",
      "memory usage: 1.4+ MB\n"
     ]
    },
    {
     "data": {
      "text/html": [
       "<div>\n",
       "<style scoped>\n",
       "    .dataframe tbody tr th:only-of-type {\n",
       "        vertical-align: middle;\n",
       "    }\n",
       "\n",
       "    .dataframe tbody tr th {\n",
       "        vertical-align: top;\n",
       "    }\n",
       "\n",
       "    .dataframe thead th {\n",
       "        text-align: right;\n",
       "    }\n",
       "</style>\n",
       "<table border=\"1\" class=\"dataframe\">\n",
       "  <thead>\n",
       "    <tr style=\"text-align: right;\">\n",
       "      <th></th>\n",
       "      <th>name</th>\n",
       "      <th>platform</th>\n",
       "      <th>year_of_release</th>\n",
       "      <th>genre</th>\n",
       "      <th>na_sales</th>\n",
       "      <th>eu_sales</th>\n",
       "      <th>jp_sales</th>\n",
       "      <th>other_sales</th>\n",
       "      <th>critic_score</th>\n",
       "      <th>user_score</th>\n",
       "      <th>rating</th>\n",
       "    </tr>\n",
       "  </thead>\n",
       "  <tbody>\n",
       "    <tr>\n",
       "      <th>0</th>\n",
       "      <td>Wii Sports</td>\n",
       "      <td>Wii</td>\n",
       "      <td>2006</td>\n",
       "      <td>Sports</td>\n",
       "      <td>41.36</td>\n",
       "      <td>28.96</td>\n",
       "      <td>3.77</td>\n",
       "      <td>8.45</td>\n",
       "      <td>76.0</td>\n",
       "      <td>80.0</td>\n",
       "      <td>E</td>\n",
       "    </tr>\n",
       "    <tr>\n",
       "      <th>1</th>\n",
       "      <td>Super Mario Bros.</td>\n",
       "      <td>NES</td>\n",
       "      <td>1985</td>\n",
       "      <td>Platform</td>\n",
       "      <td>29.08</td>\n",
       "      <td>3.58</td>\n",
       "      <td>6.81</td>\n",
       "      <td>0.77</td>\n",
       "      <td>NaN</td>\n",
       "      <td>NaN</td>\n",
       "      <td>NaN</td>\n",
       "    </tr>\n",
       "    <tr>\n",
       "      <th>2</th>\n",
       "      <td>Mario Kart Wii</td>\n",
       "      <td>Wii</td>\n",
       "      <td>2008</td>\n",
       "      <td>Racing</td>\n",
       "      <td>15.68</td>\n",
       "      <td>12.76</td>\n",
       "      <td>3.79</td>\n",
       "      <td>3.29</td>\n",
       "      <td>82.0</td>\n",
       "      <td>83.0</td>\n",
       "      <td>E</td>\n",
       "    </tr>\n",
       "    <tr>\n",
       "      <th>3</th>\n",
       "      <td>Wii Sports Resort</td>\n",
       "      <td>Wii</td>\n",
       "      <td>2009</td>\n",
       "      <td>Sports</td>\n",
       "      <td>15.61</td>\n",
       "      <td>10.93</td>\n",
       "      <td>3.28</td>\n",
       "      <td>2.95</td>\n",
       "      <td>80.0</td>\n",
       "      <td>80.0</td>\n",
       "      <td>E</td>\n",
       "    </tr>\n",
       "    <tr>\n",
       "      <th>4</th>\n",
       "      <td>Pokemon Red/Pokemon Blue</td>\n",
       "      <td>GB</td>\n",
       "      <td>1996</td>\n",
       "      <td>Role-Playing</td>\n",
       "      <td>11.27</td>\n",
       "      <td>8.89</td>\n",
       "      <td>10.22</td>\n",
       "      <td>1.00</td>\n",
       "      <td>NaN</td>\n",
       "      <td>NaN</td>\n",
       "      <td>NaN</td>\n",
       "    </tr>\n",
       "  </tbody>\n",
       "</table>\n",
       "</div>"
      ],
      "text/plain": [
       "                       name platform  year_of_release         genre  na_sales  \\\n",
       "0                Wii Sports      Wii             2006        Sports     41.36   \n",
       "1         Super Mario Bros.      NES             1985      Platform     29.08   \n",
       "2            Mario Kart Wii      Wii             2008        Racing     15.68   \n",
       "3         Wii Sports Resort      Wii             2009        Sports     15.61   \n",
       "4  Pokemon Red/Pokemon Blue       GB             1996  Role-Playing     11.27   \n",
       "\n",
       "   eu_sales  jp_sales  other_sales  critic_score  user_score rating  \n",
       "0     28.96      3.77         8.45          76.0        80.0      E  \n",
       "1      3.58      6.81         0.77           NaN         NaN    NaN  \n",
       "2     12.76      3.79         3.29          82.0        83.0      E  \n",
       "3     10.93      3.28         2.95          80.0        80.0      E  \n",
       "4      8.89     10.22         1.00           NaN         NaN    NaN  "
      ]
     },
     "execution_count": 6,
     "metadata": {},
     "output_type": "execute_result"
    }
   ],
   "source": [
    "# Eliminação das linhas com valores nulos para name e year_of_release\n",
    "\n",
    "games = games[(games['name'].notnull()) & (games['year_of_release'].notnull())]\n",
    "\n",
    "# conversão da coluna year_of_release para inteiro\n",
    "\n",
    "games['year_of_release'] = games['year_of_release'].astype(int)\n",
    "\n",
    "games.info()\n",
    "games.head()"
   ]
  },
  {
   "cell_type": "code",
   "execution_count": 7,
   "metadata": {},
   "outputs": [
    {
     "name": "stdout",
     "output_type": "stream",
     "text": [
      "<class 'pandas.core.frame.DataFrame'>\n",
      "Index: 16444 entries, 0 to 16714\n",
      "Data columns (total 11 columns):\n",
      " #   Column           Non-Null Count  Dtype  \n",
      "---  ------           --------------  -----  \n",
      " 0   name             16444 non-null  object \n",
      " 1   platform         16444 non-null  object \n",
      " 2   year_of_release  16444 non-null  int32  \n",
      " 3   genre            16444 non-null  object \n",
      " 4   na_sales         16444 non-null  float64\n",
      " 5   eu_sales         16444 non-null  float64\n",
      " 6   jp_sales         16444 non-null  float64\n",
      " 7   other_sales      16444 non-null  float64\n",
      " 8   critic_score     7983 non-null   float64\n",
      " 9   user_score       7463 non-null   float64\n",
      " 10  rating           16444 non-null  object \n",
      "dtypes: float64(6), int32(1), object(4)\n",
      "memory usage: 1.4+ MB\n"
     ]
    },
    {
     "data": {
      "text/html": [
       "<div>\n",
       "<style scoped>\n",
       "    .dataframe tbody tr th:only-of-type {\n",
       "        vertical-align: middle;\n",
       "    }\n",
       "\n",
       "    .dataframe tbody tr th {\n",
       "        vertical-align: top;\n",
       "    }\n",
       "\n",
       "    .dataframe thead th {\n",
       "        text-align: right;\n",
       "    }\n",
       "</style>\n",
       "<table border=\"1\" class=\"dataframe\">\n",
       "  <thead>\n",
       "    <tr style=\"text-align: right;\">\n",
       "      <th></th>\n",
       "      <th>name</th>\n",
       "      <th>platform</th>\n",
       "      <th>year_of_release</th>\n",
       "      <th>genre</th>\n",
       "      <th>na_sales</th>\n",
       "      <th>eu_sales</th>\n",
       "      <th>jp_sales</th>\n",
       "      <th>other_sales</th>\n",
       "      <th>critic_score</th>\n",
       "      <th>user_score</th>\n",
       "      <th>rating</th>\n",
       "    </tr>\n",
       "  </thead>\n",
       "  <tbody>\n",
       "    <tr>\n",
       "      <th>0</th>\n",
       "      <td>Wii Sports</td>\n",
       "      <td>Wii</td>\n",
       "      <td>2006</td>\n",
       "      <td>Sports</td>\n",
       "      <td>41.36</td>\n",
       "      <td>28.96</td>\n",
       "      <td>3.77</td>\n",
       "      <td>8.45</td>\n",
       "      <td>76.0</td>\n",
       "      <td>80.0</td>\n",
       "      <td>E</td>\n",
       "    </tr>\n",
       "    <tr>\n",
       "      <th>1</th>\n",
       "      <td>Super Mario Bros.</td>\n",
       "      <td>NES</td>\n",
       "      <td>1985</td>\n",
       "      <td>Platform</td>\n",
       "      <td>29.08</td>\n",
       "      <td>3.58</td>\n",
       "      <td>6.81</td>\n",
       "      <td>0.77</td>\n",
       "      <td>NaN</td>\n",
       "      <td>NaN</td>\n",
       "      <td>NR</td>\n",
       "    </tr>\n",
       "    <tr>\n",
       "      <th>2</th>\n",
       "      <td>Mario Kart Wii</td>\n",
       "      <td>Wii</td>\n",
       "      <td>2008</td>\n",
       "      <td>Racing</td>\n",
       "      <td>15.68</td>\n",
       "      <td>12.76</td>\n",
       "      <td>3.79</td>\n",
       "      <td>3.29</td>\n",
       "      <td>82.0</td>\n",
       "      <td>83.0</td>\n",
       "      <td>E</td>\n",
       "    </tr>\n",
       "    <tr>\n",
       "      <th>3</th>\n",
       "      <td>Wii Sports Resort</td>\n",
       "      <td>Wii</td>\n",
       "      <td>2009</td>\n",
       "      <td>Sports</td>\n",
       "      <td>15.61</td>\n",
       "      <td>10.93</td>\n",
       "      <td>3.28</td>\n",
       "      <td>2.95</td>\n",
       "      <td>80.0</td>\n",
       "      <td>80.0</td>\n",
       "      <td>E</td>\n",
       "    </tr>\n",
       "    <tr>\n",
       "      <th>4</th>\n",
       "      <td>Pokemon Red/Pokemon Blue</td>\n",
       "      <td>GB</td>\n",
       "      <td>1996</td>\n",
       "      <td>Role-Playing</td>\n",
       "      <td>11.27</td>\n",
       "      <td>8.89</td>\n",
       "      <td>10.22</td>\n",
       "      <td>1.00</td>\n",
       "      <td>NaN</td>\n",
       "      <td>NaN</td>\n",
       "      <td>NR</td>\n",
       "    </tr>\n",
       "  </tbody>\n",
       "</table>\n",
       "</div>"
      ],
      "text/plain": [
       "                       name platform  year_of_release         genre  na_sales  \\\n",
       "0                Wii Sports      Wii             2006        Sports     41.36   \n",
       "1         Super Mario Bros.      NES             1985      Platform     29.08   \n",
       "2            Mario Kart Wii      Wii             2008        Racing     15.68   \n",
       "3         Wii Sports Resort      Wii             2009        Sports     15.61   \n",
       "4  Pokemon Red/Pokemon Blue       GB             1996  Role-Playing     11.27   \n",
       "\n",
       "   eu_sales  jp_sales  other_sales  critic_score  user_score rating  \n",
       "0     28.96      3.77         8.45          76.0        80.0      E  \n",
       "1      3.58      6.81         0.77           NaN         NaN     NR  \n",
       "2     12.76      3.79         3.29          82.0        83.0      E  \n",
       "3     10.93      3.28         2.95          80.0        80.0      E  \n",
       "4      8.89     10.22         1.00           NaN         NaN     NR  "
      ]
     },
     "execution_count": 7,
     "metadata": {},
     "output_type": "execute_result"
    }
   ],
   "source": [
    "# Preenchimento dos valores nulos para a coluna rating\n",
    "\n",
    "games['rating'] = games['rating'].fillna('NR')\n",
    "games.info()\n",
    "games.head()"
   ]
  },
  {
   "cell_type": "markdown",
   "metadata": {},
   "source": [
    "Como não há mais valores nulos nos dados, a coluna **genre** não passará pelo processo de substuição, visto que não foi necessário."
   ]
  },
  {
   "cell_type": "code",
   "execution_count": 8,
   "metadata": {},
   "outputs": [
    {
     "name": "stdout",
     "output_type": "stream",
     "text": [
      "<class 'pandas.core.frame.DataFrame'>\n",
      "Index: 16444 entries, 0 to 16714\n",
      "Data columns (total 12 columns):\n",
      " #   Column           Non-Null Count  Dtype  \n",
      "---  ------           --------------  -----  \n",
      " 0   name             16444 non-null  object \n",
      " 1   platform         16444 non-null  object \n",
      " 2   year_of_release  16444 non-null  int32  \n",
      " 3   genre            16444 non-null  object \n",
      " 4   na_sales         16444 non-null  float64\n",
      " 5   eu_sales         16444 non-null  float64\n",
      " 6   jp_sales         16444 non-null  float64\n",
      " 7   other_sales      16444 non-null  float64\n",
      " 8   critic_score     7983 non-null   float64\n",
      " 9   user_score       7463 non-null   float64\n",
      " 10  rating           16444 non-null  object \n",
      " 11  total_sales      16444 non-null  float64\n",
      "dtypes: float64(7), int32(1), object(4)\n",
      "memory usage: 1.6+ MB\n"
     ]
    },
    {
     "data": {
      "text/html": [
       "<div>\n",
       "<style scoped>\n",
       "    .dataframe tbody tr th:only-of-type {\n",
       "        vertical-align: middle;\n",
       "    }\n",
       "\n",
       "    .dataframe tbody tr th {\n",
       "        vertical-align: top;\n",
       "    }\n",
       "\n",
       "    .dataframe thead th {\n",
       "        text-align: right;\n",
       "    }\n",
       "</style>\n",
       "<table border=\"1\" class=\"dataframe\">\n",
       "  <thead>\n",
       "    <tr style=\"text-align: right;\">\n",
       "      <th></th>\n",
       "      <th>name</th>\n",
       "      <th>platform</th>\n",
       "      <th>year_of_release</th>\n",
       "      <th>genre</th>\n",
       "      <th>na_sales</th>\n",
       "      <th>eu_sales</th>\n",
       "      <th>jp_sales</th>\n",
       "      <th>other_sales</th>\n",
       "      <th>critic_score</th>\n",
       "      <th>user_score</th>\n",
       "      <th>rating</th>\n",
       "      <th>total_sales</th>\n",
       "    </tr>\n",
       "  </thead>\n",
       "  <tbody>\n",
       "    <tr>\n",
       "      <th>0</th>\n",
       "      <td>Wii Sports</td>\n",
       "      <td>Wii</td>\n",
       "      <td>2006</td>\n",
       "      <td>Sports</td>\n",
       "      <td>41.36</td>\n",
       "      <td>28.96</td>\n",
       "      <td>3.77</td>\n",
       "      <td>8.45</td>\n",
       "      <td>76.0</td>\n",
       "      <td>80.0</td>\n",
       "      <td>E</td>\n",
       "      <td>82.54</td>\n",
       "    </tr>\n",
       "    <tr>\n",
       "      <th>1</th>\n",
       "      <td>Super Mario Bros.</td>\n",
       "      <td>NES</td>\n",
       "      <td>1985</td>\n",
       "      <td>Platform</td>\n",
       "      <td>29.08</td>\n",
       "      <td>3.58</td>\n",
       "      <td>6.81</td>\n",
       "      <td>0.77</td>\n",
       "      <td>NaN</td>\n",
       "      <td>NaN</td>\n",
       "      <td>NR</td>\n",
       "      <td>40.24</td>\n",
       "    </tr>\n",
       "    <tr>\n",
       "      <th>2</th>\n",
       "      <td>Mario Kart Wii</td>\n",
       "      <td>Wii</td>\n",
       "      <td>2008</td>\n",
       "      <td>Racing</td>\n",
       "      <td>15.68</td>\n",
       "      <td>12.76</td>\n",
       "      <td>3.79</td>\n",
       "      <td>3.29</td>\n",
       "      <td>82.0</td>\n",
       "      <td>83.0</td>\n",
       "      <td>E</td>\n",
       "      <td>35.52</td>\n",
       "    </tr>\n",
       "    <tr>\n",
       "      <th>3</th>\n",
       "      <td>Wii Sports Resort</td>\n",
       "      <td>Wii</td>\n",
       "      <td>2009</td>\n",
       "      <td>Sports</td>\n",
       "      <td>15.61</td>\n",
       "      <td>10.93</td>\n",
       "      <td>3.28</td>\n",
       "      <td>2.95</td>\n",
       "      <td>80.0</td>\n",
       "      <td>80.0</td>\n",
       "      <td>E</td>\n",
       "      <td>32.77</td>\n",
       "    </tr>\n",
       "    <tr>\n",
       "      <th>4</th>\n",
       "      <td>Pokemon Red/Pokemon Blue</td>\n",
       "      <td>GB</td>\n",
       "      <td>1996</td>\n",
       "      <td>Role-Playing</td>\n",
       "      <td>11.27</td>\n",
       "      <td>8.89</td>\n",
       "      <td>10.22</td>\n",
       "      <td>1.00</td>\n",
       "      <td>NaN</td>\n",
       "      <td>NaN</td>\n",
       "      <td>NR</td>\n",
       "      <td>31.38</td>\n",
       "    </tr>\n",
       "  </tbody>\n",
       "</table>\n",
       "</div>"
      ],
      "text/plain": [
       "                       name platform  year_of_release         genre  na_sales  \\\n",
       "0                Wii Sports      Wii             2006        Sports     41.36   \n",
       "1         Super Mario Bros.      NES             1985      Platform     29.08   \n",
       "2            Mario Kart Wii      Wii             2008        Racing     15.68   \n",
       "3         Wii Sports Resort      Wii             2009        Sports     15.61   \n",
       "4  Pokemon Red/Pokemon Blue       GB             1996  Role-Playing     11.27   \n",
       "\n",
       "   eu_sales  jp_sales  other_sales  critic_score  user_score rating  \\\n",
       "0     28.96      3.77         8.45          76.0        80.0      E   \n",
       "1      3.58      6.81         0.77           NaN         NaN     NR   \n",
       "2     12.76      3.79         3.29          82.0        83.0      E   \n",
       "3     10.93      3.28         2.95          80.0        80.0      E   \n",
       "4      8.89     10.22         1.00           NaN         NaN     NR   \n",
       "\n",
       "   total_sales  \n",
       "0        82.54  \n",
       "1        40.24  \n",
       "2        35.52  \n",
       "3        32.77  \n",
       "4        31.38  "
      ]
     },
     "execution_count": 8,
     "metadata": {},
     "output_type": "execute_result"
    }
   ],
   "source": [
    "# Geração da coluna total_sales\n",
    "\n",
    "games['total_sales'] = games['na_sales'] + \\\n",
    "    games['eu_sales'] + games['jp_sales'] + games['other_sales']\n",
    "games.info()\n",
    "games.head()"
   ]
  },
  {
   "cell_type": "markdown",
   "metadata": {},
   "source": [
    "Com os dados preparados, hora de começar as análises"
   ]
  },
  {
   "cell_type": "markdown",
   "metadata": {},
   "source": [
    "## Análise dos dados"
   ]
  },
  {
   "cell_type": "code",
   "execution_count": 9,
   "metadata": {},
   "outputs": [
    {
     "data": {
      "image/png": "[encoded data removed]",
      "text/plain": [
       "<Figure size 1200x600 with 1 Axes>"
      ]
     },
     "metadata": {},
     "output_type": "display_data"
    }
   ],
   "source": [
    "# Checagem da quantidade de jogos vendida por ano\n",
    "\n",
    "##Código para utilizar a biblioteca Plotly\n",
    "# games_per_year = games.groupby('year_of_release')['name'].count().reset_index()\n",
    "# games_per_year.rename(columns={'name': 'total_games_sold'}, inplace=True)\n",
    "\n",
    "# # Visualização em um gráfico de barras\n",
    "\n",
    "# fig = px.bar(games_per_year,\n",
    "#              x='year_of_release',\n",
    "#              y='total_games_sold',\n",
    "#              labels={\n",
    "#                  \"year_of_release\": \"Year\",\n",
    "#                  \"total_games_sold\": \"Total Games Sold\",\n",
    "#              },\n",
    "#              title='Number of Games Sold per Year')\n",
    "\n",
    "# fig.show()\n",
    "\n",
    "##Código para utlizar a bilioteca seaborn\n",
    "\n",
    "games_per_year = games.groupby('year_of_release')['name'].count().reset_index()\n",
    "games_per_year.rename(columns={'name': 'total_games_sold'}, inplace=True)\n",
    "\n",
    "# Visualização em um gráfico de barras com Seaborn\n",
    "plt.figure(figsize=(12, 6))\n",
    "sns.barplot(data=games_per_year, x='year_of_release', y='total_games_sold', color='skyblue')\n",
    "\n",
    "plt.title('Number of Games Sold per Year')\n",
    "plt.xlabel('Year')\n",
    "plt.ylabel('Total Games Sold')\n",
    "plt.xticks(rotation=45)\n",
    "plt.tight_layout()\n",
    "plt.show()"
   ]
  },
  {
   "cell_type": "markdown",
   "metadata": {},
   "source": [
    "Do gráfico acima é possível perceber uma grande popularização dos jogos a partir da década de 90, principalmente a partir de 1995, com uma quantidade de jogos vendidos muito pequena antes deste período, assim como um pico por volta de 2008-2009, e então com uma queda nos últimos anos."
   ]
  },
  {
   "cell_type": "markdown",
   "metadata": {},
   "source": [
    "É muito importante também entender como se comporta as vendas por plataforma ao decorrer dos anos, para entender quão rápido se tornaram populares, se ainda mantêm esse status, se alguma ja deixou de vender jogos e etc.\n",
    "Portanto, para entender melhor o comportamento, vamos dar uma olhada nos dados de venda por plataforma e, para as plataformas mais populares, entender como essas vendas se distribuem de acordo com os anos."
   ]
  },
  {
   "cell_type": "code",
   "execution_count": 10,
   "metadata": {},
   "outputs": [
    {
     "data": {
      "text/html": [
       "<div>\n",
       "<style scoped>\n",
       "    .dataframe tbody tr th:only-of-type {\n",
       "        vertical-align: middle;\n",
       "    }\n",
       "\n",
       "    .dataframe tbody tr th {\n",
       "        vertical-align: top;\n",
       "    }\n",
       "\n",
       "    .dataframe thead th {\n",
       "        text-align: right;\n",
       "    }\n",
       "</style>\n",
       "<table border=\"1\" class=\"dataframe\">\n",
       "  <thead>\n",
       "    <tr style=\"text-align: right;\">\n",
       "      <th></th>\n",
       "      <th>year_of_release</th>\n",
       "      <th>platform</th>\n",
       "      <th>total_sales</th>\n",
       "    </tr>\n",
       "  </thead>\n",
       "  <tbody>\n",
       "    <tr>\n",
       "      <th>0</th>\n",
       "      <td>1980</td>\n",
       "      <td>2600</td>\n",
       "      <td>11.38</td>\n",
       "    </tr>\n",
       "    <tr>\n",
       "      <th>1</th>\n",
       "      <td>1981</td>\n",
       "      <td>2600</td>\n",
       "      <td>35.68</td>\n",
       "    </tr>\n",
       "    <tr>\n",
       "      <th>2</th>\n",
       "      <td>1982</td>\n",
       "      <td>2600</td>\n",
       "      <td>28.88</td>\n",
       "    </tr>\n",
       "    <tr>\n",
       "      <th>3</th>\n",
       "      <td>1983</td>\n",
       "      <td>2600</td>\n",
       "      <td>5.84</td>\n",
       "    </tr>\n",
       "    <tr>\n",
       "      <th>4</th>\n",
       "      <td>1983</td>\n",
       "      <td>NES</td>\n",
       "      <td>10.96</td>\n",
       "    </tr>\n",
       "    <tr>\n",
       "      <th>...</th>\n",
       "      <td>...</td>\n",
       "      <td>...</td>\n",
       "      <td>...</td>\n",
       "    </tr>\n",
       "    <tr>\n",
       "      <th>233</th>\n",
       "      <td>2016</td>\n",
       "      <td>PSV</td>\n",
       "      <td>4.25</td>\n",
       "    </tr>\n",
       "    <tr>\n",
       "      <th>234</th>\n",
       "      <td>2016</td>\n",
       "      <td>Wii</td>\n",
       "      <td>0.18</td>\n",
       "    </tr>\n",
       "    <tr>\n",
       "      <th>235</th>\n",
       "      <td>2016</td>\n",
       "      <td>WiiU</td>\n",
       "      <td>4.60</td>\n",
       "    </tr>\n",
       "    <tr>\n",
       "      <th>236</th>\n",
       "      <td>2016</td>\n",
       "      <td>X360</td>\n",
       "      <td>1.52</td>\n",
       "    </tr>\n",
       "    <tr>\n",
       "      <th>237</th>\n",
       "      <td>2016</td>\n",
       "      <td>XOne</td>\n",
       "      <td>26.15</td>\n",
       "    </tr>\n",
       "  </tbody>\n",
       "</table>\n",
       "<p>238 rows × 3 columns</p>\n",
       "</div>"
      ],
      "text/plain": [
       "     year_of_release platform  total_sales\n",
       "0               1980     2600        11.38\n",
       "1               1981     2600        35.68\n",
       "2               1982     2600        28.88\n",
       "3               1983     2600         5.84\n",
       "4               1983      NES        10.96\n",
       "..               ...      ...          ...\n",
       "233             2016      PSV         4.25\n",
       "234             2016      Wii         0.18\n",
       "235             2016     WiiU         4.60\n",
       "236             2016     X360         1.52\n",
       "237             2016     XOne        26.15\n",
       "\n",
       "[238 rows x 3 columns]"
      ]
     },
     "execution_count": 10,
     "metadata": {},
     "output_type": "execute_result"
    }
   ],
   "source": [
    "# Gerando informação sobre total de vendas por plataforma por ano\n",
    "\n",
    "sales_per_plaftorm_per_year = games.groupby(['year_of_release', 'platform'])[\n",
    "    'total_sales'].sum().reset_index()\n",
    "sales_per_plaftorm_per_year = sales_per_plaftorm_per_year.reset_index(\n",
    "    drop=True)\n",
    "sales_per_plaftorm_per_year"
   ]
  },
  {
   "cell_type": "code",
   "execution_count": 11,
   "metadata": {},
   "outputs": [
    {
     "data": {
      "text/html": [
       "<div>\n",
       "<style scoped>\n",
       "    .dataframe tbody tr th:only-of-type {\n",
       "        vertical-align: middle;\n",
       "    }\n",
       "\n",
       "    .dataframe tbody tr th {\n",
       "        vertical-align: top;\n",
       "    }\n",
       "\n",
       "    .dataframe thead th {\n",
       "        text-align: right;\n",
       "    }\n",
       "</style>\n",
       "<table border=\"1\" class=\"dataframe\">\n",
       "  <thead>\n",
       "    <tr style=\"text-align: right;\">\n",
       "      <th></th>\n",
       "      <th>platform</th>\n",
       "      <th>total_sales</th>\n",
       "    </tr>\n",
       "  </thead>\n",
       "  <tbody>\n",
       "    <tr>\n",
       "      <th>0</th>\n",
       "      <td>PS2</td>\n",
       "      <td>1233.56</td>\n",
       "    </tr>\n",
       "    <tr>\n",
       "      <th>1</th>\n",
       "      <td>X360</td>\n",
       "      <td>961.24</td>\n",
       "    </tr>\n",
       "    <tr>\n",
       "      <th>2</th>\n",
       "      <td>PS3</td>\n",
       "      <td>931.34</td>\n",
       "    </tr>\n",
       "    <tr>\n",
       "      <th>3</th>\n",
       "      <td>Wii</td>\n",
       "      <td>891.18</td>\n",
       "    </tr>\n",
       "    <tr>\n",
       "      <th>4</th>\n",
       "      <td>DS</td>\n",
       "      <td>802.78</td>\n",
       "    </tr>\n",
       "    <tr>\n",
       "      <th>5</th>\n",
       "      <td>PS</td>\n",
       "      <td>727.58</td>\n",
       "    </tr>\n",
       "    <tr>\n",
       "      <th>6</th>\n",
       "      <td>PS4</td>\n",
       "      <td>314.14</td>\n",
       "    </tr>\n",
       "    <tr>\n",
       "      <th>7</th>\n",
       "      <td>GBA</td>\n",
       "      <td>312.88</td>\n",
       "    </tr>\n",
       "    <tr>\n",
       "      <th>8</th>\n",
       "      <td>PSP</td>\n",
       "      <td>289.53</td>\n",
       "    </tr>\n",
       "    <tr>\n",
       "      <th>9</th>\n",
       "      <td>3DS</td>\n",
       "      <td>257.81</td>\n",
       "    </tr>\n",
       "    <tr>\n",
       "      <th>10</th>\n",
       "      <td>PC</td>\n",
       "      <td>255.76</td>\n",
       "    </tr>\n",
       "    <tr>\n",
       "      <th>11</th>\n",
       "      <td>GB</td>\n",
       "      <td>254.43</td>\n",
       "    </tr>\n",
       "    <tr>\n",
       "      <th>12</th>\n",
       "      <td>XB</td>\n",
       "      <td>251.57</td>\n",
       "    </tr>\n",
       "    <tr>\n",
       "      <th>13</th>\n",
       "      <td>NES</td>\n",
       "      <td>251.05</td>\n",
       "    </tr>\n",
       "    <tr>\n",
       "      <th>14</th>\n",
       "      <td>N64</td>\n",
       "      <td>218.01</td>\n",
       "    </tr>\n",
       "    <tr>\n",
       "      <th>15</th>\n",
       "      <td>SNES</td>\n",
       "      <td>200.04</td>\n",
       "    </tr>\n",
       "    <tr>\n",
       "      <th>16</th>\n",
       "      <td>GC</td>\n",
       "      <td>196.73</td>\n",
       "    </tr>\n",
       "    <tr>\n",
       "      <th>17</th>\n",
       "      <td>XOne</td>\n",
       "      <td>159.32</td>\n",
       "    </tr>\n",
       "    <tr>\n",
       "      <th>18</th>\n",
       "      <td>2600</td>\n",
       "      <td>86.48</td>\n",
       "    </tr>\n",
       "    <tr>\n",
       "      <th>19</th>\n",
       "      <td>WiiU</td>\n",
       "      <td>82.19</td>\n",
       "    </tr>\n",
       "    <tr>\n",
       "      <th>20</th>\n",
       "      <td>PSV</td>\n",
       "      <td>53.81</td>\n",
       "    </tr>\n",
       "    <tr>\n",
       "      <th>21</th>\n",
       "      <td>SAT</td>\n",
       "      <td>33.59</td>\n",
       "    </tr>\n",
       "    <tr>\n",
       "      <th>22</th>\n",
       "      <td>GEN</td>\n",
       "      <td>28.35</td>\n",
       "    </tr>\n",
       "    <tr>\n",
       "      <th>23</th>\n",
       "      <td>DC</td>\n",
       "      <td>15.95</td>\n",
       "    </tr>\n",
       "    <tr>\n",
       "      <th>24</th>\n",
       "      <td>SCD</td>\n",
       "      <td>1.86</td>\n",
       "    </tr>\n",
       "    <tr>\n",
       "      <th>25</th>\n",
       "      <td>NG</td>\n",
       "      <td>1.44</td>\n",
       "    </tr>\n",
       "    <tr>\n",
       "      <th>26</th>\n",
       "      <td>WS</td>\n",
       "      <td>1.42</td>\n",
       "    </tr>\n",
       "    <tr>\n",
       "      <th>27</th>\n",
       "      <td>TG16</td>\n",
       "      <td>0.16</td>\n",
       "    </tr>\n",
       "    <tr>\n",
       "      <th>28</th>\n",
       "      <td>3DO</td>\n",
       "      <td>0.10</td>\n",
       "    </tr>\n",
       "    <tr>\n",
       "      <th>29</th>\n",
       "      <td>GG</td>\n",
       "      <td>0.04</td>\n",
       "    </tr>\n",
       "    <tr>\n",
       "      <th>30</th>\n",
       "      <td>PCFX</td>\n",
       "      <td>0.03</td>\n",
       "    </tr>\n",
       "  </tbody>\n",
       "</table>\n",
       "</div>"
      ],
      "text/plain": [
       "   platform  total_sales\n",
       "0       PS2      1233.56\n",
       "1      X360       961.24\n",
       "2       PS3       931.34\n",
       "3       Wii       891.18\n",
       "4        DS       802.78\n",
       "5        PS       727.58\n",
       "6       PS4       314.14\n",
       "7       GBA       312.88\n",
       "8       PSP       289.53\n",
       "9       3DS       257.81\n",
       "10       PC       255.76\n",
       "11       GB       254.43\n",
       "12       XB       251.57\n",
       "13      NES       251.05\n",
       "14      N64       218.01\n",
       "15     SNES       200.04\n",
       "16       GC       196.73\n",
       "17     XOne       159.32\n",
       "18     2600        86.48\n",
       "19     WiiU        82.19\n",
       "20      PSV        53.81\n",
       "21      SAT        33.59\n",
       "22      GEN        28.35\n",
       "23       DC        15.95\n",
       "24      SCD         1.86\n",
       "25       NG         1.44\n",
       "26       WS         1.42\n",
       "27     TG16         0.16\n",
       "28      3DO         0.10\n",
       "29       GG         0.04\n",
       "30     PCFX         0.03"
      ]
     },
     "execution_count": 11,
     "metadata": {},
     "output_type": "execute_result"
    }
   ],
   "source": [
    "# Geração da informação sobre o total de vendas por plataforma\n",
    "\n",
    "sales_per_platform = games.groupby(['platform'])['total_sales'].sum().reset_index().sort_values(by='total_sales',\n",
    "                                                                                                ascending=False)\n",
    "sales_per_platform = sales_per_platform.reset_index(drop=True)\n",
    "sales_per_platform"
   ]
  },
  {
   "cell_type": "markdown",
   "metadata": {},
   "source": [
    "Uma primeira olhada nos dados e percebemos várias plataformas muito  populares, como **PS2**, **DS**, **PS4**, entre outras. Para entender a distribuição de vendas ao longo dos anos das plataformas mais populares, vamos trabalhar com as 5 mais populares em vendas."
   ]
  },
  {
   "cell_type": "code",
   "execution_count": 12,
   "metadata": {},
   "outputs": [
    {
     "data": {
      "text/html": [
       "<div>\n",
       "<style scoped>\n",
       "    .dataframe tbody tr th:only-of-type {\n",
       "        vertical-align: middle;\n",
       "    }\n",
       "\n",
       "    .dataframe tbody tr th {\n",
       "        vertical-align: top;\n",
       "    }\n",
       "\n",
       "    .dataframe thead th {\n",
       "        text-align: right;\n",
       "    }\n",
       "</style>\n",
       "<table border=\"1\" class=\"dataframe\">\n",
       "  <thead>\n",
       "    <tr style=\"text-align: right;\">\n",
       "      <th></th>\n",
       "      <th>platform</th>\n",
       "      <th>total_sales</th>\n",
       "    </tr>\n",
       "  </thead>\n",
       "  <tbody>\n",
       "    <tr>\n",
       "      <th>0</th>\n",
       "      <td>PS2</td>\n",
       "      <td>1233.56</td>\n",
       "    </tr>\n",
       "    <tr>\n",
       "      <th>1</th>\n",
       "      <td>X360</td>\n",
       "      <td>961.24</td>\n",
       "    </tr>\n",
       "    <tr>\n",
       "      <th>2</th>\n",
       "      <td>PS3</td>\n",
       "      <td>931.34</td>\n",
       "    </tr>\n",
       "    <tr>\n",
       "      <th>3</th>\n",
       "      <td>Wii</td>\n",
       "      <td>891.18</td>\n",
       "    </tr>\n",
       "    <tr>\n",
       "      <th>4</th>\n",
       "      <td>DS</td>\n",
       "      <td>802.78</td>\n",
       "    </tr>\n",
       "  </tbody>\n",
       "</table>\n",
       "</div>"
      ],
      "text/plain": [
       "  platform  total_sales\n",
       "0      PS2      1233.56\n",
       "1     X360       961.24\n",
       "2      PS3       931.34\n",
       "3      Wii       891.18\n",
       "4       DS       802.78"
      ]
     },
     "execution_count": 12,
     "metadata": {},
     "output_type": "execute_result"
    }
   ],
   "source": [
    "# Definição das 5 mais populares\n",
    "\n",
    "top_5_sales = sales_per_platform.nlargest(5, 'total_sales')\n",
    "top_5_sales"
   ]
  },
  {
   "cell_type": "code",
   "execution_count": null,
   "metadata": {},
   "outputs": [
    {
     "data": {
      "text/plain": [
       "<Figure size 1200x600 with 0 Axes>"
      ]
     },
     "metadata": {},
     "output_type": "display_data"
    },
    {
     "data": {
      "image/png": "[encoded data removed]",
      "text/plain": [
       "<Figure size 1200x600 with 1 Axes>"
      ]
     },
     "metadata": {},
     "output_type": "display_data"
    }
   ],
   "source": [
    "# Visualizando a distribuição das vendas por ano para cada plataforma\n",
    "\n",
    "top_5_sales_per_year = sales_per_plaftorm_per_year[sales_per_plaftorm_per_year['platform'].isin(\n",
    "    top_5_sales['platform'].values)]\n",
    "\n",
    "##Código para utilizar a biblioteca Plotly\n",
    "# fig = px.bar(top_5_sales_per_year,\n",
    "#              x='year_of_release',\n",
    "#              y='total_sales',\n",
    "#              labels={\n",
    "#                  'year_of_release': 'Year',\n",
    "#                  'total_sales': 'Total Sales'\n",
    "#              },\n",
    "#              title='Top 5 Platforms Sales Distribution ',\n",
    "#              color='platform')\n",
    "\n",
    "# fig.show()\n",
    "\n",
    "##Código para utilizar a biblioteca Matplotlib\n",
    "\n",
    "plt.figure(figsize=(12, 6))\n",
    "top_5_sales_per_year.pivot_table(\n",
    "    index='year_of_release',\n",
    "    columns='platform',\n",
    "    values='total_sales',\n",
    "    aggfunc='sum',\n",
    "    fill_value=0\n",
    ").plot(\n",
    "    kind='bar',\n",
    "    stacked=True,\n",
    "    figsize=(12, 6)\n",
    ")\n",
    "\n",
    "plt.title('Top 5 Platforms Sales Distribution')\n",
    "plt.xlabel('Year')\n",
    "plt.ylabel('Total Sales')\n",
    "plt.xticks(rotation=45)\n",
    "plt.legend(title='Platform')\n",
    "plt.tight_layout()\n",
    "plt.show()"
   ]
  },
  {
   "cell_type": "code",
   "execution_count": 19,
   "metadata": {},
   "outputs": [
    {
     "name": "stdout",
     "output_type": "stream",
     "text": [
      "Estatísticas do ciclo de vida das plataformas:\n",
      "count    31.000000\n",
      "mean      7.612903\n",
      "std       6.998464\n",
      "min       0.000000\n",
      "25%       3.000000\n",
      "50%       6.000000\n",
      "75%      10.000000\n",
      "max      31.000000\n",
      "Name: lifetime_years, dtype: float64\n"
     ]
    }
   ],
   "source": [
    "# Calculando o ciclo de vida para cada plataforma\n",
    "platform_life_cycle = sales_per_plaftorm_per_year.groupby('platform').agg(\n",
    "    start_year=('year_of_release', 'min'),\n",
    "    end_year=('year_of_release', 'max')\n",
    ").reset_index()\n",
    "\n",
    "platform_life_cycle['lifetime_years'] = platform_life_cycle['end_year'] - \\\n",
    "    platform_life_cycle['start_year']\n",
    "\n",
    "# Estatísticas do ciclo de vida\n",
    "life_cycle_stats = platform_life_cycle['lifetime_years'].describe()\n",
    "print(\"Estatísticas do ciclo de vida das plataformas:\")\n",
    "print(life_cycle_stats)"
   ]
  },
  {
   "cell_type": "code",
   "execution_count": 21,
   "metadata": {},
   "outputs": [
    {
     "data": {
      "image/png": "[encoded data removed]",
      "text/plain": [
       "<Figure size 1000x600 with 1 Axes>"
      ]
     },
     "metadata": {},
     "output_type": "display_data"
    }
   ],
   "source": [
    "# Plotando a distribuição do ciclo de vida\n",
    "\n",
    "##Código para a biblioteca Plotly\n",
    "# fig = px.histogram(\n",
    "#     platform_life_cycle,\n",
    "#     x='lifetime_years',\n",
    "#     title=\"Distribuição do Ciclo de Vida das Plataformas (em anos)\",\n",
    "#     labels={'lifetime_years': 'Ciclo de Vida (anos)'},\n",
    "#     nbins=30\n",
    "# )\n",
    "# fig.show()\n",
    "\n",
    "##Código para a biblioteca Seaborn\n",
    "\n",
    "plt.figure(figsize=(10, 6))\n",
    "sns.histplot(\n",
    "    data=platform_life_cycle,\n",
    "    x='lifetime_years',\n",
    "    bins=30,\n",
    "    kde=False\n",
    ")\n",
    "\n",
    "plt.title(\"Distribuição do Ciclo de Vida das Plataformas (em anos)\")\n",
    "plt.xlabel(\"Ciclo de Vida (anos)\")\n",
    "plt.ylabel(\"Contagem\")\n",
    "plt.tight_layout()\n",
    "plt.show()"
   ]
  },
  {
   "cell_type": "code",
   "execution_count": 22,
   "metadata": {},
   "outputs": [
    {
     "name": "stdout",
     "output_type": "stream",
     "text": [
      "\n",
      "Estatísticas do tempo para atingir o pico de vendas:\n",
      "count    31.000000\n",
      "mean      3.387097\n",
      "std       5.719425\n",
      "min       0.000000\n",
      "25%       1.000000\n",
      "50%       2.000000\n",
      "75%       3.500000\n",
      "max      26.000000\n",
      "Name: years_to_peak, dtype: float64\n"
     ]
    },
    {
     "name": "stderr",
     "output_type": "stream",
     "text": [
      "C:\\Users\\vinic\\AppData\\Local\\Temp\\ipykernel_29080\\7276611.py:2: DeprecationWarning:\n",
      "\n",
      "DataFrameGroupBy.apply operated on the grouping columns. This behavior is deprecated, and in a future version of pandas the grouping columns will be excluded from the operation. Either pass `include_groups=False` to exclude the groupings or explicitly select the grouping columns after groupby to silence this warning.\n",
      "\n"
     ]
    }
   ],
   "source": [
    "# Calculando o tempo para atingir o pico de vendas\n",
    "peak_time = sales_per_plaftorm_per_year.groupby('platform').apply(\n",
    "    lambda x: x.loc[x['total_sales'].idxmax(), 'year_of_release'] -\n",
    "    x['year_of_release'].min()\n",
    ").reset_index(name='years_to_peak')\n",
    "\n",
    "# Estatísticas do tempo para o pico\n",
    "peak_stats = peak_time['years_to_peak'].describe()\n",
    "print(\"\\nEstatísticas do tempo para atingir o pico de vendas:\")\n",
    "print(peak_stats)"
   ]
  },
  {
   "cell_type": "code",
   "execution_count": 23,
   "metadata": {},
   "outputs": [
    {
     "data": {
      "image/png": "[encoded data removed]",
      "text/plain": [
       "<Figure size 1000x600 with 1 Axes>"
      ]
     },
     "metadata": {},
     "output_type": "display_data"
    }
   ],
   "source": [
    "# Plotando a distribuição do tempo para o pico de vendas\n",
    "\n",
    "##Código para a biblioteca Plotly\n",
    "# fig = px.histogram(\n",
    "#     peak_time,\n",
    "#     x='years_to_peak',\n",
    "#     title=\"Tempo para Atingir o Pico de Vendas (em anos)\",\n",
    "#     labels={'years_to_peak': 'Anos até o Pico'},\n",
    "#     nbins=30\n",
    "# )\n",
    "# fig.show()\n",
    "\n",
    "##Código para a biblioteca seaborn\n",
    "\n",
    "plt.figure(figsize=(10, 6))\n",
    "sns.histplot(\n",
    "    data=peak_time,\n",
    "    x='years_to_peak',\n",
    "    bins=30,\n",
    "    kde=False\n",
    ")\n",
    "\n",
    "plt.title(\"Tempo para Atingir o Pico de Vendas (em anos)\")\n",
    "plt.xlabel(\"Anos até o Pico\")\n",
    "plt.ylabel(\"Contagem\")\n",
    "plt.tight_layout()\n",
    "plt.show()"
   ]
  },
  {
   "cell_type": "markdown",
   "metadata": {},
   "source": [
    "Observando o gráfico, podemos perceber que:\n",
    "- O PlayStation 2 foi muito popular e dominante em vendas desde o ano 2000, tendo sempre uma popularidade alta e consistente, porém perdendo espaço a partir de 2006 com o lançamento do Nintendo Wii e do PlayStation 3 e da popularização do Nintendo DS;\n",
    "- O Nintendo DS, em seu primeiro ano não foi tão popular, porém teve uma explosão de vendas a partir do ano seguinte e mantendo números consistentes até por volta de 2010, quando sua popularidade caiu;\n",
    "- O Xbox 360 e o PlayStation 3 tiveram comportamento parecidos, aumentando gradualmente a popularidade, e por consequência as vendas, e então perdendo espaço por volta de 2014, muito provavelmente por conta de lançamentos novos de linhas subsequentes das mesmas plataformas;\n",
    "- Já o Nintendo Wii começou muito forte em popularidade desde o lançamento, porém com queda abrupta de popularidade a partir de 2011;\n",
    "- Para o caso da PlayStation, é possível perceber que, com o lançamento de uma nova versão da plataforma de jogos, a plataforma antiga perde forças e então a nova se populariza, além de visível dominância no mercado pela marca nos últimos anos;\n",
    "- Em média, as plataformas tem um ciclo de vida em torno de 7 anos, com alguns raros casos ultrapassando valores acima dos 20 anos;\n",
    "- Em média, as plataformas atingem o pico de vendas por volta de três anos desde o seu lançamento;\n",
    "\n",
    "Considerando as informações acima, vamos trabalhar e observar os últimos 5 anos para basear nossa análise."
   ]
  },
  {
   "cell_type": "code",
   "execution_count": 25,
   "metadata": {},
   "outputs": [
    {
     "name": "stderr",
     "output_type": "stream",
     "text": [
      "C:\\Users\\vinic\\AppData\\Local\\Temp\\ipykernel_29080\\139493343.py:26: FutureWarning:\n",
      "\n",
      "\n",
      "\n",
      "Passing `palette` without assigning `hue` is deprecated and will be removed in v0.14.0. Assign the `x` variable to `hue` and set `legend=False` for the same effect.\n",
      "\n",
      "\n"
     ]
    },
    {
     "data": {
      "image/png": "[encoded data removed]",
      "text/plain": [
       "<Figure size 1000x600 with 1 Axes>"
      ]
     },
     "metadata": {},
     "output_type": "display_data"
    }
   ],
   "source": [
    "# Visualizando quais plataformas tiveram mais vendas no últimos 5 anos\n",
    "\n",
    "sales_last_5_years = games[games['year_of_release'] >= 2012]\n",
    "total_sales = sales_last_5_years.groupby(\n",
    "    'platform')['total_sales'].sum().reset_index()\n",
    "total_sales = total_sales.sort_values(\n",
    "    by='total_sales', ascending=False).reset_index(drop=True)\n",
    "total_sales\n",
    "\n",
    "##Código utilizando a biblioteca Plotly\n",
    "# fig = px.bar(total_sales,\n",
    "#              x='platform',\n",
    "#              y='total_sales',\n",
    "#              labels={\n",
    "#                  'platform': 'Platform',\n",
    "#                  'total_sales': 'Total Sales'\n",
    "#              },\n",
    "#              title='Total Sales per Platform',\n",
    "#              color='platform')\n",
    "\n",
    "# fig.show()\n",
    "\n",
    "##Código utilizando a biblioteca Seaborn\n",
    "\n",
    "plt.figure(figsize=(10, 6))\n",
    "sns.barplot(\n",
    "    data=total_sales,\n",
    "    x='platform',\n",
    "    y='total_sales',\n",
    "    palette='tab10'  # cores diferentes por plataforma, similar ao plotly\n",
    ")\n",
    "\n",
    "plt.title('Total Sales per Platform')\n",
    "plt.xlabel('Platform')\n",
    "plt.ylabel('Total Sales')\n",
    "plt.tight_layout()\n",
    "plt.show()"
   ]
  },
  {
   "cell_type": "markdown",
   "metadata": {},
   "source": [
    "A PlayStation lidera bem forte o mercado nos últimos anos, principalmente com a transição de popularaização entre o PS3, que continua muito popular, e o PS4, que tem uma alta quantidade de vendas no período. As plataformas Xbox vêm logo atrás, como o Xbox 360 ainda popular e o Xbox One tendo mais dificuldade que o PS4 para se popularizar.\n",
    "\n",
    "Porém, para entender realmente como anda a popularização de uma plataforma nos últimos anos, nada melhor do que visualizar esse comportamento no decorrer dos anos, a fim de entender as tendências."
   ]
  },
  {
   "cell_type": "code",
   "execution_count": 26,
   "metadata": {},
   "outputs": [
    {
     "data": {
      "image/png": "[encoded data removed]",
      "text/plain": [
       "<Figure size 1200x600 with 1 Axes>"
      ]
     },
     "metadata": {},
     "output_type": "display_data"
    }
   ],
   "source": [
    "# Visualização da evolução de vendas no decorrer dos anos\n",
    "\n",
    "## Código utilizando a biblioteca Plotly\n",
    "# fig = px.line(sales_last_5_years.groupby(['platform', 'year_of_release'])['total_sales'].sum().reset_index(),\n",
    "#               x='year_of_release',\n",
    "#               y='total_sales',\n",
    "#               labels={\n",
    "#                   'year_of_release': 'Year',\n",
    "#                   'total_sales': 'Total Sales'\n",
    "# },\n",
    "#     title='Evolution of Total Sales Through the Last 5 Years per Platform',\n",
    "#     color='platform'\n",
    "# )\n",
    "\n",
    "# fig.show()\n",
    "\n",
    "## Código utilizando a biblioteca Seaborn\n",
    "\n",
    "plt.figure(figsize=(12, 6))\n",
    "sns.lineplot(\n",
    "    data=sales_last_5_years.groupby(['platform', 'year_of_release'])['total_sales'].sum().reset_index(),\n",
    "    x='year_of_release',\n",
    "    y='total_sales',\n",
    "    hue='platform',\n",
    "    marker='o'\n",
    ")\n",
    "\n",
    "plt.title('Evolution of Total Sales Through the Last 5 Years per Platform')\n",
    "plt.xlabel('Year')\n",
    "plt.ylabel('Total Sales')\n",
    "plt.legend(title='Platform')\n",
    "plt.tight_layout()\n",
    "plt.show()"
   ]
  },
  {
   "cell_type": "markdown",
   "metadata": {},
   "source": [
    "Como era de se esperar: com o lançamento de uma nova versão de uma plataforma, a popularização da anterior cai, sendo então substituída, podemos ver isso principalmente na transição PS3 -> PS4 e Xbox 360 -> Xbox One, porém o PS4 domina as vendas de jogos, se mantendo sempre à frente desde o lançamento. Ambas as plataformas se tornaram mais populares do que suas antigas versões muito rápido, em questão de 1 ano.\n",
    "As duas plataformas também são as únicas que apresentaram uma tendência de aumento de popularidade nos últimos anos, enquanto as outras plataformas apenas perdem espaço, porém algo em comum entre todas: no último ano, em 2016, todas as plataformas caíram em vendas."
   ]
  },
  {
   "cell_type": "code",
   "execution_count": 74,
   "metadata": {},
   "outputs": [
    {
     "data": {
      "text/html": [
       "<div>                            <div id=\"bf3318a9-a454-4d59-8b65-b2e4244b2c3f\" class=\"plotly-graph-div\" style=\"height:525px; width:100%;\"></div>            <script type=\"text/javascript\">                require([\"plotly\"], function(Plotly) {                    window.PLOTLYENV=window.PLOTLYENV || {};                                    if (document.getElementById(\"bf3318a9-a454-4d59-8b65-b2e4244b2c3f\")) {                    Plotly.newPlot(                        \"bf3318a9-a454-4d59-8b65-b2e4244b2c3f\",                        [{\"alignmentgroup\":\"True\",\"hovertemplate\":\"Platform=%{x}\\u003cbr\\u003eTotal Sales=%{y}\\u003cextra\\u003e\\u003c\\u002fextra\\u003e\",\"legendgroup\":\"\",\"marker\":{\"color\":\"#636efa\"},\"name\":\"\",\"notched\":false,\"offsetgroup\":\"\",\"orientation\":\"v\",\"showlegend\":false,\"x\":[\"PS3\",\"X360\",\"PS4\",\"3DS\",\"PS3\",\"X360\",\"PS4\",\"3DS\",\"X360\",\"3DS\",\"X360\",\"PS3\",\"X360\",\"3DS\",\"PS4\",\"PS3\",\"DS\",\"PS4\",\"PS4\",\"PS4\",\"3DS\",\"XOne\",\"PS4\",\"3DS\",\"WiiU\",\"Wii\",\"PS3\",\"PS3\",\"PS4\",\"PS3\",\"PS4\",\"XOne\",\"PS4\",\"X360\",\"XOne\",\"PS3\",\"3DS\",\"WiiU\",\"X360\",\"PC\",\"WiiU\",\"PS4\",\"PS4\",\"3DS\",\"XOne\",\"PS4\",\"WiiU\",\"WiiU\",\"PS3\",\"WiiU\",\"PS4\",\"X360\",\"PS3\",\"XOne\",\"X360\",\"PS4\",\"PS4\",\"PS4\",\"PS4\",\"PS4\",\"PS4\",\"3DS\",\"PS4\",\"PS4\",\"PS4\",\"PS3\",\"XOne\",\"PS4\",\"Wii\",\"XOne\",\"PS3\",\"X360\",\"3DS\",\"PS4\",\"PS4\",\"XOne\",\"PS3\",\"3DS\",\"X360\",\"3DS\",\"XOne\",\"XOne\",\"PS4\",\"PS3\",\"XOne\",\"WiiU\",\"Wii\",\"3DS\",\"PS3\",\"3DS\",\"PC\",\"X360\",\"X360\",\"PS4\",\"X360\",\"X360\",\"PS4\",\"XOne\",\"XOne\",\"X360\",\"X360\",\"PS4\",\"PS3\",\"PS4\",\"PS4\",\"XOne\",\"PS3\",\"PS4\",\"3DS\",\"XOne\",\"PS3\",\"X360\",\"Wii\",\"PS4\",\"PS3\",\"PS4\",\"PS4\",\"XOne\",\"XOne\",\"PS3\",\"3DS\",\"XOne\",\"PC\",\"3DS\",\"PS3\",\"3DS\",\"PS4\",\"XOne\",\"PS3\",\"WiiU\",\"XOne\",\"X360\",\"PS3\",\"X360\",\"PS4\",\"XOne\",\"PS4\",\"XOne\",\"XOne\",\"Wii\",\"PS4\",\"PS3\",\"PS3\",\"PS4\",\"PS4\",\"3DS\",\"3DS\",\"PS4\",\"X360\",\"XOne\",\"3DS\",\"Wii\",\"PS4\",\"PS4\",\"PSV\",\"X360\",\"X360\",\"X360\",\"PS4\",\"X360\",\"3DS\",\"PS3\",\"PS4\",\"X360\",\"3DS\",\"X360\",\"PS4\",\"PS3\",\"PS4\",\"PS3\",\"PS3\",\"3DS\",\"PS4\",\"PC\",\"PS4\",\"XOne\",\"PS4\",\"WiiU\",\"PS4\",\"PS4\",\"WiiU\",\"PS3\",\"PS3\",\"X360\",\"PS3\",\"PS4\",\"PS4\",\"X360\",\"PS4\",\"XOne\",\"X360\",\"X360\",\"PS4\",\"PS3\",\"PS3\",\"3DS\",\"PC\",\"PS4\",\"X360\",\"X360\",\"PS4\",\"XOne\",\"PS3\",\"X360\",\"X360\",\"PS4\",\"PS3\",\"Wii\",\"3DS\",\"WiiU\",\"XOne\",\"X360\",\"XOne\",\"X360\",\"XOne\",\"X360\",\"PS4\",\"PS4\",\"PS3\",\"PS3\",\"PC\",\"WiiU\",\"3DS\",\"XOne\",\"PS4\",\"3DS\",\"PSV\",\"X360\",\"3DS\",\"PS3\",\"PS4\",\"X360\",\"PS3\",\"PC\",\"PS3\",\"PS3\",\"X360\",\"PS4\",\"XOne\",\"X360\",\"3DS\",\"Wii\",\"3DS\",\"XOne\",\"XOne\",\"XOne\",\"X360\",\"PS3\",\"XOne\",\"PC\",\"XOne\",\"XOne\",\"PS3\",\"3DS\",\"PS4\",\"X360\",\"PSV\",\"XOne\",\"WiiU\",\"X360\",\"XOne\",\"PS3\",\"XOne\",\"PC\",\"PS3\",\"XOne\",\"X360\",\"PS3\",\"3DS\",\"3DS\",\"PS4\",\"X360\",\"PS3\",\"PS3\",\"PS3\",\"X360\",\"PSV\",\"3DS\",\"PS3\",\"XOne\",\"PS3\",\"X360\",\"WiiU\",\"PS4\",\"XOne\",\"PC\",\"PS3\",\"WiiU\",\"XOne\",\"3DS\",\"PS3\",\"X360\",\"PS3\",\"PS3\",\"PS4\",\"PC\",\"XOne\",\"PC\",\"X360\",\"PS4\",\"PS3\",\"XOne\",\"PS4\",\"PS4\",\"PS4\",\"3DS\",\"3DS\",\"PSV\",\"WiiU\",\"X360\",\"PS4\",\"WiiU\",\"X360\",\"PS4\",\"X360\",\"PS3\",\"XOne\",\"X360\",\"X360\",\"PS3\",\"XOne\",\"PS3\",\"XOne\",\"PS3\",\"PS4\",\"PS3\",\"PS3\",\"PS3\",\"WiiU\",\"XOne\",\"PS3\",\"DS\",\"PSV\",\"X360\",\"PS4\",\"WiiU\",\"WiiU\",\"X360\",\"X360\",\"PS4\",\"X360\",\"PS3\",\"X360\",\"X360\",\"PS3\",\"PC\",\"PC\",\"PS4\",\"PS3\",\"Wii\",\"PC\",\"3DS\",\"PS3\",\"3DS\",\"PS3\",\"PS3\",\"Wii\",\"PS3\",\"PS3\",\"Wii\",\"Wii\",\"X360\",\"X360\",\"PS3\",\"PS4\",\"PS3\",\"PS4\",\"XOne\",\"3DS\",\"PS4\",\"PS3\",\"PC\",\"PC\",\"3DS\",\"PS4\",\"PS3\",\"X360\",\"PS3\",\"3DS\",\"PS4\",\"XOne\",\"PS3\",\"PS4\",\"XOne\",\"X360\",\"X360\",\"X360\",\"PS4\",\"PC\",\"PS4\",\"3DS\",\"X360\",\"Wii\",\"X360\",\"PS4\",\"X360\",\"PS3\",\"PS3\",\"X360\",\"XOne\",\"3DS\",\"PS4\",\"X360\",\"X360\",\"3DS\",\"PS3\",\"X360\",\"PS3\",\"3DS\",\"PS4\",\"PS3\",\"PS3\",\"PS3\",\"WiiU\",\"PS3\",\"PS3\",\"WiiU\",\"PS3\",\"PS3\",\"X360\",\"PS3\",\"PS3\",\"PS3\",\"PS4\",\"X360\",\"PS3\",\"XOne\",\"3DS\",\"PSV\",\"PSV\",\"PS3\",\"X360\",\"X360\",\"X360\",\"3DS\",\"X360\",\"PS4\",\"PS3\",\"XOne\",\"X360\",\"PS3\",\"X360\",\"PS3\",\"WiiU\",\"X360\",\"X360\",\"PS3\",\"WiiU\",\"XOne\",\"3DS\",\"3DS\",\"3DS\",\"PS4\",\"XOne\",\"3DS\",\"PS3\",\"PS4\",\"PS4\",\"3DS\",\"X360\",\"PS4\",\"PS3\",\"PS3\",\"PS4\",\"XOne\",\"PS3\",\"PS3\",\"WiiU\",\"PS3\",\"PS3\",\"PC\",\"X360\",\"X360\",\"3DS\",\"PS3\",\"PS4\",\"WiiU\",\"PS4\",\"PS3\",\"PS3\",\"PC\",\"3DS\",\"PS4\",\"X360\",\"PS4\",\"PC\",\"PC\",\"PS4\",\"X360\",\"WiiU\",\"PC\",\"PS4\",\"PS4\",\"WiiU\",\"PS3\",\"Wii\",\"3DS\",\"XOne\",\"XOne\",\"XOne\",\"DS\",\"WiiU\",\"PS4\",\"XOne\",\"Wii\",\"PS3\",\"XOne\",\"PS3\",\"PS4\",\"X360\",\"PS3\",\"PS4\",\"XOne\",\"Wii\",\"X360\",\"PS4\",\"WiiU\",\"PC\",\"PS3\",\"PS3\",\"PS3\",\"XOne\",\"PSV\",\"PC\",\"PS3\",\"PSV\",\"WiiU\",\"PC\",\"PS4\",\"PSV\",\"PC\",\"WiiU\",\"PS3\",\"X360\",\"PC\",\"PS4\",\"XOne\",\"PS3\",\"PS3\",\"XOne\",\"PS3\",\"3DS\",\"3DS\",\"PC\",\"X360\",\"PS4\",\"3DS\",\"PC\",\"PS4\",\"X360\",\"3DS\",\"PS4\",\"XOne\",\"3DS\",\"PS3\",\"3DS\",\"PS4\",\"PSV\",\"PS3\",\"XOne\",\"PS4\",\"PS3\",\"PS3\",\"X360\",\"XOne\",\"PS3\",\"WiiU\",\"3DS\",\"PS4\",\"PS4\",\"WiiU\",\"PS4\",\"PS3\",\"PSV\",\"PS3\",\"XOne\",\"PS3\",\"X360\",\"X360\",\"X360\",\"WiiU\",\"3DS\",\"PS3\",\"PS3\",\"PSV\",\"PS3\",\"X360\",\"X360\",\"PS3\",\"XOne\",\"XOne\",\"X360\",\"PS3\",\"WiiU\",\"3DS\",\"PS3\",\"3DS\",\"PC\",\"XOne\",\"3DS\",\"PSV\",\"XOne\",\"PS3\",\"Wii\",\"XOne\",\"PS4\",\"PS3\",\"PS4\",\"PC\",\"PC\",\"PS3\",\"PS3\",\"PS3\",\"PS3\",\"PSV\",\"PS3\",\"3DS\",\"X360\",\"WiiU\",\"PS3\",\"XOne\",\"XOne\",\"PC\",\"3DS\",\"PC\",\"X360\",\"X360\",\"PS3\",\"WiiU\",\"PS4\",\"PS4\",\"WiiU\",\"DS\",\"PSV\",\"WiiU\",\"X360\",\"PSV\",\"PS3\",\"XOne\",\"PC\",\"X360\",\"PS3\",\"X360\",\"PSV\",\"3DS\",\"X360\",\"Wii\",\"PS3\",\"X360\",\"3DS\",\"PS4\",\"3DS\",\"X360\",\"3DS\",\"PS3\",\"3DS\",\"3DS\",\"XOne\",\"WiiU\",\"XOne\",\"3DS\",\"PS3\",\"X360\",\"X360\",\"X360\",\"XOne\",\"X360\",\"XOne\",\"X360\",\"PC\",\"WiiU\",\"PS3\",\"3DS\",\"XOne\",\"3DS\",\"PS4\",\"PC\",\"X360\",\"XOne\",\"PS4\",\"PS3\",\"PS3\",\"WiiU\",\"XOne\",\"3DS\",\"X360\",\"X360\",\"PSV\",\"3DS\",\"PSV\",\"WiiU\",\"PS4\",\"PS3\",\"PC\",\"PS3\",\"PC\",\"WiiU\",\"X360\",\"PS3\",\"PS4\",\"XOne\",\"X360\",\"X360\",\"X360\",\"PSV\",\"PS3\",\"XOne\",\"PS4\",\"3DS\",\"PS3\",\"X360\",\"XOne\",\"PS3\",\"X360\",\"PS3\",\"X360\",\"PS3\",\"3DS\",\"PS3\",\"PC\",\"PS4\",\"X360\",\"X360\",\"X360\",\"PSV\",\"PS3\",\"PS4\",\"3DS\",\"PS3\",\"Wii\",\"X360\",\"WiiU\",\"3DS\",\"WiiU\",\"PS4\",\"XOne\",\"PS4\",\"PS3\",\"PS3\",\"XOne\",\"XOne\",\"PC\",\"PSV\",\"PS3\",\"WiiU\",\"PSV\",\"PC\",\"PSV\",\"XOne\",\"WiiU\",\"PS4\",\"PS4\",\"PS3\",\"PS4\",\"X360\",\"WiiU\",\"PS3\",\"PC\",\"PSV\",\"PC\",\"PS3\",\"DS\",\"X360\",\"3DS\",\"PS3\",\"PS4\",\"3DS\",\"PS4\",\"XOne\",\"PS3\",\"PSV\",\"PS4\",\"WiiU\",\"PS4\",\"X360\",\"Wii\",\"PS3\",\"PS4\",\"PS4\",\"3DS\",\"PSV\",\"X360\",\"Wii\",\"PS4\",\"X360\",\"3DS\",\"PC\",\"3DS\",\"PS4\",\"X360\",\"PSV\",\"3DS\",\"PS3\",\"DS\",\"PS3\",\"WiiU\",\"WiiU\",\"PS3\",\"PS4\",\"PS3\",\"PS4\",\"WiiU\",\"PS3\",\"PS4\",\"3DS\",\"PS4\",\"PS3\",\"PS3\",\"PS4\",\"XOne\",\"WiiU\",\"WiiU\",\"PC\",\"PS3\",\"WiiU\",\"PSV\",\"XOne\",\"PS4\",\"PSP\",\"3DS\",\"XOne\",\"WiiU\",\"PSV\",\"PS3\",\"PSV\",\"PS4\",\"PS3\",\"PC\",\"X360\",\"X360\",\"3DS\",\"PS4\",\"WiiU\",\"PS4\",\"PSV\",\"X360\",\"PC\",\"PSP\",\"PS3\",\"X360\",\"XOne\",\"PS4\",\"XOne\",\"PS4\",\"WiiU\",\"X360\",\"WiiU\",\"PC\",\"XOne\",\"XOne\",\"PS3\",\"PS4\",\"3DS\",\"3DS\",\"PS4\",\"PS4\",\"PS4\",\"PSV\",\"PS3\",\"3DS\",\"PC\",\"PSV\",\"PS3\",\"PS3\",\"PSP\",\"3DS\",\"XOne\",\"PS3\",\"X360\",\"XOne\",\"X360\",\"3DS\",\"X360\",\"PC\",\"PSV\",\"PS3\",\"PSV\",\"PS4\",\"PS3\",\"X360\",\"X360\",\"XOne\",\"PS3\",\"PC\",\"PS3\",\"PS3\",\"WiiU\",\"3DS\",\"WiiU\",\"XOne\",\"PS4\",\"3DS\",\"PS4\",\"PSP\",\"3DS\",\"X360\",\"PS3\",\"PS4\",\"PS3\",\"PS3\",\"PC\",\"3DS\",\"XOne\",\"PS4\",\"X360\",\"PSV\",\"X360\",\"PSV\",\"PS4\",\"PSV\",\"PSV\",\"PS3\",\"XOne\",\"PS3\",\"3DS\",\"PSV\",\"PSV\",\"PS4\",\"PS4\",\"PS3\",\"Wii\",\"PSV\",\"PC\",\"PS3\",\"3DS\",\"3DS\",\"PS3\",\"XOne\",\"X360\",\"3DS\",\"PS4\",\"3DS\",\"WiiU\",\"PS4\",\"PS3\",\"X360\",\"PC\",\"PS3\",\"PS4\",\"PSV\",\"X360\",\"3DS\",\"PS4\",\"X360\",\"3DS\",\"PS3\",\"WiiU\",\"3DS\",\"X360\",\"PS4\",\"X360\",\"PS3\",\"PS3\",\"3DS\",\"3DS\",\"X360\",\"WiiU\",\"PC\",\"PC\",\"PS3\",\"X360\",\"WiiU\",\"PS4\",\"PS3\",\"XOne\",\"XOne\",\"X360\",\"3DS\",\"3DS\",\"WiiU\",\"3DS\",\"PS3\",\"PSP\",\"3DS\",\"PS3\",\"PS3\",\"PS4\",\"3DS\",\"Wii\",\"PS4\",\"3DS\",\"PS4\",\"PC\",\"PS3\",\"3DS\",\"X360\",\"XOne\",\"XOne\",\"PS3\",\"PS3\",\"PS3\",\"PS3\",\"PS4\",\"X360\",\"PS3\",\"X360\",\"PS3\",\"PS3\",\"XOne\",\"X360\",\"3DS\",\"PS3\",\"3DS\",\"PS4\",\"PC\",\"PS3\",\"PC\",\"PS3\",\"WiiU\",\"PS3\",\"PS3\",\"X360\",\"X360\",\"PC\",\"PS4\",\"PS4\",\"XOne\",\"PSV\",\"PC\",\"3DS\",\"XOne\",\"PS4\",\"3DS\",\"XOne\",\"PSV\",\"PS4\",\"3DS\",\"PC\",\"X360\",\"XOne\",\"3DS\",\"X360\",\"PS4\",\"3DS\",\"3DS\",\"XOne\",\"PS3\",\"XOne\",\"PS3\",\"PS4\",\"PS3\",\"PSP\",\"WiiU\",\"X360\",\"PS3\",\"3DS\",\"PSV\",\"PS4\",\"PS3\",\"PSV\",\"PSV\",\"X360\",\"X360\",\"PC\",\"WiiU\",\"PS3\",\"PS3\",\"WiiU\",\"PSP\",\"PC\",\"WiiU\",\"PS4\",\"PS4\",\"PSV\",\"XOne\",\"PSV\",\"PSV\",\"PC\",\"X360\",\"PS3\",\"PS3\",\"X360\",\"3DS\",\"PSV\",\"PSP\",\"Wii\",\"3DS\",\"Wii\",\"PC\",\"WiiU\",\"PS4\",\"PSV\",\"PS4\",\"3DS\",\"PS3\",\"PSV\",\"PC\",\"XOne\",\"XOne\",\"PC\",\"XOne\",\"3DS\",\"X360\",\"X360\",\"PSP\",\"PS4\",\"X360\",\"3DS\",\"PC\",\"PS4\",\"3DS\",\"X360\",\"X360\",\"PS3\",\"3DS\",\"PS3\",\"3DS\",\"X360\",\"PS3\",\"PC\",\"PSV\",\"PSV\",\"PS4\",\"3DS\",\"XOne\",\"XOne\",\"PS3\",\"PSV\",\"3DS\",\"DS\",\"PC\",\"PS4\",\"3DS\",\"PS3\",\"PS3\",\"PS4\",\"PSV\",\"PS3\",\"XOne\",\"X360\",\"PSP\",\"PS4\",\"WiiU\",\"PS4\",\"3DS\",\"PS3\",\"3DS\",\"PSP\",\"3DS\",\"PC\",\"X360\",\"PS4\",\"XOne\",\"XOne\",\"PS4\",\"PS3\",\"3DS\",\"XOne\",\"PS3\",\"PC\",\"PSP\",\"X360\",\"PSP\",\"PC\",\"PSV\",\"DS\",\"XOne\",\"PSV\",\"3DS\",\"PS3\",\"PS3\",\"PS3\",\"3DS\",\"PSP\",\"3DS\",\"PS4\",\"3DS\",\"Wii\",\"3DS\",\"PSV\",\"3DS\",\"PS3\",\"PC\",\"XOne\",\"PS3\",\"WiiU\",\"PS4\",\"X360\",\"PC\",\"PSV\",\"PSV\",\"WiiU\",\"PC\",\"PC\",\"PSP\",\"WiiU\",\"PSV\",\"WiiU\",\"PS3\",\"PSV\",\"PSV\",\"PS3\",\"PSV\",\"PS4\",\"PC\",\"X360\",\"3DS\",\"PS3\",\"PSV\",\"3DS\",\"PC\",\"XOne\",\"PSP\",\"PS4\",\"PS4\",\"PS3\",\"PS3\",\"Wii\",\"DS\",\"Wii\",\"XOne\",\"PSV\",\"WiiU\",\"X360\",\"WiiU\",\"PS3\",\"3DS\",\"X360\",\"X360\",\"PS4\",\"PSV\",\"PSV\",\"PS4\",\"3DS\",\"WiiU\",\"PSV\",\"PSV\",\"PS3\",\"3DS\",\"X360\",\"PC\",\"X360\",\"3DS\",\"PSP\",\"XOne\",\"PS4\",\"PS3\",\"PS4\",\"PS4\",\"PC\",\"3DS\",\"XOne\",\"PS4\",\"PS4\",\"PSP\",\"PS4\",\"PC\",\"X360\",\"X360\",\"PS4\",\"PC\",\"3DS\",\"PSV\",\"X360\",\"3DS\",\"PSP\",\"PSV\",\"XOne\",\"PSV\",\"X360\",\"PS4\",\"PC\",\"3DS\",\"PSV\",\"X360\",\"PS3\",\"PS3\",\"PSV\",\"3DS\",\"X360\",\"X360\",\"PSV\",\"PS3\",\"3DS\",\"PC\",\"PSV\",\"PS3\",\"PSP\",\"XOne\",\"3DS\",\"PS3\",\"XOne\",\"PS3\",\"PS3\",\"PC\",\"X360\",\"PC\",\"PS4\",\"XOne\",\"PS4\",\"XOne\",\"PS4\",\"XOne\",\"PS3\",\"X360\",\"PC\",\"3DS\",\"3DS\",\"3DS\",\"PSV\",\"PS3\",\"PS3\",\"PS3\",\"XOne\",\"XOne\",\"3DS\",\"X360\",\"X360\",\"3DS\",\"PC\",\"PSV\",\"WiiU\",\"PS3\",\"Wii\",\"PSV\",\"PSP\",\"PSV\",\"PS3\",\"PSV\",\"PSV\",\"3DS\",\"PS3\",\"PS4\",\"Wii\",\"3DS\",\"XOne\",\"XOne\",\"PS4\",\"PSV\",\"PC\",\"PS4\",\"3DS\",\"PS3\",\"PS4\",\"3DS\",\"Wii\",\"WiiU\",\"X360\",\"Wii\",\"3DS\",\"PSP\",\"XOne\",\"PC\",\"3DS\",\"3DS\",\"PS4\",\"3DS\",\"PS3\",\"PC\",\"PC\",\"3DS\",\"PS3\",\"PS3\",\"PS3\",\"X360\",\"PSV\",\"PS4\",\"Wii\",\"PS4\",\"XOne\",\"X360\",\"PS3\",\"PC\",\"3DS\",\"X360\",\"XOne\",\"3DS\",\"PSV\",\"XOne\",\"PS3\",\"PS4\",\"PSV\",\"XOne\",\"PC\",\"PS3\",\"PS4\",\"XOne\",\"3DS\",\"PC\",\"PS4\",\"PS3\",\"PS3\",\"PS3\",\"PC\",\"PSP\",\"DS\",\"WiiU\",\"3DS\",\"PSP\",\"PSV\",\"PS3\",\"PSV\",\"PSV\",\"XOne\",\"3DS\",\"PSV\",\"PSP\",\"PC\",\"3DS\",\"PS4\",\"PSV\",\"PC\",\"PSV\",\"XOne\",\"PS3\",\"PC\",\"PS3\",\"WiiU\",\"X360\",\"PS4\",\"WiiU\",\"WiiU\",\"PSV\",\"3DS\",\"PSV\",\"PS3\",\"X360\",\"PSV\",\"PS3\",\"WiiU\",\"X360\",\"WiiU\",\"PSP\",\"3DS\",\"PSV\",\"3DS\",\"PS3\",\"PC\",\"PSP\",\"XOne\",\"3DS\",\"PSV\",\"PS3\",\"XOne\",\"PC\",\"PSV\",\"XOne\",\"PSV\",\"3DS\",\"3DS\",\"WiiU\",\"3DS\",\"3DS\",\"PSV\",\"PSP\",\"DS\",\"PS3\",\"X360\",\"PS4\",\"PS4\",\"PS4\",\"PS4\",\"PC\",\"PSV\",\"XOne\",\"X360\",\"XOne\",\"PC\",\"X360\",\"3DS\",\"PS3\",\"PSP\",\"XOne\",\"WiiU\",\"PS3\",\"X360\",\"3DS\",\"Wii\",\"3DS\",\"PS4\",\"PS3\",\"PSP\",\"PSV\",\"WiiU\",\"WiiU\",\"PS4\",\"PSV\",\"X360\",\"WiiU\",\"PC\",\"PSV\",\"PS3\",\"PC\",\"X360\",\"PS3\",\"PS3\",\"PSV\",\"PS3\",\"PS3\",\"PS3\",\"PS4\",\"PSP\",\"WiiU\",\"3DS\",\"PS3\",\"PSV\",\"3DS\",\"WiiU\",\"3DS\",\"WiiU\",\"PS3\",\"PSV\",\"3DS\",\"3DS\",\"PS3\",\"PS3\",\"PSV\",\"XOne\",\"PS3\",\"PSV\",\"PS4\",\"X360\",\"3DS\",\"PSV\",\"PSV\",\"3DS\",\"PSV\",\"PS4\",\"XOne\",\"PSP\",\"PSP\",\"3DS\",\"PS4\",\"XOne\",\"WiiU\",\"PC\",\"XOne\",\"PS4\",\"PS3\",\"XOne\",\"PC\",\"PSV\",\"3DS\",\"X360\",\"PS3\",\"PSP\",\"PSV\",\"PSP\",\"PS3\",\"PSP\",\"X360\",\"PS3\",\"PS4\",\"PSV\",\"PSV\",\"PS3\",\"PSP\",\"3DS\",\"Wii\",\"PS3\",\"PC\",\"PC\",\"3DS\",\"PS3\",\"PS3\",\"3DS\",\"X360\",\"PSV\",\"3DS\",\"XOne\",\"X360\",\"PS3\",\"PC\",\"Wii\",\"PSV\",\"PSP\",\"WiiU\",\"PSV\",\"DS\",\"3DS\",\"PSV\",\"XOne\",\"PC\",\"PS4\",\"PS3\",\"X360\",\"PC\",\"PSV\",\"PSV\",\"PSV\",\"PS4\",\"PS4\",\"X360\",\"PS4\",\"PSV\",\"PSV\",\"PS4\",\"X360\",\"PS3\",\"X360\",\"PC\",\"WiiU\",\"PS4\",\"PSV\",\"WiiU\",\"PSV\",\"PSV\",\"PSV\",\"PSV\",\"PS4\",\"3DS\",\"PSP\",\"PS4\",\"3DS\",\"PSV\",\"XOne\",\"WiiU\",\"PSV\",\"PSV\",\"WiiU\",\"3DS\",\"PS3\",\"3DS\",\"PSP\",\"3DS\",\"PS4\",\"PSV\",\"PS3\",\"PSV\",\"PS4\",\"PS4\",\"Wii\",\"PSV\",\"Wii\",\"PSP\",\"3DS\",\"PS4\",\"PC\",\"PSP\",\"PSV\",\"PS3\",\"PC\",\"PS4\",\"PSV\",\"PS3\",\"PS3\",\"3DS\",\"PSV\",\"PS3\",\"X360\",\"PS3\",\"3DS\",\"PS3\",\"3DS\",\"PS3\",\"PS4\",\"PSP\",\"PSP\",\"X360\",\"X360\",\"PS4\",\"PSP\",\"PSV\",\"PSV\",\"PC\",\"PC\",\"X360\",\"PS3\",\"PS3\",\"PSV\",\"PS3\",\"3DS\",\"PS3\",\"3DS\",\"WiiU\",\"PC\",\"XOne\",\"PS3\",\"PS4\",\"XOne\",\"PS4\",\"3DS\",\"3DS\",\"WiiU\",\"PS4\",\"WiiU\",\"PS4\",\"3DS\",\"PSV\",\"3DS\",\"PS4\",\"PS4\",\"PS3\",\"PS4\",\"3DS\",\"WiiU\",\"PSV\",\"X360\",\"PS4\",\"PS4\",\"X360\",\"PS4\",\"PSV\",\"PC\",\"PS3\",\"PC\",\"3DS\",\"3DS\",\"PS4\",\"PS4\",\"3DS\",\"Wii\",\"3DS\",\"PS3\",\"X360\",\"PC\",\"X360\",\"3DS\",\"WiiU\",\"PS3\",\"PSP\",\"PC\",\"PS4\",\"PS3\",\"XOne\",\"PSP\",\"3DS\",\"3DS\",\"PSV\",\"X360\",\"3DS\",\"PC\",\"PS3\",\"PSV\",\"PS4\",\"PC\",\"PSP\",\"PC\",\"PS4\",\"PS4\",\"3DS\",\"X360\",\"XOne\",\"XOne\",\"3DS\",\"DS\",\"X360\",\"WiiU\",\"PC\",\"X360\",\"PS4\",\"3DS\",\"PS4\",\"3DS\",\"PC\",\"XOne\",\"PS4\",\"3DS\",\"PSV\",\"3DS\",\"PSP\",\"PC\",\"PSV\",\"3DS\",\"PS4\",\"PSV\",\"PS3\",\"XOne\",\"PSV\",\"3DS\",\"3DS\",\"XOne\",\"3DS\",\"PSV\",\"PSV\",\"PSV\",\"PSP\",\"PS3\",\"3DS\",\"3DS\",\"PSV\",\"X360\",\"PSP\",\"PS4\",\"PS4\",\"PS3\",\"3DS\",\"PC\",\"3DS\",\"Wii\",\"3DS\",\"PSV\",\"3DS\",\"XOne\",\"PS4\",\"3DS\",\"X360\",\"DS\",\"PSP\",\"PSV\",\"PSP\",\"PSV\",\"PSV\",\"3DS\",\"3DS\",\"X360\",\"PSV\",\"PS3\",\"X360\",\"X360\",\"PSV\",\"PSV\",\"3DS\",\"PS3\",\"PSV\",\"XOne\",\"WiiU\",\"PS3\",\"PS3\",\"3DS\",\"PSP\",\"3DS\",\"PC\",\"PS4\",\"PC\",\"PSV\",\"PS4\",\"PS4\",\"PS3\",\"3DS\",\"PSV\",\"3DS\",\"PS3\",\"PSV\",\"PSP\",\"PS3\",\"X360\",\"PS4\",\"XOne\",\"WiiU\",\"PC\",\"PS3\",\"3DS\",\"3DS\",\"3DS\",\"X360\",\"PSV\",\"3DS\",\"PS4\",\"PC\",\"PSV\",\"X360\",\"PSV\",\"3DS\",\"PC\",\"WiiU\",\"PSV\",\"PSV\",\"PSV\",\"WiiU\",\"XOne\",\"3DS\",\"3DS\",\"X360\",\"PSV\",\"PS3\",\"PC\",\"PSV\",\"PS3\",\"3DS\",\"PS3\",\"3DS\",\"PS4\",\"XOne\",\"XOne\",\"PC\",\"PSV\",\"X360\",\"PSV\",\"PS3\",\"3DS\",\"PS3\",\"PS4\",\"PSV\",\"Wii\",\"PC\",\"3DS\",\"PC\",\"WiiU\",\"3DS\",\"X360\",\"PSV\",\"PS4\",\"WiiU\",\"PS4\",\"PS3\",\"PS4\",\"PS3\",\"3DS\",\"PS3\",\"XOne\",\"PSV\",\"PSP\",\"PSV\",\"PS4\",\"XOne\",\"3DS\",\"X360\",\"PSV\",\"PSV\",\"3DS\",\"3DS\",\"3DS\",\"PS3\",\"3DS\",\"WiiU\",\"PSV\",\"3DS\",\"PSP\",\"3DS\",\"3DS\",\"3DS\",\"3DS\",\"XOne\",\"X360\",\"PS4\",\"PSP\",\"PSP\",\"PS3\",\"XOne\",\"X360\",\"PSP\",\"PSV\",\"PSV\",\"X360\",\"PS4\",\"PC\",\"WiiU\",\"PS3\",\"PS4\",\"X360\",\"PS4\",\"PS4\",\"PS3\",\"PSV\",\"PSP\",\"PS3\",\"PSV\",\"3DS\",\"PSV\",\"PC\",\"PSP\",\"PSV\",\"PSV\",\"PS4\",\"PSV\",\"X360\",\"PS4\",\"PC\",\"PS4\",\"PSV\",\"PSP\",\"XOne\",\"PSV\",\"PC\",\"PS3\",\"PS4\",\"PSV\",\"PC\",\"XOne\",\"PSV\",\"3DS\",\"PS3\",\"PC\",\"3DS\",\"PSV\",\"PS3\",\"PSV\",\"PSV\",\"PSV\",\"Wii\",\"3DS\",\"PS4\",\"PS4\",\"PS3\",\"3DS\",\"PS3\",\"PS4\",\"PSP\",\"XOne\",\"WiiU\",\"PS4\",\"PC\",\"PSV\",\"PSP\",\"PS3\",\"X360\",\"PS4\",\"WiiU\",\"PC\",\"PSV\",\"XOne\",\"X360\",\"XOne\",\"PS4\",\"WiiU\",\"PC\",\"PS4\",\"PSV\",\"XOne\",\"PSP\",\"3DS\",\"PSV\",\"WiiU\",\"PS4\",\"DS\",\"PS3\",\"PS3\",\"DS\",\"X360\",\"PSV\",\"PS4\",\"PSV\",\"PC\",\"3DS\",\"3DS\",\"PS4\",\"3DS\",\"PS3\",\"PC\",\"XOne\",\"PS4\",\"3DS\",\"PS4\",\"PC\",\"PS4\",\"PC\",\"PS4\",\"PS4\",\"PC\",\"3DS\",\"PS3\",\"PSP\",\"PSP\",\"PS3\",\"PS3\",\"3DS\",\"PS3\",\"PSV\",\"PS3\",\"X360\",\"PSV\",\"PS3\",\"XOne\",\"PS3\",\"PSV\",\"PSV\",\"PSP\",\"X360\",\"XOne\",\"X360\",\"3DS\",\"PSV\",\"3DS\",\"PSP\",\"PSV\",\"PS3\",\"PS4\",\"PSP\",\"PSV\",\"PSV\",\"XOne\",\"PS4\",\"PSV\",\"PS4\",\"3DS\",\"PSV\",\"PC\",\"3DS\",\"PS3\",\"PS4\",\"3DS\",\"PSV\",\"PC\",\"XOne\",\"PS3\",\"PSV\",\"Wii\",\"X360\",\"3DS\",\"3DS\",\"PS3\",\"PS4\",\"PSP\",\"PS3\",\"PSV\",\"X360\",\"PSV\",\"3DS\",\"PS3\",\"PS3\",\"X360\",\"PS3\",\"XOne\",\"PS3\",\"3DS\",\"PS3\",\"PS4\",\"PC\",\"PSV\",\"PSV\",\"PSP\",\"PS3\",\"3DS\",\"3DS\",\"3DS\",\"PC\",\"3DS\",\"PSV\",\"X360\",\"PC\",\"PSV\",\"PS4\",\"PS3\",\"PC\",\"X360\",\"PSP\",\"PS3\",\"PSV\",\"X360\",\"PS4\",\"PS3\",\"PSP\",\"PS3\",\"XOne\",\"3DS\",\"3DS\",\"PSP\",\"PSV\",\"PSP\",\"PSP\",\"PS3\",\"PC\",\"PS3\",\"PS3\",\"PS3\",\"PSV\",\"3DS\",\"PS4\",\"3DS\",\"X360\",\"PC\",\"PS3\",\"PC\",\"PS4\",\"PSV\",\"3DS\",\"3DS\",\"PS4\",\"PS4\",\"PSV\",\"PSP\",\"XOne\",\"PC\",\"3DS\",\"DS\",\"PSV\",\"PC\",\"PS3\",\"XOne\",\"PSP\",\"PC\",\"PSP\",\"XOne\",\"3DS\",\"PSV\",\"PC\",\"PS4\",\"PS3\",\"PS4\",\"PSV\",\"PSV\",\"PSV\",\"PSP\",\"PSP\",\"PS3\",\"3DS\",\"PS3\",\"PSP\",\"PC\",\"PC\",\"XOne\",\"X360\",\"PSV\",\"3DS\",\"X360\",\"PS4\",\"3DS\",\"PSV\",\"3DS\",\"PSP\",\"PSP\",\"WiiU\",\"PS3\",\"PSV\",\"3DS\",\"3DS\",\"PS3\",\"PSV\",\"PC\",\"3DS\",\"PS4\",\"PS4\",\"PS3\",\"PS4\",\"PC\",\"PSP\",\"PSV\",\"PC\",\"3DS\",\"PSV\",\"PS3\",\"3DS\",\"PS4\",\"3DS\",\"3DS\",\"PS4\",\"3DS\",\"PC\",\"WiiU\",\"3DS\",\"PSP\",\"PS4\",\"PS3\",\"PS3\",\"3DS\",\"3DS\",\"PC\",\"WiiU\",\"PS4\",\"PS4\",\"PS3\",\"PS3\",\"3DS\",\"3DS\",\"WiiU\",\"PS3\",\"PS3\",\"3DS\",\"3DS\",\"PSV\",\"3DS\",\"PC\",\"PC\",\"PSV\",\"3DS\",\"PS3\",\"DS\",\"XOne\",\"X360\",\"3DS\",\"PS4\",\"DS\",\"3DS\",\"PC\",\"PC\",\"3DS\",\"PS4\",\"PSV\",\"PSV\",\"PSP\",\"PC\",\"PC\",\"PS4\",\"PSV\",\"PSV\",\"PSV\",\"3DS\",\"PS3\",\"X360\",\"PSV\",\"PS3\",\"PS3\",\"X360\",\"PC\",\"PSV\",\"PS3\",\"PSV\",\"PSP\",\"PSP\",\"PSV\",\"PSV\",\"PSV\",\"PSV\",\"PS3\",\"3DS\",\"PS3\",\"PC\",\"XOne\",\"XOne\",\"PSV\",\"X360\",\"PS3\",\"PSP\",\"PSV\",\"PS4\",\"WiiU\",\"PSP\",\"WiiU\",\"PSV\",\"3DS\",\"3DS\",\"3DS\",\"X360\",\"PSV\",\"PC\",\"WiiU\",\"PS3\",\"PSV\",\"XOne\",\"PS3\",\"PSV\",\"3DS\",\"PSV\",\"PSV\",\"PSV\",\"PC\",\"3DS\",\"PS3\",\"PSV\",\"3DS\",\"PSP\",\"PC\",\"PSV\",\"3DS\",\"PC\",\"PSP\",\"XOne\",\"PSP\",\"PSV\",\"Wii\",\"PS3\",\"PS4\",\"PSV\",\"PSV\",\"WiiU\",\"PC\",\"PSV\",\"PC\",\"PSV\",\"PS4\",\"3DS\",\"DS\",\"PSP\",\"PSV\",\"X360\",\"PC\",\"PSP\",\"PS3\",\"PSV\",\"PS3\",\"PC\",\"PSV\",\"WiiU\",\"X360\",\"PSV\",\"PS4\",\"PSV\",\"PC\",\"PSV\",\"PS3\",\"PS3\",\"PSV\",\"PSV\",\"PSV\",\"3DS\",\"PSP\",\"PS3\",\"PSV\",\"PS4\",\"PS3\",\"Wii\",\"PS3\",\"3DS\",\"3DS\",\"PSP\",\"PS3\",\"XOne\",\"PSV\",\"XOne\",\"PS4\",\"PSV\",\"3DS\",\"PS3\",\"PS4\",\"3DS\",\"3DS\",\"PSV\",\"PS4\",\"PS4\",\"PSV\",\"3DS\",\"PSV\",\"PSV\",\"PS4\",\"PS4\",\"PS3\",\"PSP\",\"PSP\",\"DS\",\"PS3\",\"PSV\",\"DS\",\"PC\",\"PSV\",\"PS4\",\"XOne\",\"3DS\",\"PSV\",\"PSV\",\"DS\",\"PC\",\"PSV\",\"PSV\",\"PS4\",\"PS3\",\"PS3\",\"X360\",\"PS4\",\"PSP\",\"WiiU\",\"WiiU\",\"DS\",\"PSP\",\"PSV\",\"PC\",\"PS4\",\"PS3\",\"PS3\",\"PSV\",\"PS4\",\"X360\",\"PS4\",\"PSV\",\"PSV\",\"PSV\",\"3DS\",\"PSP\",\"PS4\",\"X360\",\"X360\",\"PS3\",\"PSP\",\"PS3\",\"X360\",\"PS3\",\"PS4\",\"PSV\",\"PSP\",\"Wii\",\"PS4\",\"PC\",\"PS3\",\"PSP\",\"PSV\",\"3DS\",\"PSV\",\"3DS\",\"PSV\",\"PSP\",\"PS3\",\"PS4\",\"PS3\",\"WiiU\",\"PSV\",\"PSV\",\"PC\",\"DS\",\"XOne\",\"PS4\",\"PS3\",\"PC\",\"PC\",\"PS3\",\"PS3\",\"PSV\",\"PC\",\"3DS\",\"PSV\",\"PSP\",\"PSP\",\"PSV\",\"3DS\",\"PSP\",\"PS3\",\"PS3\",\"PS3\",\"PSP\",\"PC\",\"PS4\",\"XOne\",\"PC\",\"X360\",\"WiiU\",\"3DS\",\"PS4\",\"X360\",\"PS3\",\"XOne\",\"PSV\",\"PC\",\"PC\",\"PS3\",\"PS3\",\"DS\",\"PS3\",\"PSP\",\"PS3\",\"PS3\",\"PC\",\"PSV\",\"PSV\",\"PSP\",\"PS3\",\"XOne\",\"PSP\",\"PSV\",\"XOne\",\"PS3\",\"PSV\",\"PC\",\"PC\",\"XOne\",\"PS4\",\"PC\",\"PSP\",\"PSP\",\"PC\",\"PS3\",\"PSP\",\"PSV\",\"WiiU\",\"PSP\",\"PSV\",\"PS3\",\"PSP\",\"3DS\",\"3DS\",\"PSP\",\"3DS\",\"PS3\",\"PC\",\"PS3\",\"PSV\",\"PC\",\"PC\",\"PS3\",\"PSV\",\"PS4\",\"PSP\",\"PSV\",\"XOne\",\"PSV\",\"PC\",\"PS3\",\"X360\",\"XOne\",\"PSP\",\"X360\",\"PSV\",\"PS4\",\"PSP\",\"WiiU\",\"3DS\",\"X360\",\"PSV\",\"XOne\",\"PS3\",\"PSV\",\"X360\",\"PS3\",\"PSV\",\"PSV\",\"PS3\",\"3DS\",\"PC\",\"PSV\",\"3DS\",\"PC\",\"PSV\",\"PSP\",\"3DS\",\"PC\",\"PSV\",\"PSP\",\"3DS\",\"PSV\",\"PSV\",\"3DS\",\"PSP\",\"PS4\",\"PS3\",\"PSP\",\"PC\",\"XOne\",\"PS4\",\"Wii\",\"PS3\",\"PSV\",\"PSV\",\"PS4\",\"PSV\",\"3DS\",\"PSP\",\"PS3\",\"PS4\",\"PSP\",\"PS4\",\"PSV\",\"PSP\",\"X360\",\"PS3\",\"PSV\",\"PS4\",\"PSV\",\"WiiU\",\"PSV\",\"PSP\",\"PC\",\"PSV\",\"XOne\",\"PS4\",\"PSV\",\"PSV\",\"PS3\",\"PS3\",\"PSP\",\"PSV\",\"PSV\",\"PSP\",\"WiiU\",\"PSV\",\"PS3\",\"PSV\",\"PSV\",\"PSV\",\"PS4\",\"PSP\",\"PS4\",\"3DS\",\"PSP\",\"PSV\",\"PSV\",\"PC\",\"PC\",\"WiiU\",\"PSV\",\"PSV\",\"PS4\",\"PS4\",\"PSP\",\"PSV\",\"PSV\",\"DS\",\"3DS\",\"XOne\",\"XOne\",\"PSV\",\"PSP\",\"PC\",\"PSP\",\"XOne\",\"PSV\",\"PSP\",\"Wii\",\"3DS\",\"PS3\",\"PSV\",\"PC\",\"PS3\",\"XOne\",\"PSP\",\"PC\",\"PSP\",\"PS4\",\"PC\",\"PSP\",\"PSV\",\"PSV\",\"PS3\",\"PC\",\"PS4\",\"3DS\",\"Wii\",\"PC\",\"XOne\",\"PSP\",\"PS4\",\"PC\",\"XOne\",\"PSP\",\"PSV\",\"3DS\",\"Wii\",\"PS3\",\"3DS\",\"PS4\",\"PSV\",\"PC\",\"PSV\",\"3DS\",\"XOne\",\"PS3\",\"XOne\",\"PS3\",\"PS3\",\"PSV\",\"XOne\",\"PSP\",\"PC\",\"PSV\",\"DS\",\"PSV\",\"PSV\",\"X360\",\"PSV\",\"PSP\",\"PSV\",\"3DS\",\"PS3\",\"PSP\",\"PC\",\"PS3\",\"PSP\",\"3DS\",\"PSP\",\"PSV\",\"PSV\",\"XOne\",\"PSP\",\"WiiU\",\"PSV\",\"PSV\",\"PSV\",\"PSP\",\"PC\",\"PSP\",\"X360\",\"DS\",\"Wii\",\"PSV\",\"WiiU\",\"X360\",\"PC\",\"PSP\",\"Wii\",\"PSP\",\"XOne\",\"PSV\",\"XOne\",\"PSV\",\"PC\",\"PSV\",\"PC\",\"3DS\",\"PC\",\"PSV\",\"PSV\",\"PS3\",\"Wii\",\"PS4\",\"PS3\",\"PSV\",\"PSV\",\"DS\",\"PSV\",\"WiiU\",\"PSV\",\"X360\",\"PC\",\"XOne\",\"PS4\",\"PSP\",\"PSV\",\"PSV\",\"WiiU\",\"DS\",\"PSP\",\"3DS\",\"WiiU\",\"PC\",\"PS4\",\"PSV\",\"PSP\",\"PC\",\"X360\",\"PC\",\"PSP\",\"PC\",\"3DS\",\"X360\",\"PSP\",\"PC\",\"PC\",\"PS3\",\"PSV\",\"3DS\",\"PS4\",\"X360\",\"PSP\",\"PS4\",\"PS3\",\"PS4\",\"PS4\",\"3DS\",\"PS4\",\"3DS\",\"XOne\",\"PC\",\"WiiU\",\"3DS\",\"PC\",\"PSP\",\"PSV\",\"PS4\",\"PS4\",\"PSV\",\"XOne\",\"PSV\",\"PSP\",\"XOne\",\"PSV\",\"PS3\",\"PSV\",\"3DS\",\"PS3\",\"Wii\",\"PSV\",\"3DS\",\"PSV\",\"PS3\",\"PSV\",\"PSV\",\"PC\",\"PS4\",\"PSP\",\"XOne\",\"3DS\",\"XOne\",\"PSP\",\"XOne\",\"3DS\",\"PSP\",\"3DS\",\"PSP\",\"3DS\",\"PSP\",\"X360\",\"3DS\",\"PC\",\"PSV\",\"PSV\",\"PSV\",\"PS3\",\"XOne\",\"PC\",\"PSP\",\"PS3\",\"XOne\",\"PSV\",\"XOne\",\"PSP\",\"3DS\",\"WiiU\",\"X360\",\"PSV\",\"PSP\",\"XOne\",\"PSV\",\"PSV\",\"3DS\",\"XOne\",\"PS3\",\"3DS\",\"PC\",\"PSV\",\"PSP\",\"PSV\",\"PS3\",\"PC\",\"PSV\",\"PSV\",\"PSV\",\"PS3\",\"PSV\",\"PSV\"],\"x0\":\" \",\"xaxis\":\"x\",\"y\":[21.05,16.27,14.629999999999999,14.6,13.790000000000001,13.68,12.620000000000001,11.68,10.24,9.900000000000002,9.709999999999999,9.36,9.18,9.17,8.58,8.17,8.06,7.98,7.66,7.6000000000000005,7.550000000000001,7.389999999999999,7.17,7.14,7.09,6.76,6.460000000000001,6.44,6.08,5.86,5.640000000000001,5.47,5.39,5.290000000000001,5.26,5.2700000000000005,5.220000000000001,5.23,5.160000000000001,5.14,4.87,4.72,4.62,4.59,4.49,4.470000000000001,4.4399999999999995,4.42,4.36,4.319999999999999,4.32,4.28,4.28,4.22,4.22,4.07,4.05,4.04,3.9699999999999998,3.96,3.96,3.89,3.87,3.8299999999999996,3.8,3.7099999999999995,3.66,3.58,3.5799999999999996,3.5,3.4899999999999998,3.49,3.44,3.4200000000000004,3.3899999999999997,3.37,3.35,3.32,3.3099999999999996,3.28,3.28,3.25,3.2399999999999998,3.2299999999999995,3.23,3.21,3.1300000000000003,3.1,3.0999999999999996,3.05,3.0500000000000003,3.06,3.05,3.01,3.0,3.0,2.96,2.95,2.92,2.92,2.8499999999999996,2.86,2.81,2.7899999999999996,2.78,2.7600000000000002,2.6999999999999997,2.6900000000000004,2.68,2.65,2.56,2.52,2.52,2.48,2.48,2.4499999999999997,2.42,2.4200000000000004,2.42,2.42,2.34,2.34,2.3000000000000003,2.31,2.29,2.29,2.2600000000000002,2.25,2.25,2.2300000000000004,2.24,2.23,2.22,2.22,2.21,2.1999999999999997,2.19,2.18,2.1700000000000004,2.15,2.14,2.1500000000000004,2.11,2.11,2.09,2.08,2.07,2.07,2.0500000000000003,2.02,2.02,2.01,2.01,1.98,1.9600000000000002,1.97,1.9500000000000002,1.94,1.9200000000000002,1.92,1.9200000000000002,1.91,1.9100000000000001,1.88,1.9,1.88,1.8800000000000001,1.87,1.85,1.84,1.83,1.83,1.83,1.82,1.81,1.7999999999999998,1.7900000000000003,1.8000000000000003,1.74,1.75,1.7500000000000002,1.74,1.7400000000000002,1.7400000000000002,1.7399999999999998,1.7200000000000002,1.73,1.74,1.7200000000000002,1.73,1.71,1.7,1.6900000000000002,1.6900000000000002,1.69,1.6700000000000002,1.67,1.6600000000000001,1.65,1.66,1.6600000000000001,1.6400000000000001,1.6400000000000001,1.6300000000000001,1.62,1.62,1.6100000000000003,1.6,1.5800000000000003,1.58,1.57,1.5699999999999998,1.5700000000000003,1.5699999999999998,1.56,1.5599999999999998,1.54,1.54,1.54,1.53,1.52,1.5299999999999998,1.51,1.4900000000000002,1.49,1.4700000000000002,1.47,1.4700000000000002,1.46,1.4600000000000002,1.44,1.44,1.42,1.42,1.42,1.4200000000000002,1.4100000000000001,1.4000000000000001,1.4000000000000001,1.3800000000000001,1.3800000000000001,1.3800000000000001,1.3900000000000001,1.3900000000000001,1.38,1.3800000000000001,1.3599999999999999,1.3599999999999999,1.3599999999999999,1.36,1.3399999999999999,1.3399999999999999,1.34,1.33,1.3199999999999998,1.3199999999999998,1.31,1.3,1.3,1.3,1.2900000000000003,1.29,1.29,1.2800000000000002,1.28,1.2800000000000002,1.27,1.2799999999999998,1.26,1.27,1.2699999999999998,1.27,1.27,1.26,1.25,1.25,1.25,1.25,1.24,1.23,1.23,1.24,1.23,1.21,1.21,1.1900000000000002,1.19,1.1900000000000002,1.2000000000000002,1.1800000000000002,1.19,1.1800000000000002,1.1800000000000002,1.1800000000000002,1.17,1.1700000000000002,1.1600000000000001,1.16,1.1500000000000001,1.15,1.14,1.1300000000000001,1.14,1.13,1.1199999999999999,1.13,1.11,1.1199999999999999,1.12,1.11,1.1,1.1,1.09,1.0799999999999998,1.09,1.08,1.08,1.08,1.07,1.07,1.06,1.05,1.05,1.05,1.05,1.04,1.03,1.0300000000000002,1.03,1.03,1.02,1.02,1.01,1.01,1.02,1.01,1.01,0.99,0.9999999999999999,0.98,0.98,0.9800000000000001,0.9799999999999999,0.97,0.9700000000000001,0.9600000000000001,0.96,0.9700000000000001,0.9600000000000001,0.96,0.9600000000000001,0.96,0.9600000000000001,0.9400000000000002,0.9500000000000001,0.9600000000000001,0.95,0.95,0.94,0.95,0.95,0.9400000000000001,0.94,0.9400000000000001,0.9400000000000001,0.9400000000000001,0.93,0.93,0.93,0.92,0.93,0.93,0.9299999999999999,0.93,0.93,0.93,0.9299999999999999,0.9199999999999999,0.9299999999999999,0.92,0.8999999999999999,0.92,0.9,0.91,0.91,0.9,0.9,0.9,0.9000000000000001,0.91,0.8900000000000001,0.89,0.8900000000000001,0.89,0.89,0.89,0.89,0.8899999999999999,0.89,0.88,0.8700000000000001,0.88,0.87,0.8700000000000001,0.87,0.88,0.87,0.87,0.86,0.86,0.85,0.8599999999999999,0.8500000000000001,0.84,0.85,0.8400000000000001,0.8400000000000001,0.8500000000000001,0.84,0.8300000000000001,0.82,0.83,0.8099999999999999,0.8200000000000001,0.81,0.82,0.8,0.8,0.8000000000000002,0.8,0.7899999999999999,0.79,0.8,0.79,0.79,0.78,0.78,0.7899999999999999,0.79,0.78,0.7799999999999999,0.78,0.7699999999999999,0.78,0.77,0.78,0.76,0.76,0.76,0.75,0.76,0.7500000000000001,0.7600000000000001,0.75,0.75,0.7399999999999999,0.75,0.75,0.75,0.74,0.7300000000000001,0.74,0.74,0.73,0.75,0.7300000000000001,0.74,0.74,0.7300000000000001,0.7300000000000001,0.73,0.73,0.7300000000000001,0.72,0.72,0.73,0.73,0.73,0.73,0.72,0.72,0.7200000000000001,0.72,0.73,0.73,0.7200000000000001,0.71,0.7,0.7,0.7,0.6900000000000001,0.71,0.6900000000000001,0.6900000000000001,0.6900000000000001,0.69,0.6900000000000002,0.69,0.6799999999999999,0.7,0.69,0.6700000000000002,0.6900000000000001,0.6800000000000002,0.68,0.68,0.6599999999999999,0.68,0.67,0.6799999999999999,0.67,0.67,0.6599999999999999,0.66,0.66,0.66,0.6600000000000001,0.6599999999999999,0.66,0.66,0.66,0.6599999999999999,0.65,0.6599999999999999,0.65,0.65,0.6499999999999999,0.65,0.64,0.64,0.65,0.6400000000000001,0.6399999999999999,0.6400000000000001,0.63,0.64,0.6400000000000001,0.63,0.6400000000000001,0.6300000000000001,0.64,0.63,0.63,0.63,0.6200000000000001,0.63,0.6300000000000001,0.6300000000000001,0.63,0.62,0.6200000000000001,0.62,0.6200000000000001,0.62,0.61,0.6200000000000001,0.61,0.6200000000000001,0.62,0.61,0.61,0.6,0.61,0.6100000000000001,0.6000000000000001,0.6100000000000001,0.6000000000000001,0.5900000000000001,0.6,0.6,0.5900000000000001,0.6,0.59,0.6,0.59,0.5900000000000001,0.5800000000000001,0.5800000000000001,0.5800000000000001,0.5800000000000001,0.5800000000000001,0.5800000000000001,0.5800000000000001,0.5800000000000001,0.58,0.5800000000000001,0.5800000000000001,0.5700000000000001,0.57,0.5700000000000001,0.5700000000000001,0.5700000000000001,0.57,0.5700000000000001,0.56,0.56,0.5700000000000001,0.56,0.56,0.56,0.5499999999999999,0.56,0.56,0.56,0.55,0.54,0.5599999999999999,0.56,0.55,0.55,0.5499999999999999,0.54,0.54,0.5499999999999999,0.54,0.5299999999999999,0.53,0.54,0.53,0.54,0.53,0.53,0.53,0.53,0.52,0.53,0.53,0.53,0.52,0.51,0.52,0.51,0.51,0.51,0.51,0.51,0.51,0.51,0.49999999999999994,0.51,0.51,0.51,0.51,0.49,0.49000000000000005,0.5,0.5,0.49,0.49000000000000005,0.48,0.49000000000000005,0.4799999999999999,0.48000000000000004,0.49,0.48,0.48,0.48000000000000004,0.48000000000000004,0.48,0.4799999999999999,0.4800000000000001,0.49000000000000005,0.49,0.48,0.48,0.48,0.47000000000000003,0.47,0.48000000000000004,0.47,0.48000000000000004,0.47000000000000003,0.47000000000000003,0.45999999999999996,0.47000000000000003,0.47000000000000003,0.47,0.46,0.45,0.46,0.46,0.45999999999999996,0.45999999999999996,0.44999999999999996,0.4600000000000001,0.45,0.44999999999999996,0.44999999999999996,0.45,0.45,0.45999999999999996,0.45,0.44,0.44999999999999996,0.45,0.44000000000000006,0.44000000000000006,0.45,0.44,0.44,0.44,0.45,0.44,0.43,0.44,0.44,0.43,0.43,0.44000000000000006,0.44,0.43,0.44,0.43,0.43000000000000005,0.44,0.43,0.43,0.42999999999999994,0.43,0.43,0.43,0.43,0.43000000000000005,0.42,0.43000000000000005,0.42,0.43,0.42000000000000004,0.42,0.42000000000000004,0.42,0.42000000000000004,0.42,0.42000000000000004,0.42,0.42,0.42,0.41000000000000003,0.41,0.41,0.41,0.41,0.41000000000000003,0.41000000000000003,0.41000000000000003,0.41000000000000003,0.41000000000000003,0.41,0.41,0.41,0.4,0.4,0.41,0.38999999999999996,0.4,0.4,0.41,0.4,0.4,0.4,0.39999999999999997,0.39999999999999997,0.39,0.39,0.39,0.39999999999999997,0.39,0.4,0.38999999999999996,0.39,0.39,0.39999999999999997,0.39,0.38,0.38,0.39,0.39,0.37999999999999995,0.39,0.38,0.38,0.38999999999999996,0.38,0.38,0.38,0.38,0.38,0.38,0.38,0.38,0.38,0.38,0.38,0.38,0.37000000000000005,0.38,0.37,0.38000000000000006,0.37,0.37,0.37,0.37,0.37000000000000005,0.37000000000000005,0.38,0.36000000000000004,0.36000000000000004,0.37,0.36,0.37,0.37,0.37,0.36,0.36,0.37,0.36,0.36,0.36000000000000004,0.36,0.36,0.36,0.35,0.36,0.34,0.35000000000000003,0.36000000000000004,0.34,0.35,0.36,0.36,0.35,0.35000000000000003,0.35,0.36,0.35000000000000003,0.35,0.35000000000000003,0.33999999999999997,0.35000000000000003,0.35,0.33999999999999997,0.34,0.33999999999999997,0.34,0.35,0.33999999999999997,0.34,0.35,0.33999999999999997,0.33999999999999997,0.34,0.33999999999999997,0.33,0.32999999999999996,0.34,0.33,0.33999999999999997,0.33,0.33,0.33,0.33,0.33,0.33,0.33000000000000007,0.32,0.32000000000000006,0.31999999999999995,0.33,0.32,0.31999999999999995,0.33000000000000007,0.32,0.31000000000000005,0.32000000000000006,0.33,0.32,0.32,0.32,0.32,0.31999999999999995,0.31999999999999995,0.31000000000000005,0.31,0.31000000000000005,0.31000000000000005,0.32000000000000006,0.31000000000000005,0.31,0.31000000000000005,0.31000000000000005,0.32,0.31000000000000005,0.3,0.31,0.30000000000000004,0.31000000000000005,0.3,0.3,0.31000000000000005,0.3,0.30000000000000004,0.31000000000000005,0.31000000000000005,0.31,0.31000000000000005,0.31,0.30000000000000004,0.30000000000000004,0.3,0.3,0.3,0.3,0.29000000000000004,0.3,0.29000000000000004,0.30000000000000004,0.27999999999999997,0.3,0.3,0.29000000000000004,0.29,0.29000000000000004,0.28,0.29000000000000004,0.29000000000000004,0.29000000000000004,0.29000000000000004,0.28,0.29000000000000004,0.29,0.29,0.28,0.29000000000000004,0.28,0.28,0.29000000000000004,0.29000000000000004,0.29000000000000004,0.27999999999999997,0.28,0.28,0.28,0.29000000000000004,0.27,0.29000000000000004,0.28,0.27,0.28,0.27,0.29000000000000004,0.28,0.29,0.28,0.28,0.27,0.27,0.27,0.28,0.27,0.26999999999999996,0.26,0.27,0.27,0.27,0.27,0.27,0.26,0.27,0.27,0.27,0.27,0.26,0.28,0.26,0.26,0.26,0.27,0.26,0.26,0.26,0.26,0.26,0.26,0.26,0.26,0.24999999999999997,0.26,0.26,0.26,0.26,0.26,0.26,0.26,0.26,0.26,0.25,0.25,0.26,0.25,0.24999999999999997,0.25,0.25,0.25,0.26,0.26,0.25,0.25,0.25,0.24999999999999997,0.25,0.24000000000000002,0.25,0.26,0.24,0.24000000000000002,0.25,0.24999999999999997,0.25,0.24000000000000002,0.24000000000000002,0.24,0.25,0.24,0.24000000000000002,0.25,0.24000000000000002,0.24999999999999997,0.24,0.24,0.24000000000000002,0.24,0.23,0.24000000000000002,0.23,0.24,0.24000000000000002,0.24000000000000002,0.24000000000000002,0.23,0.24000000000000002,0.23,0.24,0.24,0.24,0.22999999999999998,0.23,0.23,0.24000000000000002,0.23,0.23,0.23,0.23,0.23,0.22999999999999998,0.24,0.23,0.23,0.23,0.23,0.23,0.22999999999999998,0.23,0.23,0.22000000000000003,0.23,0.22000000000000003,0.23,0.22,0.23,0.23,0.23,0.23,0.22,0.22999999999999998,0.22,0.23,0.22,0.22,0.22,0.22,0.23,0.22,0.23,0.22,0.22000000000000003,0.22,0.22,0.22,0.22,0.23,0.22,0.21000000000000002,0.22,0.22,0.22,0.22,0.21000000000000002,0.21,0.22,0.21000000000000002,0.22,0.22,0.22,0.21,0.21000000000000002,0.21000000000000002,0.21,0.22,0.21,0.22,0.21,0.21,0.21000000000000002,0.22,0.21,0.21,0.2,0.21000000000000002,0.21,0.21,0.2,0.19999999999999998,0.21,0.21,0.19999999999999998,0.2,0.2,0.21,0.21,0.19999999999999998,0.2,0.2,0.2,0.19999999999999998,0.19999999999999998,0.21,0.2,0.2,0.2,0.2,0.19999999999999998,0.2,0.19999999999999998,0.19999999999999998,0.2,0.2,0.19,0.21,0.2,0.19999999999999998,0.2,0.2,0.2,0.19,0.19,0.19,0.19999999999999998,0.19000000000000003,0.2,0.19999999999999998,0.19999999999999998,0.2,0.19,0.19,0.2,0.19999999999999998,0.19,0.19000000000000003,0.19,0.19,0.18000000000000002,0.19,0.19999999999999998,0.19999999999999998,0.19,0.18999999999999997,0.19,0.19999999999999998,0.18000000000000002,0.19,0.19,0.18999999999999997,0.18999999999999997,0.19999999999999998,0.19,0.18000000000000002,0.19,0.19,0.18,0.19,0.18000000000000002,0.19,0.18000000000000002,0.19,0.18000000000000002,0.18999999999999997,0.19,0.19,0.19,0.19,0.18999999999999997,0.18,0.19,0.19999999999999998,0.19,0.18999999999999997,0.19,0.18000000000000002,0.18000000000000002,0.18,0.18,0.18,0.18000000000000002,0.18,0.19,0.18,0.18,0.18,0.18,0.18,0.17,0.18,0.18,0.18,0.18999999999999997,0.18,0.16999999999999998,0.18000000000000002,0.18,0.18,0.18,0.18,0.18000000000000002,0.18,0.18,0.18,0.16999999999999998,0.18000000000000002,0.17,0.17,0.16999999999999998,0.18,0.17,0.16999999999999998,0.17,0.16,0.17,0.18,0.17,0.17,0.17,0.17,0.17,0.17,0.17,0.17,0.17,0.16,0.17,0.16999999999999998,0.16999999999999998,0.17,0.17,0.16,0.16000000000000003,0.16999999999999998,0.17,0.17,0.17,0.16999999999999998,0.16999999999999998,0.17,0.17,0.16,0.16,0.16,0.15000000000000002,0.16,0.16,0.16000000000000003,0.16999999999999998,0.16000000000000003,0.16,0.17,0.16,0.16999999999999998,0.15,0.16,0.16999999999999998,0.16,0.15000000000000002,0.16,0.15000000000000002,0.16,0.16,0.16000000000000003,0.16,0.16,0.16,0.15000000000000002,0.16,0.15000000000000002,0.16,0.15000000000000002,0.15000000000000002,0.15000000000000002,0.15000000000000002,0.15000000000000002,0.15,0.15,0.16,0.15000000000000002,0.16,0.15000000000000002,0.15,0.15,0.15,0.15,0.14,0.15,0.14,0.15,0.15,0.15000000000000002,0.15000000000000002,0.15000000000000002,0.15000000000000002,0.15,0.15000000000000002,0.15,0.13999999999999999,0.15,0.16,0.15,0.15,0.15,0.15000000000000002,0.15000000000000002,0.14,0.15000000000000002,0.15,0.14,0.13999999999999999,0.14,0.14,0.14,0.14,0.15,0.15000000000000002,0.15000000000000002,0.14,0.14,0.13,0.14,0.14,0.14,0.13999999999999999,0.14,0.13999999999999999,0.14,0.14,0.14,0.14,0.15,0.14,0.14,0.14,0.14,0.14,0.14,0.13999999999999999,0.14,0.14,0.14,0.14,0.13,0.13,0.13,0.14,0.13,0.14,0.14,0.13,0.13,0.14,0.13,0.14,0.13,0.13,0.13,0.13,0.13,0.13,0.13,0.13,0.12,0.13,0.13999999999999999,0.13,0.12000000000000001,0.13,0.13,0.13,0.13,0.13,0.13,0.13,0.13,0.13,0.13,0.13,0.13,0.12000000000000001,0.13,0.13,0.12999999999999998,0.13,0.13,0.13,0.12000000000000001,0.13,0.12,0.13,0.13,0.13,0.13,0.12000000000000001,0.13,0.12,0.13,0.12000000000000001,0.12000000000000001,0.13,0.13,0.12,0.12,0.12,0.12,0.12,0.12,0.12,0.13,0.13,0.12,0.12,0.12,0.12,0.12,0.12,0.12,0.12000000000000001,0.11,0.12,0.11,0.12,0.12,0.12000000000000001,0.12000000000000001,0.12,0.11,0.12,0.12,0.12,0.12,0.12,0.12,0.12,0.12,0.12,0.11,0.12,0.12,0.12,0.11,0.12000000000000001,0.12,0.12,0.12,0.11,0.12,0.12000000000000001,0.12,0.12,0.10999999999999999,0.12,0.11000000000000001,0.12000000000000001,0.11,0.12,0.12000000000000001,0.12000000000000001,0.11,0.11,0.11,0.11,0.11,0.11,0.12,0.11,0.11,0.11,0.12000000000000001,0.11,0.11,0.11,0.12000000000000001,0.11,0.11,0.11,0.11,0.12000000000000001,0.11,0.11,0.11,0.11,0.11,0.11,0.12000000000000001,0.11,0.11,0.11,0.11,0.11,0.10999999999999999,0.11,0.11,0.11,0.09999999999999999,0.11,0.11,0.11,0.11,0.11,0.09999999999999999,0.11,0.11,0.11,0.11,0.11,0.11,0.09999999999999999,0.11000000000000001,0.11,0.11,0.1,0.1,0.1,0.1,0.1,0.11,0.09999999999999999,0.11,0.1,0.1,0.1,0.1,0.1,0.11,0.1,0.09999999999999999,0.09999999999999999,0.11,0.11,0.1,0.1,0.1,0.09999999999999999,0.09999999999999999,0.1,0.09999999999999999,0.11,0.1,0.09999999999999999,0.1,0.1,0.09999999999999999,0.09999999999999999,0.1,0.1,0.1,0.09,0.1,0.09999999999999999,0.09,0.1,0.1,0.1,0.09999999999999999,0.09,0.09999999999999999,0.09999999999999999,0.09999999999999999,0.1,0.1,0.09999999999999999,0.09999999999999999,0.1,0.09,0.1,0.1,0.1,0.1,0.09999999999999999,0.1,0.09999999999999999,0.09999999999999999,0.09,0.09000000000000001,0.09,0.09999999999999999,0.09999999999999999,0.1,0.09999999999999999,0.09,0.09,0.09,0.09,0.09,0.09,0.09,0.1,0.09,0.09,0.09999999999999999,0.09,0.09999999999999999,0.09000000000000001,0.09,0.09,0.09,0.09,0.09999999999999999,0.08,0.09,0.09,0.1,0.09,0.09,0.1,0.09,0.1,0.09,0.09000000000000001,0.09,0.09,0.09,0.09,0.09,0.09999999999999999,0.09,0.09,0.09,0.09,0.09,0.08,0.08,0.09,0.09,0.08,0.09,0.09,0.09,0.08,0.09,0.09,0.08,0.09999999999999999,0.09,0.09,0.09,0.09,0.09,0.08,0.09,0.08,0.08,0.08,0.09,0.09,0.09,0.08,0.08,0.08,0.08,0.08,0.09,0.08,0.08,0.08,0.08,0.08,0.06999999999999999,0.08,0.08,0.08,0.09,0.08,0.08,0.09,0.09000000000000001,0.08,0.08,0.07,0.08,0.07999999999999999,0.08,0.07999999999999999,0.08,0.09,0.06999999999999999,0.08,0.08,0.08,0.08,0.08,0.08,0.08,0.08,0.08,0.08,0.08,0.08,0.08,0.08,0.06999999999999999,0.08,0.08,0.08,0.06999999999999999,0.08,0.08,0.08,0.08,0.08,0.08,0.08,0.09,0.07999999999999999,0.07,0.09,0.07,0.08,0.08,0.08,0.08,0.08,0.08,0.08,0.08,0.08,0.08,0.06999999999999999,0.08,0.08,0.08,0.06999999999999999,0.07,0.08,0.07,0.07,0.07,0.08,0.07,0.07,0.07,0.07,0.07,0.08,0.07,0.08,0.07,0.08,0.07,0.06999999999999999,0.07,0.07,0.07,0.07,0.07,0.060000000000000005,0.07,0.08,0.07,0.07,0.06999999999999999,0.07,0.08,0.08,0.07,0.07,0.07,0.06999999999999999,0.07,0.07,0.06999999999999999,0.06999999999999999,0.07,0.07,0.06999999999999999,0.07999999999999999,0.06999999999999999,0.06999999999999999,0.07,0.06999999999999999,0.06999999999999999,0.06999999999999999,0.08,0.08,0.08,0.07,0.07,0.07,0.06999999999999999,0.07,0.06,0.07,0.060000000000000005,0.06999999999999999,0.06999999999999999,0.07,0.07,0.07,0.07,0.07,0.07,0.06999999999999999,0.060000000000000005,0.07,0.07,0.06999999999999999,0.06999999999999999,0.06,0.07,0.06,0.07,0.07,0.06999999999999999,0.07,0.06999999999999999,0.06999999999999999,0.06,0.06,0.06,0.06999999999999999,0.06999999999999999,0.06,0.06999999999999999,0.06,0.06,0.06,0.06999999999999999,0.06,0.06,0.06,0.06,0.06,0.060000000000000005,0.06,0.06,0.06999999999999999,0.06999999999999999,0.06,0.060000000000000005,0.060000000000000005,0.06,0.06,0.060000000000000005,0.06999999999999999,0.060000000000000005,0.06,0.06,0.060000000000000005,0.060000000000000005,0.06,0.06999999999999999,0.06,0.06,0.06,0.06999999999999999,0.06,0.060000000000000005,0.06999999999999999,0.060000000000000005,0.060000000000000005,0.060000000000000005,0.06,0.06999999999999999,0.06,0.06,0.06,0.05,0.06,0.06,0.06,0.06,0.060000000000000005,0.06,0.07,0.06,0.06,0.06,0.06,0.06,0.060000000000000005,0.06,0.06999999999999999,0.06,0.060000000000000005,0.06,0.06,0.06,0.06,0.06,0.060000000000000005,0.05,0.06,0.06,0.06,0.06999999999999999,0.060000000000000005,0.060000000000000005,0.06,0.060000000000000005,0.06,0.05,0.06,0.05,0.05,0.06,0.060000000000000005,0.05,0.060000000000000005,0.060000000000000005,0.060000000000000005,0.06,0.06,0.060000000000000005,0.05,0.06,0.06,0.05,0.06,0.06,0.06,0.060000000000000005,0.06,0.060000000000000005,0.06,0.05,0.060000000000000005,0.06,0.05,0.05,0.05,0.05,0.060000000000000005,0.05,0.05,0.060000000000000005,0.05,0.05,0.05,0.060000000000000005,0.05,0.060000000000000005,0.05,0.05,0.060000000000000005,0.05,0.05,0.05,0.05,0.05,0.05,0.05,0.05,0.05,0.05,0.05,0.05,0.04,0.060000000000000005,0.05,0.05,0.05,0.05,0.05,0.05,0.05,0.05,0.05,0.05,0.05,0.060000000000000005,0.05,0.05,0.05,0.05,0.05,0.060000000000000005,0.05,0.05,0.05,0.05,0.05,0.05,0.05,0.05,0.05,0.05,0.05,0.05,0.05,0.05,0.05,0.05,0.05,0.04,0.060000000000000005,0.05,0.05,0.04,0.05,0.05,0.05,0.05,0.04,0.05,0.05,0.05,0.05,0.05,0.05,0.05,0.05,0.05,0.05,0.05,0.05,0.04,0.04,0.05,0.05,0.04,0.05,0.05,0.05,0.05,0.04,0.04,0.04,0.05,0.05,0.05,0.05,0.05,0.05,0.05,0.05,0.05,0.05,0.04,0.05,0.05,0.05,0.04,0.04,0.05,0.04,0.04,0.05,0.04,0.04,0.04,0.04,0.04,0.04,0.04,0.04,0.04,0.04,0.04,0.04,0.04,0.04,0.04,0.04,0.04,0.04,0.04,0.04,0.03,0.04,0.04,0.04,0.04,0.04,0.03,0.04,0.04,0.05,0.04,0.04,0.04,0.03,0.03,0.04,0.04,0.04,0.04,0.04,0.04,0.05,0.04,0.04,0.04,0.04,0.05,0.04,0.04,0.04,0.04,0.04,0.04,0.04,0.04,0.04,0.04,0.04,0.04,0.04,0.04,0.04,0.04,0.04,0.04,0.04,0.04,0.04,0.04,0.03,0.04,0.05,0.04,0.04,0.04,0.03,0.04,0.04,0.04,0.04,0.04,0.04,0.04,0.04,0.04,0.04,0.04,0.04,0.04,0.04,0.04,0.04,0.03,0.03,0.04,0.04,0.04,0.04,0.04,0.04,0.04,0.04,0.04,0.04,0.04,0.04,0.04,0.04,0.03,0.03,0.03,0.04,0.03,0.03,0.03,0.04,0.04,0.04,0.04,0.04,0.04,0.03,0.04,0.03,0.03,0.03,0.03,0.03,0.03,0.03,0.03,0.03,0.03,0.03,0.03,0.03,0.03,0.03,0.03,0.03,0.03,0.03,0.04,0.03,0.03,0.03,0.03,0.03,0.03,0.03,0.03,0.03,0.03,0.03,0.03,0.03,0.03,0.03,0.03,0.04,0.03,0.03,0.03,0.03,0.03,0.03,0.03,0.03,0.03,0.04,0.03,0.03,0.03,0.03,0.03,0.03,0.03,0.03,0.03,0.03,0.03,0.03,0.03,0.03,0.03,0.03,0.03,0.03,0.03,0.03,0.03,0.03,0.03,0.03,0.03,0.03,0.03,0.03,0.03,0.03,0.04,0.03,0.02,0.04,0.04,0.03,0.03,0.03,0.03,0.03,0.03,0.03,0.03,0.03,0.03,0.03,0.03,0.03,0.03,0.03,0.03,0.03,0.03,0.03,0.03,0.03,0.03,0.02,0.03,0.03,0.03,0.02,0.03,0.03,0.03,0.03,0.03,0.03,0.03,0.03,0.03,0.03,0.03,0.03,0.03,0.02,0.03,0.03,0.03,0.03,0.03,0.03,0.03,0.03,0.02,0.03,0.03,0.03,0.03,0.03,0.02,0.03,0.03,0.03,0.03,0.03,0.03,0.02,0.03,0.02,0.03,0.03,0.03,0.03,0.03,0.03,0.03,0.03,0.03,0.03,0.03,0.03,0.02,0.02,0.03,0.02,0.03,0.02,0.03,0.03,0.03,0.03,0.03,0.02,0.03,0.03,0.03,0.03,0.02,0.03,0.03,0.03,0.03,0.03,0.03,0.02,0.02,0.03,0.02,0.03,0.03,0.02,0.03,0.03,0.03,0.02,0.03,0.02,0.02,0.03,0.02,0.03,0.03,0.02,0.02,0.03,0.03,0.03,0.02,0.03,0.03,0.02,0.02,0.03,0.02,0.02,0.03,0.03,0.02,0.02,0.02,0.02,0.02,0.02,0.02,0.02,0.02,0.02,0.02,0.02,0.02,0.02,0.02,0.02,0.02,0.02,0.02,0.02,0.02,0.02,0.03,0.02,0.02,0.02,0.02,0.02,0.02,0.02,0.02,0.02,0.02,0.02,0.02,0.02,0.02,0.02,0.02,0.02,0.02,0.02,0.02,0.02,0.02,0.02,0.02,0.02,0.02,0.02,0.02,0.02,0.02,0.02,0.02,0.02,0.02,0.02,0.02,0.02,0.02,0.02,0.02,0.02,0.02,0.02,0.02,0.02,0.02,0.02,0.02,0.02,0.02,0.02,0.02,0.02,0.02,0.02,0.02,0.02,0.02,0.02,0.02,0.02,0.02,0.02,0.02,0.02,0.02,0.02,0.02,0.02,0.02,0.02,0.02,0.02,0.02,0.02,0.02,0.02,0.02,0.02,0.02,0.02,0.02,0.02,0.02,0.02,0.02,0.02,0.02,0.02,0.02,0.01,0.02,0.02,0.02,0.02,0.02,0.02,0.02,0.02,0.02,0.02,0.02,0.02,0.02,0.02,0.02,0.02,0.02,0.02,0.02,0.02,0.02,0.02,0.02,0.02,0.02,0.02,0.02,0.02,0.02,0.02,0.02,0.02,0.02,0.02,0.02,0.02,0.01,0.02,0.02,0.02,0.02,0.02,0.01,0.02,0.02,0.02,0.02,0.02,0.02,0.02,0.02,0.02,0.02,0.02,0.02,0.02,0.02,0.02,0.02,0.02,0.02,0.02,0.02,0.02,0.02,0.02,0.02,0.01,0.02,0.02,0.02,0.02,0.01,0.02,0.02,0.02,0.02,0.01,0.02,0.02,0.02,0.02,0.02,0.02,0.02,0.02,0.02,0.01,0.02,0.02,0.01,0.02,0.02,0.02,0.02,0.02,0.02,0.02,0.01,0.02,0.02,0.01,0.01,0.02,0.02,0.02,0.02,0.02,0.02,0.02,0.02,0.02,0.02,0.01,0.02,0.02,0.02,0.02,0.02,0.02,0.01,0.01,0.02,0.02,0.01,0.02,0.02,0.02,0.02,0.02,0.01,0.01,0.01,0.01,0.02,0.02,0.01,0.02,0.01,0.02,0.02,0.01,0.01,0.02,0.02,0.01,0.02,0.01,0.02,0.01,0.02,0.01,0.01,0.01,0.01,0.01,0.01,0.01,0.02,0.01,0.01,0.01,0.01,0.01,0.01,0.01,0.01,0.01,0.01,0.01,0.01,0.01,0.01,0.01,0.01,0.01,0.01,0.01,0.01,0.01,0.01,0.01,0.01,0.01,0.01,0.01,0.01,0.01,0.01,0.01,0.01,0.01,0.01,0.01,0.01,0.01,0.01,0.01,0.01,0.01,0.01,0.01,0.01,0.01,0.01,0.01,0.01,0.01,0.01,0.01,0.01,0.01,0.01,0.01,0.01,0.01,0.01,0.01,0.01,0.01,0.01,0.01,0.01,0.01,0.01,0.01,0.01,0.01,0.01,0.01,0.01,0.01,0.01,0.01,0.01,0.01,0.01,0.01,0.01,0.01,0.01,0.01,0.01,0.01,0.01,0.01,0.01,0.01,0.01,0.01,0.01,0.01,0.01,0.01,0.01,0.01,0.01,0.01,0.01,0.01,0.01,0.01,0.01,0.01,0.01,0.01,0.01,0.01,0.01,0.01,0.01,0.01,0.01,0.01,0.01,0.01,0.01,0.01,0.01,0.01,0.01,0.01,0.01,0.01,0.01,0.01,0.01,0.01,0.01,0.01,0.01,0.01,0.01,0.01,0.01,0.01,0.01,0.01,0.01,0.01,0.01,0.01,0.01,0.01,0.01,0.01,0.01,0.01,0.01,0.01,0.01,0.01,0.01,0.01,0.01,0.01,0.01,0.01,0.01,0.01,0.01,0.01,0.01,0.01,0.01,0.01,0.01,0.01,0.01,0.01,0.01,0.01,0.01,0.01,0.01,0.01,0.01,0.01,0.01,0.01,0.01,0.01,0.01,0.01,0.01,0.01,0.01,0.01,0.01,0.01,0.01,0.01,0.01,0.01,0.01,0.01,0.01,0.01,0.01,0.01,0.01,0.01,0.01],\"y0\":\" \",\"yaxis\":\"y\",\"type\":\"box\"}],                        {\"template\":{\"data\":{\"histogram2dcontour\":[{\"type\":\"histogram2dcontour\",\"colorbar\":{\"outlinewidth\":0,\"ticks\":\"\"},\"colorscale\":[[0.0,\"#0d0887\"],[0.1111111111111111,\"#46039f\"],[0.2222222222222222,\"#7201a8\"],[0.3333333333333333,\"#9c179e\"],[0.4444444444444444,\"#bd3786\"],[0.5555555555555556,\"#d8576b\"],[0.6666666666666666,\"#ed7953\"],[0.7777777777777778,\"#fb9f3a\"],[0.8888888888888888,\"#fdca26\"],[1.0,\"#f0f921\"]]}],\"choropleth\":[{\"type\":\"choropleth\",\"colorbar\":{\"outlinewidth\":0,\"ticks\":\"\"}}],\"histogram2d\":[{\"type\":\"histogram2d\",\"colorbar\":{\"outlinewidth\":0,\"ticks\":\"\"},\"colorscale\":[[0.0,\"#0d0887\"],[0.1111111111111111,\"#46039f\"],[0.2222222222222222,\"#7201a8\"],[0.3333333333333333,\"#9c179e\"],[0.4444444444444444,\"#bd3786\"],[0.5555555555555556,\"#d8576b\"],[0.6666666666666666,\"#ed7953\"],[0.7777777777777778,\"#fb9f3a\"],[0.8888888888888888,\"#fdca26\"],[1.0,\"#f0f921\"]]}],\"heatmap\":[{\"type\":\"heatmap\",\"colorbar\":{\"outlinewidth\":0,\"ticks\":\"\"},\"colorscale\":[[0.0,\"#0d0887\"],[0.1111111111111111,\"#46039f\"],[0.2222222222222222,\"#7201a8\"],[0.3333333333333333,\"#9c179e\"],[0.4444444444444444,\"#bd3786\"],[0.5555555555555556,\"#d8576b\"],[0.6666666666666666,\"#ed7953\"],[0.7777777777777778,\"#fb9f3a\"],[0.8888888888888888,\"#fdca26\"],[1.0,\"#f0f921\"]]}],\"heatmapgl\":[{\"type\":\"heatmapgl\",\"colorbar\":{\"outlinewidth\":0,\"ticks\":\"\"},\"colorscale\":[[0.0,\"#0d0887\"],[0.1111111111111111,\"#46039f\"],[0.2222222222222222,\"#7201a8\"],[0.3333333333333333,\"#9c179e\"],[0.4444444444444444,\"#bd3786\"],[0.5555555555555556,\"#d8576b\"],[0.6666666666666666,\"#ed7953\"],[0.7777777777777778,\"#fb9f3a\"],[0.8888888888888888,\"#fdca26\"],[1.0,\"#f0f921\"]]}],\"contourcarpet\":[{\"type\":\"contourcarpet\",\"colorbar\":{\"outlinewidth\":0,\"ticks\":\"\"}}],\"contour\":[{\"type\":\"contour\",\"colorbar\":{\"outlinewidth\":0,\"ticks\":\"\"},\"colorscale\":[[0.0,\"#0d0887\"],[0.1111111111111111,\"#46039f\"],[0.2222222222222222,\"#7201a8\"],[0.3333333333333333,\"#9c179e\"],[0.4444444444444444,\"#bd3786\"],[0.5555555555555556,\"#d8576b\"],[0.6666666666666666,\"#ed7953\"],[0.7777777777777778,\"#fb9f3a\"],[0.8888888888888888,\"#fdca26\"],[1.0,\"#f0f921\"]]}],\"surface\":[{\"type\":\"surface\",\"colorbar\":{\"outlinewidth\":0,\"ticks\":\"\"},\"colorscale\":[[0.0,\"#0d0887\"],[0.1111111111111111,\"#46039f\"],[0.2222222222222222,\"#7201a8\"],[0.3333333333333333,\"#9c179e\"],[0.4444444444444444,\"#bd3786\"],[0.5555555555555556,\"#d8576b\"],[0.6666666666666666,\"#ed7953\"],[0.7777777777777778,\"#fb9f3a\"],[0.8888888888888888,\"#fdca26\"],[1.0,\"#f0f921\"]]}],\"mesh3d\":[{\"type\":\"mesh3d\",\"colorbar\":{\"outlinewidth\":0,\"ticks\":\"\"}}],\"scatter\":[{\"fillpattern\":{\"fillmode\":\"overlay\",\"size\":10,\"solidity\":0.2},\"type\":\"scatter\"}],\"parcoords\":[{\"type\":\"parcoords\",\"line\":{\"colorbar\":{\"outlinewidth\":0,\"ticks\":\"\"}}}],\"scatterpolargl\":[{\"type\":\"scatterpolargl\",\"marker\":{\"colorbar\":{\"outlinewidth\":0,\"ticks\":\"\"}}}],\"bar\":[{\"error_x\":{\"color\":\"#2a3f5f\"},\"error_y\":{\"color\":\"#2a3f5f\"},\"marker\":{\"line\":{\"color\":\"#E5ECF6\",\"width\":0.5},\"pattern\":{\"fillmode\":\"overlay\",\"size\":10,\"solidity\":0.2}},\"type\":\"bar\"}],\"scattergeo\":[{\"type\":\"scattergeo\",\"marker\":{\"colorbar\":{\"outlinewidth\":0,\"ticks\":\"\"}}}],\"scatterpolar\":[{\"type\":\"scatterpolar\",\"marker\":{\"colorbar\":{\"outlinewidth\":0,\"ticks\":\"\"}}}],\"histogram\":[{\"marker\":{\"pattern\":{\"fillmode\":\"overlay\",\"size\":10,\"solidity\":0.2}},\"type\":\"histogram\"}],\"scattergl\":[{\"type\":\"scattergl\",\"marker\":{\"colorbar\":{\"outlinewidth\":0,\"ticks\":\"\"}}}],\"scatter3d\":[{\"type\":\"scatter3d\",\"line\":{\"colorbar\":{\"outlinewidth\":0,\"ticks\":\"\"}},\"marker\":{\"colorbar\":{\"outlinewidth\":0,\"ticks\":\"\"}}}],\"scattermapbox\":[{\"type\":\"scattermapbox\",\"marker\":{\"colorbar\":{\"outlinewidth\":0,\"ticks\":\"\"}}}],\"scatterternary\":[{\"type\":\"scatterternary\",\"marker\":{\"colorbar\":{\"outlinewidth\":0,\"ticks\":\"\"}}}],\"scattercarpet\":[{\"type\":\"scattercarpet\",\"marker\":{\"colorbar\":{\"outlinewidth\":0,\"ticks\":\"\"}}}],\"carpet\":[{\"aaxis\":{\"endlinecolor\":\"#2a3f5f\",\"gridcolor\":\"white\",\"linecolor\":\"white\",\"minorgridcolor\":\"white\",\"startlinecolor\":\"#2a3f5f\"},\"baxis\":{\"endlinecolor\":\"#2a3f5f\",\"gridcolor\":\"white\",\"linecolor\":\"white\",\"minorgridcolor\":\"white\",\"startlinecolor\":\"#2a3f5f\"},\"type\":\"carpet\"}],\"table\":[{\"cells\":{\"fill\":{\"color\":\"#EBF0F8\"},\"line\":{\"color\":\"white\"}},\"header\":{\"fill\":{\"color\":\"#C8D4E3\"},\"line\":{\"color\":\"white\"}},\"type\":\"table\"}],\"barpolar\":[{\"marker\":{\"line\":{\"color\":\"#E5ECF6\",\"width\":0.5},\"pattern\":{\"fillmode\":\"overlay\",\"size\":10,\"solidity\":0.2}},\"type\":\"barpolar\"}],\"pie\":[{\"automargin\":true,\"type\":\"pie\"}]},\"layout\":{\"autotypenumbers\":\"strict\",\"colorway\":[\"#636efa\",\"#EF553B\",\"#00cc96\",\"#ab63fa\",\"#FFA15A\",\"#19d3f3\",\"#FF6692\",\"#B6E880\",\"#FF97FF\",\"#FECB52\"],\"font\":{\"color\":\"#2a3f5f\"},\"hovermode\":\"closest\",\"hoverlabel\":{\"align\":\"left\"},\"paper_bgcolor\":\"white\",\"plot_bgcolor\":\"#E5ECF6\",\"polar\":{\"bgcolor\":\"#E5ECF6\",\"angularaxis\":{\"gridcolor\":\"white\",\"linecolor\":\"white\",\"ticks\":\"\"},\"radialaxis\":{\"gridcolor\":\"white\",\"linecolor\":\"white\",\"ticks\":\"\"}},\"ternary\":{\"bgcolor\":\"#E5ECF6\",\"aaxis\":{\"gridcolor\":\"white\",\"linecolor\":\"white\",\"ticks\":\"\"},\"baxis\":{\"gridcolor\":\"white\",\"linecolor\":\"white\",\"ticks\":\"\"},\"caxis\":{\"gridcolor\":\"white\",\"linecolor\":\"white\",\"ticks\":\"\"}},\"coloraxis\":{\"colorbar\":{\"outlinewidth\":0,\"ticks\":\"\"}},\"colorscale\":{\"sequential\":[[0.0,\"#0d0887\"],[0.1111111111111111,\"#46039f\"],[0.2222222222222222,\"#7201a8\"],[0.3333333333333333,\"#9c179e\"],[0.4444444444444444,\"#bd3786\"],[0.5555555555555556,\"#d8576b\"],[0.6666666666666666,\"#ed7953\"],[0.7777777777777778,\"#fb9f3a\"],[0.8888888888888888,\"#fdca26\"],[1.0,\"#f0f921\"]],\"sequentialminus\":[[0.0,\"#0d0887\"],[0.1111111111111111,\"#46039f\"],[0.2222222222222222,\"#7201a8\"],[0.3333333333333333,\"#9c179e\"],[0.4444444444444444,\"#bd3786\"],[0.5555555555555556,\"#d8576b\"],[0.6666666666666666,\"#ed7953\"],[0.7777777777777778,\"#fb9f3a\"],[0.8888888888888888,\"#fdca26\"],[1.0,\"#f0f921\"]],\"diverging\":[[0,\"#8e0152\"],[0.1,\"#c51b7d\"],[0.2,\"#de77ae\"],[0.3,\"#f1b6da\"],[0.4,\"#fde0ef\"],[0.5,\"#f7f7f7\"],[0.6,\"#e6f5d0\"],[0.7,\"#b8e186\"],[0.8,\"#7fbc41\"],[0.9,\"#4d9221\"],[1,\"#276419\"]]},\"xaxis\":{\"gridcolor\":\"white\",\"linecolor\":\"white\",\"ticks\":\"\",\"title\":{\"standoff\":15},\"zerolinecolor\":\"white\",\"automargin\":true,\"zerolinewidth\":2},\"yaxis\":{\"gridcolor\":\"white\",\"linecolor\":\"white\",\"ticks\":\"\",\"title\":{\"standoff\":15},\"zerolinecolor\":\"white\",\"automargin\":true,\"zerolinewidth\":2},\"scene\":{\"xaxis\":{\"backgroundcolor\":\"#E5ECF6\",\"gridcolor\":\"white\",\"linecolor\":\"white\",\"showbackground\":true,\"ticks\":\"\",\"zerolinecolor\":\"white\",\"gridwidth\":2},\"yaxis\":{\"backgroundcolor\":\"#E5ECF6\",\"gridcolor\":\"white\",\"linecolor\":\"white\",\"showbackground\":true,\"ticks\":\"\",\"zerolinecolor\":\"white\",\"gridwidth\":2},\"zaxis\":{\"backgroundcolor\":\"#E5ECF6\",\"gridcolor\":\"white\",\"linecolor\":\"white\",\"showbackground\":true,\"ticks\":\"\",\"zerolinecolor\":\"white\",\"gridwidth\":2}},\"shapedefaults\":{\"line\":{\"color\":\"#2a3f5f\"}},\"annotationdefaults\":{\"arrowcolor\":\"#2a3f5f\",\"arrowhead\":0,\"arrowwidth\":1},\"geo\":{\"bgcolor\":\"white\",\"landcolor\":\"#E5ECF6\",\"subunitcolor\":\"white\",\"showland\":true,\"showlakes\":true,\"lakecolor\":\"white\"},\"title\":{\"x\":0.05},\"mapbox\":{\"style\":\"light\"}}},\"xaxis\":{\"anchor\":\"y\",\"domain\":[0.0,1.0],\"title\":{\"text\":\"Platform\"}},\"yaxis\":{\"anchor\":\"x\",\"domain\":[0.0,1.0],\"title\":{\"text\":\"Total Sales\"}},\"legend\":{\"tracegroupgap\":0},\"title\":{\"text\":\"Sales Distribution per Platform\"},\"boxmode\":\"group\"},                        {\"responsive\": true}                    ).then(function(){\n",
       "                            \n",
       "var gd = document.getElementById('bf3318a9-a454-4d59-8b65-b2e4244b2c3f');\n",
       "var x = new MutationObserver(function (mutations, observer) {{\n",
       "        var display = window.getComputedStyle(gd).display;\n",
       "        if (!display || display === 'none') {{\n",
       "            console.log([gd, 'removed!']);\n",
       "            Plotly.purge(gd);\n",
       "            observer.disconnect();\n",
       "        }}\n",
       "}});\n",
       "\n",
       "// Listen for the removal of the full notebook cells\n",
       "var notebookContainer = gd.closest('#notebook-container');\n",
       "if (notebookContainer) {{\n",
       "    x.observe(notebookContainer, {childList: true});\n",
       "}}\n",
       "\n",
       "// Listen for the clearing of the current output cell\n",
       "var outputEl = gd.closest('.output');\n",
       "if (outputEl) {{\n",
       "    x.observe(outputEl, {childList: true});\n",
       "}}\n",
       "\n",
       "                        })                };                });            </script>        </div>"
      ]
     },
     "metadata": {},
     "output_type": "display_data"
    }
   ],
   "source": [
    "# Visualização da distribuição de vendas por plataforma no últimos anos\n",
    "\n",
    "fig = px.box(sales_last_5_years,\n",
    "             x='platform',\n",
    "             y='total_sales',\n",
    "             title='Sales Distribution per Platform',\n",
    "             labels={\n",
    "                 'platform': 'Platform',\n",
    "                 'total_sales': 'Total Sales'\n",
    "             })\n",
    "\n",
    "fig.show()"
   ]
  },
  {
   "cell_type": "code",
   "execution_count": 75,
   "metadata": {},
   "outputs": [
    {
     "data": {
      "text/html": [
       "<div>                            <div id=\"fc735769-1c34-4c4b-8808-f9649188a6d1\" class=\"plotly-graph-div\" style=\"height:525px; width:100%;\"></div>            <script type=\"text/javascript\">                require([\"plotly\"], function(Plotly) {                    window.PLOTLYENV=window.PLOTLYENV || {};                                    if (document.getElementById(\"fc735769-1c34-4c4b-8808-f9649188a6d1\")) {                    Plotly.newPlot(                        \"fc735769-1c34-4c4b-8808-f9649188a6d1\",                        [{\"alignmentgroup\":\"True\",\"hovertemplate\":\"Platform=%{x}\\u003cbr\\u003eTotal Sales=%{y}\\u003cextra\\u003e\\u003c\\u002fextra\\u003e\",\"legendgroup\":\"\",\"marker\":{\"color\":\"#636efa\",\"pattern\":{\"shape\":\"\"}},\"name\":\"\",\"offsetgroup\":\"\",\"orientation\":\"v\",\"showlegend\":false,\"textposition\":\"auto\",\"x\":[\"3DS\",\"DS\",\"PC\",\"PS3\",\"PS4\",\"PSP\",\"PSV\",\"Wii\",\"WiiU\",\"X360\",\"XOne\"],\"xaxis\":\"x\",\"y\":[0.49143939393939395,0.40483870967741936,0.2506,0.5857809330628804,0.8013775510204081,0.06468208092485549,0.11965936739659368,0.6549999999999999,0.5591156462585034,0.8100684931506849,0.6450202429149797],\"yaxis\":\"y\",\"type\":\"bar\"}],                        {\"template\":{\"data\":{\"histogram2dcontour\":[{\"type\":\"histogram2dcontour\",\"colorbar\":{\"outlinewidth\":0,\"ticks\":\"\"},\"colorscale\":[[0.0,\"#0d0887\"],[0.1111111111111111,\"#46039f\"],[0.2222222222222222,\"#7201a8\"],[0.3333333333333333,\"#9c179e\"],[0.4444444444444444,\"#bd3786\"],[0.5555555555555556,\"#d8576b\"],[0.6666666666666666,\"#ed7953\"],[0.7777777777777778,\"#fb9f3a\"],[0.8888888888888888,\"#fdca26\"],[1.0,\"#f0f921\"]]}],\"choropleth\":[{\"type\":\"choropleth\",\"colorbar\":{\"outlinewidth\":0,\"ticks\":\"\"}}],\"histogram2d\":[{\"type\":\"histogram2d\",\"colorbar\":{\"outlinewidth\":0,\"ticks\":\"\"},\"colorscale\":[[0.0,\"#0d0887\"],[0.1111111111111111,\"#46039f\"],[0.2222222222222222,\"#7201a8\"],[0.3333333333333333,\"#9c179e\"],[0.4444444444444444,\"#bd3786\"],[0.5555555555555556,\"#d8576b\"],[0.6666666666666666,\"#ed7953\"],[0.7777777777777778,\"#fb9f3a\"],[0.8888888888888888,\"#fdca26\"],[1.0,\"#f0f921\"]]}],\"heatmap\":[{\"type\":\"heatmap\",\"colorbar\":{\"outlinewidth\":0,\"ticks\":\"\"},\"colorscale\":[[0.0,\"#0d0887\"],[0.1111111111111111,\"#46039f\"],[0.2222222222222222,\"#7201a8\"],[0.3333333333333333,\"#9c179e\"],[0.4444444444444444,\"#bd3786\"],[0.5555555555555556,\"#d8576b\"],[0.6666666666666666,\"#ed7953\"],[0.7777777777777778,\"#fb9f3a\"],[0.8888888888888888,\"#fdca26\"],[1.0,\"#f0f921\"]]}],\"heatmapgl\":[{\"type\":\"heatmapgl\",\"colorbar\":{\"outlinewidth\":0,\"ticks\":\"\"},\"colorscale\":[[0.0,\"#0d0887\"],[0.1111111111111111,\"#46039f\"],[0.2222222222222222,\"#7201a8\"],[0.3333333333333333,\"#9c179e\"],[0.4444444444444444,\"#bd3786\"],[0.5555555555555556,\"#d8576b\"],[0.6666666666666666,\"#ed7953\"],[0.7777777777777778,\"#fb9f3a\"],[0.8888888888888888,\"#fdca26\"],[1.0,\"#f0f921\"]]}],\"contourcarpet\":[{\"type\":\"contourcarpet\",\"colorbar\":{\"outlinewidth\":0,\"ticks\":\"\"}}],\"contour\":[{\"type\":\"contour\",\"colorbar\":{\"outlinewidth\":0,\"ticks\":\"\"},\"colorscale\":[[0.0,\"#0d0887\"],[0.1111111111111111,\"#46039f\"],[0.2222222222222222,\"#7201a8\"],[0.3333333333333333,\"#9c179e\"],[0.4444444444444444,\"#bd3786\"],[0.5555555555555556,\"#d8576b\"],[0.6666666666666666,\"#ed7953\"],[0.7777777777777778,\"#fb9f3a\"],[0.8888888888888888,\"#fdca26\"],[1.0,\"#f0f921\"]]}],\"surface\":[{\"type\":\"surface\",\"colorbar\":{\"outlinewidth\":0,\"ticks\":\"\"},\"colorscale\":[[0.0,\"#0d0887\"],[0.1111111111111111,\"#46039f\"],[0.2222222222222222,\"#7201a8\"],[0.3333333333333333,\"#9c179e\"],[0.4444444444444444,\"#bd3786\"],[0.5555555555555556,\"#d8576b\"],[0.6666666666666666,\"#ed7953\"],[0.7777777777777778,\"#fb9f3a\"],[0.8888888888888888,\"#fdca26\"],[1.0,\"#f0f921\"]]}],\"mesh3d\":[{\"type\":\"mesh3d\",\"colorbar\":{\"outlinewidth\":0,\"ticks\":\"\"}}],\"scatter\":[{\"fillpattern\":{\"fillmode\":\"overlay\",\"size\":10,\"solidity\":0.2},\"type\":\"scatter\"}],\"parcoords\":[{\"type\":\"parcoords\",\"line\":{\"colorbar\":{\"outlinewidth\":0,\"ticks\":\"\"}}}],\"scatterpolargl\":[{\"type\":\"scatterpolargl\",\"marker\":{\"colorbar\":{\"outlinewidth\":0,\"ticks\":\"\"}}}],\"bar\":[{\"error_x\":{\"color\":\"#2a3f5f\"},\"error_y\":{\"color\":\"#2a3f5f\"},\"marker\":{\"line\":{\"color\":\"#E5ECF6\",\"width\":0.5},\"pattern\":{\"fillmode\":\"overlay\",\"size\":10,\"solidity\":0.2}},\"type\":\"bar\"}],\"scattergeo\":[{\"type\":\"scattergeo\",\"marker\":{\"colorbar\":{\"outlinewidth\":0,\"ticks\":\"\"}}}],\"scatterpolar\":[{\"type\":\"scatterpolar\",\"marker\":{\"colorbar\":{\"outlinewidth\":0,\"ticks\":\"\"}}}],\"histogram\":[{\"marker\":{\"pattern\":{\"fillmode\":\"overlay\",\"size\":10,\"solidity\":0.2}},\"type\":\"histogram\"}],\"scattergl\":[{\"type\":\"scattergl\",\"marker\":{\"colorbar\":{\"outlinewidth\":0,\"ticks\":\"\"}}}],\"scatter3d\":[{\"type\":\"scatter3d\",\"line\":{\"colorbar\":{\"outlinewidth\":0,\"ticks\":\"\"}},\"marker\":{\"colorbar\":{\"outlinewidth\":0,\"ticks\":\"\"}}}],\"scattermapbox\":[{\"type\":\"scattermapbox\",\"marker\":{\"colorbar\":{\"outlinewidth\":0,\"ticks\":\"\"}}}],\"scatterternary\":[{\"type\":\"scatterternary\",\"marker\":{\"colorbar\":{\"outlinewidth\":0,\"ticks\":\"\"}}}],\"scattercarpet\":[{\"type\":\"scattercarpet\",\"marker\":{\"colorbar\":{\"outlinewidth\":0,\"ticks\":\"\"}}}],\"carpet\":[{\"aaxis\":{\"endlinecolor\":\"#2a3f5f\",\"gridcolor\":\"white\",\"linecolor\":\"white\",\"minorgridcolor\":\"white\",\"startlinecolor\":\"#2a3f5f\"},\"baxis\":{\"endlinecolor\":\"#2a3f5f\",\"gridcolor\":\"white\",\"linecolor\":\"white\",\"minorgridcolor\":\"white\",\"startlinecolor\":\"#2a3f5f\"},\"type\":\"carpet\"}],\"table\":[{\"cells\":{\"fill\":{\"color\":\"#EBF0F8\"},\"line\":{\"color\":\"white\"}},\"header\":{\"fill\":{\"color\":\"#C8D4E3\"},\"line\":{\"color\":\"white\"}},\"type\":\"table\"}],\"barpolar\":[{\"marker\":{\"line\":{\"color\":\"#E5ECF6\",\"width\":0.5},\"pattern\":{\"fillmode\":\"overlay\",\"size\":10,\"solidity\":0.2}},\"type\":\"barpolar\"}],\"pie\":[{\"automargin\":true,\"type\":\"pie\"}]},\"layout\":{\"autotypenumbers\":\"strict\",\"colorway\":[\"#636efa\",\"#EF553B\",\"#00cc96\",\"#ab63fa\",\"#FFA15A\",\"#19d3f3\",\"#FF6692\",\"#B6E880\",\"#FF97FF\",\"#FECB52\"],\"font\":{\"color\":\"#2a3f5f\"},\"hovermode\":\"closest\",\"hoverlabel\":{\"align\":\"left\"},\"paper_bgcolor\":\"white\",\"plot_bgcolor\":\"#E5ECF6\",\"polar\":{\"bgcolor\":\"#E5ECF6\",\"angularaxis\":{\"gridcolor\":\"white\",\"linecolor\":\"white\",\"ticks\":\"\"},\"radialaxis\":{\"gridcolor\":\"white\",\"linecolor\":\"white\",\"ticks\":\"\"}},\"ternary\":{\"bgcolor\":\"#E5ECF6\",\"aaxis\":{\"gridcolor\":\"white\",\"linecolor\":\"white\",\"ticks\":\"\"},\"baxis\":{\"gridcolor\":\"white\",\"linecolor\":\"white\",\"ticks\":\"\"},\"caxis\":{\"gridcolor\":\"white\",\"linecolor\":\"white\",\"ticks\":\"\"}},\"coloraxis\":{\"colorbar\":{\"outlinewidth\":0,\"ticks\":\"\"}},\"colorscale\":{\"sequential\":[[0.0,\"#0d0887\"],[0.1111111111111111,\"#46039f\"],[0.2222222222222222,\"#7201a8\"],[0.3333333333333333,\"#9c179e\"],[0.4444444444444444,\"#bd3786\"],[0.5555555555555556,\"#d8576b\"],[0.6666666666666666,\"#ed7953\"],[0.7777777777777778,\"#fb9f3a\"],[0.8888888888888888,\"#fdca26\"],[1.0,\"#f0f921\"]],\"sequentialminus\":[[0.0,\"#0d0887\"],[0.1111111111111111,\"#46039f\"],[0.2222222222222222,\"#7201a8\"],[0.3333333333333333,\"#9c179e\"],[0.4444444444444444,\"#bd3786\"],[0.5555555555555556,\"#d8576b\"],[0.6666666666666666,\"#ed7953\"],[0.7777777777777778,\"#fb9f3a\"],[0.8888888888888888,\"#fdca26\"],[1.0,\"#f0f921\"]],\"diverging\":[[0,\"#8e0152\"],[0.1,\"#c51b7d\"],[0.2,\"#de77ae\"],[0.3,\"#f1b6da\"],[0.4,\"#fde0ef\"],[0.5,\"#f7f7f7\"],[0.6,\"#e6f5d0\"],[0.7,\"#b8e186\"],[0.8,\"#7fbc41\"],[0.9,\"#4d9221\"],[1,\"#276419\"]]},\"xaxis\":{\"gridcolor\":\"white\",\"linecolor\":\"white\",\"ticks\":\"\",\"title\":{\"standoff\":15},\"zerolinecolor\":\"white\",\"automargin\":true,\"zerolinewidth\":2},\"yaxis\":{\"gridcolor\":\"white\",\"linecolor\":\"white\",\"ticks\":\"\",\"title\":{\"standoff\":15},\"zerolinecolor\":\"white\",\"automargin\":true,\"zerolinewidth\":2},\"scene\":{\"xaxis\":{\"backgroundcolor\":\"#E5ECF6\",\"gridcolor\":\"white\",\"linecolor\":\"white\",\"showbackground\":true,\"ticks\":\"\",\"zerolinecolor\":\"white\",\"gridwidth\":2},\"yaxis\":{\"backgroundcolor\":\"#E5ECF6\",\"gridcolor\":\"white\",\"linecolor\":\"white\",\"showbackground\":true,\"ticks\":\"\",\"zerolinecolor\":\"white\",\"gridwidth\":2},\"zaxis\":{\"backgroundcolor\":\"#E5ECF6\",\"gridcolor\":\"white\",\"linecolor\":\"white\",\"showbackground\":true,\"ticks\":\"\",\"zerolinecolor\":\"white\",\"gridwidth\":2}},\"shapedefaults\":{\"line\":{\"color\":\"#2a3f5f\"}},\"annotationdefaults\":{\"arrowcolor\":\"#2a3f5f\",\"arrowhead\":0,\"arrowwidth\":1},\"geo\":{\"bgcolor\":\"white\",\"landcolor\":\"#E5ECF6\",\"subunitcolor\":\"white\",\"showland\":true,\"showlakes\":true,\"lakecolor\":\"white\"},\"title\":{\"x\":0.05},\"mapbox\":{\"style\":\"light\"}}},\"xaxis\":{\"anchor\":\"y\",\"domain\":[0.0,1.0],\"title\":{\"text\":\"Platform\"}},\"yaxis\":{\"anchor\":\"x\",\"domain\":[0.0,1.0],\"title\":{\"text\":\"Total Sales\"}},\"legend\":{\"tracegroupgap\":0},\"title\":{\"text\":\"Mean Sales per Platform\"},\"barmode\":\"relative\"},                        {\"responsive\": true}                    ).then(function(){\n",
       "                            \n",
       "var gd = document.getElementById('fc735769-1c34-4c4b-8808-f9649188a6d1');\n",
       "var x = new MutationObserver(function (mutations, observer) {{\n",
       "        var display = window.getComputedStyle(gd).display;\n",
       "        if (!display || display === 'none') {{\n",
       "            console.log([gd, 'removed!']);\n",
       "            Plotly.purge(gd);\n",
       "            observer.disconnect();\n",
       "        }}\n",
       "}});\n",
       "\n",
       "// Listen for the removal of the full notebook cells\n",
       "var notebookContainer = gd.closest('#notebook-container');\n",
       "if (notebookContainer) {{\n",
       "    x.observe(notebookContainer, {childList: true});\n",
       "}}\n",
       "\n",
       "// Listen for the clearing of the current output cell\n",
       "var outputEl = gd.closest('.output');\n",
       "if (outputEl) {{\n",
       "    x.observe(outputEl, {childList: true});\n",
       "}}\n",
       "\n",
       "                        })                };                });            </script>        </div>"
      ]
     },
     "metadata": {},
     "output_type": "display_data"
    }
   ],
   "source": [
    "# Visualização das médias de vendas\n",
    "\n",
    "mean_sales = sales_last_5_years.groupby(\n",
    "    'platform')['total_sales'].mean().reset_index()\n",
    "fig = px.bar(mean_sales,\n",
    "             x='platform',\n",
    "             y='total_sales',\n",
    "             title='Mean Sales per Platform',\n",
    "             labels={\n",
    "                 'platform': 'Platform',\n",
    "                 'total_sales': 'Total Sales'\n",
    "             })\n",
    "\n",
    "fig.show()"
   ]
  },
  {
   "cell_type": "code",
   "execution_count": 76,
   "metadata": {},
   "outputs": [
    {
     "data": {
      "text/html": [
       "<div>                            <div id=\"7188f1fc-4170-4430-80ac-69fe6d8f528c\" class=\"plotly-graph-div\" style=\"height:525px; width:100%;\"></div>            <script type=\"text/javascript\">                require([\"plotly\"], function(Plotly) {                    window.PLOTLYENV=window.PLOTLYENV || {};                                    if (document.getElementById(\"7188f1fc-4170-4430-80ac-69fe6d8f528c\")) {                    Plotly.newPlot(                        \"7188f1fc-4170-4430-80ac-69fe6d8f528c\",                        [{\"alignmentgroup\":\"True\",\"hovertemplate\":\"Platform=%{x}\\u003cbr\\u003eTotal Sales=%{y}\\u003cextra\\u003e\\u003c\\u002fextra\\u003e\",\"legendgroup\":\"\",\"marker\":{\"color\":\"#636efa\",\"pattern\":{\"shape\":\"\"}},\"name\":\"\",\"offsetgroup\":\"\",\"orientation\":\"v\",\"showlegend\":false,\"textposition\":\"auto\",\"x\":[\"3DS\",\"DS\",\"PC\",\"PS3\",\"PS4\",\"PSP\",\"PSV\",\"Wii\",\"WiiU\",\"X360\",\"XOne\"],\"xaxis\":\"x\",\"y\":[0.11,0.05,0.08,0.19999999999999998,0.2,0.03,0.05,0.18,0.22,0.31000000000000005,0.22],\"yaxis\":\"y\",\"type\":\"bar\"}],                        {\"template\":{\"data\":{\"histogram2dcontour\":[{\"type\":\"histogram2dcontour\",\"colorbar\":{\"outlinewidth\":0,\"ticks\":\"\"},\"colorscale\":[[0.0,\"#0d0887\"],[0.1111111111111111,\"#46039f\"],[0.2222222222222222,\"#7201a8\"],[0.3333333333333333,\"#9c179e\"],[0.4444444444444444,\"#bd3786\"],[0.5555555555555556,\"#d8576b\"],[0.6666666666666666,\"#ed7953\"],[0.7777777777777778,\"#fb9f3a\"],[0.8888888888888888,\"#fdca26\"],[1.0,\"#f0f921\"]]}],\"choropleth\":[{\"type\":\"choropleth\",\"colorbar\":{\"outlinewidth\":0,\"ticks\":\"\"}}],\"histogram2d\":[{\"type\":\"histogram2d\",\"colorbar\":{\"outlinewidth\":0,\"ticks\":\"\"},\"colorscale\":[[0.0,\"#0d0887\"],[0.1111111111111111,\"#46039f\"],[0.2222222222222222,\"#7201a8\"],[0.3333333333333333,\"#9c179e\"],[0.4444444444444444,\"#bd3786\"],[0.5555555555555556,\"#d8576b\"],[0.6666666666666666,\"#ed7953\"],[0.7777777777777778,\"#fb9f3a\"],[0.8888888888888888,\"#fdca26\"],[1.0,\"#f0f921\"]]}],\"heatmap\":[{\"type\":\"heatmap\",\"colorbar\":{\"outlinewidth\":0,\"ticks\":\"\"},\"colorscale\":[[0.0,\"#0d0887\"],[0.1111111111111111,\"#46039f\"],[0.2222222222222222,\"#7201a8\"],[0.3333333333333333,\"#9c179e\"],[0.4444444444444444,\"#bd3786\"],[0.5555555555555556,\"#d8576b\"],[0.6666666666666666,\"#ed7953\"],[0.7777777777777778,\"#fb9f3a\"],[0.8888888888888888,\"#fdca26\"],[1.0,\"#f0f921\"]]}],\"heatmapgl\":[{\"type\":\"heatmapgl\",\"colorbar\":{\"outlinewidth\":0,\"ticks\":\"\"},\"colorscale\":[[0.0,\"#0d0887\"],[0.1111111111111111,\"#46039f\"],[0.2222222222222222,\"#7201a8\"],[0.3333333333333333,\"#9c179e\"],[0.4444444444444444,\"#bd3786\"],[0.5555555555555556,\"#d8576b\"],[0.6666666666666666,\"#ed7953\"],[0.7777777777777778,\"#fb9f3a\"],[0.8888888888888888,\"#fdca26\"],[1.0,\"#f0f921\"]]}],\"contourcarpet\":[{\"type\":\"contourcarpet\",\"colorbar\":{\"outlinewidth\":0,\"ticks\":\"\"}}],\"contour\":[{\"type\":\"contour\",\"colorbar\":{\"outlinewidth\":0,\"ticks\":\"\"},\"colorscale\":[[0.0,\"#0d0887\"],[0.1111111111111111,\"#46039f\"],[0.2222222222222222,\"#7201a8\"],[0.3333333333333333,\"#9c179e\"],[0.4444444444444444,\"#bd3786\"],[0.5555555555555556,\"#d8576b\"],[0.6666666666666666,\"#ed7953\"],[0.7777777777777778,\"#fb9f3a\"],[0.8888888888888888,\"#fdca26\"],[1.0,\"#f0f921\"]]}],\"surface\":[{\"type\":\"surface\",\"colorbar\":{\"outlinewidth\":0,\"ticks\":\"\"},\"colorscale\":[[0.0,\"#0d0887\"],[0.1111111111111111,\"#46039f\"],[0.2222222222222222,\"#7201a8\"],[0.3333333333333333,\"#9c179e\"],[0.4444444444444444,\"#bd3786\"],[0.5555555555555556,\"#d8576b\"],[0.6666666666666666,\"#ed7953\"],[0.7777777777777778,\"#fb9f3a\"],[0.8888888888888888,\"#fdca26\"],[1.0,\"#f0f921\"]]}],\"mesh3d\":[{\"type\":\"mesh3d\",\"colorbar\":{\"outlinewidth\":0,\"ticks\":\"\"}}],\"scatter\":[{\"fillpattern\":{\"fillmode\":\"overlay\",\"size\":10,\"solidity\":0.2},\"type\":\"scatter\"}],\"parcoords\":[{\"type\":\"parcoords\",\"line\":{\"colorbar\":{\"outlinewidth\":0,\"ticks\":\"\"}}}],\"scatterpolargl\":[{\"type\":\"scatterpolargl\",\"marker\":{\"colorbar\":{\"outlinewidth\":0,\"ticks\":\"\"}}}],\"bar\":[{\"error_x\":{\"color\":\"#2a3f5f\"},\"error_y\":{\"color\":\"#2a3f5f\"},\"marker\":{\"line\":{\"color\":\"#E5ECF6\",\"width\":0.5},\"pattern\":{\"fillmode\":\"overlay\",\"size\":10,\"solidity\":0.2}},\"type\":\"bar\"}],\"scattergeo\":[{\"type\":\"scattergeo\",\"marker\":{\"colorbar\":{\"outlinewidth\":0,\"ticks\":\"\"}}}],\"scatterpolar\":[{\"type\":\"scatterpolar\",\"marker\":{\"colorbar\":{\"outlinewidth\":0,\"ticks\":\"\"}}}],\"histogram\":[{\"marker\":{\"pattern\":{\"fillmode\":\"overlay\",\"size\":10,\"solidity\":0.2}},\"type\":\"histogram\"}],\"scattergl\":[{\"type\":\"scattergl\",\"marker\":{\"colorbar\":{\"outlinewidth\":0,\"ticks\":\"\"}}}],\"scatter3d\":[{\"type\":\"scatter3d\",\"line\":{\"colorbar\":{\"outlinewidth\":0,\"ticks\":\"\"}},\"marker\":{\"colorbar\":{\"outlinewidth\":0,\"ticks\":\"\"}}}],\"scattermapbox\":[{\"type\":\"scattermapbox\",\"marker\":{\"colorbar\":{\"outlinewidth\":0,\"ticks\":\"\"}}}],\"scatterternary\":[{\"type\":\"scatterternary\",\"marker\":{\"colorbar\":{\"outlinewidth\":0,\"ticks\":\"\"}}}],\"scattercarpet\":[{\"type\":\"scattercarpet\",\"marker\":{\"colorbar\":{\"outlinewidth\":0,\"ticks\":\"\"}}}],\"carpet\":[{\"aaxis\":{\"endlinecolor\":\"#2a3f5f\",\"gridcolor\":\"white\",\"linecolor\":\"white\",\"minorgridcolor\":\"white\",\"startlinecolor\":\"#2a3f5f\"},\"baxis\":{\"endlinecolor\":\"#2a3f5f\",\"gridcolor\":\"white\",\"linecolor\":\"white\",\"minorgridcolor\":\"white\",\"startlinecolor\":\"#2a3f5f\"},\"type\":\"carpet\"}],\"table\":[{\"cells\":{\"fill\":{\"color\":\"#EBF0F8\"},\"line\":{\"color\":\"white\"}},\"header\":{\"fill\":{\"color\":\"#C8D4E3\"},\"line\":{\"color\":\"white\"}},\"type\":\"table\"}],\"barpolar\":[{\"marker\":{\"line\":{\"color\":\"#E5ECF6\",\"width\":0.5},\"pattern\":{\"fillmode\":\"overlay\",\"size\":10,\"solidity\":0.2}},\"type\":\"barpolar\"}],\"pie\":[{\"automargin\":true,\"type\":\"pie\"}]},\"layout\":{\"autotypenumbers\":\"strict\",\"colorway\":[\"#636efa\",\"#EF553B\",\"#00cc96\",\"#ab63fa\",\"#FFA15A\",\"#19d3f3\",\"#FF6692\",\"#B6E880\",\"#FF97FF\",\"#FECB52\"],\"font\":{\"color\":\"#2a3f5f\"},\"hovermode\":\"closest\",\"hoverlabel\":{\"align\":\"left\"},\"paper_bgcolor\":\"white\",\"plot_bgcolor\":\"#E5ECF6\",\"polar\":{\"bgcolor\":\"#E5ECF6\",\"angularaxis\":{\"gridcolor\":\"white\",\"linecolor\":\"white\",\"ticks\":\"\"},\"radialaxis\":{\"gridcolor\":\"white\",\"linecolor\":\"white\",\"ticks\":\"\"}},\"ternary\":{\"bgcolor\":\"#E5ECF6\",\"aaxis\":{\"gridcolor\":\"white\",\"linecolor\":\"white\",\"ticks\":\"\"},\"baxis\":{\"gridcolor\":\"white\",\"linecolor\":\"white\",\"ticks\":\"\"},\"caxis\":{\"gridcolor\":\"white\",\"linecolor\":\"white\",\"ticks\":\"\"}},\"coloraxis\":{\"colorbar\":{\"outlinewidth\":0,\"ticks\":\"\"}},\"colorscale\":{\"sequential\":[[0.0,\"#0d0887\"],[0.1111111111111111,\"#46039f\"],[0.2222222222222222,\"#7201a8\"],[0.3333333333333333,\"#9c179e\"],[0.4444444444444444,\"#bd3786\"],[0.5555555555555556,\"#d8576b\"],[0.6666666666666666,\"#ed7953\"],[0.7777777777777778,\"#fb9f3a\"],[0.8888888888888888,\"#fdca26\"],[1.0,\"#f0f921\"]],\"sequentialminus\":[[0.0,\"#0d0887\"],[0.1111111111111111,\"#46039f\"],[0.2222222222222222,\"#7201a8\"],[0.3333333333333333,\"#9c179e\"],[0.4444444444444444,\"#bd3786\"],[0.5555555555555556,\"#d8576b\"],[0.6666666666666666,\"#ed7953\"],[0.7777777777777778,\"#fb9f3a\"],[0.8888888888888888,\"#fdca26\"],[1.0,\"#f0f921\"]],\"diverging\":[[0,\"#8e0152\"],[0.1,\"#c51b7d\"],[0.2,\"#de77ae\"],[0.3,\"#f1b6da\"],[0.4,\"#fde0ef\"],[0.5,\"#f7f7f7\"],[0.6,\"#e6f5d0\"],[0.7,\"#b8e186\"],[0.8,\"#7fbc41\"],[0.9,\"#4d9221\"],[1,\"#276419\"]]},\"xaxis\":{\"gridcolor\":\"white\",\"linecolor\":\"white\",\"ticks\":\"\",\"title\":{\"standoff\":15},\"zerolinecolor\":\"white\",\"automargin\":true,\"zerolinewidth\":2},\"yaxis\":{\"gridcolor\":\"white\",\"linecolor\":\"white\",\"ticks\":\"\",\"title\":{\"standoff\":15},\"zerolinecolor\":\"white\",\"automargin\":true,\"zerolinewidth\":2},\"scene\":{\"xaxis\":{\"backgroundcolor\":\"#E5ECF6\",\"gridcolor\":\"white\",\"linecolor\":\"white\",\"showbackground\":true,\"ticks\":\"\",\"zerolinecolor\":\"white\",\"gridwidth\":2},\"yaxis\":{\"backgroundcolor\":\"#E5ECF6\",\"gridcolor\":\"white\",\"linecolor\":\"white\",\"showbackground\":true,\"ticks\":\"\",\"zerolinecolor\":\"white\",\"gridwidth\":2},\"zaxis\":{\"backgroundcolor\":\"#E5ECF6\",\"gridcolor\":\"white\",\"linecolor\":\"white\",\"showbackground\":true,\"ticks\":\"\",\"zerolinecolor\":\"white\",\"gridwidth\":2}},\"shapedefaults\":{\"line\":{\"color\":\"#2a3f5f\"}},\"annotationdefaults\":{\"arrowcolor\":\"#2a3f5f\",\"arrowhead\":0,\"arrowwidth\":1},\"geo\":{\"bgcolor\":\"white\",\"landcolor\":\"#E5ECF6\",\"subunitcolor\":\"white\",\"showland\":true,\"showlakes\":true,\"lakecolor\":\"white\"},\"title\":{\"x\":0.05},\"mapbox\":{\"style\":\"light\"}}},\"xaxis\":{\"anchor\":\"y\",\"domain\":[0.0,1.0],\"title\":{\"text\":\"Platform\"}},\"yaxis\":{\"anchor\":\"x\",\"domain\":[0.0,1.0],\"title\":{\"text\":\"Total Sales\"}},\"legend\":{\"tracegroupgap\":0},\"title\":{\"text\":\"Median Sales per Platform\"},\"barmode\":\"relative\"},                        {\"responsive\": true}                    ).then(function(){\n",
       "                            \n",
       "var gd = document.getElementById('7188f1fc-4170-4430-80ac-69fe6d8f528c');\n",
       "var x = new MutationObserver(function (mutations, observer) {{\n",
       "        var display = window.getComputedStyle(gd).display;\n",
       "        if (!display || display === 'none') {{\n",
       "            console.log([gd, 'removed!']);\n",
       "            Plotly.purge(gd);\n",
       "            observer.disconnect();\n",
       "        }}\n",
       "}});\n",
       "\n",
       "// Listen for the removal of the full notebook cells\n",
       "var notebookContainer = gd.closest('#notebook-container');\n",
       "if (notebookContainer) {{\n",
       "    x.observe(notebookContainer, {childList: true});\n",
       "}}\n",
       "\n",
       "// Listen for the clearing of the current output cell\n",
       "var outputEl = gd.closest('.output');\n",
       "if (outputEl) {{\n",
       "    x.observe(outputEl, {childList: true});\n",
       "}}\n",
       "\n",
       "                        })                };                });            </script>        </div>"
      ]
     },
     "metadata": {},
     "output_type": "display_data"
    }
   ],
   "source": [
    "# Visualização das medianas de vendas\n",
    "\n",
    "median_sales = sales_last_5_years.groupby(\n",
    "    'platform')['total_sales'].median().reset_index()\n",
    "fig = px.bar(median_sales,\n",
    "             x='platform',\n",
    "             y='total_sales',\n",
    "             title='Median Sales per Platform',\n",
    "             labels={\n",
    "                 'platform': 'Platform',\n",
    "                 'total_sales': 'Total Sales'\n",
    "             })\n",
    "\n",
    "fig.show()"
   ]
  },
  {
   "cell_type": "markdown",
   "metadata": {},
   "source": [
    "Dos gráficos acima,  a princípio não é possível perceber que existe uma discrepância no comportamento de vendas entre as plataformas por conta dos outliers, porém, ao olharmos para as médias e medianas, podemos pereber que as plataformas PlayStation, Xbox possuem valores mais altos de vendas de jogos no período, acompanhados do Nintendo Wii."
   ]
  },
  {
   "cell_type": "markdown",
   "metadata": {},
   "source": [
    "Para uma plataforma ter boas vendas, não basta ela em si ser boa, sem bons jogos, não se tem popularidade, portanto é muito importante entender como as críticas, tanto de usuários, como de críticos afetam as vendas de jogos. vamo tomar como exemplo a plataforma PS4, a mais popular do último ano para entender como as vendas se comportam de acordo com as críticas."
   ]
  },
  {
   "cell_type": "code",
   "execution_count": 77,
   "metadata": {},
   "outputs": [
    {
     "data": {
      "text/html": [
       "<div>                            <div id=\"4cbfcc6f-15a8-4b62-b3d4-e6429acd577a\" class=\"plotly-graph-div\" style=\"height:525px; width:100%;\"></div>            <script type=\"text/javascript\">                require([\"plotly\"], function(Plotly) {                    window.PLOTLYENV=window.PLOTLYENV || {};                                    if (document.getElementById(\"4cbfcc6f-15a8-4b62-b3d4-e6429acd577a\")) {                    Plotly.newPlot(                        \"4cbfcc6f-15a8-4b62-b3d4-e6429acd577a\",                        [{\"hovertemplate\":\"Critic Score=%{x}\\u003cbr\\u003eTotal Sales=%{y}\\u003cextra\\u003e\\u003c\\u002fextra\\u003e\",\"legendgroup\":\"\",\"marker\":{\"color\":\"#636efa\",\"symbol\":\"circle\"},\"mode\":\"markers\",\"name\":\"\",\"orientation\":\"v\",\"showlegend\":false,\"x\":[97.0,82.0,83.0,85.0,87.0,82.0,76.0,93.0,86.0,77.0,88.0,80.0,85.0,92.0,70.0,87.0,87.0,78.0,80.0,85.0,93.0,76.0,83.0,87.0,84.0,83.0,80.0,83.0,73.0,92.0,83.0,76.0,73.0,81.0,90.0,73.0,74.0,71.0,89.0,80.0,86.0,79.0,88.0,73.0,68.0,75.0,82.0,63.0,54.0,61.0,71.0,79.0,89.0,83.0,79.0,85.0,75.0,73.0,62.0,79.0,83.0,79.0,69.0,83.0,70.0,90.0,76.0,79.0,73.0,80.0,77.0,70.0,74.0,82.0,80.0,87.0,89.0,82.0,71.0,80.0,83.0,73.0,78.0,67.0,71.0,65.0,88.0,78.0,75.0,72.0,69.0,60.0,75.0,61.0,68.0,81.0,74.0,85.0,78.0,76.0,79.0,75.0,69.0,72.0,85.0,72.0,79.0,72.0,78.0,84.0,84.0,85.0,85.0,73.0,48.0,66.0,69.0,81.0,77.0,78.0,59.0,76.0,81.0,75.0,60.0,72.0,80.0,73.0,81.0,68.0,59.0,63.0,57.0,76.0,43.0,59.0,77.0,66.0,47.0,83.0,32.0,72.0,62.0,87.0,53.0,63.0,47.0,69.0,59.0,73.0,67.0,59.0,66.0,74.0,58.0,38.0,79.0,73.0,80.0,80.0,88.0,45.0,63.0,81.0,80.0,86.0,76.0,75.0,65.0,73.0,19.0,75.0,79.0,69.0,71.0,73.0,73.0,53.0,71.0,44.0,67.0,69.0,74.0,85.0,66.0,70.0,90.0,77.0,60.0,69.0,75.0,64.0,62.0,71.0,78.0,72.0,63.0,83.0,72.0,73.0,67.0,64.0,60.0,42.0,25.0,52.0,43.0,76.0,81.0,78.0,64.0,66.0,82.0,71.0,71.0,66.0,80.0,70.0,64.0,72.0,78.0,69.0,69.0,73.0,53.0,77.0,61.0,73.0,80.0,78.0,88.0,82.0,59.0,57.0,67.0,62.0,67.0,58.0,62.0,52.0,31.0,55.0,79.0,48.0,49.0,72.0,66.0,42.0,70.0,69.0,61.0,51.0],\"xaxis\":\"x\",\"y\":[12.620000000000001,8.58,7.66,7.6000000000000005,7.17,6.08,5.640000000000001,5.39,4.62,4.470000000000001,4.07,4.05,4.04,3.9699999999999998,3.96,3.96,3.87,3.8299999999999996,3.8,3.58,3.4200000000000004,3.3899999999999997,3.2399999999999998,3.01,2.96,2.86,2.7899999999999996,2.78,2.6900000000000004,2.48,2.4499999999999997,2.2600000000000002,2.21,2.19,2.14,2.11,2.09,2.07,2.01,1.98,1.9200000000000002,1.9100000000000001,1.8800000000000001,1.85,1.81,1.7900000000000003,1.74,1.7200000000000002,1.73,1.7200000000000002,1.6900000000000002,1.6600000000000001,1.6600000000000001,1.62,1.54,1.44,1.2699999999999998,1.21,1.15,1.14,1.13,1.1199999999999999,1.1,1.0799999999999998,1.05,1.02,0.9700000000000001,0.93,0.92,0.93,0.9,0.9,0.91,0.88,0.86,0.78,0.7600000000000001,0.75,0.73,0.73,0.72,0.7,0.71,0.6900000000000001,0.67,0.67,0.64,0.63,0.61,0.6,0.6,0.6,0.54,0.51,0.52,0.49000000000000005,0.47000000000000003,0.45,0.44,0.43,0.43,0.42,0.42,0.4,0.38999999999999996,0.39999999999999997,0.38,0.39,0.38,0.38,0.37000000000000005,0.36000000000000004,0.36,0.36000000000000004,0.35000000000000003,0.36,0.34,0.34,0.34,0.33,0.32,0.32,0.3,0.31,0.3,0.3,0.29,0.27,0.26,0.26,0.26,0.25,0.25,0.24000000000000002,0.24000000000000002,0.24000000000000002,0.23,0.23,0.22,0.21000000000000002,0.19999999999999998,0.2,0.19999999999999998,0.2,0.19999999999999998,0.19,0.19,0.19999999999999998,0.18,0.18,0.18,0.17,0.16999999999999998,0.16,0.16999999999999998,0.16,0.15,0.13999999999999999,0.14,0.13999999999999999,0.13999999999999999,0.13999999999999999,0.13,0.13,0.12000000000000001,0.13,0.12,0.12,0.11,0.12,0.12000000000000001,0.12000000000000001,0.11,0.09999999999999999,0.09,0.1,0.09,0.1,0.09999999999999999,0.09000000000000001,0.09,0.09,0.08,0.08,0.08,0.08,0.06999999999999999,0.09000000000000001,0.06999999999999999,0.06999999999999999,0.07,0.08,0.06999999999999999,0.07,0.06999999999999999,0.07,0.06999999999999999,0.07,0.06999999999999999,0.060000000000000005,0.060000000000000005,0.060000000000000005,0.06999999999999999,0.060000000000000005,0.060000000000000005,0.05,0.05,0.05,0.05,0.04,0.05,0.05,0.05,0.05,0.05,0.05,0.04,0.03,0.05,0.04,0.04,0.04,0.04,0.03,0.03,0.04,0.03,0.03,0.03,0.03,0.02,0.02,0.02,0.02,0.02,0.02,0.02,0.02,0.02,0.02,0.02,0.02,0.02,0.01,0.01,0.02,0.01,0.01,0.01,0.01,0.01,0.01],\"yaxis\":\"y\",\"type\":\"scatter\"}],                        {\"template\":{\"data\":{\"histogram2dcontour\":[{\"type\":\"histogram2dcontour\",\"colorbar\":{\"outlinewidth\":0,\"ticks\":\"\"},\"colorscale\":[[0.0,\"#0d0887\"],[0.1111111111111111,\"#46039f\"],[0.2222222222222222,\"#7201a8\"],[0.3333333333333333,\"#9c179e\"],[0.4444444444444444,\"#bd3786\"],[0.5555555555555556,\"#d8576b\"],[0.6666666666666666,\"#ed7953\"],[0.7777777777777778,\"#fb9f3a\"],[0.8888888888888888,\"#fdca26\"],[1.0,\"#f0f921\"]]}],\"choropleth\":[{\"type\":\"choropleth\",\"colorbar\":{\"outlinewidth\":0,\"ticks\":\"\"}}],\"histogram2d\":[{\"type\":\"histogram2d\",\"colorbar\":{\"outlinewidth\":0,\"ticks\":\"\"},\"colorscale\":[[0.0,\"#0d0887\"],[0.1111111111111111,\"#46039f\"],[0.2222222222222222,\"#7201a8\"],[0.3333333333333333,\"#9c179e\"],[0.4444444444444444,\"#bd3786\"],[0.5555555555555556,\"#d8576b\"],[0.6666666666666666,\"#ed7953\"],[0.7777777777777778,\"#fb9f3a\"],[0.8888888888888888,\"#fdca26\"],[1.0,\"#f0f921\"]]}],\"heatmap\":[{\"type\":\"heatmap\",\"colorbar\":{\"outlinewidth\":0,\"ticks\":\"\"},\"colorscale\":[[0.0,\"#0d0887\"],[0.1111111111111111,\"#46039f\"],[0.2222222222222222,\"#7201a8\"],[0.3333333333333333,\"#9c179e\"],[0.4444444444444444,\"#bd3786\"],[0.5555555555555556,\"#d8576b\"],[0.6666666666666666,\"#ed7953\"],[0.7777777777777778,\"#fb9f3a\"],[0.8888888888888888,\"#fdca26\"],[1.0,\"#f0f921\"]]}],\"heatmapgl\":[{\"type\":\"heatmapgl\",\"colorbar\":{\"outlinewidth\":0,\"ticks\":\"\"},\"colorscale\":[[0.0,\"#0d0887\"],[0.1111111111111111,\"#46039f\"],[0.2222222222222222,\"#7201a8\"],[0.3333333333333333,\"#9c179e\"],[0.4444444444444444,\"#bd3786\"],[0.5555555555555556,\"#d8576b\"],[0.6666666666666666,\"#ed7953\"],[0.7777777777777778,\"#fb9f3a\"],[0.8888888888888888,\"#fdca26\"],[1.0,\"#f0f921\"]]}],\"contourcarpet\":[{\"type\":\"contourcarpet\",\"colorbar\":{\"outlinewidth\":0,\"ticks\":\"\"}}],\"contour\":[{\"type\":\"contour\",\"colorbar\":{\"outlinewidth\":0,\"ticks\":\"\"},\"colorscale\":[[0.0,\"#0d0887\"],[0.1111111111111111,\"#46039f\"],[0.2222222222222222,\"#7201a8\"],[0.3333333333333333,\"#9c179e\"],[0.4444444444444444,\"#bd3786\"],[0.5555555555555556,\"#d8576b\"],[0.6666666666666666,\"#ed7953\"],[0.7777777777777778,\"#fb9f3a\"],[0.8888888888888888,\"#fdca26\"],[1.0,\"#f0f921\"]]}],\"surface\":[{\"type\":\"surface\",\"colorbar\":{\"outlinewidth\":0,\"ticks\":\"\"},\"colorscale\":[[0.0,\"#0d0887\"],[0.1111111111111111,\"#46039f\"],[0.2222222222222222,\"#7201a8\"],[0.3333333333333333,\"#9c179e\"],[0.4444444444444444,\"#bd3786\"],[0.5555555555555556,\"#d8576b\"],[0.6666666666666666,\"#ed7953\"],[0.7777777777777778,\"#fb9f3a\"],[0.8888888888888888,\"#fdca26\"],[1.0,\"#f0f921\"]]}],\"mesh3d\":[{\"type\":\"mesh3d\",\"colorbar\":{\"outlinewidth\":0,\"ticks\":\"\"}}],\"scatter\":[{\"fillpattern\":{\"fillmode\":\"overlay\",\"size\":10,\"solidity\":0.2},\"type\":\"scatter\"}],\"parcoords\":[{\"type\":\"parcoords\",\"line\":{\"colorbar\":{\"outlinewidth\":0,\"ticks\":\"\"}}}],\"scatterpolargl\":[{\"type\":\"scatterpolargl\",\"marker\":{\"colorbar\":{\"outlinewidth\":0,\"ticks\":\"\"}}}],\"bar\":[{\"error_x\":{\"color\":\"#2a3f5f\"},\"error_y\":{\"color\":\"#2a3f5f\"},\"marker\":{\"line\":{\"color\":\"#E5ECF6\",\"width\":0.5},\"pattern\":{\"fillmode\":\"overlay\",\"size\":10,\"solidity\":0.2}},\"type\":\"bar\"}],\"scattergeo\":[{\"type\":\"scattergeo\",\"marker\":{\"colorbar\":{\"outlinewidth\":0,\"ticks\":\"\"}}}],\"scatterpolar\":[{\"type\":\"scatterpolar\",\"marker\":{\"colorbar\":{\"outlinewidth\":0,\"ticks\":\"\"}}}],\"histogram\":[{\"marker\":{\"pattern\":{\"fillmode\":\"overlay\",\"size\":10,\"solidity\":0.2}},\"type\":\"histogram\"}],\"scattergl\":[{\"type\":\"scattergl\",\"marker\":{\"colorbar\":{\"outlinewidth\":0,\"ticks\":\"\"}}}],\"scatter3d\":[{\"type\":\"scatter3d\",\"line\":{\"colorbar\":{\"outlinewidth\":0,\"ticks\":\"\"}},\"marker\":{\"colorbar\":{\"outlinewidth\":0,\"ticks\":\"\"}}}],\"scattermapbox\":[{\"type\":\"scattermapbox\",\"marker\":{\"colorbar\":{\"outlinewidth\":0,\"ticks\":\"\"}}}],\"scatterternary\":[{\"type\":\"scatterternary\",\"marker\":{\"colorbar\":{\"outlinewidth\":0,\"ticks\":\"\"}}}],\"scattercarpet\":[{\"type\":\"scattercarpet\",\"marker\":{\"colorbar\":{\"outlinewidth\":0,\"ticks\":\"\"}}}],\"carpet\":[{\"aaxis\":{\"endlinecolor\":\"#2a3f5f\",\"gridcolor\":\"white\",\"linecolor\":\"white\",\"minorgridcolor\":\"white\",\"startlinecolor\":\"#2a3f5f\"},\"baxis\":{\"endlinecolor\":\"#2a3f5f\",\"gridcolor\":\"white\",\"linecolor\":\"white\",\"minorgridcolor\":\"white\",\"startlinecolor\":\"#2a3f5f\"},\"type\":\"carpet\"}],\"table\":[{\"cells\":{\"fill\":{\"color\":\"#EBF0F8\"},\"line\":{\"color\":\"white\"}},\"header\":{\"fill\":{\"color\":\"#C8D4E3\"},\"line\":{\"color\":\"white\"}},\"type\":\"table\"}],\"barpolar\":[{\"marker\":{\"line\":{\"color\":\"#E5ECF6\",\"width\":0.5},\"pattern\":{\"fillmode\":\"overlay\",\"size\":10,\"solidity\":0.2}},\"type\":\"barpolar\"}],\"pie\":[{\"automargin\":true,\"type\":\"pie\"}]},\"layout\":{\"autotypenumbers\":\"strict\",\"colorway\":[\"#636efa\",\"#EF553B\",\"#00cc96\",\"#ab63fa\",\"#FFA15A\",\"#19d3f3\",\"#FF6692\",\"#B6E880\",\"#FF97FF\",\"#FECB52\"],\"font\":{\"color\":\"#2a3f5f\"},\"hovermode\":\"closest\",\"hoverlabel\":{\"align\":\"left\"},\"paper_bgcolor\":\"white\",\"plot_bgcolor\":\"#E5ECF6\",\"polar\":{\"bgcolor\":\"#E5ECF6\",\"angularaxis\":{\"gridcolor\":\"white\",\"linecolor\":\"white\",\"ticks\":\"\"},\"radialaxis\":{\"gridcolor\":\"white\",\"linecolor\":\"white\",\"ticks\":\"\"}},\"ternary\":{\"bgcolor\":\"#E5ECF6\",\"aaxis\":{\"gridcolor\":\"white\",\"linecolor\":\"white\",\"ticks\":\"\"},\"baxis\":{\"gridcolor\":\"white\",\"linecolor\":\"white\",\"ticks\":\"\"},\"caxis\":{\"gridcolor\":\"white\",\"linecolor\":\"white\",\"ticks\":\"\"}},\"coloraxis\":{\"colorbar\":{\"outlinewidth\":0,\"ticks\":\"\"}},\"colorscale\":{\"sequential\":[[0.0,\"#0d0887\"],[0.1111111111111111,\"#46039f\"],[0.2222222222222222,\"#7201a8\"],[0.3333333333333333,\"#9c179e\"],[0.4444444444444444,\"#bd3786\"],[0.5555555555555556,\"#d8576b\"],[0.6666666666666666,\"#ed7953\"],[0.7777777777777778,\"#fb9f3a\"],[0.8888888888888888,\"#fdca26\"],[1.0,\"#f0f921\"]],\"sequentialminus\":[[0.0,\"#0d0887\"],[0.1111111111111111,\"#46039f\"],[0.2222222222222222,\"#7201a8\"],[0.3333333333333333,\"#9c179e\"],[0.4444444444444444,\"#bd3786\"],[0.5555555555555556,\"#d8576b\"],[0.6666666666666666,\"#ed7953\"],[0.7777777777777778,\"#fb9f3a\"],[0.8888888888888888,\"#fdca26\"],[1.0,\"#f0f921\"]],\"diverging\":[[0,\"#8e0152\"],[0.1,\"#c51b7d\"],[0.2,\"#de77ae\"],[0.3,\"#f1b6da\"],[0.4,\"#fde0ef\"],[0.5,\"#f7f7f7\"],[0.6,\"#e6f5d0\"],[0.7,\"#b8e186\"],[0.8,\"#7fbc41\"],[0.9,\"#4d9221\"],[1,\"#276419\"]]},\"xaxis\":{\"gridcolor\":\"white\",\"linecolor\":\"white\",\"ticks\":\"\",\"title\":{\"standoff\":15},\"zerolinecolor\":\"white\",\"automargin\":true,\"zerolinewidth\":2},\"yaxis\":{\"gridcolor\":\"white\",\"linecolor\":\"white\",\"ticks\":\"\",\"title\":{\"standoff\":15},\"zerolinecolor\":\"white\",\"automargin\":true,\"zerolinewidth\":2},\"scene\":{\"xaxis\":{\"backgroundcolor\":\"#E5ECF6\",\"gridcolor\":\"white\",\"linecolor\":\"white\",\"showbackground\":true,\"ticks\":\"\",\"zerolinecolor\":\"white\",\"gridwidth\":2},\"yaxis\":{\"backgroundcolor\":\"#E5ECF6\",\"gridcolor\":\"white\",\"linecolor\":\"white\",\"showbackground\":true,\"ticks\":\"\",\"zerolinecolor\":\"white\",\"gridwidth\":2},\"zaxis\":{\"backgroundcolor\":\"#E5ECF6\",\"gridcolor\":\"white\",\"linecolor\":\"white\",\"showbackground\":true,\"ticks\":\"\",\"zerolinecolor\":\"white\",\"gridwidth\":2}},\"shapedefaults\":{\"line\":{\"color\":\"#2a3f5f\"}},\"annotationdefaults\":{\"arrowcolor\":\"#2a3f5f\",\"arrowhead\":0,\"arrowwidth\":1},\"geo\":{\"bgcolor\":\"white\",\"landcolor\":\"#E5ECF6\",\"subunitcolor\":\"white\",\"showland\":true,\"showlakes\":true,\"lakecolor\":\"white\"},\"title\":{\"x\":0.05},\"mapbox\":{\"style\":\"light\"}}},\"xaxis\":{\"anchor\":\"y\",\"domain\":[0.0,1.0],\"title\":{\"text\":\"Critic Score\"}},\"yaxis\":{\"anchor\":\"x\",\"domain\":[0.0,1.0],\"title\":{\"text\":\"Total Sales\"}},\"legend\":{\"tracegroupgap\":0},\"title\":{\"text\":\"Relationship Between Sales and Critic Score\"}},                        {\"responsive\": true}                    ).then(function(){\n",
       "                            \n",
       "var gd = document.getElementById('4cbfcc6f-15a8-4b62-b3d4-e6429acd577a');\n",
       "var x = new MutationObserver(function (mutations, observer) {{\n",
       "        var display = window.getComputedStyle(gd).display;\n",
       "        if (!display || display === 'none') {{\n",
       "            console.log([gd, 'removed!']);\n",
       "            Plotly.purge(gd);\n",
       "            observer.disconnect();\n",
       "        }}\n",
       "}});\n",
       "\n",
       "// Listen for the removal of the full notebook cells\n",
       "var notebookContainer = gd.closest('#notebook-container');\n",
       "if (notebookContainer) {{\n",
       "    x.observe(notebookContainer, {childList: true});\n",
       "}}\n",
       "\n",
       "// Listen for the clearing of the current output cell\n",
       "var outputEl = gd.closest('.output');\n",
       "if (outputEl) {{\n",
       "    x.observe(outputEl, {childList: true});\n",
       "}}\n",
       "\n",
       "                        })                };                });            </script>        </div>"
      ]
     },
     "metadata": {},
     "output_type": "display_data"
    },
    {
     "name": "stdout",
     "output_type": "stream",
     "text": [
      "Correlação entre total_sales e critic_score: 0.4065679020617816\n"
     ]
    }
   ],
   "source": [
    "# Visualização da relação entre total de vendas e pontuação dos críticos para o PS4\n",
    "\n",
    "ps4_sales = games[games['platform'] == 'PS4']\n",
    "\n",
    "fig = px.scatter(ps4_sales[ps4_sales['critic_score'] > 0],\n",
    "                 x='critic_score',\n",
    "                 y='total_sales',\n",
    "                 title='Relationship Between Sales and Critic Score',\n",
    "                 labels={\n",
    "    'total_sales': 'Total Sales',\n",
    "    'critic_score': 'Critic Score'\n",
    "})\n",
    "\n",
    "fig.show()\n",
    "print('Correlação entre total_sales e critic_score:',\n",
    "      ps4_sales[ps4_sales['critic_score'] > 0]['critic_score'].corr(ps4_sales['total_sales']))"
   ]
  },
  {
   "cell_type": "code",
   "execution_count": 78,
   "metadata": {},
   "outputs": [
    {
     "data": {
      "text/html": [
       "<div>                            <div id=\"77adb5e3-d1cf-4cce-8f8f-6b586c67dec3\" class=\"plotly-graph-div\" style=\"height:525px; width:100%;\"></div>            <script type=\"text/javascript\">                require([\"plotly\"], function(Plotly) {                    window.PLOTLYENV=window.PLOTLYENV || {};                                    if (document.getElementById(\"77adb5e3-d1cf-4cce-8f8f-6b586c67dec3\")) {                    Plotly.newPlot(                        \"77adb5e3-d1cf-4cce-8f8f-6b586c67dec3\",                        [{\"hovertemplate\":\"User Score=%{x}\\u003cbr\\u003eTotal Sales=%{y}\\u003cextra\\u003e\\u003c\\u002fextra\\u003e\",\"legendgroup\":\"\",\"marker\":{\"color\":\"#636efa\",\"symbol\":\"circle\"},\"mode\":\"markers\",\"name\":\"\",\"orientation\":\"v\",\"showlegend\":false,\"x\":[83.0,43.0,57.0,50.0,65.0,57.0,61.0,79.0,81.0,34.0,84.0,63.0,77.0,92.0,49.0,76.0,67.0,37.0,70.0,69.0,82.0,68.0,59.0,63.0,81.0,78.0,79.0,77.0,68.0,86.0,70.0,63.0,73.0,61.0,61.0,50.0,79.0,61.0,74.0,62.0,60.0,71.0,67.0,65.0,51.0,73.0,49.0,66.0,65.0,54.0,45.0,82.0,88.0,77.0,81.0,65.0,62.0,74.0,51.0,82.0,78.0,81.0,77.0,66.0,61.0,85.0,43.0,62.0,71.0,78.0,34.0,70.0,52.0,78.0,62.0,71.0,84.0,72.0,70.0,71.0,77.0,78.0,75.0,71.0,71.0,63.0,77.0,55.0,76.0,66.0,69.0,36.0,77.0,37.0,66.0,77.0,74.0,76.0,56.0,80.0,72.0,55.0,87.0,68.0,86.0,80.0,52.0,58.0,63.0,76.0,85.0,87.0,81.0,68.0,38.0,78.0,47.0,79.0,83.0,58.0,69.0,71.0,33.0,73.0,57.0,66.0,81.0,85.0,81.0,68.0,71.0,63.0,65.0,81.0,81.0,27.0,56.0,75.0,70.0,20.0,84.0,15.0,74.0,68.0,82.0,59.0,75.0,41.0,77.0,78.0,64.0,80.0,71.0,61.0,76.0,65.0,29.0,87.0,81.0,77.0,55.0,80.0,59.0,64.0,86.0,82.0,76.0,74.0,81.0,69.0,73.0,34.0,85.0,79.0,80.0,59.0,63.0,68.0,60.0,65.0,55.0,74.0,66.0,61.0,67.0,76.0,63.0,78.0,76.0,61.0,67.0,73.0,80.0,71.0,77.0,62.0,81.0,78.0,86.0,79.0,72.0,62.0,76.0,79.0,67.0,41.0,19.0,30.0,35.0,78.0,80.0,83.0,74.0,57.0,38.0,80.0,80.0,81.0,70.0,81.0,69.0,68.0,83.0,66.0,78.0,79.0,64.0,75.0,51.0,69.0,74.0,80.0,76.0,84.0,66.0,66.0,78.0,62.0,64.0,71.0,76.0,65.0,79.0,45.0,47.0,61.0,85.0,20.0,60.0,78.0,58.0,62.0,23.0,68.0,75.0,79.0,55.0],\"xaxis\":\"x\",\"y\":[12.620000000000001,8.58,7.66,7.6000000000000005,7.17,6.08,5.640000000000001,5.39,4.62,4.470000000000001,4.07,4.05,4.04,3.9699999999999998,3.96,3.96,3.87,3.8299999999999996,3.8,3.58,3.4200000000000004,3.3899999999999997,3.2399999999999998,3.01,2.96,2.86,2.7899999999999996,2.78,2.6900000000000004,2.48,2.4499999999999997,2.2600000000000002,2.21,2.19,2.14,2.11,2.09,2.07,2.01,1.98,1.9200000000000002,1.9100000000000001,1.8800000000000001,1.85,1.81,1.7900000000000003,1.74,1.7200000000000002,1.73,1.7200000000000002,1.6900000000000002,1.6600000000000001,1.6600000000000001,1.62,1.54,1.44,1.2699999999999998,1.21,1.15,1.14,1.13,1.1199999999999999,1.1,1.0799999999999998,1.05,1.02,0.9700000000000001,0.93,0.92,0.93,0.9,0.9,0.91,0.88,0.86,0.78,0.7600000000000001,0.75,0.73,0.73,0.72,0.7,0.71,0.6900000000000001,0.67,0.67,0.64,0.63,0.61,0.6,0.6,0.6,0.54,0.51,0.52,0.49000000000000005,0.47000000000000003,0.45,0.44,0.43,0.43,0.42,0.42,0.4,0.38999999999999996,0.39999999999999997,0.38,0.39,0.38,0.38,0.37000000000000005,0.36000000000000004,0.36,0.36000000000000004,0.35000000000000003,0.36,0.34,0.34,0.34,0.33,0.32,0.32,0.3,0.31,0.3,0.3,0.29,0.27,0.26,0.26,0.26,0.25,0.25,0.24000000000000002,0.24000000000000002,0.24000000000000002,0.24000000000000002,0.23,0.23,0.22,0.21000000000000002,0.19999999999999998,0.2,0.19999999999999998,0.2,0.19999999999999998,0.19,0.19,0.19999999999999998,0.18,0.18,0.18,0.18000000000000002,0.17,0.16,0.16999999999999998,0.16,0.15,0.13999999999999999,0.14,0.13999999999999999,0.13999999999999999,0.13999999999999999,0.13,0.13,0.12000000000000001,0.13,0.12,0.12,0.11,0.12,0.12000000000000001,0.12000000000000001,0.11,0.09999999999999999,0.09,0.1,0.09,0.1,0.09999999999999999,0.09000000000000001,0.09,0.09,0.08,0.08,0.08,0.08,0.08,0.06999999999999999,0.09000000000000001,0.06999999999999999,0.06999999999999999,0.07,0.08,0.06999999999999999,0.07,0.06999999999999999,0.07,0.06999999999999999,0.07,0.06999999999999999,0.060000000000000005,0.060000000000000005,0.060000000000000005,0.06999999999999999,0.060000000000000005,0.060000000000000005,0.060000000000000005,0.05,0.05,0.05,0.05,0.04,0.05,0.05,0.05,0.05,0.05,0.05,0.04,0.03,0.05,0.04,0.04,0.04,0.04,0.04,0.03,0.03,0.04,0.03,0.03,0.03,0.02,0.02,0.02,0.02,0.02,0.02,0.02,0.02,0.02,0.02,0.02,0.02,0.02,0.02,0.01,0.01,0.01,0.02,0.01,0.01,0.01,0.01,0.01,0.01],\"yaxis\":\"y\",\"type\":\"scatter\"}],                        {\"template\":{\"data\":{\"histogram2dcontour\":[{\"type\":\"histogram2dcontour\",\"colorbar\":{\"outlinewidth\":0,\"ticks\":\"\"},\"colorscale\":[[0.0,\"#0d0887\"],[0.1111111111111111,\"#46039f\"],[0.2222222222222222,\"#7201a8\"],[0.3333333333333333,\"#9c179e\"],[0.4444444444444444,\"#bd3786\"],[0.5555555555555556,\"#d8576b\"],[0.6666666666666666,\"#ed7953\"],[0.7777777777777778,\"#fb9f3a\"],[0.8888888888888888,\"#fdca26\"],[1.0,\"#f0f921\"]]}],\"choropleth\":[{\"type\":\"choropleth\",\"colorbar\":{\"outlinewidth\":0,\"ticks\":\"\"}}],\"histogram2d\":[{\"type\":\"histogram2d\",\"colorbar\":{\"outlinewidth\":0,\"ticks\":\"\"},\"colorscale\":[[0.0,\"#0d0887\"],[0.1111111111111111,\"#46039f\"],[0.2222222222222222,\"#7201a8\"],[0.3333333333333333,\"#9c179e\"],[0.4444444444444444,\"#bd3786\"],[0.5555555555555556,\"#d8576b\"],[0.6666666666666666,\"#ed7953\"],[0.7777777777777778,\"#fb9f3a\"],[0.8888888888888888,\"#fdca26\"],[1.0,\"#f0f921\"]]}],\"heatmap\":[{\"type\":\"heatmap\",\"colorbar\":{\"outlinewidth\":0,\"ticks\":\"\"},\"colorscale\":[[0.0,\"#0d0887\"],[0.1111111111111111,\"#46039f\"],[0.2222222222222222,\"#7201a8\"],[0.3333333333333333,\"#9c179e\"],[0.4444444444444444,\"#bd3786\"],[0.5555555555555556,\"#d8576b\"],[0.6666666666666666,\"#ed7953\"],[0.7777777777777778,\"#fb9f3a\"],[0.8888888888888888,\"#fdca26\"],[1.0,\"#f0f921\"]]}],\"heatmapgl\":[{\"type\":\"heatmapgl\",\"colorbar\":{\"outlinewidth\":0,\"ticks\":\"\"},\"colorscale\":[[0.0,\"#0d0887\"],[0.1111111111111111,\"#46039f\"],[0.2222222222222222,\"#7201a8\"],[0.3333333333333333,\"#9c179e\"],[0.4444444444444444,\"#bd3786\"],[0.5555555555555556,\"#d8576b\"],[0.6666666666666666,\"#ed7953\"],[0.7777777777777778,\"#fb9f3a\"],[0.8888888888888888,\"#fdca26\"],[1.0,\"#f0f921\"]]}],\"contourcarpet\":[{\"type\":\"contourcarpet\",\"colorbar\":{\"outlinewidth\":0,\"ticks\":\"\"}}],\"contour\":[{\"type\":\"contour\",\"colorbar\":{\"outlinewidth\":0,\"ticks\":\"\"},\"colorscale\":[[0.0,\"#0d0887\"],[0.1111111111111111,\"#46039f\"],[0.2222222222222222,\"#7201a8\"],[0.3333333333333333,\"#9c179e\"],[0.4444444444444444,\"#bd3786\"],[0.5555555555555556,\"#d8576b\"],[0.6666666666666666,\"#ed7953\"],[0.7777777777777778,\"#fb9f3a\"],[0.8888888888888888,\"#fdca26\"],[1.0,\"#f0f921\"]]}],\"surface\":[{\"type\":\"surface\",\"colorbar\":{\"outlinewidth\":0,\"ticks\":\"\"},\"colorscale\":[[0.0,\"#0d0887\"],[0.1111111111111111,\"#46039f\"],[0.2222222222222222,\"#7201a8\"],[0.3333333333333333,\"#9c179e\"],[0.4444444444444444,\"#bd3786\"],[0.5555555555555556,\"#d8576b\"],[0.6666666666666666,\"#ed7953\"],[0.7777777777777778,\"#fb9f3a\"],[0.8888888888888888,\"#fdca26\"],[1.0,\"#f0f921\"]]}],\"mesh3d\":[{\"type\":\"mesh3d\",\"colorbar\":{\"outlinewidth\":0,\"ticks\":\"\"}}],\"scatter\":[{\"fillpattern\":{\"fillmode\":\"overlay\",\"size\":10,\"solidity\":0.2},\"type\":\"scatter\"}],\"parcoords\":[{\"type\":\"parcoords\",\"line\":{\"colorbar\":{\"outlinewidth\":0,\"ticks\":\"\"}}}],\"scatterpolargl\":[{\"type\":\"scatterpolargl\",\"marker\":{\"colorbar\":{\"outlinewidth\":0,\"ticks\":\"\"}}}],\"bar\":[{\"error_x\":{\"color\":\"#2a3f5f\"},\"error_y\":{\"color\":\"#2a3f5f\"},\"marker\":{\"line\":{\"color\":\"#E5ECF6\",\"width\":0.5},\"pattern\":{\"fillmode\":\"overlay\",\"size\":10,\"solidity\":0.2}},\"type\":\"bar\"}],\"scattergeo\":[{\"type\":\"scattergeo\",\"marker\":{\"colorbar\":{\"outlinewidth\":0,\"ticks\":\"\"}}}],\"scatterpolar\":[{\"type\":\"scatterpolar\",\"marker\":{\"colorbar\":{\"outlinewidth\":0,\"ticks\":\"\"}}}],\"histogram\":[{\"marker\":{\"pattern\":{\"fillmode\":\"overlay\",\"size\":10,\"solidity\":0.2}},\"type\":\"histogram\"}],\"scattergl\":[{\"type\":\"scattergl\",\"marker\":{\"colorbar\":{\"outlinewidth\":0,\"ticks\":\"\"}}}],\"scatter3d\":[{\"type\":\"scatter3d\",\"line\":{\"colorbar\":{\"outlinewidth\":0,\"ticks\":\"\"}},\"marker\":{\"colorbar\":{\"outlinewidth\":0,\"ticks\":\"\"}}}],\"scattermapbox\":[{\"type\":\"scattermapbox\",\"marker\":{\"colorbar\":{\"outlinewidth\":0,\"ticks\":\"\"}}}],\"scatterternary\":[{\"type\":\"scatterternary\",\"marker\":{\"colorbar\":{\"outlinewidth\":0,\"ticks\":\"\"}}}],\"scattercarpet\":[{\"type\":\"scattercarpet\",\"marker\":{\"colorbar\":{\"outlinewidth\":0,\"ticks\":\"\"}}}],\"carpet\":[{\"aaxis\":{\"endlinecolor\":\"#2a3f5f\",\"gridcolor\":\"white\",\"linecolor\":\"white\",\"minorgridcolor\":\"white\",\"startlinecolor\":\"#2a3f5f\"},\"baxis\":{\"endlinecolor\":\"#2a3f5f\",\"gridcolor\":\"white\",\"linecolor\":\"white\",\"minorgridcolor\":\"white\",\"startlinecolor\":\"#2a3f5f\"},\"type\":\"carpet\"}],\"table\":[{\"cells\":{\"fill\":{\"color\":\"#EBF0F8\"},\"line\":{\"color\":\"white\"}},\"header\":{\"fill\":{\"color\":\"#C8D4E3\"},\"line\":{\"color\":\"white\"}},\"type\":\"table\"}],\"barpolar\":[{\"marker\":{\"line\":{\"color\":\"#E5ECF6\",\"width\":0.5},\"pattern\":{\"fillmode\":\"overlay\",\"size\":10,\"solidity\":0.2}},\"type\":\"barpolar\"}],\"pie\":[{\"automargin\":true,\"type\":\"pie\"}]},\"layout\":{\"autotypenumbers\":\"strict\",\"colorway\":[\"#636efa\",\"#EF553B\",\"#00cc96\",\"#ab63fa\",\"#FFA15A\",\"#19d3f3\",\"#FF6692\",\"#B6E880\",\"#FF97FF\",\"#FECB52\"],\"font\":{\"color\":\"#2a3f5f\"},\"hovermode\":\"closest\",\"hoverlabel\":{\"align\":\"left\"},\"paper_bgcolor\":\"white\",\"plot_bgcolor\":\"#E5ECF6\",\"polar\":{\"bgcolor\":\"#E5ECF6\",\"angularaxis\":{\"gridcolor\":\"white\",\"linecolor\":\"white\",\"ticks\":\"\"},\"radialaxis\":{\"gridcolor\":\"white\",\"linecolor\":\"white\",\"ticks\":\"\"}},\"ternary\":{\"bgcolor\":\"#E5ECF6\",\"aaxis\":{\"gridcolor\":\"white\",\"linecolor\":\"white\",\"ticks\":\"\"},\"baxis\":{\"gridcolor\":\"white\",\"linecolor\":\"white\",\"ticks\":\"\"},\"caxis\":{\"gridcolor\":\"white\",\"linecolor\":\"white\",\"ticks\":\"\"}},\"coloraxis\":{\"colorbar\":{\"outlinewidth\":0,\"ticks\":\"\"}},\"colorscale\":{\"sequential\":[[0.0,\"#0d0887\"],[0.1111111111111111,\"#46039f\"],[0.2222222222222222,\"#7201a8\"],[0.3333333333333333,\"#9c179e\"],[0.4444444444444444,\"#bd3786\"],[0.5555555555555556,\"#d8576b\"],[0.6666666666666666,\"#ed7953\"],[0.7777777777777778,\"#fb9f3a\"],[0.8888888888888888,\"#fdca26\"],[1.0,\"#f0f921\"]],\"sequentialminus\":[[0.0,\"#0d0887\"],[0.1111111111111111,\"#46039f\"],[0.2222222222222222,\"#7201a8\"],[0.3333333333333333,\"#9c179e\"],[0.4444444444444444,\"#bd3786\"],[0.5555555555555556,\"#d8576b\"],[0.6666666666666666,\"#ed7953\"],[0.7777777777777778,\"#fb9f3a\"],[0.8888888888888888,\"#fdca26\"],[1.0,\"#f0f921\"]],\"diverging\":[[0,\"#8e0152\"],[0.1,\"#c51b7d\"],[0.2,\"#de77ae\"],[0.3,\"#f1b6da\"],[0.4,\"#fde0ef\"],[0.5,\"#f7f7f7\"],[0.6,\"#e6f5d0\"],[0.7,\"#b8e186\"],[0.8,\"#7fbc41\"],[0.9,\"#4d9221\"],[1,\"#276419\"]]},\"xaxis\":{\"gridcolor\":\"white\",\"linecolor\":\"white\",\"ticks\":\"\",\"title\":{\"standoff\":15},\"zerolinecolor\":\"white\",\"automargin\":true,\"zerolinewidth\":2},\"yaxis\":{\"gridcolor\":\"white\",\"linecolor\":\"white\",\"ticks\":\"\",\"title\":{\"standoff\":15},\"zerolinecolor\":\"white\",\"automargin\":true,\"zerolinewidth\":2},\"scene\":{\"xaxis\":{\"backgroundcolor\":\"#E5ECF6\",\"gridcolor\":\"white\",\"linecolor\":\"white\",\"showbackground\":true,\"ticks\":\"\",\"zerolinecolor\":\"white\",\"gridwidth\":2},\"yaxis\":{\"backgroundcolor\":\"#E5ECF6\",\"gridcolor\":\"white\",\"linecolor\":\"white\",\"showbackground\":true,\"ticks\":\"\",\"zerolinecolor\":\"white\",\"gridwidth\":2},\"zaxis\":{\"backgroundcolor\":\"#E5ECF6\",\"gridcolor\":\"white\",\"linecolor\":\"white\",\"showbackground\":true,\"ticks\":\"\",\"zerolinecolor\":\"white\",\"gridwidth\":2}},\"shapedefaults\":{\"line\":{\"color\":\"#2a3f5f\"}},\"annotationdefaults\":{\"arrowcolor\":\"#2a3f5f\",\"arrowhead\":0,\"arrowwidth\":1},\"geo\":{\"bgcolor\":\"white\",\"landcolor\":\"#E5ECF6\",\"subunitcolor\":\"white\",\"showland\":true,\"showlakes\":true,\"lakecolor\":\"white\"},\"title\":{\"x\":0.05},\"mapbox\":{\"style\":\"light\"}}},\"xaxis\":{\"anchor\":\"y\",\"domain\":[0.0,1.0],\"title\":{\"text\":\"User Score\"}},\"yaxis\":{\"anchor\":\"x\",\"domain\":[0.0,1.0],\"title\":{\"text\":\"Total Sales\"}},\"legend\":{\"tracegroupgap\":0},\"title\":{\"text\":\"Relationship Between Sales and Critic Score\"}},                        {\"responsive\": true}                    ).then(function(){\n",
       "                            \n",
       "var gd = document.getElementById('77adb5e3-d1cf-4cce-8f8f-6b586c67dec3');\n",
       "var x = new MutationObserver(function (mutations, observer) {{\n",
       "        var display = window.getComputedStyle(gd).display;\n",
       "        if (!display || display === 'none') {{\n",
       "            console.log([gd, 'removed!']);\n",
       "            Plotly.purge(gd);\n",
       "            observer.disconnect();\n",
       "        }}\n",
       "}});\n",
       "\n",
       "// Listen for the removal of the full notebook cells\n",
       "var notebookContainer = gd.closest('#notebook-container');\n",
       "if (notebookContainer) {{\n",
       "    x.observe(notebookContainer, {childList: true});\n",
       "}}\n",
       "\n",
       "// Listen for the clearing of the current output cell\n",
       "var outputEl = gd.closest('.output');\n",
       "if (outputEl) {{\n",
       "    x.observe(outputEl, {childList: true});\n",
       "}}\n",
       "\n",
       "                        })                };                });            </script>        </div>"
      ]
     },
     "metadata": {},
     "output_type": "display_data"
    },
    {
     "name": "stdout",
     "output_type": "stream",
     "text": [
      "Correlação entre total_sales e user_score: -0.03195711020455644\n"
     ]
    }
   ],
   "source": [
    "# Visualização da relação entre total de vendas e pontuação dos usuários para o PS4\n",
    "\n",
    "fig = px.scatter(ps4_sales[ps4_sales['user_score'] > 0],\n",
    "                 x='user_score',\n",
    "                 y='total_sales',\n",
    "                 title='Relationship Between Sales and Critic Score',\n",
    "                 labels={\n",
    "    'total_sales': 'Total Sales',\n",
    "    'user_score': 'User Score'\n",
    "})\n",
    "\n",
    "fig.show()\n",
    "\n",
    "filtro = ps4_sales['user_score'] > 0\n",
    "print('Correlação entre total_sales e user_score:',\n",
    "      ps4_sales.loc[filtro, 'user_score'].corr(ps4_sales.loc[filtro, 'total_sales']))"
   ]
  },
  {
   "cell_type": "markdown",
   "metadata": {},
   "source": [
    "Dos gráficos e dos números acima, é possível perceber que para ambos os casos, mas mais especialmente para a relação envolvendo a pontuação dos usuários, a correlação com o total de vendas é fraca, porém, a opinião dos críticos importa mais, não só pelo maior valor de correlação, mas também por ter uma correlação positiva, o que não acontece em relação à opinião dos usuários."
   ]
  },
  {
   "cell_type": "markdown",
   "metadata": {},
   "source": [
    "Para entender a popularidade e como as vendas são afetadas, também é necessário entender como se comporta as vendas dos jogos, seja em cada plataforma ou não, portanto, hora de analisar os dados sobre as vendas de cada jogo."
   ]
  },
  {
   "cell_type": "code",
   "execution_count": 79,
   "metadata": {},
   "outputs": [
    {
     "data": {
      "text/html": [
       "<div>                            <div id=\"ac34bca2-73c4-4012-bb89-c3915fe6528f\" class=\"plotly-graph-div\" style=\"height:525px; width:100%;\"></div>            <script type=\"text/javascript\">                require([\"plotly\"], function(Plotly) {                    window.PLOTLYENV=window.PLOTLYENV || {};                                    if (document.getElementById(\"ac34bca2-73c4-4012-bb89-c3915fe6528f\")) {                    Plotly.newPlot(                        \"ac34bca2-73c4-4012-bb89-c3915fe6528f\",                        [{\"alignmentgroup\":\"True\",\"hovertemplate\":\"Platform=PS3\\u003cbr\\u003ename=%{x}\\u003cbr\\u003eTotal Sales=%{y}\\u003cextra\\u003e\\u003c\\u002fextra\\u003e\",\"legendgroup\":\"PS3\",\"marker\":{\"color\":\"#636efa\",\"pattern\":{\"shape\":\"\"}},\"name\":\"PS3\",\"offsetgroup\":\"PS3\",\"orientation\":\"v\",\"showlegend\":true,\"textposition\":\"auto\",\"x\":[\"Grand Theft Auto V\",\"Call of Duty: Black Ops II\",\"Call of Duty: Ghosts\",\"Minecraft\",\"FIFA 16\",\"Call of Duty: Black Ops 3\"],\"xaxis\":\"x\",\"y\":[21.05,13.790000000000001,9.36,5.2700000000000005,2.6999999999999997,1.69],\"yaxis\":\"y\",\"type\":\"bar\"},{\"alignmentgroup\":\"True\",\"hovertemplate\":\"Platform=X360\\u003cbr\\u003ename=%{x}\\u003cbr\\u003eTotal Sales=%{y}\\u003cextra\\u003e\\u003c\\u002fextra\\u003e\",\"legendgroup\":\"X360\",\"marker\":{\"color\":\"#EF553B\",\"pattern\":{\"shape\":\"\"}},\"name\":\"X360\",\"offsetgroup\":\"X360\",\"orientation\":\"v\",\"showlegend\":true,\"textposition\":\"auto\",\"x\":[\"Grand Theft Auto V\",\"Call of Duty: Black Ops II\",\"Call of Duty: Ghosts\",\"Halo 4\",\"Minecraft\",\"Call of Duty: Black Ops 3\",\"FIFA 16\"],\"xaxis\":\"x\",\"y\":[16.27,13.68,10.24,9.709999999999999,9.18,1.7,1.5699999999999998],\"yaxis\":\"y\",\"type\":\"bar\"},{\"alignmentgroup\":\"True\",\"hovertemplate\":\"Platform=PS4\\u003cbr\\u003ename=%{x}\\u003cbr\\u003eTotal Sales=%{y}\\u003cextra\\u003e\\u003c\\u002fextra\\u003e\",\"legendgroup\":\"PS4\",\"marker\":{\"color\":\"#00cc96\",\"pattern\":{\"shape\":\"\"}},\"name\":\"PS4\",\"offsetgroup\":\"PS4\",\"orientation\":\"v\",\"showlegend\":true,\"textposition\":\"auto\",\"x\":[\"Call of Duty: Black Ops 3\",\"Grand Theft Auto V\",\"FIFA 16\",\"Minecraft\",\"Call of Duty: Ghosts\"],\"xaxis\":\"x\",\"y\":[14.629999999999999,12.620000000000001,8.58,4.32,3.8299999999999996],\"yaxis\":\"y\",\"type\":\"bar\"},{\"alignmentgroup\":\"True\",\"hovertemplate\":\"Platform=3DS\\u003cbr\\u003ename=%{x}\\u003cbr\\u003eTotal Sales=%{y}\\u003cextra\\u003e\\u003c\\u002fextra\\u003e\",\"legendgroup\":\"3DS\",\"marker\":{\"color\":\"#ab63fa\",\"pattern\":{\"shape\":\"\"}},\"name\":\"3DS\",\"offsetgroup\":\"3DS\",\"orientation\":\"v\",\"showlegend\":true,\"textposition\":\"auto\",\"x\":[\"Pokemon X\\u002fPokemon Y\",\"Pokemon Omega Ruby\\u002fPokemon Alpha Sapphire\",\"New Super Mario Bros. 2\",\"Animal Crossing: New Leaf\"],\"xaxis\":\"x\",\"y\":[14.6,11.68,9.900000000000002,9.17],\"yaxis\":\"y\",\"type\":\"bar\"},{\"alignmentgroup\":\"True\",\"hovertemplate\":\"Platform=XOne\\u003cbr\\u003ename=%{x}\\u003cbr\\u003eTotal Sales=%{y}\\u003cextra\\u003e\\u003c\\u002fextra\\u003e\",\"legendgroup\":\"XOne\",\"marker\":{\"color\":\"#FFA15A\",\"pattern\":{\"shape\":\"\"}},\"name\":\"XOne\",\"offsetgroup\":\"XOne\",\"orientation\":\"v\",\"showlegend\":true,\"textposition\":\"auto\",\"x\":[\"Call of Duty: Black Ops 3\",\"Grand Theft Auto V\",\"FIFA 16\",\"Call of Duty: Ghosts\",\"Minecraft\"],\"xaxis\":\"x\",\"y\":[7.389999999999999,5.47,3.25,2.92,2.7600000000000002],\"yaxis\":\"y\",\"type\":\"bar\"},{\"alignmentgroup\":\"True\",\"hovertemplate\":\"Platform=PSV\\u003cbr\\u003ename=%{x}\\u003cbr\\u003eTotal Sales=%{y}\\u003cextra\\u003e\\u003c\\u002fextra\\u003e\",\"legendgroup\":\"PSV\",\"marker\":{\"color\":\"#19d3f3\",\"pattern\":{\"shape\":\"\"}},\"name\":\"PSV\",\"offsetgroup\":\"PSV\",\"orientation\":\"v\",\"showlegend\":true,\"textposition\":\"auto\",\"x\":[\"Minecraft\"],\"xaxis\":\"x\",\"y\":[1.9600000000000002],\"yaxis\":\"y\",\"type\":\"bar\"},{\"alignmentgroup\":\"True\",\"hovertemplate\":\"Platform=PC\\u003cbr\\u003ename=%{x}\\u003cbr\\u003eTotal Sales=%{y}\\u003cextra\\u003e\\u003c\\u002fextra\\u003e\",\"legendgroup\":\"PC\",\"marker\":{\"color\":\"#FF6692\",\"pattern\":{\"shape\":\"\"}},\"name\":\"PC\",\"offsetgroup\":\"PC\",\"orientation\":\"v\",\"showlegend\":true,\"textposition\":\"auto\",\"x\":[\"Call of Duty: Black Ops II\",\"Grand Theft Auto V\",\"Call of Duty: Ghosts\",\"Call of Duty: Black Ops 3\",\"FIFA 16\"],\"xaxis\":\"x\",\"y\":[1.52,1.1700000000000002,0.6900000000000001,0.26,0.2],\"yaxis\":\"y\",\"type\":\"bar\"},{\"alignmentgroup\":\"True\",\"hovertemplate\":\"Platform=WiiU\\u003cbr\\u003ename=%{x}\\u003cbr\\u003eTotal Sales=%{y}\\u003cextra\\u003e\\u003c\\u002fextra\\u003e\",\"legendgroup\":\"WiiU\",\"marker\":{\"color\":\"#B6E880\",\"pattern\":{\"shape\":\"\"}},\"name\":\"WiiU\",\"offsetgroup\":\"WiiU\",\"orientation\":\"v\",\"showlegend\":true,\"textposition\":\"auto\",\"x\":[\"Minecraft\",\"Call of Duty: Black Ops II\",\"Call of Duty: Ghosts\"],\"xaxis\":\"x\",\"y\":[0.6700000000000002,0.41000000000000003,0.35],\"yaxis\":\"y\",\"type\":\"bar\"}],                        {\"template\":{\"data\":{\"histogram2dcontour\":[{\"type\":\"histogram2dcontour\",\"colorbar\":{\"outlinewidth\":0,\"ticks\":\"\"},\"colorscale\":[[0.0,\"#0d0887\"],[0.1111111111111111,\"#46039f\"],[0.2222222222222222,\"#7201a8\"],[0.3333333333333333,\"#9c179e\"],[0.4444444444444444,\"#bd3786\"],[0.5555555555555556,\"#d8576b\"],[0.6666666666666666,\"#ed7953\"],[0.7777777777777778,\"#fb9f3a\"],[0.8888888888888888,\"#fdca26\"],[1.0,\"#f0f921\"]]}],\"choropleth\":[{\"type\":\"choropleth\",\"colorbar\":{\"outlinewidth\":0,\"ticks\":\"\"}}],\"histogram2d\":[{\"type\":\"histogram2d\",\"colorbar\":{\"outlinewidth\":0,\"ticks\":\"\"},\"colorscale\":[[0.0,\"#0d0887\"],[0.1111111111111111,\"#46039f\"],[0.2222222222222222,\"#7201a8\"],[0.3333333333333333,\"#9c179e\"],[0.4444444444444444,\"#bd3786\"],[0.5555555555555556,\"#d8576b\"],[0.6666666666666666,\"#ed7953\"],[0.7777777777777778,\"#fb9f3a\"],[0.8888888888888888,\"#fdca26\"],[1.0,\"#f0f921\"]]}],\"heatmap\":[{\"type\":\"heatmap\",\"colorbar\":{\"outlinewidth\":0,\"ticks\":\"\"},\"colorscale\":[[0.0,\"#0d0887\"],[0.1111111111111111,\"#46039f\"],[0.2222222222222222,\"#7201a8\"],[0.3333333333333333,\"#9c179e\"],[0.4444444444444444,\"#bd3786\"],[0.5555555555555556,\"#d8576b\"],[0.6666666666666666,\"#ed7953\"],[0.7777777777777778,\"#fb9f3a\"],[0.8888888888888888,\"#fdca26\"],[1.0,\"#f0f921\"]]}],\"heatmapgl\":[{\"type\":\"heatmapgl\",\"colorbar\":{\"outlinewidth\":0,\"ticks\":\"\"},\"colorscale\":[[0.0,\"#0d0887\"],[0.1111111111111111,\"#46039f\"],[0.2222222222222222,\"#7201a8\"],[0.3333333333333333,\"#9c179e\"],[0.4444444444444444,\"#bd3786\"],[0.5555555555555556,\"#d8576b\"],[0.6666666666666666,\"#ed7953\"],[0.7777777777777778,\"#fb9f3a\"],[0.8888888888888888,\"#fdca26\"],[1.0,\"#f0f921\"]]}],\"contourcarpet\":[{\"type\":\"contourcarpet\",\"colorbar\":{\"outlinewidth\":0,\"ticks\":\"\"}}],\"contour\":[{\"type\":\"contour\",\"colorbar\":{\"outlinewidth\":0,\"ticks\":\"\"},\"colorscale\":[[0.0,\"#0d0887\"],[0.1111111111111111,\"#46039f\"],[0.2222222222222222,\"#7201a8\"],[0.3333333333333333,\"#9c179e\"],[0.4444444444444444,\"#bd3786\"],[0.5555555555555556,\"#d8576b\"],[0.6666666666666666,\"#ed7953\"],[0.7777777777777778,\"#fb9f3a\"],[0.8888888888888888,\"#fdca26\"],[1.0,\"#f0f921\"]]}],\"surface\":[{\"type\":\"surface\",\"colorbar\":{\"outlinewidth\":0,\"ticks\":\"\"},\"colorscale\":[[0.0,\"#0d0887\"],[0.1111111111111111,\"#46039f\"],[0.2222222222222222,\"#7201a8\"],[0.3333333333333333,\"#9c179e\"],[0.4444444444444444,\"#bd3786\"],[0.5555555555555556,\"#d8576b\"],[0.6666666666666666,\"#ed7953\"],[0.7777777777777778,\"#fb9f3a\"],[0.8888888888888888,\"#fdca26\"],[1.0,\"#f0f921\"]]}],\"mesh3d\":[{\"type\":\"mesh3d\",\"colorbar\":{\"outlinewidth\":0,\"ticks\":\"\"}}],\"scatter\":[{\"fillpattern\":{\"fillmode\":\"overlay\",\"size\":10,\"solidity\":0.2},\"type\":\"scatter\"}],\"parcoords\":[{\"type\":\"parcoords\",\"line\":{\"colorbar\":{\"outlinewidth\":0,\"ticks\":\"\"}}}],\"scatterpolargl\":[{\"type\":\"scatterpolargl\",\"marker\":{\"colorbar\":{\"outlinewidth\":0,\"ticks\":\"\"}}}],\"bar\":[{\"error_x\":{\"color\":\"#2a3f5f\"},\"error_y\":{\"color\":\"#2a3f5f\"},\"marker\":{\"line\":{\"color\":\"#E5ECF6\",\"width\":0.5},\"pattern\":{\"fillmode\":\"overlay\",\"size\":10,\"solidity\":0.2}},\"type\":\"bar\"}],\"scattergeo\":[{\"type\":\"scattergeo\",\"marker\":{\"colorbar\":{\"outlinewidth\":0,\"ticks\":\"\"}}}],\"scatterpolar\":[{\"type\":\"scatterpolar\",\"marker\":{\"colorbar\":{\"outlinewidth\":0,\"ticks\":\"\"}}}],\"histogram\":[{\"marker\":{\"pattern\":{\"fillmode\":\"overlay\",\"size\":10,\"solidity\":0.2}},\"type\":\"histogram\"}],\"scattergl\":[{\"type\":\"scattergl\",\"marker\":{\"colorbar\":{\"outlinewidth\":0,\"ticks\":\"\"}}}],\"scatter3d\":[{\"type\":\"scatter3d\",\"line\":{\"colorbar\":{\"outlinewidth\":0,\"ticks\":\"\"}},\"marker\":{\"colorbar\":{\"outlinewidth\":0,\"ticks\":\"\"}}}],\"scattermapbox\":[{\"type\":\"scattermapbox\",\"marker\":{\"colorbar\":{\"outlinewidth\":0,\"ticks\":\"\"}}}],\"scatterternary\":[{\"type\":\"scatterternary\",\"marker\":{\"colorbar\":{\"outlinewidth\":0,\"ticks\":\"\"}}}],\"scattercarpet\":[{\"type\":\"scattercarpet\",\"marker\":{\"colorbar\":{\"outlinewidth\":0,\"ticks\":\"\"}}}],\"carpet\":[{\"aaxis\":{\"endlinecolor\":\"#2a3f5f\",\"gridcolor\":\"white\",\"linecolor\":\"white\",\"minorgridcolor\":\"white\",\"startlinecolor\":\"#2a3f5f\"},\"baxis\":{\"endlinecolor\":\"#2a3f5f\",\"gridcolor\":\"white\",\"linecolor\":\"white\",\"minorgridcolor\":\"white\",\"startlinecolor\":\"#2a3f5f\"},\"type\":\"carpet\"}],\"table\":[{\"cells\":{\"fill\":{\"color\":\"#EBF0F8\"},\"line\":{\"color\":\"white\"}},\"header\":{\"fill\":{\"color\":\"#C8D4E3\"},\"line\":{\"color\":\"white\"}},\"type\":\"table\"}],\"barpolar\":[{\"marker\":{\"line\":{\"color\":\"#E5ECF6\",\"width\":0.5},\"pattern\":{\"fillmode\":\"overlay\",\"size\":10,\"solidity\":0.2}},\"type\":\"barpolar\"}],\"pie\":[{\"automargin\":true,\"type\":\"pie\"}]},\"layout\":{\"autotypenumbers\":\"strict\",\"colorway\":[\"#636efa\",\"#EF553B\",\"#00cc96\",\"#ab63fa\",\"#FFA15A\",\"#19d3f3\",\"#FF6692\",\"#B6E880\",\"#FF97FF\",\"#FECB52\"],\"font\":{\"color\":\"#2a3f5f\"},\"hovermode\":\"closest\",\"hoverlabel\":{\"align\":\"left\"},\"paper_bgcolor\":\"white\",\"plot_bgcolor\":\"#E5ECF6\",\"polar\":{\"bgcolor\":\"#E5ECF6\",\"angularaxis\":{\"gridcolor\":\"white\",\"linecolor\":\"white\",\"ticks\":\"\"},\"radialaxis\":{\"gridcolor\":\"white\",\"linecolor\":\"white\",\"ticks\":\"\"}},\"ternary\":{\"bgcolor\":\"#E5ECF6\",\"aaxis\":{\"gridcolor\":\"white\",\"linecolor\":\"white\",\"ticks\":\"\"},\"baxis\":{\"gridcolor\":\"white\",\"linecolor\":\"white\",\"ticks\":\"\"},\"caxis\":{\"gridcolor\":\"white\",\"linecolor\":\"white\",\"ticks\":\"\"}},\"coloraxis\":{\"colorbar\":{\"outlinewidth\":0,\"ticks\":\"\"}},\"colorscale\":{\"sequential\":[[0.0,\"#0d0887\"],[0.1111111111111111,\"#46039f\"],[0.2222222222222222,\"#7201a8\"],[0.3333333333333333,\"#9c179e\"],[0.4444444444444444,\"#bd3786\"],[0.5555555555555556,\"#d8576b\"],[0.6666666666666666,\"#ed7953\"],[0.7777777777777778,\"#fb9f3a\"],[0.8888888888888888,\"#fdca26\"],[1.0,\"#f0f921\"]],\"sequentialminus\":[[0.0,\"#0d0887\"],[0.1111111111111111,\"#46039f\"],[0.2222222222222222,\"#7201a8\"],[0.3333333333333333,\"#9c179e\"],[0.4444444444444444,\"#bd3786\"],[0.5555555555555556,\"#d8576b\"],[0.6666666666666666,\"#ed7953\"],[0.7777777777777778,\"#fb9f3a\"],[0.8888888888888888,\"#fdca26\"],[1.0,\"#f0f921\"]],\"diverging\":[[0,\"#8e0152\"],[0.1,\"#c51b7d\"],[0.2,\"#de77ae\"],[0.3,\"#f1b6da\"],[0.4,\"#fde0ef\"],[0.5,\"#f7f7f7\"],[0.6,\"#e6f5d0\"],[0.7,\"#b8e186\"],[0.8,\"#7fbc41\"],[0.9,\"#4d9221\"],[1,\"#276419\"]]},\"xaxis\":{\"gridcolor\":\"white\",\"linecolor\":\"white\",\"ticks\":\"\",\"title\":{\"standoff\":15},\"zerolinecolor\":\"white\",\"automargin\":true,\"zerolinewidth\":2},\"yaxis\":{\"gridcolor\":\"white\",\"linecolor\":\"white\",\"ticks\":\"\",\"title\":{\"standoff\":15},\"zerolinecolor\":\"white\",\"automargin\":true,\"zerolinewidth\":2},\"scene\":{\"xaxis\":{\"backgroundcolor\":\"#E5ECF6\",\"gridcolor\":\"white\",\"linecolor\":\"white\",\"showbackground\":true,\"ticks\":\"\",\"zerolinecolor\":\"white\",\"gridwidth\":2},\"yaxis\":{\"backgroundcolor\":\"#E5ECF6\",\"gridcolor\":\"white\",\"linecolor\":\"white\",\"showbackground\":true,\"ticks\":\"\",\"zerolinecolor\":\"white\",\"gridwidth\":2},\"zaxis\":{\"backgroundcolor\":\"#E5ECF6\",\"gridcolor\":\"white\",\"linecolor\":\"white\",\"showbackground\":true,\"ticks\":\"\",\"zerolinecolor\":\"white\",\"gridwidth\":2}},\"shapedefaults\":{\"line\":{\"color\":\"#2a3f5f\"}},\"annotationdefaults\":{\"arrowcolor\":\"#2a3f5f\",\"arrowhead\":0,\"arrowwidth\":1},\"geo\":{\"bgcolor\":\"white\",\"landcolor\":\"#E5ECF6\",\"subunitcolor\":\"white\",\"showland\":true,\"showlakes\":true,\"lakecolor\":\"white\"},\"title\":{\"x\":0.05},\"mapbox\":{\"style\":\"light\"}}},\"xaxis\":{\"anchor\":\"y\",\"domain\":[0.0,1.0],\"title\":{\"text\":\"name\"}},\"yaxis\":{\"anchor\":\"x\",\"domain\":[0.0,1.0],\"title\":{\"text\":\"Total Sales\"}},\"legend\":{\"title\":{\"text\":\"Platform\"},\"tracegroupgap\":0},\"margin\":{\"t\":60},\"barmode\":\"relative\"},                        {\"responsive\": true}                    ).then(function(){\n",
       "                            \n",
       "var gd = document.getElementById('ac34bca2-73c4-4012-bb89-c3915fe6528f');\n",
       "var x = new MutationObserver(function (mutations, observer) {{\n",
       "        var display = window.getComputedStyle(gd).display;\n",
       "        if (!display || display === 'none') {{\n",
       "            console.log([gd, 'removed!']);\n",
       "            Plotly.purge(gd);\n",
       "            observer.disconnect();\n",
       "        }}\n",
       "}});\n",
       "\n",
       "// Listen for the removal of the full notebook cells\n",
       "var notebookContainer = gd.closest('#notebook-container');\n",
       "if (notebookContainer) {{\n",
       "    x.observe(notebookContainer, {childList: true});\n",
       "}}\n",
       "\n",
       "// Listen for the clearing of the current output cell\n",
       "var outputEl = gd.closest('.output');\n",
       "if (outputEl) {{\n",
       "    x.observe(outputEl, {childList: true});\n",
       "}}\n",
       "\n",
       "                        })                };                });            </script>        </div>"
      ]
     },
     "metadata": {},
     "output_type": "display_data"
    }
   ],
   "source": [
    "# Visualização dos 15 jogos com mais vendas no últimos 5 anos\n",
    "\n",
    "top_15_games = sales_last_5_years.nlargest(15, 'total_sales')['name'].unique()\n",
    "\n",
    "fig = px.bar(sales_last_5_years[sales_last_5_years['name'].isin(top_15_games)],\n",
    "             x='name',\n",
    "             y='total_sales',\n",
    "             color='platform',\n",
    "             labels={\n",
    "    'total_sales': 'Total Sales',\n",
    "    'platform': 'Platform'\n",
    "})\n",
    "\n",
    "fig.show()"
   ]
  },
  {
   "cell_type": "markdown",
   "metadata": {},
   "source": [
    "Do gráfico acima, é possível perceber que, no geral, os jogos mais vendidos são jogos disponíveis em mais de uma plataforma, o que faz muito sentido, pois se é um jogo popular e que está disponível para ser jogado em mais de uma plataforma, isso é mais conveniente para os usuários e atrai mais a preferência do que jogos que estão disponíveis somente em uma plataforma."
   ]
  },
  {
   "cell_type": "code",
   "execution_count": 80,
   "metadata": {},
   "outputs": [
    {
     "data": {
      "text/html": [
       "<div>                            <div id=\"14cd75ce-ba66-4d6a-84aa-eb5b61efe266\" class=\"plotly-graph-div\" style=\"height:525px; width:100%;\"></div>            <script type=\"text/javascript\">                require([\"plotly\"], function(Plotly) {                    window.PLOTLYENV=window.PLOTLYENV || {};                                    if (document.getElementById(\"14cd75ce-ba66-4d6a-84aa-eb5b61efe266\")) {                    Plotly.newPlot(                        \"14cd75ce-ba66-4d6a-84aa-eb5b61efe266\",                        [{\"alignmentgroup\":\"True\",\"hovertemplate\":\"Genre=%{x}\\u003cbr\\u003eTotal Sales=%{y}\\u003cextra\\u003e\\u003c\\u002fextra\\u003e\",\"legendgroup\":\"\",\"marker\":{\"color\":\"#636efa\",\"pattern\":{\"shape\":\"\"}},\"name\":\"\",\"offsetgroup\":\"\",\"orientation\":\"v\",\"showlegend\":false,\"textposition\":\"auto\",\"x\":[\"Action\",\"Shooter\",\"Role-Playing\",\"Sports\",\"Misc\",\"Platform\",\"Racing\",\"Fighting\",\"Simulation\",\"Adventure\",\"Strategy\",\"Puzzle\"],\"xaxis\":\"x\",\"y\":[441.12,304.73,192.8,181.07,85.04,61.0,53.5,44.49,35.12,29.43,13.34,4.890000000000001],\"yaxis\":\"y\",\"type\":\"bar\"}],                        {\"template\":{\"data\":{\"histogram2dcontour\":[{\"type\":\"histogram2dcontour\",\"colorbar\":{\"outlinewidth\":0,\"ticks\":\"\"},\"colorscale\":[[0.0,\"#0d0887\"],[0.1111111111111111,\"#46039f\"],[0.2222222222222222,\"#7201a8\"],[0.3333333333333333,\"#9c179e\"],[0.4444444444444444,\"#bd3786\"],[0.5555555555555556,\"#d8576b\"],[0.6666666666666666,\"#ed7953\"],[0.7777777777777778,\"#fb9f3a\"],[0.8888888888888888,\"#fdca26\"],[1.0,\"#f0f921\"]]}],\"choropleth\":[{\"type\":\"choropleth\",\"colorbar\":{\"outlinewidth\":0,\"ticks\":\"\"}}],\"histogram2d\":[{\"type\":\"histogram2d\",\"colorbar\":{\"outlinewidth\":0,\"ticks\":\"\"},\"colorscale\":[[0.0,\"#0d0887\"],[0.1111111111111111,\"#46039f\"],[0.2222222222222222,\"#7201a8\"],[0.3333333333333333,\"#9c179e\"],[0.4444444444444444,\"#bd3786\"],[0.5555555555555556,\"#d8576b\"],[0.6666666666666666,\"#ed7953\"],[0.7777777777777778,\"#fb9f3a\"],[0.8888888888888888,\"#fdca26\"],[1.0,\"#f0f921\"]]}],\"heatmap\":[{\"type\":\"heatmap\",\"colorbar\":{\"outlinewidth\":0,\"ticks\":\"\"},\"colorscale\":[[0.0,\"#0d0887\"],[0.1111111111111111,\"#46039f\"],[0.2222222222222222,\"#7201a8\"],[0.3333333333333333,\"#9c179e\"],[0.4444444444444444,\"#bd3786\"],[0.5555555555555556,\"#d8576b\"],[0.6666666666666666,\"#ed7953\"],[0.7777777777777778,\"#fb9f3a\"],[0.8888888888888888,\"#fdca26\"],[1.0,\"#f0f921\"]]}],\"heatmapgl\":[{\"type\":\"heatmapgl\",\"colorbar\":{\"outlinewidth\":0,\"ticks\":\"\"},\"colorscale\":[[0.0,\"#0d0887\"],[0.1111111111111111,\"#46039f\"],[0.2222222222222222,\"#7201a8\"],[0.3333333333333333,\"#9c179e\"],[0.4444444444444444,\"#bd3786\"],[0.5555555555555556,\"#d8576b\"],[0.6666666666666666,\"#ed7953\"],[0.7777777777777778,\"#fb9f3a\"],[0.8888888888888888,\"#fdca26\"],[1.0,\"#f0f921\"]]}],\"contourcarpet\":[{\"type\":\"contourcarpet\",\"colorbar\":{\"outlinewidth\":0,\"ticks\":\"\"}}],\"contour\":[{\"type\":\"contour\",\"colorbar\":{\"outlinewidth\":0,\"ticks\":\"\"},\"colorscale\":[[0.0,\"#0d0887\"],[0.1111111111111111,\"#46039f\"],[0.2222222222222222,\"#7201a8\"],[0.3333333333333333,\"#9c179e\"],[0.4444444444444444,\"#bd3786\"],[0.5555555555555556,\"#d8576b\"],[0.6666666666666666,\"#ed7953\"],[0.7777777777777778,\"#fb9f3a\"],[0.8888888888888888,\"#fdca26\"],[1.0,\"#f0f921\"]]}],\"surface\":[{\"type\":\"surface\",\"colorbar\":{\"outlinewidth\":0,\"ticks\":\"\"},\"colorscale\":[[0.0,\"#0d0887\"],[0.1111111111111111,\"#46039f\"],[0.2222222222222222,\"#7201a8\"],[0.3333333333333333,\"#9c179e\"],[0.4444444444444444,\"#bd3786\"],[0.5555555555555556,\"#d8576b\"],[0.6666666666666666,\"#ed7953\"],[0.7777777777777778,\"#fb9f3a\"],[0.8888888888888888,\"#fdca26\"],[1.0,\"#f0f921\"]]}],\"mesh3d\":[{\"type\":\"mesh3d\",\"colorbar\":{\"outlinewidth\":0,\"ticks\":\"\"}}],\"scatter\":[{\"fillpattern\":{\"fillmode\":\"overlay\",\"size\":10,\"solidity\":0.2},\"type\":\"scatter\"}],\"parcoords\":[{\"type\":\"parcoords\",\"line\":{\"colorbar\":{\"outlinewidth\":0,\"ticks\":\"\"}}}],\"scatterpolargl\":[{\"type\":\"scatterpolargl\",\"marker\":{\"colorbar\":{\"outlinewidth\":0,\"ticks\":\"\"}}}],\"bar\":[{\"error_x\":{\"color\":\"#2a3f5f\"},\"error_y\":{\"color\":\"#2a3f5f\"},\"marker\":{\"line\":{\"color\":\"#E5ECF6\",\"width\":0.5},\"pattern\":{\"fillmode\":\"overlay\",\"size\":10,\"solidity\":0.2}},\"type\":\"bar\"}],\"scattergeo\":[{\"type\":\"scattergeo\",\"marker\":{\"colorbar\":{\"outlinewidth\":0,\"ticks\":\"\"}}}],\"scatterpolar\":[{\"type\":\"scatterpolar\",\"marker\":{\"colorbar\":{\"outlinewidth\":0,\"ticks\":\"\"}}}],\"histogram\":[{\"marker\":{\"pattern\":{\"fillmode\":\"overlay\",\"size\":10,\"solidity\":0.2}},\"type\":\"histogram\"}],\"scattergl\":[{\"type\":\"scattergl\",\"marker\":{\"colorbar\":{\"outlinewidth\":0,\"ticks\":\"\"}}}],\"scatter3d\":[{\"type\":\"scatter3d\",\"line\":{\"colorbar\":{\"outlinewidth\":0,\"ticks\":\"\"}},\"marker\":{\"colorbar\":{\"outlinewidth\":0,\"ticks\":\"\"}}}],\"scattermapbox\":[{\"type\":\"scattermapbox\",\"marker\":{\"colorbar\":{\"outlinewidth\":0,\"ticks\":\"\"}}}],\"scatterternary\":[{\"type\":\"scatterternary\",\"marker\":{\"colorbar\":{\"outlinewidth\":0,\"ticks\":\"\"}}}],\"scattercarpet\":[{\"type\":\"scattercarpet\",\"marker\":{\"colorbar\":{\"outlinewidth\":0,\"ticks\":\"\"}}}],\"carpet\":[{\"aaxis\":{\"endlinecolor\":\"#2a3f5f\",\"gridcolor\":\"white\",\"linecolor\":\"white\",\"minorgridcolor\":\"white\",\"startlinecolor\":\"#2a3f5f\"},\"baxis\":{\"endlinecolor\":\"#2a3f5f\",\"gridcolor\":\"white\",\"linecolor\":\"white\",\"minorgridcolor\":\"white\",\"startlinecolor\":\"#2a3f5f\"},\"type\":\"carpet\"}],\"table\":[{\"cells\":{\"fill\":{\"color\":\"#EBF0F8\"},\"line\":{\"color\":\"white\"}},\"header\":{\"fill\":{\"color\":\"#C8D4E3\"},\"line\":{\"color\":\"white\"}},\"type\":\"table\"}],\"barpolar\":[{\"marker\":{\"line\":{\"color\":\"#E5ECF6\",\"width\":0.5},\"pattern\":{\"fillmode\":\"overlay\",\"size\":10,\"solidity\":0.2}},\"type\":\"barpolar\"}],\"pie\":[{\"automargin\":true,\"type\":\"pie\"}]},\"layout\":{\"autotypenumbers\":\"strict\",\"colorway\":[\"#636efa\",\"#EF553B\",\"#00cc96\",\"#ab63fa\",\"#FFA15A\",\"#19d3f3\",\"#FF6692\",\"#B6E880\",\"#FF97FF\",\"#FECB52\"],\"font\":{\"color\":\"#2a3f5f\"},\"hovermode\":\"closest\",\"hoverlabel\":{\"align\":\"left\"},\"paper_bgcolor\":\"white\",\"plot_bgcolor\":\"#E5ECF6\",\"polar\":{\"bgcolor\":\"#E5ECF6\",\"angularaxis\":{\"gridcolor\":\"white\",\"linecolor\":\"white\",\"ticks\":\"\"},\"radialaxis\":{\"gridcolor\":\"white\",\"linecolor\":\"white\",\"ticks\":\"\"}},\"ternary\":{\"bgcolor\":\"#E5ECF6\",\"aaxis\":{\"gridcolor\":\"white\",\"linecolor\":\"white\",\"ticks\":\"\"},\"baxis\":{\"gridcolor\":\"white\",\"linecolor\":\"white\",\"ticks\":\"\"},\"caxis\":{\"gridcolor\":\"white\",\"linecolor\":\"white\",\"ticks\":\"\"}},\"coloraxis\":{\"colorbar\":{\"outlinewidth\":0,\"ticks\":\"\"}},\"colorscale\":{\"sequential\":[[0.0,\"#0d0887\"],[0.1111111111111111,\"#46039f\"],[0.2222222222222222,\"#7201a8\"],[0.3333333333333333,\"#9c179e\"],[0.4444444444444444,\"#bd3786\"],[0.5555555555555556,\"#d8576b\"],[0.6666666666666666,\"#ed7953\"],[0.7777777777777778,\"#fb9f3a\"],[0.8888888888888888,\"#fdca26\"],[1.0,\"#f0f921\"]],\"sequentialminus\":[[0.0,\"#0d0887\"],[0.1111111111111111,\"#46039f\"],[0.2222222222222222,\"#7201a8\"],[0.3333333333333333,\"#9c179e\"],[0.4444444444444444,\"#bd3786\"],[0.5555555555555556,\"#d8576b\"],[0.6666666666666666,\"#ed7953\"],[0.7777777777777778,\"#fb9f3a\"],[0.8888888888888888,\"#fdca26\"],[1.0,\"#f0f921\"]],\"diverging\":[[0,\"#8e0152\"],[0.1,\"#c51b7d\"],[0.2,\"#de77ae\"],[0.3,\"#f1b6da\"],[0.4,\"#fde0ef\"],[0.5,\"#f7f7f7\"],[0.6,\"#e6f5d0\"],[0.7,\"#b8e186\"],[0.8,\"#7fbc41\"],[0.9,\"#4d9221\"],[1,\"#276419\"]]},\"xaxis\":{\"gridcolor\":\"white\",\"linecolor\":\"white\",\"ticks\":\"\",\"title\":{\"standoff\":15},\"zerolinecolor\":\"white\",\"automargin\":true,\"zerolinewidth\":2},\"yaxis\":{\"gridcolor\":\"white\",\"linecolor\":\"white\",\"ticks\":\"\",\"title\":{\"standoff\":15},\"zerolinecolor\":\"white\",\"automargin\":true,\"zerolinewidth\":2},\"scene\":{\"xaxis\":{\"backgroundcolor\":\"#E5ECF6\",\"gridcolor\":\"white\",\"linecolor\":\"white\",\"showbackground\":true,\"ticks\":\"\",\"zerolinecolor\":\"white\",\"gridwidth\":2},\"yaxis\":{\"backgroundcolor\":\"#E5ECF6\",\"gridcolor\":\"white\",\"linecolor\":\"white\",\"showbackground\":true,\"ticks\":\"\",\"zerolinecolor\":\"white\",\"gridwidth\":2},\"zaxis\":{\"backgroundcolor\":\"#E5ECF6\",\"gridcolor\":\"white\",\"linecolor\":\"white\",\"showbackground\":true,\"ticks\":\"\",\"zerolinecolor\":\"white\",\"gridwidth\":2}},\"shapedefaults\":{\"line\":{\"color\":\"#2a3f5f\"}},\"annotationdefaults\":{\"arrowcolor\":\"#2a3f5f\",\"arrowhead\":0,\"arrowwidth\":1},\"geo\":{\"bgcolor\":\"white\",\"landcolor\":\"#E5ECF6\",\"subunitcolor\":\"white\",\"showland\":true,\"showlakes\":true,\"lakecolor\":\"white\"},\"title\":{\"x\":0.05},\"mapbox\":{\"style\":\"light\"}}},\"xaxis\":{\"anchor\":\"y\",\"domain\":[0.0,1.0],\"title\":{\"text\":\"Genre\"}},\"yaxis\":{\"anchor\":\"x\",\"domain\":[0.0,1.0],\"title\":{\"text\":\"Total Sales\"}},\"legend\":{\"tracegroupgap\":0},\"title\":{\"text\":\"Total Sales by Genre\"},\"barmode\":\"relative\"},                        {\"responsive\": true}                    ).then(function(){\n",
       "                            \n",
       "var gd = document.getElementById('14cd75ce-ba66-4d6a-84aa-eb5b61efe266');\n",
       "var x = new MutationObserver(function (mutations, observer) {{\n",
       "        var display = window.getComputedStyle(gd).display;\n",
       "        if (!display || display === 'none') {{\n",
       "            console.log([gd, 'removed!']);\n",
       "            Plotly.purge(gd);\n",
       "            observer.disconnect();\n",
       "        }}\n",
       "}});\n",
       "\n",
       "// Listen for the removal of the full notebook cells\n",
       "var notebookContainer = gd.closest('#notebook-container');\n",
       "if (notebookContainer) {{\n",
       "    x.observe(notebookContainer, {childList: true});\n",
       "}}\n",
       "\n",
       "// Listen for the clearing of the current output cell\n",
       "var outputEl = gd.closest('.output');\n",
       "if (outputEl) {{\n",
       "    x.observe(outputEl, {childList: true});\n",
       "}}\n",
       "\n",
       "                        })                };                });            </script>        </div>"
      ]
     },
     "metadata": {},
     "output_type": "display_data"
    }
   ],
   "source": [
    "# Visualização da quantidade de vendas por genêro\n",
    "\n",
    "sales_by_gender = sales_last_5_years.groupby(\n",
    "    'genre')['total_sales'].sum().reset_index()\n",
    "sales_by_gender = sales_by_gender.sort_values(\n",
    "    by='total_sales', ascending=False).reset_index(drop=True)\n",
    "\n",
    "fig = px.bar(sales_by_gender,\n",
    "             x='genre',\n",
    "             y='total_sales',\n",
    "             title='Total Sales by Genre',\n",
    "             labels={\n",
    "                 'total_sales': 'Total Sales',\n",
    "                 'genre': 'Genre'\n",
    "             })\n",
    "\n",
    "fig.show()"
   ]
  },
  {
   "cell_type": "markdown",
   "metadata": {},
   "source": [
    "É possível perceber que os jogos mais vendidos envolvem ação de alguma forma, visto pelo próprio gênero Ação e o gênero Tiro, além do Role-Playing que também envolve um pouco de ação."
   ]
  },
  {
   "cell_type": "code",
   "execution_count": 81,
   "metadata": {},
   "outputs": [
    {
     "data": {
      "text/html": [
       "<div>                            <div id=\"fa4bbf68-066b-472c-94cc-72ac8d7f9843\" class=\"plotly-graph-div\" style=\"height:525px; width:100%;\"></div>            <script type=\"text/javascript\">                require([\"plotly\"], function(Plotly) {                    window.PLOTLYENV=window.PLOTLYENV || {};                                    if (document.getElementById(\"fa4bbf68-066b-472c-94cc-72ac8d7f9843\")) {                    Plotly.newPlot(                        \"fa4bbf68-066b-472c-94cc-72ac8d7f9843\",                        [{\"alignmentgroup\":\"True\",\"hovertemplate\":\"Genre=%{x}\\u003cbr\\u003eTotal Sales=%{y}\\u003cextra\\u003e\\u003c\\u002fextra\\u003e\",\"legendgroup\":\"\",\"marker\":{\"color\":\"#636efa\"},\"name\":\"\",\"notched\":false,\"offsetgroup\":\"\",\"orientation\":\"v\",\"showlegend\":false,\"x\":[\"Action\",\"Action\",\"Shooter\",\"Role-Playing\",\"Shooter\",\"Shooter\",\"Action\",\"Role-Playing\",\"Shooter\",\"Platform\",\"Shooter\",\"Shooter\",\"Misc\",\"Simulation\",\"Sports\",\"Action\",\"Role-Playing\",\"Shooter\",\"Shooter\",\"Sports\",\"Fighting\",\"Shooter\",\"Role-Playing\",\"Role-Playing\",\"Racing\",\"Misc\",\"Sports\",\"Action\",\"Sports\",\"Action\",\"Shooter\",\"Action\",\"Shooter\",\"Action\",\"Shooter\",\"Misc\",\"Simulation\",\"Platform\",\"Action\",\"Role-Playing\",\"Fighting\",\"Action\",\"Action\",\"Action\",\"Shooter\",\"Shooter\",\"Shooter\",\"Misc\",\"Shooter\",\"Platform\",\"Misc\",\"Shooter\",\"Sports\",\"Role-Playing\",\"Sports\",\"Shooter\",\"Action\",\"Shooter\",\"Role-Playing\",\"Action\",\"Action\",\"Role-Playing\",\"Sports\",\"Shooter\",\"Shooter\",\"Action\",\"Shooter\",\"Shooter\",\"Misc\",\"Action\",\"Shooter\",\"Shooter\",\"Role-Playing\",\"Action\",\"Action\",\"Shooter\",\"Shooter\",\"Action\",\"Action\",\"Role-Playing\",\"Shooter\",\"Sports\",\"Sports\",\"Racing\",\"Shooter\",\"Platform\",\"Misc\",\"Action\",\"Shooter\",\"Simulation\",\"Simulation\",\"Shooter\",\"Role-Playing\",\"Sports\",\"Shooter\",\"Sports\",\"Action\",\"Shooter\",\"Shooter\",\"Sports\",\"Sports\",\"Action\",\"Racing\",\"Action\",\"Fighting\",\"Misc\",\"Sports\",\"Shooter\",\"Role-Playing\",\"Sports\",\"Sports\",\"Sports\",\"Action\",\"Action\",\"Sports\",\"Sports\",\"Racing\",\"Shooter\",\"Sports\",\"Action\",\"Action\",\"Sports\",\"Action\",\"Role-Playing\",\"Action\",\"Action\",\"Action\",\"Shooter\",\"Action\",\"Platform\",\"Action\",\"Sports\",\"Shooter\",\"Action\",\"Shooter\",\"Racing\",\"Sports\",\"Sports\",\"Shooter\",\"Platform\",\"Shooter\",\"Action\",\"Sports\",\"Shooter\",\"Action\",\"Role-Playing\",\"Role-Playing\",\"Racing\",\"Sports\",\"Shooter\",\"Role-Playing\",\"Misc\",\"Role-Playing\",\"Racing\",\"Misc\",\"Racing\",\"Shooter\",\"Shooter\",\"Shooter\",\"Shooter\",\"Misc\",\"Role-Playing\",\"Platform\",\"Action\",\"Platform\",\"Action\",\"Sports\",\"Sports\",\"Action\",\"Shooter\",\"Action\",\"Platform\",\"Role-Playing\",\"Role-Playing\",\"Action\",\"Racing\",\"Action\",\"Action\",\"Sports\",\"Role-Playing\",\"Misc\",\"Role-Playing\",\"Action\",\"Action\",\"Role-Playing\",\"Shooter\",\"Platform\",\"Action\",\"Racing\",\"Sports\",\"Action\",\"Shooter\",\"Action\",\"Shooter\",\"Shooter\",\"Role-Playing\",\"Strategy\",\"Adventure\",\"Action\",\"Action\",\"Role-Playing\",\"Shooter\",\"Adventure\",\"Sports\",\"Shooter\",\"Action\",\"Shooter\",\"Action\",\"Action\",\"Misc\",\"Action\",\"Shooter\",\"Action\",\"Sports\",\"Sports\",\"Racing\",\"Shooter\",\"Platform\",\"Sports\",\"Action\",\"Shooter\",\"Platform\",\"Role-Playing\",\"Action\",\"Shooter\",\"Platform\",\"Action\",\"Shooter\",\"Role-Playing\",\"Sports\",\"Sports\",\"Action\",\"Role-Playing\",\"Simulation\",\"Action\",\"Action\",\"Role-Playing\",\"Action\",\"Racing\",\"Fighting\",\"Platform\",\"Action\",\"Role-Playing\",\"Action\",\"Fighting\",\"Adventure\",\"Shooter\",\"Action\",\"Action\",\"Shooter\",\"Shooter\",\"Shooter\",\"Sports\",\"Action\",\"Role-Playing\",\"Platform\",\"Action\",\"Role-Playing\",\"Platform\",\"Action\",\"Action\",\"Shooter\",\"Action\",\"Role-Playing\",\"Action\",\"Role-Playing\",\"Action\",\"Role-Playing\",\"Action\",\"Role-Playing\",\"Action\",\"Action\",\"Role-Playing\",\"Racing\",\"Action\",\"Action\",\"Platform\",\"Role-Playing\",\"Sports\",\"Sports\",\"Role-Playing\",\"Action\",\"Action\",\"Sports\",\"Shooter\",\"Simulation\",\"Action\",\"Puzzle\",\"Shooter\",\"Sports\",\"Fighting\",\"Misc\",\"Action\",\"Action\",\"Action\",\"Action\",\"Sports\",\"Sports\",\"Action\",\"Sports\",\"Sports\",\"Shooter\",\"Fighting\",\"Action\",\"Shooter\",\"Role-Playing\",\"Action\",\"Role-Playing\",\"Strategy\",\"Sports\",\"Fighting\",\"Platform\",\"Sports\",\"Racing\",\"Action\",\"Role-Playing\",\"Racing\",\"Action\",\"Shooter\",\"Role-Playing\",\"Shooter\",\"Action\",\"Action\",\"Action\",\"Sports\",\"Action\",\"Racing\",\"Action\",\"Action\",\"Sports\",\"Platform\",\"Role-Playing\",\"Racing\",\"Action\",\"Platform\",\"Action\",\"Fighting\",\"Misc\",\"Action\",\"Role-Playing\",\"Action\",\"Misc\",\"Action\",\"Sports\",\"Action\",\"Role-Playing\",\"Shooter\",\"Shooter\",\"Action\",\"Role-Playing\",\"Simulation\",\"Role-Playing\",\"Shooter\",\"Sports\",\"Action\",\"Action\",\"Action\",\"Action\",\"Shooter\",\"Misc\",\"Action\",\"Sports\",\"Misc\",\"Action\",\"Adventure\",\"Fighting\",\"Sports\",\"Role-Playing\",\"Action\",\"Action\",\"Action\",\"Action\",\"Shooter\",\"Adventure\",\"Sports\",\"Role-Playing\",\"Role-Playing\",\"Sports\",\"Action\",\"Fighting\",\"Sports\",\"Sports\",\"Fighting\",\"Action\",\"Shooter\",\"Shooter\",\"Action\",\"Action\",\"Role-Playing\",\"Sports\",\"Action\",\"Action\",\"Action\",\"Sports\",\"Action\",\"Action\",\"Platform\",\"Action\",\"Adventure\",\"Action\",\"Action\",\"Shooter\",\"Action\",\"Role-Playing\",\"Action\",\"Action\",\"Action\",\"Shooter\",\"Role-Playing\",\"Misc\",\"Action\",\"Role-Playing\",\"Fighting\",\"Sports\",\"Action\",\"Role-Playing\",\"Role-Playing\",\"Action\",\"Sports\",\"Shooter\",\"Fighting\",\"Action\",\"Action\",\"Action\",\"Misc\",\"Action\",\"Sports\",\"Puzzle\",\"Shooter\",\"Role-Playing\",\"Action\",\"Action\",\"Racing\",\"Action\",\"Role-Playing\",\"Role-Playing\",\"Sports\",\"Action\",\"Misc\",\"Racing\",\"Sports\",\"Action\",\"Sports\",\"Sports\",\"Shooter\",\"Action\",\"Adventure\",\"Action\",\"Shooter\",\"Role-Playing\",\"Puzzle\",\"Misc\",\"Shooter\",\"Action\",\"Action\",\"Fighting\",\"Sports\",\"Role-Playing\",\"Misc\",\"Role-Playing\",\"Role-Playing\",\"Action\",\"Action\",\"Action\",\"Role-Playing\",\"Action\",\"Sports\",\"Action\",\"Sports\",\"Sports\",\"Role-Playing\",\"Action\",\"Adventure\",\"Simulation\",\"Fighting\",\"Action\",\"Misc\",\"Action\",\"Fighting\",\"Action\",\"Strategy\",\"Role-Playing\",\"Sports\",\"Shooter\",\"Action\",\"Role-Playing\",\"Strategy\",\"Action\",\"Sports\",\"Action\",\"Shooter\",\"Action\",\"Adventure\",\"Role-Playing\",\"Adventure\",\"Action\",\"Action\",\"Racing\",\"Shooter\",\"Racing\",\"Action\",\"Misc\",\"Shooter\",\"Shooter\",\"Action\",\"Action\",\"Action\",\"Sports\",\"Action\",\"Action\",\"Action\",\"Racing\",\"Role-Playing\",\"Puzzle\",\"Sports\",\"Action\",\"Platform\",\"Shooter\",\"Action\",\"Shooter\",\"Action\",\"Action\",\"Role-Playing\",\"Misc\",\"Shooter\",\"Fighting\",\"Action\",\"Simulation\",\"Action\",\"Shooter\",\"Action\",\"Action\",\"Action\",\"Sports\",\"Sports\",\"Action\",\"Racing\",\"Sports\",\"Fighting\",\"Shooter\",\"Platform\",\"Role-Playing\",\"Misc\",\"Shooter\",\"Shooter\",\"Misc\",\"Action\",\"Shooter\",\"Sports\",\"Strategy\",\"Action\",\"Action\",\"Action\",\"Adventure\",\"Sports\",\"Action\",\"Shooter\",\"Adventure\",\"Shooter\",\"Action\",\"Role-Playing\",\"Shooter\",\"Action\",\"Misc\",\"Sports\",\"Action\",\"Action\",\"Platform\",\"Action\",\"Sports\",\"Misc\",\"Sports\",\"Role-Playing\",\"Sports\",\"Action\",\"Sports\",\"Action\",\"Fighting\",\"Racing\",\"Adventure\",\"Platform\",\"Role-Playing\",\"Fighting\",\"Platform\",\"Sports\",\"Sports\",\"Sports\",\"Shooter\",\"Strategy\",\"Shooter\",\"Sports\",\"Shooter\",\"Shooter\",\"Misc\",\"Role-Playing\",\"Role-Playing\",\"Role-Playing\",\"Shooter\",\"Adventure\",\"Action\",\"Action\",\"Action\",\"Action\",\"Sports\",\"Misc\",\"Action\",\"Action\",\"Action\",\"Action\",\"Shooter\",\"Platform\",\"Shooter\",\"Sports\",\"Racing\",\"Platform\",\"Sports\",\"Role-Playing\",\"Sports\",\"Action\",\"Role-Playing\",\"Misc\",\"Action\",\"Shooter\",\"Action\",\"Strategy\",\"Action\",\"Role-Playing\",\"Role-Playing\",\"Action\",\"Action\",\"Role-Playing\",\"Platform\",\"Platform\",\"Action\",\"Racing\",\"Action\",\"Role-Playing\",\"Shooter\",\"Shooter\",\"Action\",\"Fighting\",\"Sports\",\"Sports\",\"Shooter\",\"Misc\",\"Sports\",\"Sports\",\"Action\",\"Racing\",\"Platform\",\"Shooter\",\"Action\",\"Action\",\"Misc\",\"Racing\",\"Role-Playing\",\"Puzzle\",\"Action\",\"Action\",\"Shooter\",\"Sports\",\"Fighting\",\"Action\",\"Action\",\"Sports\",\"Sports\",\"Shooter\",\"Misc\",\"Fighting\",\"Action\",\"Action\",\"Action\",\"Role-Playing\",\"Sports\",\"Action\",\"Action\",\"Simulation\",\"Action\",\"Action\",\"Adventure\",\"Action\",\"Action\",\"Action\",\"Misc\",\"Sports\",\"Action\",\"Sports\",\"Action\",\"Action\",\"Role-Playing\",\"Action\",\"Sports\",\"Action\",\"Shooter\",\"Action\",\"Action\",\"Sports\",\"Fighting\",\"Shooter\",\"Action\",\"Action\",\"Role-Playing\",\"Action\",\"Action\",\"Action\",\"Action\",\"Shooter\",\"Action\",\"Action\",\"Fighting\",\"Action\",\"Action\",\"Sports\",\"Action\",\"Shooter\",\"Sports\",\"Action\",\"Role-Playing\",\"Misc\",\"Shooter\",\"Action\",\"Platform\",\"Sports\",\"Action\",\"Action\",\"Simulation\",\"Racing\",\"Simulation\",\"Action\",\"Sports\",\"Shooter\",\"Role-Playing\",\"Action\",\"Misc\",\"Misc\",\"Sports\",\"Simulation\",\"Shooter\",\"Action\",\"Action\",\"Sports\",\"Shooter\",\"Sports\",\"Racing\",\"Shooter\",\"Role-Playing\",\"Shooter\",\"Shooter\",\"Misc\",\"Role-Playing\",\"Role-Playing\",\"Role-Playing\",\"Adventure\",\"Adventure\",\"Action\",\"Action\",\"Action\",\"Sports\",\"Role-Playing\",\"Action\",\"Sports\",\"Misc\",\"Action\",\"Action\",\"Simulation\",\"Action\",\"Role-Playing\",\"Action\",\"Role-Playing\",\"Action\",\"Action\",\"Adventure\",\"Platform\",\"Platform\",\"Shooter\",\"Action\",\"Sports\",\"Racing\",\"Misc\",\"Action\",\"Racing\",\"Simulation\",\"Sports\",\"Misc\",\"Shooter\",\"Adventure\",\"Shooter\",\"Action\",\"Role-Playing\",\"Sports\",\"Role-Playing\",\"Role-Playing\",\"Fighting\",\"Action\",\"Misc\",\"Sports\",\"Action\",\"Racing\",\"Action\",\"Simulation\",\"Role-Playing\",\"Misc\",\"Sports\",\"Shooter\",\"Misc\",\"Sports\",\"Shooter\",\"Action\",\"Racing\",\"Action\",\"Action\",\"Action\",\"Strategy\",\"Sports\",\"Shooter\",\"Role-Playing\",\"Simulation\",\"Misc\",\"Strategy\",\"Role-Playing\",\"Action\",\"Sports\",\"Role-Playing\",\"Action\",\"Racing\",\"Simulation\",\"Shooter\",\"Action\",\"Simulation\",\"Sports\",\"Action\",\"Shooter\",\"Action\",\"Fighting\",\"Action\",\"Action\",\"Simulation\",\"Action\",\"Shooter\",\"Shooter\",\"Action\",\"Platform\",\"Shooter\",\"Action\",\"Shooter\",\"Fighting\",\"Action\",\"Strategy\",\"Platform\",\"Action\",\"Shooter\",\"Fighting\",\"Action\",\"Strategy\",\"Role-Playing\",\"Sports\",\"Role-Playing\",\"Action\",\"Shooter\",\"Fighting\",\"Action\",\"Misc\",\"Shooter\",\"Action\",\"Fighting\",\"Misc\",\"Misc\",\"Action\",\"Action\",\"Fighting\",\"Fighting\",\"Strategy\",\"Misc\",\"Role-Playing\",\"Misc\",\"Action\",\"Misc\",\"Action\",\"Shooter\",\"Adventure\",\"Action\",\"Platform\",\"Racing\",\"Action\",\"Role-Playing\",\"Fighting\",\"Action\",\"Action\",\"Action\",\"Action\",\"Simulation\",\"Adventure\",\"Action\",\"Strategy\",\"Role-Playing\",\"Sports\",\"Fighting\",\"Action\",\"Fighting\",\"Strategy\",\"Role-Playing\",\"Misc\",\"Fighting\",\"Action\",\"Shooter\",\"Action\",\"Racing\",\"Sports\",\"Action\",\"Role-Playing\",\"Role-Playing\",\"Fighting\",\"Action\",\"Action\",\"Action\",\"Action\",\"Racing\",\"Action\",\"Sports\",\"Action\",\"Misc\",\"Fighting\",\"Shooter\",\"Action\",\"Action\",\"Action\",\"Strategy\",\"Action\",\"Shooter\",\"Misc\",\"Role-Playing\",\"Racing\",\"Action\",\"Action\",\"Sports\",\"Shooter\",\"Sports\",\"Misc\",\"Role-Playing\",\"Action\",\"Role-Playing\",\"Action\",\"Shooter\",\"Shooter\",\"Misc\",\"Shooter\",\"Action\",\"Action\",\"Action\",\"Action\",\"Strategy\",\"Action\",\"Shooter\",\"Misc\",\"Adventure\",\"Racing\",\"Racing\",\"Action\",\"Action\",\"Misc\",\"Racing\",\"Misc\",\"Adventure\",\"Action\",\"Action\",\"Action\",\"Role-Playing\",\"Misc\",\"Action\",\"Role-Playing\",\"Action\",\"Action\",\"Sports\",\"Action\",\"Action\",\"Action\",\"Action\",\"Action\",\"Strategy\",\"Platform\",\"Sports\",\"Fighting\",\"Shooter\",\"Sports\",\"Role-Playing\",\"Action\",\"Sports\",\"Racing\",\"Action\",\"Action\",\"Action\",\"Role-Playing\",\"Shooter\",\"Action\",\"Action\",\"Shooter\",\"Platform\",\"Action\",\"Role-Playing\",\"Role-Playing\",\"Adventure\",\"Misc\",\"Role-Playing\",\"Misc\",\"Strategy\",\"Misc\",\"Racing\",\"Shooter\",\"Role-Playing\",\"Action\",\"Adventure\",\"Action\",\"Action\",\"Strategy\",\"Adventure\",\"Role-Playing\",\"Racing\",\"Platform\",\"Action\",\"Role-Playing\",\"Racing\",\"Action\",\"Platform\",\"Action\",\"Action\",\"Action\",\"Platform\",\"Strategy\",\"Action\",\"Sports\",\"Action\",\"Fighting\",\"Shooter\",\"Sports\",\"Role-Playing\",\"Misc\",\"Action\",\"Sports\",\"Adventure\",\"Sports\",\"Role-Playing\",\"Role-Playing\",\"Action\",\"Action\",\"Simulation\",\"Action\",\"Action\",\"Sports\",\"Action\",\"Misc\",\"Role-Playing\",\"Racing\",\"Action\",\"Strategy\",\"Misc\",\"Sports\",\"Adventure\",\"Action\",\"Adventure\",\"Shooter\",\"Sports\",\"Action\",\"Role-Playing\",\"Action\",\"Role-Playing\",\"Action\",\"Misc\",\"Shooter\",\"Misc\",\"Role-Playing\",\"Action\",\"Racing\",\"Action\",\"Action\",\"Role-Playing\",\"Misc\",\"Action\",\"Misc\",\"Role-Playing\",\"Action\",\"Action\",\"Action\",\"Racing\",\"Adventure\",\"Role-Playing\",\"Role-Playing\",\"Simulation\",\"Action\",\"Role-Playing\",\"Action\",\"Action\",\"Action\",\"Fighting\",\"Racing\",\"Action\",\"Strategy\",\"Simulation\",\"Simulation\",\"Shooter\",\"Action\",\"Strategy\",\"Shooter\",\"Action\",\"Role-Playing\",\"Action\",\"Adventure\",\"Role-Playing\",\"Action\",\"Role-Playing\",\"Action\",\"Role-Playing\",\"Action\",\"Adventure\",\"Role-Playing\",\"Strategy\",\"Sports\",\"Action\",\"Fighting\",\"Platform\",\"Simulation\",\"Shooter\",\"Sports\",\"Action\",\"Action\",\"Shooter\",\"Action\",\"Action\",\"Action\",\"Action\",\"Shooter\",\"Role-Playing\",\"Role-Playing\",\"Simulation\",\"Shooter\",\"Action\",\"Role-Playing\",\"Simulation\",\"Action\",\"Action\",\"Sports\",\"Adventure\",\"Action\",\"Sports\",\"Action\",\"Role-Playing\",\"Role-Playing\",\"Fighting\",\"Action\",\"Sports\",\"Action\",\"Sports\",\"Simulation\",\"Sports\",\"Strategy\",\"Action\",\"Action\",\"Simulation\",\"Action\",\"Role-Playing\",\"Action\",\"Sports\",\"Action\",\"Action\",\"Misc\",\"Role-Playing\",\"Role-Playing\",\"Action\",\"Misc\",\"Simulation\",\"Action\",\"Action\",\"Misc\",\"Action\",\"Fighting\",\"Action\",\"Misc\",\"Action\",\"Action\",\"Role-Playing\",\"Sports\",\"Action\",\"Fighting\",\"Action\",\"Shooter\",\"Sports\",\"Action\",\"Action\",\"Misc\",\"Adventure\",\"Role-Playing\",\"Fighting\",\"Strategy\",\"Role-Playing\",\"Misc\",\"Action\",\"Action\",\"Misc\",\"Sports\",\"Role-Playing\",\"Action\",\"Action\",\"Misc\",\"Role-Playing\",\"Role-Playing\",\"Action\",\"Role-Playing\",\"Fighting\",\"Adventure\",\"Platform\",\"Misc\",\"Misc\",\"Sports\",\"Fighting\",\"Action\",\"Action\",\"Role-Playing\",\"Misc\",\"Shooter\",\"Sports\",\"Fighting\",\"Action\",\"Adventure\",\"Racing\",\"Role-Playing\",\"Platform\",\"Role-Playing\",\"Action\",\"Racing\",\"Misc\",\"Sports\",\"Shooter\",\"Action\",\"Sports\",\"Action\",\"Shooter\",\"Action\",\"Racing\",\"Adventure\",\"Sports\",\"Role-Playing\",\"Action\",\"Misc\",\"Action\",\"Racing\",\"Action\",\"Action\",\"Role-Playing\",\"Sports\",\"Action\",\"Sports\",\"Shooter\",\"Misc\",\"Misc\",\"Action\",\"Role-Playing\",\"Sports\",\"Role-Playing\",\"Role-Playing\",\"Role-Playing\",\"Action\",\"Action\",\"Action\",\"Action\",\"Role-Playing\",\"Adventure\",\"Role-Playing\",\"Racing\",\"Action\",\"Role-Playing\",\"Racing\",\"Sports\",\"Action\",\"Sports\",\"Role-Playing\",\"Action\",\"Role-Playing\",\"Fighting\",\"Action\",\"Platform\",\"Simulation\",\"Action\",\"Action\",\"Role-Playing\",\"Action\",\"Racing\",\"Misc\",\"Simulation\",\"Fighting\",\"Strategy\",\"Adventure\",\"Shooter\",\"Platform\",\"Adventure\",\"Role-Playing\",\"Action\",\"Role-Playing\",\"Misc\",\"Simulation\",\"Role-Playing\",\"Action\",\"Action\",\"Role-Playing\",\"Sports\",\"Misc\",\"Action\",\"Platform\",\"Action\",\"Simulation\",\"Misc\",\"Action\",\"Role-Playing\",\"Action\",\"Role-Playing\",\"Action\",\"Action\",\"Action\",\"Role-Playing\",\"Action\",\"Action\",\"Role-Playing\",\"Action\",\"Action\",\"Action\",\"Sports\",\"Action\",\"Action\",\"Shooter\",\"Fighting\",\"Role-Playing\",\"Adventure\",\"Action\",\"Action\",\"Role-Playing\",\"Action\",\"Action\",\"Action\",\"Action\",\"Shooter\",\"Action\",\"Platform\",\"Role-Playing\",\"Action\",\"Racing\",\"Sports\",\"Action\",\"Action\",\"Sports\",\"Shooter\",\"Shooter\",\"Action\",\"Action\",\"Action\",\"Simulation\",\"Action\",\"Action\",\"Adventure\",\"Platform\",\"Simulation\",\"Strategy\",\"Sports\",\"Role-Playing\",\"Sports\",\"Simulation\",\"Platform\",\"Sports\",\"Adventure\",\"Action\",\"Role-Playing\",\"Shooter\",\"Sports\",\"Action\",\"Platform\",\"Action\",\"Shooter\",\"Action\",\"Action\",\"Action\",\"Action\",\"Shooter\",\"Adventure\",\"Action\",\"Role-Playing\",\"Fighting\",\"Shooter\",\"Action\",\"Action\",\"Action\",\"Action\",\"Role-Playing\",\"Action\",\"Action\",\"Action\",\"Role-Playing\",\"Adventure\",\"Adventure\",\"Fighting\",\"Role-Playing\",\"Action\",\"Action\",\"Action\",\"Fighting\",\"Strategy\",\"Adventure\",\"Misc\",\"Misc\",\"Action\",\"Sports\",\"Action\",\"Fighting\",\"Action\",\"Action\",\"Action\",\"Action\",\"Action\",\"Action\",\"Fighting\",\"Misc\",\"Role-Playing\",\"Sports\",\"Sports\",\"Shooter\",\"Action\",\"Role-Playing\",\"Adventure\",\"Action\",\"Strategy\",\"Sports\",\"Racing\",\"Role-Playing\",\"Action\",\"Platform\",\"Action\",\"Shooter\",\"Racing\",\"Action\",\"Action\",\"Racing\",\"Action\",\"Misc\",\"Role-Playing\",\"Shooter\",\"Role-Playing\",\"Action\",\"Action\",\"Role-Playing\",\"Action\",\"Action\",\"Action\",\"Sports\",\"Role-Playing\",\"Role-Playing\",\"Action\",\"Adventure\",\"Misc\",\"Shooter\",\"Action\",\"Simulation\",\"Action\",\"Platform\",\"Role-Playing\",\"Role-Playing\",\"Action\",\"Sports\",\"Action\",\"Adventure\",\"Sports\",\"Action\",\"Misc\",\"Fighting\",\"Action\",\"Role-Playing\",\"Action\",\"Sports\",\"Action\",\"Action\",\"Action\",\"Misc\",\"Shooter\",\"Action\",\"Simulation\",\"Fighting\",\"Sports\",\"Sports\",\"Misc\",\"Simulation\",\"Sports\",\"Action\",\"Action\",\"Action\",\"Shooter\",\"Sports\",\"Role-Playing\",\"Misc\",\"Action\",\"Role-Playing\",\"Action\",\"Sports\",\"Shooter\",\"Puzzle\",\"Action\",\"Action\",\"Sports\",\"Action\",\"Simulation\",\"Action\",\"Racing\",\"Action\",\"Action\",\"Action\",\"Action\",\"Role-Playing\",\"Racing\",\"Misc\",\"Action\",\"Action\",\"Action\",\"Adventure\",\"Role-Playing\",\"Action\",\"Role-Playing\",\"Action\",\"Puzzle\",\"Action\",\"Sports\",\"Shooter\",\"Action\",\"Shooter\",\"Role-Playing\",\"Racing\",\"Sports\",\"Shooter\",\"Sports\",\"Role-Playing\",\"Sports\",\"Adventure\",\"Action\",\"Fighting\",\"Sports\",\"Fighting\",\"Action\",\"Adventure\",\"Platform\",\"Action\",\"Role-Playing\",\"Action\",\"Action\",\"Action\",\"Action\",\"Action\",\"Role-Playing\",\"Role-Playing\",\"Action\",\"Role-Playing\",\"Shooter\",\"Action\",\"Role-Playing\",\"Action\",\"Role-Playing\",\"Action\",\"Racing\",\"Racing\",\"Adventure\",\"Simulation\",\"Role-Playing\",\"Sports\",\"Role-Playing\",\"Puzzle\",\"Action\",\"Action\",\"Puzzle\",\"Action\",\"Action\",\"Action\",\"Action\",\"Role-Playing\",\"Action\",\"Sports\",\"Adventure\",\"Role-Playing\",\"Adventure\",\"Fighting\",\"Shooter\",\"Adventure\",\"Action\",\"Adventure\",\"Adventure\",\"Role-Playing\",\"Shooter\",\"Action\",\"Sports\",\"Racing\",\"Strategy\",\"Simulation\",\"Sports\",\"Platform\",\"Role-Playing\",\"Action\",\"Role-Playing\",\"Adventure\",\"Action\",\"Role-Playing\",\"Role-Playing\",\"Action\",\"Sports\",\"Action\",\"Platform\",\"Action\",\"Fighting\",\"Action\",\"Misc\",\"Puzzle\",\"Adventure\",\"Action\",\"Adventure\",\"Action\",\"Misc\",\"Action\",\"Action\",\"Role-Playing\",\"Action\",\"Action\",\"Sports\",\"Action\",\"Platform\",\"Adventure\",\"Platform\",\"Action\",\"Adventure\",\"Sports\",\"Adventure\",\"Shooter\",\"Simulation\",\"Racing\",\"Misc\",\"Misc\",\"Fighting\",\"Platform\",\"Fighting\",\"Action\",\"Action\",\"Platform\",\"Misc\",\"Adventure\",\"Action\",\"Sports\",\"Racing\",\"Role-Playing\",\"Adventure\",\"Platform\",\"Platform\",\"Action\",\"Sports\",\"Role-Playing\",\"Action\",\"Strategy\",\"Action\",\"Racing\",\"Strategy\",\"Action\",\"Action\",\"Action\",\"Action\",\"Sports\",\"Role-Playing\",\"Action\",\"Role-Playing\",\"Fighting\",\"Action\",\"Adventure\",\"Sports\",\"Role-Playing\",\"Action\",\"Role-Playing\",\"Misc\",\"Action\",\"Platform\",\"Action\",\"Role-Playing\",\"Strategy\",\"Action\",\"Action\",\"Strategy\",\"Racing\",\"Fighting\",\"Adventure\",\"Adventure\",\"Strategy\",\"Action\",\"Sports\",\"Action\",\"Racing\",\"Platform\",\"Action\",\"Sports\",\"Action\",\"Shooter\",\"Action\",\"Misc\",\"Fighting\",\"Platform\",\"Fighting\",\"Simulation\",\"Action\",\"Role-Playing\",\"Action\",\"Shooter\",\"Fighting\",\"Misc\",\"Action\",\"Platform\",\"Action\",\"Shooter\",\"Sports\",\"Adventure\",\"Adventure\",\"Adventure\",\"Misc\",\"Action\",\"Action\",\"Platform\",\"Adventure\",\"Role-Playing\",\"Sports\",\"Role-Playing\",\"Shooter\",\"Action\",\"Role-Playing\",\"Simulation\",\"Action\",\"Role-Playing\",\"Role-Playing\",\"Action\",\"Action\",\"Action\",\"Action\",\"Sports\",\"Simulation\",\"Action\",\"Action\",\"Action\",\"Racing\",\"Action\",\"Role-Playing\",\"Misc\",\"Racing\",\"Adventure\",\"Action\",\"Adventure\",\"Role-Playing\",\"Misc\",\"Role-Playing\",\"Platform\",\"Role-Playing\",\"Action\",\"Strategy\",\"Fighting\",\"Role-Playing\",\"Fighting\",\"Adventure\",\"Fighting\",\"Role-Playing\",\"Role-Playing\",\"Adventure\",\"Adventure\",\"Action\",\"Sports\",\"Role-Playing\",\"Action\",\"Role-Playing\",\"Simulation\",\"Adventure\",\"Simulation\",\"Adventure\",\"Action\",\"Role-Playing\",\"Sports\",\"Misc\",\"Role-Playing\",\"Shooter\",\"Misc\",\"Misc\",\"Action\",\"Action\",\"Action\",\"Role-Playing\",\"Role-Playing\",\"Action\",\"Misc\",\"Adventure\",\"Role-Playing\",\"Role-Playing\",\"Role-Playing\",\"Role-Playing\",\"Adventure\",\"Puzzle\",\"Action\",\"Misc\",\"Strategy\",\"Sports\",\"Misc\",\"Fighting\",\"Role-Playing\",\"Action\",\"Fighting\",\"Action\",\"Action\",\"Action\",\"Role-Playing\",\"Fighting\",\"Action\",\"Action\",\"Action\",\"Adventure\",\"Adventure\",\"Adventure\",\"Sports\",\"Action\",\"Adventure\",\"Shooter\",\"Action\",\"Action\",\"Role-Playing\",\"Shooter\",\"Role-Playing\",\"Role-Playing\",\"Adventure\",\"Fighting\",\"Action\",\"Action\",\"Adventure\",\"Role-Playing\",\"Role-Playing\",\"Strategy\",\"Action\",\"Adventure\",\"Action\",\"Role-Playing\",\"Misc\",\"Adventure\",\"Action\",\"Role-Playing\",\"Role-Playing\",\"Strategy\",\"Action\",\"Racing\",\"Misc\",\"Role-Playing\",\"Action\",\"Action\",\"Action\",\"Action\",\"Puzzle\",\"Action\",\"Fighting\",\"Misc\",\"Adventure\",\"Platform\",\"Sports\",\"Misc\",\"Action\",\"Role-Playing\",\"Action\",\"Racing\",\"Fighting\",\"Action\",\"Sports\",\"Adventure\",\"Action\",\"Action\",\"Action\",\"Action\",\"Adventure\",\"Action\",\"Action\",\"Misc\",\"Action\",\"Simulation\",\"Action\",\"Action\",\"Adventure\",\"Racing\",\"Role-Playing\",\"Role-Playing\",\"Action\",\"Shooter\",\"Action\",\"Role-Playing\",\"Action\",\"Action\",\"Strategy\",\"Action\",\"Action\",\"Action\",\"Role-Playing\",\"Role-Playing\",\"Action\",\"Fighting\",\"Fighting\",\"Role-Playing\",\"Role-Playing\",\"Action\",\"Action\",\"Role-Playing\",\"Sports\",\"Strategy\",\"Action\",\"Adventure\",\"Adventure\",\"Simulation\",\"Role-Playing\",\"Shooter\",\"Role-Playing\",\"Role-Playing\",\"Racing\",\"Action\",\"Adventure\",\"Action\",\"Action\",\"Fighting\",\"Action\",\"Shooter\",\"Role-Playing\",\"Role-Playing\",\"Role-Playing\",\"Action\",\"Action\",\"Fighting\",\"Action\",\"Action\",\"Sports\",\"Simulation\",\"Sports\",\"Action\",\"Sports\",\"Sports\",\"Action\",\"Role-Playing\",\"Racing\",\"Role-Playing\",\"Adventure\",\"Action\",\"Action\",\"Misc\",\"Role-Playing\",\"Sports\",\"Action\",\"Racing\",\"Strategy\",\"Sports\",\"Misc\",\"Misc\",\"Adventure\",\"Action\",\"Adventure\",\"Strategy\",\"Shooter\",\"Action\",\"Action\",\"Adventure\",\"Action\",\"Action\",\"Action\",\"Adventure\",\"Action\",\"Adventure\",\"Role-Playing\",\"Racing\",\"Role-Playing\",\"Role-Playing\",\"Strategy\",\"Misc\",\"Action\",\"Platform\",\"Sports\",\"Racing\",\"Action\",\"Shooter\",\"Role-Playing\",\"Role-Playing\",\"Action\",\"Platform\",\"Sports\",\"Racing\",\"Action\",\"Adventure\",\"Action\",\"Adventure\",\"Shooter\",\"Action\",\"Fighting\",\"Adventure\",\"Action\",\"Role-Playing\",\"Role-Playing\",\"Adventure\",\"Action\",\"Shooter\",\"Misc\",\"Action\",\"Sports\",\"Action\",\"Action\",\"Role-Playing\",\"Shooter\",\"Adventure\",\"Puzzle\",\"Sports\",\"Racing\",\"Action\",\"Misc\",\"Role-Playing\",\"Action\",\"Action\",\"Adventure\",\"Action\",\"Role-Playing\",\"Role-Playing\",\"Action\",\"Role-Playing\",\"Shooter\",\"Action\",\"Misc\",\"Action\",\"Shooter\",\"Strategy\",\"Action\",\"Shooter\",\"Racing\",\"Role-Playing\",\"Action\",\"Adventure\",\"Adventure\",\"Misc\",\"Adventure\",\"Action\",\"Shooter\",\"Action\",\"Adventure\",\"Racing\",\"Action\",\"Racing\",\"Adventure\",\"Action\",\"Sports\",\"Role-Playing\",\"Puzzle\",\"Adventure\",\"Misc\",\"Shooter\",\"Strategy\",\"Action\",\"Role-Playing\",\"Action\",\"Adventure\",\"Action\",\"Role-Playing\",\"Misc\",\"Racing\",\"Action\",\"Adventure\",\"Adventure\",\"Shooter\",\"Action\",\"Role-Playing\",\"Racing\",\"Action\",\"Action\",\"Adventure\",\"Simulation\",\"Action\",\"Action\",\"Misc\",\"Action\",\"Sports\",\"Action\",\"Puzzle\",\"Action\",\"Action\",\"Shooter\",\"Platform\",\"Action\",\"Adventure\",\"Strategy\",\"Role-Playing\",\"Platform\",\"Role-Playing\",\"Action\",\"Adventure\",\"Action\",\"Simulation\",\"Fighting\",\"Sports\",\"Role-Playing\",\"Adventure\",\"Action\",\"Action\",\"Fighting\",\"Fighting\",\"Shooter\",\"Adventure\",\"Fighting\",\"Action\",\"Racing\",\"Action\",\"Action\",\"Action\",\"Sports\",\"Misc\",\"Action\",\"Fighting\",\"Strategy\",\"Misc\",\"Sports\",\"Action\",\"Strategy\",\"Shooter\",\"Role-Playing\",\"Racing\",\"Action\",\"Sports\",\"Adventure\",\"Action\",\"Action\",\"Fighting\",\"Action\",\"Adventure\",\"Adventure\",\"Action\",\"Racing\",\"Sports\",\"Sports\",\"Role-Playing\",\"Action\",\"Adventure\",\"Shooter\",\"Action\",\"Action\",\"Adventure\",\"Action\",\"Misc\",\"Action\",\"Simulation\",\"Adventure\",\"Action\",\"Role-Playing\",\"Role-Playing\",\"Platform\",\"Adventure\",\"Action\",\"Action\",\"Action\",\"Action\",\"Sports\",\"Action\",\"Action\",\"Action\",\"Misc\",\"Simulation\",\"Adventure\",\"Action\",\"Action\",\"Shooter\",\"Action\",\"Racing\",\"Action\",\"Role-Playing\",\"Action\",\"Role-Playing\",\"Role-Playing\",\"Action\",\"Role-Playing\",\"Racing\",\"Role-Playing\",\"Action\",\"Adventure\",\"Role-Playing\",\"Strategy\",\"Misc\",\"Action\",\"Simulation\",\"Shooter\",\"Misc\",\"Misc\",\"Role-Playing\",\"Misc\",\"Sports\",\"Action\",\"Misc\",\"Action\",\"Action\",\"Adventure\",\"Action\",\"Action\",\"Adventure\",\"Role-Playing\",\"Simulation\",\"Action\",\"Action\",\"Sports\",\"Sports\",\"Action\",\"Action\",\"Action\",\"Misc\",\"Sports\",\"Adventure\",\"Action\",\"Action\",\"Racing\",\"Action\",\"Fighting\",\"Misc\",\"Action\",\"Shooter\",\"Puzzle\",\"Role-Playing\",\"Role-Playing\",\"Strategy\",\"Action\",\"Action\",\"Action\",\"Adventure\",\"Fighting\",\"Action\",\"Action\",\"Role-Playing\",\"Platform\",\"Role-Playing\",\"Misc\",\"Misc\",\"Action\",\"Role-Playing\",\"Role-Playing\",\"Simulation\",\"Role-Playing\",\"Platform\",\"Role-Playing\",\"Action\",\"Role-Playing\",\"Action\",\"Sports\",\"Simulation\",\"Racing\",\"Role-Playing\",\"Strategy\",\"Misc\",\"Adventure\",\"Sports\",\"Adventure\",\"Adventure\",\"Action\",\"Action\",\"Action\",\"Action\",\"Action\",\"Action\",\"Adventure\",\"Role-Playing\",\"Platform\",\"Action\",\"Adventure\",\"Racing\",\"Racing\",\"Action\",\"Role-Playing\",\"Action\",\"Role-Playing\",\"Action\",\"Fighting\",\"Sports\",\"Role-Playing\",\"Shooter\",\"Sports\",\"Adventure\",\"Adventure\",\"Action\",\"Action\",\"Adventure\",\"Adventure\",\"Adventure\",\"Action\",\"Adventure\",\"Sports\",\"Adventure\",\"Role-Playing\",\"Adventure\",\"Fighting\",\"Action\",\"Racing\",\"Sports\",\"Action\",\"Action\",\"Action\",\"Adventure\",\"Adventure\",\"Action\",\"Misc\",\"Action\",\"Misc\",\"Adventure\",\"Action\",\"Adventure\",\"Action\",\"Sports\",\"Action\",\"Adventure\",\"Action\",\"Misc\",\"Role-Playing\",\"Racing\",\"Simulation\",\"Action\",\"Role-Playing\",\"Action\",\"Action\",\"Role-Playing\",\"Shooter\",\"Strategy\",\"Action\",\"Adventure\",\"Action\",\"Action\",\"Role-Playing\",\"Role-Playing\",\"Misc\",\"Sports\",\"Misc\",\"Adventure\",\"Adventure\",\"Adventure\",\"Action\",\"Sports\",\"Action\",\"Role-Playing\",\"Adventure\",\"Platform\",\"Adventure\",\"Action\",\"Action\",\"Role-Playing\",\"Puzzle\",\"Action\",\"Adventure\",\"Adventure\",\"Action\",\"Action\",\"Racing\",\"Role-Playing\",\"Action\",\"Adventure\",\"Action\",\"Simulation\",\"Adventure\",\"Misc\",\"Shooter\",\"Role-Playing\",\"Adventure\",\"Role-Playing\",\"Adventure\",\"Role-Playing\",\"Racing\",\"Action\",\"Adventure\",\"Simulation\",\"Adventure\",\"Misc\",\"Action\",\"Action\",\"Platform\",\"Action\",\"Adventure\",\"Action\",\"Adventure\",\"Action\",\"Fighting\",\"Action\",\"Sports\",\"Sports\",\"Adventure\",\"Role-Playing\",\"Action\",\"Action\",\"Simulation\",\"Adventure\",\"Misc\",\"Fighting\",\"Strategy\",\"Misc\",\"Action\",\"Action\",\"Action\",\"Simulation\",\"Adventure\",\"Action\",\"Adventure\",\"Misc\",\"Misc\",\"Adventure\",\"Adventure\",\"Puzzle\",\"Misc\",\"Adventure\",\"Action\",\"Adventure\",\"Action\",\"Action\",\"Shooter\",\"Role-Playing\",\"Adventure\",\"Role-Playing\",\"Action\",\"Racing\",\"Role-Playing\",\"Adventure\",\"Fighting\",\"Adventure\",\"Action\",\"Action\",\"Shooter\",\"Action\",\"Sports\",\"Action\",\"Adventure\",\"Action\",\"Adventure\",\"Action\",\"Role-Playing\",\"Action\",\"Action\",\"Action\",\"Misc\",\"Action\",\"Action\",\"Action\",\"Action\",\"Action\",\"Adventure\",\"Adventure\",\"Adventure\",\"Action\",\"Adventure\",\"Action\",\"Strategy\",\"Fighting\",\"Sports\",\"Action\",\"Action\",\"Adventure\",\"Adventure\",\"Misc\",\"Action\",\"Strategy\",\"Misc\",\"Misc\",\"Adventure\",\"Action\",\"Role-Playing\",\"Adventure\",\"Action\",\"Adventure\",\"Adventure\",\"Sports\",\"Action\",\"Action\",\"Action\",\"Misc\",\"Fighting\",\"Puzzle\",\"Sports\",\"Role-Playing\",\"Role-Playing\",\"Shooter\",\"Racing\",\"Shooter\",\"Simulation\",\"Adventure\",\"Misc\",\"Puzzle\",\"Adventure\",\"Action\",\"Adventure\",\"Action\",\"Role-Playing\",\"Action\",\"Action\",\"Adventure\",\"Action\",\"Adventure\",\"Action\",\"Shooter\",\"Misc\",\"Action\",\"Adventure\",\"Shooter\",\"Action\",\"Action\",\"Adventure\",\"Role-Playing\",\"Misc\",\"Adventure\",\"Role-Playing\",\"Sports\",\"Role-Playing\",\"Adventure\",\"Action\",\"Shooter\",\"Adventure\",\"Adventure\",\"Action\",\"Misc\",\"Adventure\",\"Action\",\"Adventure\",\"Misc\",\"Action\",\"Role-Playing\",\"Strategy\",\"Shooter\",\"Action\",\"Action\",\"Simulation\",\"Strategy\",\"Action\",\"Action\",\"Adventure\",\"Role-Playing\",\"Action\",\"Action\",\"Role-Playing\",\"Adventure\",\"Action\",\"Fighting\",\"Adventure\",\"Action\",\"Adventure\",\"Adventure\",\"Action\",\"Strategy\",\"Action\",\"Action\",\"Role-Playing\",\"Simulation\",\"Adventure\",\"Action\",\"Role-Playing\",\"Racing\",\"Action\",\"Action\",\"Action\",\"Fighting\",\"Adventure\",\"Action\",\"Adventure\",\"Puzzle\",\"Action\",\"Action\",\"Platform\",\"Adventure\",\"Action\",\"Action\",\"Simulation\",\"Action\",\"Action\",\"Misc\",\"Adventure\",\"Action\",\"Action\",\"Misc\",\"Action\",\"Action\",\"Action\",\"Action\",\"Action\",\"Action\",\"Action\",\"Misc\",\"Adventure\",\"Action\",\"Action\",\"Misc\",\"Role-Playing\",\"Action\",\"Role-Playing\",\"Adventure\",\"Misc\",\"Action\",\"Adventure\",\"Adventure\",\"Action\",\"Action\",\"Action\",\"Action\",\"Action\",\"Adventure\",\"Adventure\",\"Misc\",\"Action\",\"Action\",\"Adventure\",\"Adventure\",\"Action\",\"Action\",\"Action\",\"Strategy\",\"Action\",\"Fighting\",\"Adventure\",\"Action\",\"Adventure\",\"Action\",\"Shooter\",\"Action\",\"Action\",\"Sports\",\"Adventure\",\"Shooter\",\"Adventure\",\"Action\",\"Role-Playing\",\"Adventure\",\"Adventure\",\"Misc\",\"Adventure\",\"Action\",\"Sports\",\"Action\",\"Action\",\"Sports\",\"Action\",\"Action\",\"Puzzle\",\"Action\",\"Adventure\",\"Adventure\",\"Role-Playing\",\"Adventure\",\"Action\",\"Misc\",\"Action\",\"Action\",\"Adventure\",\"Adventure\",\"Adventure\",\"Action\",\"Simulation\",\"Strategy\",\"Adventure\",\"Sports\",\"Action\",\"Misc\",\"Action\",\"Action\",\"Action\",\"Action\",\"Adventure\",\"Action\",\"Sports\",\"Strategy\",\"Role-Playing\",\"Action\",\"Action\",\"Action\",\"Adventure\",\"Action\",\"Sports\",\"Sports\",\"Adventure\",\"Action\",\"Action\",\"Simulation\",\"Racing\",\"Action\",\"Misc\",\"Adventure\",\"Adventure\",\"Platform\",\"Fighting\",\"Platform\",\"Action\",\"Strategy\",\"Racing\",\"Action\",\"Simulation\",\"Action\",\"Sports\",\"Sports\",\"Adventure\",\"Shooter\",\"Strategy\",\"Action\",\"Action\",\"Sports\",\"Action\",\"Action\",\"Sports\",\"Action\",\"Role-Playing\",\"Adventure\",\"Strategy\",\"Action\",\"Misc\",\"Adventure\",\"Sports\",\"Misc\",\"Action\",\"Role-Playing\",\"Adventure\",\"Action\",\"Action\",\"Role-Playing\",\"Adventure\",\"Action\",\"Action\",\"Adventure\",\"Shooter\",\"Action\",\"Adventure\",\"Action\",\"Action\",\"Sports\",\"Misc\",\"Simulation\",\"Sports\",\"Adventure\",\"Action\",\"Adventure\",\"Adventure\",\"Platform\",\"Action\",\"Adventure\",\"Adventure\",\"Action\",\"Adventure\",\"Adventure\",\"Misc\",\"Adventure\",\"Adventure\",\"Adventure\",\"Action\",\"Racing\",\"Adventure\",\"Action\",\"Shooter\",\"Puzzle\",\"Action\",\"Action\",\"Action\",\"Action\",\"Adventure\",\"Adventure\",\"Action\",\"Racing\",\"Action\",\"Strategy\",\"Role-Playing\",\"Action\",\"Puzzle\",\"Action\",\"Platform\",\"Adventure\",\"Action\",\"Fighting\",\"Adventure\",\"Adventure\",\"Puzzle\",\"Action\",\"Role-Playing\",\"Action\",\"Action\",\"Racing\",\"Simulation\",\"Adventure\",\"Action\",\"Action\",\"Adventure\",\"Action\",\"Adventure\",\"Adventure\",\"Adventure\",\"Puzzle\",\"Simulation\",\"Sports\",\"Adventure\",\"Adventure\",\"Strategy\",\"Sports\",\"Strategy\",\"Adventure\",\"Action\",\"Action\",\"Action\",\"Adventure\",\"Action\",\"Action\",\"Adventure\",\"Adventure\",\"Action\",\"Action\",\"Racing\",\"Fighting\",\"Action\",\"Fighting\",\"Adventure\",\"Adventure\",\"Action\",\"Adventure\",\"Action\",\"Racing\",\"Racing\",\"Misc\",\"Adventure\",\"Sports\",\"Adventure\",\"Adventure\",\"Role-Playing\",\"Action\",\"Adventure\",\"Action\",\"Adventure\",\"Adventure\",\"Action\",\"Racing\",\"Adventure\",\"Simulation\",\"Action\",\"Action\",\"Action\",\"Misc\",\"Role-Playing\",\"Action\",\"Simulation\",\"Action\",\"Adventure\",\"Action\",\"Simulation\",\"Action\",\"Action\",\"Action\",\"Misc\",\"Action\",\"Action\",\"Puzzle\",\"Adventure\",\"Misc\",\"Adventure\",\"Adventure\",\"Misc\",\"Fighting\",\"Puzzle\",\"Strategy\",\"Adventure\",\"Misc\",\"Action\",\"Adventure\",\"Racing\",\"Action\",\"Adventure\",\"Sports\",\"Sports\",\"Action\",\"Action\",\"Adventure\",\"Action\",\"Action\",\"Action\",\"Adventure\",\"Action\",\"Action\",\"Action\",\"Adventure\",\"Action\",\"Action\",\"Action\",\"Action\",\"Strategy\",\"Action\",\"Adventure\",\"Adventure\",\"Action\",\"Action\",\"Action\",\"Adventure\",\"Misc\",\"Action\",\"Adventure\",\"Simulation\"],\"x0\":\" \",\"xaxis\":\"x\",\"y\":[21.05,16.27,14.629999999999999,14.6,13.790000000000001,13.68,12.620000000000001,11.68,10.24,9.900000000000002,9.709999999999999,9.36,9.18,9.17,8.58,8.17,8.06,7.98,7.66,7.6000000000000005,7.550000000000001,7.389999999999999,7.17,7.14,7.09,6.76,6.460000000000001,6.44,6.08,5.86,5.640000000000001,5.47,5.39,5.290000000000001,5.26,5.2700000000000005,5.220000000000001,5.23,5.160000000000001,5.14,4.87,4.72,4.62,4.59,4.49,4.470000000000001,4.4399999999999995,4.42,4.36,4.319999999999999,4.32,4.28,4.28,4.22,4.22,4.07,4.05,4.04,3.9699999999999998,3.96,3.96,3.89,3.87,3.8299999999999996,3.8,3.7099999999999995,3.66,3.58,3.5799999999999996,3.5,3.4899999999999998,3.49,3.44,3.4200000000000004,3.3899999999999997,3.37,3.35,3.32,3.3099999999999996,3.28,3.28,3.25,3.2399999999999998,3.2299999999999995,3.23,3.21,3.1300000000000003,3.1,3.0999999999999996,3.05,3.0500000000000003,3.06,3.05,3.01,3.0,3.0,2.96,2.95,2.92,2.92,2.8499999999999996,2.86,2.81,2.7899999999999996,2.78,2.7600000000000002,2.6999999999999997,2.6900000000000004,2.68,2.65,2.56,2.52,2.52,2.48,2.48,2.4499999999999997,2.42,2.4200000000000004,2.42,2.42,2.34,2.34,2.3000000000000003,2.31,2.29,2.29,2.2600000000000002,2.25,2.25,2.2300000000000004,2.24,2.23,2.22,2.22,2.21,2.1999999999999997,2.19,2.18,2.1700000000000004,2.15,2.14,2.1500000000000004,2.11,2.11,2.09,2.08,2.07,2.07,2.0500000000000003,2.02,2.02,2.01,2.01,1.98,1.9600000000000002,1.97,1.9500000000000002,1.94,1.9200000000000002,1.92,1.9200000000000002,1.91,1.9100000000000001,1.88,1.9,1.88,1.8800000000000001,1.87,1.85,1.84,1.83,1.83,1.83,1.82,1.81,1.7999999999999998,1.7900000000000003,1.8000000000000003,1.74,1.75,1.7500000000000002,1.74,1.7400000000000002,1.7400000000000002,1.7399999999999998,1.7200000000000002,1.73,1.74,1.7200000000000002,1.73,1.71,1.7,1.6900000000000002,1.6900000000000002,1.69,1.6700000000000002,1.67,1.6600000000000001,1.65,1.66,1.6600000000000001,1.6400000000000001,1.6400000000000001,1.6300000000000001,1.62,1.62,1.6100000000000003,1.6,1.5800000000000003,1.58,1.57,1.5699999999999998,1.5700000000000003,1.5699999999999998,1.56,1.5599999999999998,1.54,1.54,1.54,1.53,1.52,1.5299999999999998,1.51,1.4900000000000002,1.49,1.4700000000000002,1.47,1.4700000000000002,1.46,1.4600000000000002,1.44,1.44,1.42,1.42,1.42,1.4200000000000002,1.4100000000000001,1.4000000000000001,1.4000000000000001,1.3800000000000001,1.3800000000000001,1.3800000000000001,1.3900000000000001,1.3900000000000001,1.38,1.3800000000000001,1.3599999999999999,1.3599999999999999,1.3599999999999999,1.36,1.3399999999999999,1.3399999999999999,1.34,1.33,1.3199999999999998,1.3199999999999998,1.31,1.3,1.3,1.3,1.2900000000000003,1.29,1.29,1.2800000000000002,1.28,1.2800000000000002,1.27,1.2799999999999998,1.26,1.27,1.2699999999999998,1.27,1.27,1.26,1.25,1.25,1.25,1.25,1.24,1.23,1.23,1.24,1.23,1.21,1.21,1.1900000000000002,1.19,1.1900000000000002,1.2000000000000002,1.1800000000000002,1.19,1.1800000000000002,1.1800000000000002,1.1800000000000002,1.17,1.1700000000000002,1.1600000000000001,1.16,1.1500000000000001,1.15,1.14,1.1300000000000001,1.14,1.13,1.1199999999999999,1.13,1.11,1.1199999999999999,1.12,1.11,1.1,1.1,1.09,1.0799999999999998,1.09,1.08,1.08,1.08,1.07,1.07,1.06,1.05,1.05,1.05,1.05,1.04,1.03,1.0300000000000002,1.03,1.03,1.02,1.02,1.01,1.01,1.02,1.01,1.01,0.99,0.9999999999999999,0.98,0.98,0.9800000000000001,0.9799999999999999,0.97,0.9700000000000001,0.9600000000000001,0.96,0.9700000000000001,0.9600000000000001,0.96,0.9600000000000001,0.96,0.9600000000000001,0.9400000000000002,0.9500000000000001,0.9600000000000001,0.95,0.95,0.94,0.95,0.95,0.9400000000000001,0.94,0.9400000000000001,0.9400000000000001,0.9400000000000001,0.93,0.93,0.93,0.92,0.93,0.93,0.9299999999999999,0.93,0.93,0.93,0.9299999999999999,0.9199999999999999,0.9299999999999999,0.92,0.8999999999999999,0.92,0.9,0.91,0.91,0.9,0.9,0.9,0.9000000000000001,0.91,0.8900000000000001,0.89,0.8900000000000001,0.89,0.89,0.89,0.89,0.8899999999999999,0.89,0.88,0.8700000000000001,0.88,0.87,0.8700000000000001,0.87,0.88,0.87,0.87,0.86,0.86,0.85,0.8599999999999999,0.8500000000000001,0.84,0.85,0.8400000000000001,0.8400000000000001,0.8500000000000001,0.84,0.8300000000000001,0.82,0.83,0.8099999999999999,0.8200000000000001,0.81,0.82,0.8,0.8,0.8000000000000002,0.8,0.7899999999999999,0.79,0.8,0.79,0.79,0.78,0.78,0.7899999999999999,0.79,0.78,0.7799999999999999,0.78,0.7699999999999999,0.78,0.77,0.78,0.76,0.76,0.76,0.75,0.76,0.7500000000000001,0.7600000000000001,0.75,0.75,0.7399999999999999,0.75,0.75,0.75,0.74,0.7300000000000001,0.74,0.74,0.73,0.75,0.7300000000000001,0.74,0.74,0.7300000000000001,0.7300000000000001,0.73,0.73,0.7300000000000001,0.72,0.72,0.73,0.73,0.73,0.73,0.72,0.72,0.7200000000000001,0.72,0.73,0.73,0.7200000000000001,0.71,0.7,0.7,0.7,0.6900000000000001,0.71,0.6900000000000001,0.6900000000000001,0.6900000000000001,0.69,0.6900000000000002,0.69,0.6799999999999999,0.7,0.69,0.6700000000000002,0.6900000000000001,0.6800000000000002,0.68,0.68,0.6599999999999999,0.68,0.67,0.6799999999999999,0.67,0.67,0.6599999999999999,0.66,0.66,0.66,0.6600000000000001,0.6599999999999999,0.66,0.66,0.66,0.6599999999999999,0.65,0.6599999999999999,0.65,0.65,0.6499999999999999,0.65,0.64,0.64,0.65,0.6400000000000001,0.6399999999999999,0.6400000000000001,0.63,0.64,0.6400000000000001,0.63,0.6400000000000001,0.6300000000000001,0.64,0.63,0.63,0.63,0.6200000000000001,0.63,0.6300000000000001,0.6300000000000001,0.63,0.62,0.6200000000000001,0.62,0.6200000000000001,0.62,0.61,0.6200000000000001,0.61,0.6200000000000001,0.62,0.61,0.61,0.6,0.61,0.6100000000000001,0.6000000000000001,0.6100000000000001,0.6000000000000001,0.5900000000000001,0.6,0.6,0.5900000000000001,0.6,0.59,0.6,0.59,0.5900000000000001,0.5800000000000001,0.5800000000000001,0.5800000000000001,0.5800000000000001,0.5800000000000001,0.5800000000000001,0.5800000000000001,0.5800000000000001,0.58,0.5800000000000001,0.5800000000000001,0.5700000000000001,0.57,0.5700000000000001,0.5700000000000001,0.5700000000000001,0.57,0.5700000000000001,0.56,0.56,0.5700000000000001,0.56,0.56,0.56,0.5499999999999999,0.56,0.56,0.56,0.55,0.54,0.5599999999999999,0.56,0.55,0.55,0.5499999999999999,0.54,0.54,0.5499999999999999,0.54,0.5299999999999999,0.53,0.54,0.53,0.54,0.53,0.53,0.53,0.53,0.52,0.53,0.53,0.53,0.52,0.51,0.52,0.51,0.51,0.51,0.51,0.51,0.51,0.51,0.49999999999999994,0.51,0.51,0.51,0.51,0.49,0.49000000000000005,0.5,0.5,0.49,0.49000000000000005,0.48,0.49000000000000005,0.4799999999999999,0.48000000000000004,0.49,0.48,0.48,0.48000000000000004,0.48000000000000004,0.48,0.4799999999999999,0.4800000000000001,0.49000000000000005,0.49,0.48,0.48,0.48,0.47000000000000003,0.47,0.48000000000000004,0.47,0.48000000000000004,0.47000000000000003,0.47000000000000003,0.45999999999999996,0.47000000000000003,0.47000000000000003,0.47,0.46,0.45,0.46,0.46,0.45999999999999996,0.45999999999999996,0.44999999999999996,0.4600000000000001,0.45,0.44999999999999996,0.44999999999999996,0.45,0.45,0.45999999999999996,0.45,0.44,0.44999999999999996,0.45,0.44000000000000006,0.44000000000000006,0.45,0.44,0.44,0.44,0.45,0.44,0.43,0.44,0.44,0.43,0.43,0.44000000000000006,0.44,0.43,0.44,0.43,0.43000000000000005,0.44,0.43,0.43,0.42999999999999994,0.43,0.43,0.43,0.43,0.43000000000000005,0.42,0.43000000000000005,0.42,0.43,0.42000000000000004,0.42,0.42000000000000004,0.42,0.42000000000000004,0.42,0.42000000000000004,0.42,0.42,0.42,0.41000000000000003,0.41,0.41,0.41,0.41,0.41000000000000003,0.41000000000000003,0.41000000000000003,0.41000000000000003,0.41000000000000003,0.41,0.41,0.41,0.4,0.4,0.41,0.38999999999999996,0.4,0.4,0.41,0.4,0.4,0.4,0.39999999999999997,0.39999999999999997,0.39,0.39,0.39,0.39999999999999997,0.39,0.4,0.38999999999999996,0.39,0.39,0.39999999999999997,0.39,0.38,0.38,0.39,0.39,0.37999999999999995,0.39,0.38,0.38,0.38999999999999996,0.38,0.38,0.38,0.38,0.38,0.38,0.38,0.38,0.38,0.38,0.38,0.38,0.37000000000000005,0.38,0.37,0.38000000000000006,0.37,0.37,0.37,0.37,0.37000000000000005,0.37000000000000005,0.38,0.36000000000000004,0.36000000000000004,0.37,0.36,0.37,0.37,0.37,0.36,0.36,0.37,0.36,0.36,0.36000000000000004,0.36,0.36,0.36,0.35,0.36,0.34,0.35000000000000003,0.36000000000000004,0.34,0.35,0.36,0.36,0.35,0.35000000000000003,0.35,0.36,0.35000000000000003,0.35,0.35000000000000003,0.33999999999999997,0.35000000000000003,0.35,0.33999999999999997,0.34,0.33999999999999997,0.34,0.35,0.33999999999999997,0.34,0.35,0.33999999999999997,0.33999999999999997,0.34,0.33999999999999997,0.33,0.32999999999999996,0.34,0.33,0.33999999999999997,0.33,0.33,0.33,0.33,0.33,0.33,0.33000000000000007,0.32,0.32000000000000006,0.31999999999999995,0.33,0.32,0.31999999999999995,0.33000000000000007,0.32,0.31000000000000005,0.32000000000000006,0.33,0.32,0.32,0.32,0.32,0.31999999999999995,0.31999999999999995,0.31000000000000005,0.31,0.31000000000000005,0.31000000000000005,0.32000000000000006,0.31000000000000005,0.31,0.31000000000000005,0.31000000000000005,0.32,0.31000000000000005,0.3,0.31,0.30000000000000004,0.31000000000000005,0.3,0.3,0.31000000000000005,0.3,0.30000000000000004,0.31000000000000005,0.31000000000000005,0.31,0.31000000000000005,0.31,0.30000000000000004,0.30000000000000004,0.3,0.3,0.3,0.3,0.29000000000000004,0.3,0.29000000000000004,0.30000000000000004,0.27999999999999997,0.3,0.3,0.29000000000000004,0.29,0.29000000000000004,0.28,0.29000000000000004,0.29000000000000004,0.29000000000000004,0.29000000000000004,0.28,0.29000000000000004,0.29,0.29,0.28,0.29000000000000004,0.28,0.28,0.29000000000000004,0.29000000000000004,0.29000000000000004,0.27999999999999997,0.28,0.28,0.28,0.29000000000000004,0.27,0.29000000000000004,0.28,0.27,0.28,0.27,0.29000000000000004,0.28,0.29,0.28,0.28,0.27,0.27,0.27,0.28,0.27,0.26999999999999996,0.26,0.27,0.27,0.27,0.27,0.27,0.26,0.27,0.27,0.27,0.27,0.26,0.28,0.26,0.26,0.26,0.27,0.26,0.26,0.26,0.26,0.26,0.26,0.26,0.26,0.24999999999999997,0.26,0.26,0.26,0.26,0.26,0.26,0.26,0.26,0.26,0.25,0.25,0.26,0.25,0.24999999999999997,0.25,0.25,0.25,0.26,0.26,0.25,0.25,0.25,0.24999999999999997,0.25,0.24000000000000002,0.25,0.26,0.24,0.24000000000000002,0.25,0.24999999999999997,0.25,0.24000000000000002,0.24000000000000002,0.24,0.25,0.24,0.24000000000000002,0.25,0.24000000000000002,0.24999999999999997,0.24,0.24,0.24000000000000002,0.24,0.23,0.24000000000000002,0.23,0.24,0.24000000000000002,0.24000000000000002,0.24000000000000002,0.23,0.24000000000000002,0.23,0.24,0.24,0.24,0.22999999999999998,0.23,0.23,0.24000000000000002,0.23,0.23,0.23,0.23,0.23,0.22999999999999998,0.24,0.23,0.23,0.23,0.23,0.23,0.22999999999999998,0.23,0.23,0.22000000000000003,0.23,0.22000000000000003,0.23,0.22,0.23,0.23,0.23,0.23,0.22,0.22999999999999998,0.22,0.23,0.22,0.22,0.22,0.22,0.23,0.22,0.23,0.22,0.22000000000000003,0.22,0.22,0.22,0.22,0.23,0.22,0.21000000000000002,0.22,0.22,0.22,0.22,0.21000000000000002,0.21,0.22,0.21000000000000002,0.22,0.22,0.22,0.21,0.21000000000000002,0.21000000000000002,0.21,0.22,0.21,0.22,0.21,0.21,0.21000000000000002,0.22,0.21,0.21,0.2,0.21000000000000002,0.21,0.21,0.2,0.19999999999999998,0.21,0.21,0.19999999999999998,0.2,0.2,0.21,0.21,0.19999999999999998,0.2,0.2,0.2,0.19999999999999998,0.19999999999999998,0.21,0.2,0.2,0.2,0.2,0.19999999999999998,0.2,0.19999999999999998,0.19999999999999998,0.2,0.2,0.19,0.21,0.2,0.19999999999999998,0.2,0.2,0.2,0.19,0.19,0.19,0.19999999999999998,0.19000000000000003,0.2,0.19999999999999998,0.19999999999999998,0.2,0.19,0.19,0.2,0.19999999999999998,0.19,0.19000000000000003,0.19,0.19,0.18000000000000002,0.19,0.19999999999999998,0.19999999999999998,0.19,0.18999999999999997,0.19,0.19999999999999998,0.18000000000000002,0.19,0.19,0.18999999999999997,0.18999999999999997,0.19999999999999998,0.19,0.18000000000000002,0.19,0.19,0.18,0.19,0.18000000000000002,0.19,0.18000000000000002,0.19,0.18000000000000002,0.18999999999999997,0.19,0.19,0.19,0.19,0.18999999999999997,0.18,0.19,0.19999999999999998,0.19,0.18999999999999997,0.19,0.18000000000000002,0.18000000000000002,0.18,0.18,0.18,0.18000000000000002,0.18,0.19,0.18,0.18,0.18,0.18,0.18,0.17,0.18,0.18,0.18,0.18999999999999997,0.18,0.16999999999999998,0.18000000000000002,0.18,0.18,0.18,0.18,0.18000000000000002,0.18,0.18,0.18,0.16999999999999998,0.18000000000000002,0.17,0.17,0.16999999999999998,0.18,0.17,0.16999999999999998,0.17,0.16,0.17,0.18,0.17,0.17,0.17,0.17,0.17,0.17,0.17,0.17,0.17,0.16,0.17,0.16999999999999998,0.16999999999999998,0.17,0.17,0.16,0.16000000000000003,0.16999999999999998,0.17,0.17,0.17,0.16999999999999998,0.16999999999999998,0.17,0.17,0.16,0.16,0.16,0.15000000000000002,0.16,0.16,0.16000000000000003,0.16999999999999998,0.16000000000000003,0.16,0.17,0.16,0.16999999999999998,0.15,0.16,0.16999999999999998,0.16,0.15000000000000002,0.16,0.15000000000000002,0.16,0.16,0.16000000000000003,0.16,0.16,0.16,0.15000000000000002,0.16,0.15000000000000002,0.16,0.15000000000000002,0.15000000000000002,0.15000000000000002,0.15000000000000002,0.15000000000000002,0.15,0.15,0.16,0.15000000000000002,0.16,0.15000000000000002,0.15,0.15,0.15,0.15,0.14,0.15,0.14,0.15,0.15,0.15000000000000002,0.15000000000000002,0.15000000000000002,0.15000000000000002,0.15,0.15000000000000002,0.15,0.13999999999999999,0.15,0.16,0.15,0.15,0.15,0.15000000000000002,0.15000000000000002,0.14,0.15000000000000002,0.15,0.14,0.13999999999999999,0.14,0.14,0.14,0.14,0.15,0.15000000000000002,0.15000000000000002,0.14,0.14,0.13,0.14,0.14,0.14,0.13999999999999999,0.14,0.13999999999999999,0.14,0.14,0.14,0.14,0.15,0.14,0.14,0.14,0.14,0.14,0.14,0.13999999999999999,0.14,0.14,0.14,0.14,0.13,0.13,0.13,0.14,0.13,0.14,0.14,0.13,0.13,0.14,0.13,0.14,0.13,0.13,0.13,0.13,0.13,0.13,0.13,0.13,0.12,0.13,0.13999999999999999,0.13,0.12000000000000001,0.13,0.13,0.13,0.13,0.13,0.13,0.13,0.13,0.13,0.13,0.13,0.13,0.12000000000000001,0.13,0.13,0.12999999999999998,0.13,0.13,0.13,0.12000000000000001,0.13,0.12,0.13,0.13,0.13,0.13,0.12000000000000001,0.13,0.12,0.13,0.12000000000000001,0.12000000000000001,0.13,0.13,0.12,0.12,0.12,0.12,0.12,0.12,0.12,0.13,0.13,0.12,0.12,0.12,0.12,0.12,0.12,0.12,0.12000000000000001,0.11,0.12,0.11,0.12,0.12,0.12000000000000001,0.12000000000000001,0.12,0.11,0.12,0.12,0.12,0.12,0.12,0.12,0.12,0.12,0.12,0.11,0.12,0.12,0.12,0.11,0.12000000000000001,0.12,0.12,0.12,0.11,0.12,0.12000000000000001,0.12,0.12,0.10999999999999999,0.12,0.11000000000000001,0.12000000000000001,0.11,0.12,0.12000000000000001,0.12000000000000001,0.11,0.11,0.11,0.11,0.11,0.11,0.12,0.11,0.11,0.11,0.12000000000000001,0.11,0.11,0.11,0.12000000000000001,0.11,0.11,0.11,0.11,0.12000000000000001,0.11,0.11,0.11,0.11,0.11,0.11,0.12000000000000001,0.11,0.11,0.11,0.11,0.11,0.10999999999999999,0.11,0.11,0.11,0.09999999999999999,0.11,0.11,0.11,0.11,0.11,0.09999999999999999,0.11,0.11,0.11,0.11,0.11,0.11,0.09999999999999999,0.11000000000000001,0.11,0.11,0.1,0.1,0.1,0.1,0.1,0.11,0.09999999999999999,0.11,0.1,0.1,0.1,0.1,0.1,0.11,0.1,0.09999999999999999,0.09999999999999999,0.11,0.11,0.1,0.1,0.1,0.09999999999999999,0.09999999999999999,0.1,0.09999999999999999,0.11,0.1,0.09999999999999999,0.1,0.1,0.09999999999999999,0.09999999999999999,0.1,0.1,0.1,0.09,0.1,0.09999999999999999,0.09,0.1,0.1,0.1,0.09999999999999999,0.09,0.09999999999999999,0.09999999999999999,0.09999999999999999,0.1,0.1,0.09999999999999999,0.09999999999999999,0.1,0.09,0.1,0.1,0.1,0.1,0.09999999999999999,0.1,0.09999999999999999,0.09999999999999999,0.09,0.09000000000000001,0.09,0.09999999999999999,0.09999999999999999,0.1,0.09999999999999999,0.09,0.09,0.09,0.09,0.09,0.09,0.09,0.1,0.09,0.09,0.09999999999999999,0.09,0.09999999999999999,0.09000000000000001,0.09,0.09,0.09,0.09,0.09999999999999999,0.08,0.09,0.09,0.1,0.09,0.09,0.1,0.09,0.1,0.09,0.09000000000000001,0.09,0.09,0.09,0.09,0.09,0.09999999999999999,0.09,0.09,0.09,0.09,0.09,0.08,0.08,0.09,0.09,0.08,0.09,0.09,0.09,0.08,0.09,0.09,0.08,0.09999999999999999,0.09,0.09,0.09,0.09,0.09,0.08,0.09,0.08,0.08,0.08,0.09,0.09,0.09,0.08,0.08,0.08,0.08,0.08,0.09,0.08,0.08,0.08,0.08,0.08,0.06999999999999999,0.08,0.08,0.08,0.09,0.08,0.08,0.09,0.09000000000000001,0.08,0.08,0.07,0.08,0.07999999999999999,0.08,0.07999999999999999,0.08,0.09,0.06999999999999999,0.08,0.08,0.08,0.08,0.08,0.08,0.08,0.08,0.08,0.08,0.08,0.08,0.08,0.08,0.06999999999999999,0.08,0.08,0.08,0.06999999999999999,0.08,0.08,0.08,0.08,0.08,0.08,0.08,0.09,0.07999999999999999,0.07,0.09,0.07,0.08,0.08,0.08,0.08,0.08,0.08,0.08,0.08,0.08,0.08,0.06999999999999999,0.08,0.08,0.08,0.06999999999999999,0.07,0.08,0.07,0.07,0.07,0.08,0.07,0.07,0.07,0.07,0.07,0.08,0.07,0.08,0.07,0.08,0.07,0.06999999999999999,0.07,0.07,0.07,0.07,0.07,0.060000000000000005,0.07,0.08,0.07,0.07,0.06999999999999999,0.07,0.08,0.08,0.07,0.07,0.07,0.06999999999999999,0.07,0.07,0.06999999999999999,0.06999999999999999,0.07,0.07,0.06999999999999999,0.07999999999999999,0.06999999999999999,0.06999999999999999,0.07,0.06999999999999999,0.06999999999999999,0.06999999999999999,0.08,0.08,0.08,0.07,0.07,0.07,0.06999999999999999,0.07,0.06,0.07,0.060000000000000005,0.06999999999999999,0.06999999999999999,0.07,0.07,0.07,0.07,0.07,0.07,0.06999999999999999,0.060000000000000005,0.07,0.07,0.06999999999999999,0.06999999999999999,0.06,0.07,0.06,0.07,0.07,0.06999999999999999,0.07,0.06999999999999999,0.06999999999999999,0.06,0.06,0.06,0.06999999999999999,0.06999999999999999,0.06,0.06999999999999999,0.06,0.06,0.06,0.06999999999999999,0.06,0.06,0.06,0.06,0.06,0.060000000000000005,0.06,0.06,0.06999999999999999,0.06999999999999999,0.06,0.060000000000000005,0.060000000000000005,0.06,0.06,0.060000000000000005,0.06999999999999999,0.060000000000000005,0.06,0.06,0.060000000000000005,0.060000000000000005,0.06,0.06999999999999999,0.06,0.06,0.06,0.06999999999999999,0.06,0.060000000000000005,0.06999999999999999,0.060000000000000005,0.060000000000000005,0.060000000000000005,0.06,0.06999999999999999,0.06,0.06,0.06,0.05,0.06,0.06,0.06,0.06,0.060000000000000005,0.06,0.07,0.06,0.06,0.06,0.06,0.06,0.060000000000000005,0.06,0.06999999999999999,0.06,0.060000000000000005,0.06,0.06,0.06,0.06,0.06,0.060000000000000005,0.05,0.06,0.06,0.06,0.06999999999999999,0.060000000000000005,0.060000000000000005,0.06,0.060000000000000005,0.06,0.05,0.06,0.05,0.05,0.06,0.060000000000000005,0.05,0.060000000000000005,0.060000000000000005,0.060000000000000005,0.06,0.06,0.060000000000000005,0.05,0.06,0.06,0.05,0.06,0.06,0.06,0.060000000000000005,0.06,0.060000000000000005,0.06,0.05,0.060000000000000005,0.06,0.05,0.05,0.05,0.05,0.060000000000000005,0.05,0.05,0.060000000000000005,0.05,0.05,0.05,0.060000000000000005,0.05,0.060000000000000005,0.05,0.05,0.060000000000000005,0.05,0.05,0.05,0.05,0.05,0.05,0.05,0.05,0.05,0.05,0.05,0.05,0.04,0.060000000000000005,0.05,0.05,0.05,0.05,0.05,0.05,0.05,0.05,0.05,0.05,0.05,0.060000000000000005,0.05,0.05,0.05,0.05,0.05,0.060000000000000005,0.05,0.05,0.05,0.05,0.05,0.05,0.05,0.05,0.05,0.05,0.05,0.05,0.05,0.05,0.05,0.05,0.05,0.04,0.060000000000000005,0.05,0.05,0.04,0.05,0.05,0.05,0.05,0.04,0.05,0.05,0.05,0.05,0.05,0.05,0.05,0.05,0.05,0.05,0.05,0.05,0.04,0.04,0.05,0.05,0.04,0.05,0.05,0.05,0.05,0.04,0.04,0.04,0.05,0.05,0.05,0.05,0.05,0.05,0.05,0.05,0.05,0.05,0.04,0.05,0.05,0.05,0.04,0.04,0.05,0.04,0.04,0.05,0.04,0.04,0.04,0.04,0.04,0.04,0.04,0.04,0.04,0.04,0.04,0.04,0.04,0.04,0.04,0.04,0.04,0.04,0.04,0.04,0.03,0.04,0.04,0.04,0.04,0.04,0.03,0.04,0.04,0.05,0.04,0.04,0.04,0.03,0.03,0.04,0.04,0.04,0.04,0.04,0.04,0.05,0.04,0.04,0.04,0.04,0.05,0.04,0.04,0.04,0.04,0.04,0.04,0.04,0.04,0.04,0.04,0.04,0.04,0.04,0.04,0.04,0.04,0.04,0.04,0.04,0.04,0.04,0.04,0.03,0.04,0.05,0.04,0.04,0.04,0.03,0.04,0.04,0.04,0.04,0.04,0.04,0.04,0.04,0.04,0.04,0.04,0.04,0.04,0.04,0.04,0.04,0.03,0.03,0.04,0.04,0.04,0.04,0.04,0.04,0.04,0.04,0.04,0.04,0.04,0.04,0.04,0.04,0.03,0.03,0.03,0.04,0.03,0.03,0.03,0.04,0.04,0.04,0.04,0.04,0.04,0.03,0.04,0.03,0.03,0.03,0.03,0.03,0.03,0.03,0.03,0.03,0.03,0.03,0.03,0.03,0.03,0.03,0.03,0.03,0.03,0.03,0.04,0.03,0.03,0.03,0.03,0.03,0.03,0.03,0.03,0.03,0.03,0.03,0.03,0.03,0.03,0.03,0.03,0.04,0.03,0.03,0.03,0.03,0.03,0.03,0.03,0.03,0.03,0.04,0.03,0.03,0.03,0.03,0.03,0.03,0.03,0.03,0.03,0.03,0.03,0.03,0.03,0.03,0.03,0.03,0.03,0.03,0.03,0.03,0.03,0.03,0.03,0.03,0.03,0.03,0.03,0.03,0.03,0.03,0.04,0.03,0.02,0.04,0.04,0.03,0.03,0.03,0.03,0.03,0.03,0.03,0.03,0.03,0.03,0.03,0.03,0.03,0.03,0.03,0.03,0.03,0.03,0.03,0.03,0.03,0.03,0.02,0.03,0.03,0.03,0.02,0.03,0.03,0.03,0.03,0.03,0.03,0.03,0.03,0.03,0.03,0.03,0.03,0.03,0.02,0.03,0.03,0.03,0.03,0.03,0.03,0.03,0.03,0.02,0.03,0.03,0.03,0.03,0.03,0.02,0.03,0.03,0.03,0.03,0.03,0.03,0.02,0.03,0.02,0.03,0.03,0.03,0.03,0.03,0.03,0.03,0.03,0.03,0.03,0.03,0.03,0.02,0.02,0.03,0.02,0.03,0.02,0.03,0.03,0.03,0.03,0.03,0.02,0.03,0.03,0.03,0.03,0.02,0.03,0.03,0.03,0.03,0.03,0.03,0.02,0.02,0.03,0.02,0.03,0.03,0.02,0.03,0.03,0.03,0.02,0.03,0.02,0.02,0.03,0.02,0.03,0.03,0.02,0.02,0.03,0.03,0.03,0.02,0.03,0.03,0.02,0.02,0.03,0.02,0.02,0.03,0.03,0.02,0.02,0.02,0.02,0.02,0.02,0.02,0.02,0.02,0.02,0.02,0.02,0.02,0.02,0.02,0.02,0.02,0.02,0.02,0.02,0.02,0.02,0.03,0.02,0.02,0.02,0.02,0.02,0.02,0.02,0.02,0.02,0.02,0.02,0.02,0.02,0.02,0.02,0.02,0.02,0.02,0.02,0.02,0.02,0.02,0.02,0.02,0.02,0.02,0.02,0.02,0.02,0.02,0.02,0.02,0.02,0.02,0.02,0.02,0.02,0.02,0.02,0.02,0.02,0.02,0.02,0.02,0.02,0.02,0.02,0.02,0.02,0.02,0.02,0.02,0.02,0.02,0.02,0.02,0.02,0.02,0.02,0.02,0.02,0.02,0.02,0.02,0.02,0.02,0.02,0.02,0.02,0.02,0.02,0.02,0.02,0.02,0.02,0.02,0.02,0.02,0.02,0.02,0.02,0.02,0.02,0.02,0.02,0.02,0.02,0.02,0.02,0.02,0.01,0.02,0.02,0.02,0.02,0.02,0.02,0.02,0.02,0.02,0.02,0.02,0.02,0.02,0.02,0.02,0.02,0.02,0.02,0.02,0.02,0.02,0.02,0.02,0.02,0.02,0.02,0.02,0.02,0.02,0.02,0.02,0.02,0.02,0.02,0.02,0.02,0.01,0.02,0.02,0.02,0.02,0.02,0.01,0.02,0.02,0.02,0.02,0.02,0.02,0.02,0.02,0.02,0.02,0.02,0.02,0.02,0.02,0.02,0.02,0.02,0.02,0.02,0.02,0.02,0.02,0.02,0.02,0.01,0.02,0.02,0.02,0.02,0.01,0.02,0.02,0.02,0.02,0.01,0.02,0.02,0.02,0.02,0.02,0.02,0.02,0.02,0.02,0.01,0.02,0.02,0.01,0.02,0.02,0.02,0.02,0.02,0.02,0.02,0.01,0.02,0.02,0.01,0.01,0.02,0.02,0.02,0.02,0.02,0.02,0.02,0.02,0.02,0.02,0.01,0.02,0.02,0.02,0.02,0.02,0.02,0.01,0.01,0.02,0.02,0.01,0.02,0.02,0.02,0.02,0.02,0.01,0.01,0.01,0.01,0.02,0.02,0.01,0.02,0.01,0.02,0.02,0.01,0.01,0.02,0.02,0.01,0.02,0.01,0.02,0.01,0.02,0.01,0.01,0.01,0.01,0.01,0.01,0.01,0.02,0.01,0.01,0.01,0.01,0.01,0.01,0.01,0.01,0.01,0.01,0.01,0.01,0.01,0.01,0.01,0.01,0.01,0.01,0.01,0.01,0.01,0.01,0.01,0.01,0.01,0.01,0.01,0.01,0.01,0.01,0.01,0.01,0.01,0.01,0.01,0.01,0.01,0.01,0.01,0.01,0.01,0.01,0.01,0.01,0.01,0.01,0.01,0.01,0.01,0.01,0.01,0.01,0.01,0.01,0.01,0.01,0.01,0.01,0.01,0.01,0.01,0.01,0.01,0.01,0.01,0.01,0.01,0.01,0.01,0.01,0.01,0.01,0.01,0.01,0.01,0.01,0.01,0.01,0.01,0.01,0.01,0.01,0.01,0.01,0.01,0.01,0.01,0.01,0.01,0.01,0.01,0.01,0.01,0.01,0.01,0.01,0.01,0.01,0.01,0.01,0.01,0.01,0.01,0.01,0.01,0.01,0.01,0.01,0.01,0.01,0.01,0.01,0.01,0.01,0.01,0.01,0.01,0.01,0.01,0.01,0.01,0.01,0.01,0.01,0.01,0.01,0.01,0.01,0.01,0.01,0.01,0.01,0.01,0.01,0.01,0.01,0.01,0.01,0.01,0.01,0.01,0.01,0.01,0.01,0.01,0.01,0.01,0.01,0.01,0.01,0.01,0.01,0.01,0.01,0.01,0.01,0.01,0.01,0.01,0.01,0.01,0.01,0.01,0.01,0.01,0.01,0.01,0.01,0.01,0.01,0.01,0.01,0.01,0.01,0.01,0.01,0.01,0.01,0.01,0.01,0.01,0.01,0.01,0.01,0.01,0.01,0.01,0.01,0.01,0.01,0.01,0.01,0.01,0.01,0.01,0.01,0.01,0.01,0.01,0.01,0.01,0.01,0.01,0.01],\"y0\":\" \",\"yaxis\":\"y\",\"type\":\"box\"}],                        {\"template\":{\"data\":{\"histogram2dcontour\":[{\"type\":\"histogram2dcontour\",\"colorbar\":{\"outlinewidth\":0,\"ticks\":\"\"},\"colorscale\":[[0.0,\"#0d0887\"],[0.1111111111111111,\"#46039f\"],[0.2222222222222222,\"#7201a8\"],[0.3333333333333333,\"#9c179e\"],[0.4444444444444444,\"#bd3786\"],[0.5555555555555556,\"#d8576b\"],[0.6666666666666666,\"#ed7953\"],[0.7777777777777778,\"#fb9f3a\"],[0.8888888888888888,\"#fdca26\"],[1.0,\"#f0f921\"]]}],\"choropleth\":[{\"type\":\"choropleth\",\"colorbar\":{\"outlinewidth\":0,\"ticks\":\"\"}}],\"histogram2d\":[{\"type\":\"histogram2d\",\"colorbar\":{\"outlinewidth\":0,\"ticks\":\"\"},\"colorscale\":[[0.0,\"#0d0887\"],[0.1111111111111111,\"#46039f\"],[0.2222222222222222,\"#7201a8\"],[0.3333333333333333,\"#9c179e\"],[0.4444444444444444,\"#bd3786\"],[0.5555555555555556,\"#d8576b\"],[0.6666666666666666,\"#ed7953\"],[0.7777777777777778,\"#fb9f3a\"],[0.8888888888888888,\"#fdca26\"],[1.0,\"#f0f921\"]]}],\"heatmap\":[{\"type\":\"heatmap\",\"colorbar\":{\"outlinewidth\":0,\"ticks\":\"\"},\"colorscale\":[[0.0,\"#0d0887\"],[0.1111111111111111,\"#46039f\"],[0.2222222222222222,\"#7201a8\"],[0.3333333333333333,\"#9c179e\"],[0.4444444444444444,\"#bd3786\"],[0.5555555555555556,\"#d8576b\"],[0.6666666666666666,\"#ed7953\"],[0.7777777777777778,\"#fb9f3a\"],[0.8888888888888888,\"#fdca26\"],[1.0,\"#f0f921\"]]}],\"heatmapgl\":[{\"type\":\"heatmapgl\",\"colorbar\":{\"outlinewidth\":0,\"ticks\":\"\"},\"colorscale\":[[0.0,\"#0d0887\"],[0.1111111111111111,\"#46039f\"],[0.2222222222222222,\"#7201a8\"],[0.3333333333333333,\"#9c179e\"],[0.4444444444444444,\"#bd3786\"],[0.5555555555555556,\"#d8576b\"],[0.6666666666666666,\"#ed7953\"],[0.7777777777777778,\"#fb9f3a\"],[0.8888888888888888,\"#fdca26\"],[1.0,\"#f0f921\"]]}],\"contourcarpet\":[{\"type\":\"contourcarpet\",\"colorbar\":{\"outlinewidth\":0,\"ticks\":\"\"}}],\"contour\":[{\"type\":\"contour\",\"colorbar\":{\"outlinewidth\":0,\"ticks\":\"\"},\"colorscale\":[[0.0,\"#0d0887\"],[0.1111111111111111,\"#46039f\"],[0.2222222222222222,\"#7201a8\"],[0.3333333333333333,\"#9c179e\"],[0.4444444444444444,\"#bd3786\"],[0.5555555555555556,\"#d8576b\"],[0.6666666666666666,\"#ed7953\"],[0.7777777777777778,\"#fb9f3a\"],[0.8888888888888888,\"#fdca26\"],[1.0,\"#f0f921\"]]}],\"surface\":[{\"type\":\"surface\",\"colorbar\":{\"outlinewidth\":0,\"ticks\":\"\"},\"colorscale\":[[0.0,\"#0d0887\"],[0.1111111111111111,\"#46039f\"],[0.2222222222222222,\"#7201a8\"],[0.3333333333333333,\"#9c179e\"],[0.4444444444444444,\"#bd3786\"],[0.5555555555555556,\"#d8576b\"],[0.6666666666666666,\"#ed7953\"],[0.7777777777777778,\"#fb9f3a\"],[0.8888888888888888,\"#fdca26\"],[1.0,\"#f0f921\"]]}],\"mesh3d\":[{\"type\":\"mesh3d\",\"colorbar\":{\"outlinewidth\":0,\"ticks\":\"\"}}],\"scatter\":[{\"fillpattern\":{\"fillmode\":\"overlay\",\"size\":10,\"solidity\":0.2},\"type\":\"scatter\"}],\"parcoords\":[{\"type\":\"parcoords\",\"line\":{\"colorbar\":{\"outlinewidth\":0,\"ticks\":\"\"}}}],\"scatterpolargl\":[{\"type\":\"scatterpolargl\",\"marker\":{\"colorbar\":{\"outlinewidth\":0,\"ticks\":\"\"}}}],\"bar\":[{\"error_x\":{\"color\":\"#2a3f5f\"},\"error_y\":{\"color\":\"#2a3f5f\"},\"marker\":{\"line\":{\"color\":\"#E5ECF6\",\"width\":0.5},\"pattern\":{\"fillmode\":\"overlay\",\"size\":10,\"solidity\":0.2}},\"type\":\"bar\"}],\"scattergeo\":[{\"type\":\"scattergeo\",\"marker\":{\"colorbar\":{\"outlinewidth\":0,\"ticks\":\"\"}}}],\"scatterpolar\":[{\"type\":\"scatterpolar\",\"marker\":{\"colorbar\":{\"outlinewidth\":0,\"ticks\":\"\"}}}],\"histogram\":[{\"marker\":{\"pattern\":{\"fillmode\":\"overlay\",\"size\":10,\"solidity\":0.2}},\"type\":\"histogram\"}],\"scattergl\":[{\"type\":\"scattergl\",\"marker\":{\"colorbar\":{\"outlinewidth\":0,\"ticks\":\"\"}}}],\"scatter3d\":[{\"type\":\"scatter3d\",\"line\":{\"colorbar\":{\"outlinewidth\":0,\"ticks\":\"\"}},\"marker\":{\"colorbar\":{\"outlinewidth\":0,\"ticks\":\"\"}}}],\"scattermapbox\":[{\"type\":\"scattermapbox\",\"marker\":{\"colorbar\":{\"outlinewidth\":0,\"ticks\":\"\"}}}],\"scatterternary\":[{\"type\":\"scatterternary\",\"marker\":{\"colorbar\":{\"outlinewidth\":0,\"ticks\":\"\"}}}],\"scattercarpet\":[{\"type\":\"scattercarpet\",\"marker\":{\"colorbar\":{\"outlinewidth\":0,\"ticks\":\"\"}}}],\"carpet\":[{\"aaxis\":{\"endlinecolor\":\"#2a3f5f\",\"gridcolor\":\"white\",\"linecolor\":\"white\",\"minorgridcolor\":\"white\",\"startlinecolor\":\"#2a3f5f\"},\"baxis\":{\"endlinecolor\":\"#2a3f5f\",\"gridcolor\":\"white\",\"linecolor\":\"white\",\"minorgridcolor\":\"white\",\"startlinecolor\":\"#2a3f5f\"},\"type\":\"carpet\"}],\"table\":[{\"cells\":{\"fill\":{\"color\":\"#EBF0F8\"},\"line\":{\"color\":\"white\"}},\"header\":{\"fill\":{\"color\":\"#C8D4E3\"},\"line\":{\"color\":\"white\"}},\"type\":\"table\"}],\"barpolar\":[{\"marker\":{\"line\":{\"color\":\"#E5ECF6\",\"width\":0.5},\"pattern\":{\"fillmode\":\"overlay\",\"size\":10,\"solidity\":0.2}},\"type\":\"barpolar\"}],\"pie\":[{\"automargin\":true,\"type\":\"pie\"}]},\"layout\":{\"autotypenumbers\":\"strict\",\"colorway\":[\"#636efa\",\"#EF553B\",\"#00cc96\",\"#ab63fa\",\"#FFA15A\",\"#19d3f3\",\"#FF6692\",\"#B6E880\",\"#FF97FF\",\"#FECB52\"],\"font\":{\"color\":\"#2a3f5f\"},\"hovermode\":\"closest\",\"hoverlabel\":{\"align\":\"left\"},\"paper_bgcolor\":\"white\",\"plot_bgcolor\":\"#E5ECF6\",\"polar\":{\"bgcolor\":\"#E5ECF6\",\"angularaxis\":{\"gridcolor\":\"white\",\"linecolor\":\"white\",\"ticks\":\"\"},\"radialaxis\":{\"gridcolor\":\"white\",\"linecolor\":\"white\",\"ticks\":\"\"}},\"ternary\":{\"bgcolor\":\"#E5ECF6\",\"aaxis\":{\"gridcolor\":\"white\",\"linecolor\":\"white\",\"ticks\":\"\"},\"baxis\":{\"gridcolor\":\"white\",\"linecolor\":\"white\",\"ticks\":\"\"},\"caxis\":{\"gridcolor\":\"white\",\"linecolor\":\"white\",\"ticks\":\"\"}},\"coloraxis\":{\"colorbar\":{\"outlinewidth\":0,\"ticks\":\"\"}},\"colorscale\":{\"sequential\":[[0.0,\"#0d0887\"],[0.1111111111111111,\"#46039f\"],[0.2222222222222222,\"#7201a8\"],[0.3333333333333333,\"#9c179e\"],[0.4444444444444444,\"#bd3786\"],[0.5555555555555556,\"#d8576b\"],[0.6666666666666666,\"#ed7953\"],[0.7777777777777778,\"#fb9f3a\"],[0.8888888888888888,\"#fdca26\"],[1.0,\"#f0f921\"]],\"sequentialminus\":[[0.0,\"#0d0887\"],[0.1111111111111111,\"#46039f\"],[0.2222222222222222,\"#7201a8\"],[0.3333333333333333,\"#9c179e\"],[0.4444444444444444,\"#bd3786\"],[0.5555555555555556,\"#d8576b\"],[0.6666666666666666,\"#ed7953\"],[0.7777777777777778,\"#fb9f3a\"],[0.8888888888888888,\"#fdca26\"],[1.0,\"#f0f921\"]],\"diverging\":[[0,\"#8e0152\"],[0.1,\"#c51b7d\"],[0.2,\"#de77ae\"],[0.3,\"#f1b6da\"],[0.4,\"#fde0ef\"],[0.5,\"#f7f7f7\"],[0.6,\"#e6f5d0\"],[0.7,\"#b8e186\"],[0.8,\"#7fbc41\"],[0.9,\"#4d9221\"],[1,\"#276419\"]]},\"xaxis\":{\"gridcolor\":\"white\",\"linecolor\":\"white\",\"ticks\":\"\",\"title\":{\"standoff\":15},\"zerolinecolor\":\"white\",\"automargin\":true,\"zerolinewidth\":2},\"yaxis\":{\"gridcolor\":\"white\",\"linecolor\":\"white\",\"ticks\":\"\",\"title\":{\"standoff\":15},\"zerolinecolor\":\"white\",\"automargin\":true,\"zerolinewidth\":2},\"scene\":{\"xaxis\":{\"backgroundcolor\":\"#E5ECF6\",\"gridcolor\":\"white\",\"linecolor\":\"white\",\"showbackground\":true,\"ticks\":\"\",\"zerolinecolor\":\"white\",\"gridwidth\":2},\"yaxis\":{\"backgroundcolor\":\"#E5ECF6\",\"gridcolor\":\"white\",\"linecolor\":\"white\",\"showbackground\":true,\"ticks\":\"\",\"zerolinecolor\":\"white\",\"gridwidth\":2},\"zaxis\":{\"backgroundcolor\":\"#E5ECF6\",\"gridcolor\":\"white\",\"linecolor\":\"white\",\"showbackground\":true,\"ticks\":\"\",\"zerolinecolor\":\"white\",\"gridwidth\":2}},\"shapedefaults\":{\"line\":{\"color\":\"#2a3f5f\"}},\"annotationdefaults\":{\"arrowcolor\":\"#2a3f5f\",\"arrowhead\":0,\"arrowwidth\":1},\"geo\":{\"bgcolor\":\"white\",\"landcolor\":\"#E5ECF6\",\"subunitcolor\":\"white\",\"showland\":true,\"showlakes\":true,\"lakecolor\":\"white\"},\"title\":{\"x\":0.05},\"mapbox\":{\"style\":\"light\"}}},\"xaxis\":{\"anchor\":\"y\",\"domain\":[0.0,1.0],\"title\":{\"text\":\"Genre\"}},\"yaxis\":{\"anchor\":\"x\",\"domain\":[0.0,1.0],\"title\":{\"text\":\"Total Sales\"}},\"legend\":{\"tracegroupgap\":0},\"title\":{\"text\":\"Distribution of Sales per Genre\"},\"boxmode\":\"group\"},                        {\"responsive\": true}                    ).then(function(){\n",
       "                            \n",
       "var gd = document.getElementById('fa4bbf68-066b-472c-94cc-72ac8d7f9843');\n",
       "var x = new MutationObserver(function (mutations, observer) {{\n",
       "        var display = window.getComputedStyle(gd).display;\n",
       "        if (!display || display === 'none') {{\n",
       "            console.log([gd, 'removed!']);\n",
       "            Plotly.purge(gd);\n",
       "            observer.disconnect();\n",
       "        }}\n",
       "}});\n",
       "\n",
       "// Listen for the removal of the full notebook cells\n",
       "var notebookContainer = gd.closest('#notebook-container');\n",
       "if (notebookContainer) {{\n",
       "    x.observe(notebookContainer, {childList: true});\n",
       "}}\n",
       "\n",
       "// Listen for the clearing of the current output cell\n",
       "var outputEl = gd.closest('.output');\n",
       "if (outputEl) {{\n",
       "    x.observe(outputEl, {childList: true});\n",
       "}}\n",
       "\n",
       "                        })                };                });            </script>        </div>"
      ]
     },
     "metadata": {},
     "output_type": "display_data"
    }
   ],
   "source": [
    "# Visualizando distribuição de vendas para cada gênero\n",
    "\n",
    "fig = px.box(sales_last_5_years,\n",
    "             x='genre',\n",
    "             y='total_sales',\n",
    "             title='Distribution of Sales per Genre',\n",
    "             labels={\n",
    "                 'total_sales': 'Total Sales',\n",
    "                 'genre': 'Genre'\n",
    "             })\n",
    "\n",
    "fig.show()"
   ]
  },
  {
   "cell_type": "markdown",
   "metadata": {},
   "source": [
    "Existem muitos outliers nas vendas para cada gênero, porém é possível perceber que no geral o gênero Shooter tem um alcance maior de total de vendas, sendo ultrapassado somente por Action e Role-Playing, além de um caso isolado de Misc. Vamos observar os valores da média e mediana separados para ter uma noção melhor."
   ]
  },
  {
   "cell_type": "code",
   "execution_count": 82,
   "metadata": {},
   "outputs": [
    {
     "data": {
      "text/html": [
       "<div>                            <div id=\"15bca364-44ae-4d27-ad9b-4ab26b468cbb\" class=\"plotly-graph-div\" style=\"height:525px; width:100%;\"></div>            <script type=\"text/javascript\">                require([\"plotly\"], function(Plotly) {                    window.PLOTLYENV=window.PLOTLYENV || {};                                    if (document.getElementById(\"15bca364-44ae-4d27-ad9b-4ab26b468cbb\")) {                    Plotly.newPlot(                        \"15bca364-44ae-4d27-ad9b-4ab26b468cbb\",                        [{\"alignmentgroup\":\"True\",\"hovertemplate\":\"Genre=%{x}\\u003cbr\\u003eTotal Sales=%{y}\\u003cextra\\u003e\\u003c\\u002fextra\\u003e\",\"legendgroup\":\"\",\"marker\":{\"color\":\"#636efa\",\"pattern\":{\"shape\":\"\"}},\"name\":\"\",\"offsetgroup\":\"\",\"orientation\":\"v\",\"showlegend\":false,\"textposition\":\"auto\",\"x\":[\"Action\",\"Adventure\",\"Fighting\",\"Misc\",\"Platform\",\"Puzzle\",\"Racing\",\"Role-Playing\",\"Shooter\",\"Simulation\",\"Sports\",\"Strategy\"],\"xaxis\":\"x\",\"y\":[0.4278564500484966,0.09745033112582781,0.40816513761467893,0.4429166666666667,0.7176470588235294,0.17464285714285716,0.4652173913043478,0.5210810810810811,1.2967234042553193,0.43899999999999995,0.6756343283582089,0.18788732394366198],\"yaxis\":\"y\",\"type\":\"bar\"}],                        {\"template\":{\"data\":{\"histogram2dcontour\":[{\"type\":\"histogram2dcontour\",\"colorbar\":{\"outlinewidth\":0,\"ticks\":\"\"},\"colorscale\":[[0.0,\"#0d0887\"],[0.1111111111111111,\"#46039f\"],[0.2222222222222222,\"#7201a8\"],[0.3333333333333333,\"#9c179e\"],[0.4444444444444444,\"#bd3786\"],[0.5555555555555556,\"#d8576b\"],[0.6666666666666666,\"#ed7953\"],[0.7777777777777778,\"#fb9f3a\"],[0.8888888888888888,\"#fdca26\"],[1.0,\"#f0f921\"]]}],\"choropleth\":[{\"type\":\"choropleth\",\"colorbar\":{\"outlinewidth\":0,\"ticks\":\"\"}}],\"histogram2d\":[{\"type\":\"histogram2d\",\"colorbar\":{\"outlinewidth\":0,\"ticks\":\"\"},\"colorscale\":[[0.0,\"#0d0887\"],[0.1111111111111111,\"#46039f\"],[0.2222222222222222,\"#7201a8\"],[0.3333333333333333,\"#9c179e\"],[0.4444444444444444,\"#bd3786\"],[0.5555555555555556,\"#d8576b\"],[0.6666666666666666,\"#ed7953\"],[0.7777777777777778,\"#fb9f3a\"],[0.8888888888888888,\"#fdca26\"],[1.0,\"#f0f921\"]]}],\"heatmap\":[{\"type\":\"heatmap\",\"colorbar\":{\"outlinewidth\":0,\"ticks\":\"\"},\"colorscale\":[[0.0,\"#0d0887\"],[0.1111111111111111,\"#46039f\"],[0.2222222222222222,\"#7201a8\"],[0.3333333333333333,\"#9c179e\"],[0.4444444444444444,\"#bd3786\"],[0.5555555555555556,\"#d8576b\"],[0.6666666666666666,\"#ed7953\"],[0.7777777777777778,\"#fb9f3a\"],[0.8888888888888888,\"#fdca26\"],[1.0,\"#f0f921\"]]}],\"heatmapgl\":[{\"type\":\"heatmapgl\",\"colorbar\":{\"outlinewidth\":0,\"ticks\":\"\"},\"colorscale\":[[0.0,\"#0d0887\"],[0.1111111111111111,\"#46039f\"],[0.2222222222222222,\"#7201a8\"],[0.3333333333333333,\"#9c179e\"],[0.4444444444444444,\"#bd3786\"],[0.5555555555555556,\"#d8576b\"],[0.6666666666666666,\"#ed7953\"],[0.7777777777777778,\"#fb9f3a\"],[0.8888888888888888,\"#fdca26\"],[1.0,\"#f0f921\"]]}],\"contourcarpet\":[{\"type\":\"contourcarpet\",\"colorbar\":{\"outlinewidth\":0,\"ticks\":\"\"}}],\"contour\":[{\"type\":\"contour\",\"colorbar\":{\"outlinewidth\":0,\"ticks\":\"\"},\"colorscale\":[[0.0,\"#0d0887\"],[0.1111111111111111,\"#46039f\"],[0.2222222222222222,\"#7201a8\"],[0.3333333333333333,\"#9c179e\"],[0.4444444444444444,\"#bd3786\"],[0.5555555555555556,\"#d8576b\"],[0.6666666666666666,\"#ed7953\"],[0.7777777777777778,\"#fb9f3a\"],[0.8888888888888888,\"#fdca26\"],[1.0,\"#f0f921\"]]}],\"surface\":[{\"type\":\"surface\",\"colorbar\":{\"outlinewidth\":0,\"ticks\":\"\"},\"colorscale\":[[0.0,\"#0d0887\"],[0.1111111111111111,\"#46039f\"],[0.2222222222222222,\"#7201a8\"],[0.3333333333333333,\"#9c179e\"],[0.4444444444444444,\"#bd3786\"],[0.5555555555555556,\"#d8576b\"],[0.6666666666666666,\"#ed7953\"],[0.7777777777777778,\"#fb9f3a\"],[0.8888888888888888,\"#fdca26\"],[1.0,\"#f0f921\"]]}],\"mesh3d\":[{\"type\":\"mesh3d\",\"colorbar\":{\"outlinewidth\":0,\"ticks\":\"\"}}],\"scatter\":[{\"fillpattern\":{\"fillmode\":\"overlay\",\"size\":10,\"solidity\":0.2},\"type\":\"scatter\"}],\"parcoords\":[{\"type\":\"parcoords\",\"line\":{\"colorbar\":{\"outlinewidth\":0,\"ticks\":\"\"}}}],\"scatterpolargl\":[{\"type\":\"scatterpolargl\",\"marker\":{\"colorbar\":{\"outlinewidth\":0,\"ticks\":\"\"}}}],\"bar\":[{\"error_x\":{\"color\":\"#2a3f5f\"},\"error_y\":{\"color\":\"#2a3f5f\"},\"marker\":{\"line\":{\"color\":\"#E5ECF6\",\"width\":0.5},\"pattern\":{\"fillmode\":\"overlay\",\"size\":10,\"solidity\":0.2}},\"type\":\"bar\"}],\"scattergeo\":[{\"type\":\"scattergeo\",\"marker\":{\"colorbar\":{\"outlinewidth\":0,\"ticks\":\"\"}}}],\"scatterpolar\":[{\"type\":\"scatterpolar\",\"marker\":{\"colorbar\":{\"outlinewidth\":0,\"ticks\":\"\"}}}],\"histogram\":[{\"marker\":{\"pattern\":{\"fillmode\":\"overlay\",\"size\":10,\"solidity\":0.2}},\"type\":\"histogram\"}],\"scattergl\":[{\"type\":\"scattergl\",\"marker\":{\"colorbar\":{\"outlinewidth\":0,\"ticks\":\"\"}}}],\"scatter3d\":[{\"type\":\"scatter3d\",\"line\":{\"colorbar\":{\"outlinewidth\":0,\"ticks\":\"\"}},\"marker\":{\"colorbar\":{\"outlinewidth\":0,\"ticks\":\"\"}}}],\"scattermapbox\":[{\"type\":\"scattermapbox\",\"marker\":{\"colorbar\":{\"outlinewidth\":0,\"ticks\":\"\"}}}],\"scatterternary\":[{\"type\":\"scatterternary\",\"marker\":{\"colorbar\":{\"outlinewidth\":0,\"ticks\":\"\"}}}],\"scattercarpet\":[{\"type\":\"scattercarpet\",\"marker\":{\"colorbar\":{\"outlinewidth\":0,\"ticks\":\"\"}}}],\"carpet\":[{\"aaxis\":{\"endlinecolor\":\"#2a3f5f\",\"gridcolor\":\"white\",\"linecolor\":\"white\",\"minorgridcolor\":\"white\",\"startlinecolor\":\"#2a3f5f\"},\"baxis\":{\"endlinecolor\":\"#2a3f5f\",\"gridcolor\":\"white\",\"linecolor\":\"white\",\"minorgridcolor\":\"white\",\"startlinecolor\":\"#2a3f5f\"},\"type\":\"carpet\"}],\"table\":[{\"cells\":{\"fill\":{\"color\":\"#EBF0F8\"},\"line\":{\"color\":\"white\"}},\"header\":{\"fill\":{\"color\":\"#C8D4E3\"},\"line\":{\"color\":\"white\"}},\"type\":\"table\"}],\"barpolar\":[{\"marker\":{\"line\":{\"color\":\"#E5ECF6\",\"width\":0.5},\"pattern\":{\"fillmode\":\"overlay\",\"size\":10,\"solidity\":0.2}},\"type\":\"barpolar\"}],\"pie\":[{\"automargin\":true,\"type\":\"pie\"}]},\"layout\":{\"autotypenumbers\":\"strict\",\"colorway\":[\"#636efa\",\"#EF553B\",\"#00cc96\",\"#ab63fa\",\"#FFA15A\",\"#19d3f3\",\"#FF6692\",\"#B6E880\",\"#FF97FF\",\"#FECB52\"],\"font\":{\"color\":\"#2a3f5f\"},\"hovermode\":\"closest\",\"hoverlabel\":{\"align\":\"left\"},\"paper_bgcolor\":\"white\",\"plot_bgcolor\":\"#E5ECF6\",\"polar\":{\"bgcolor\":\"#E5ECF6\",\"angularaxis\":{\"gridcolor\":\"white\",\"linecolor\":\"white\",\"ticks\":\"\"},\"radialaxis\":{\"gridcolor\":\"white\",\"linecolor\":\"white\",\"ticks\":\"\"}},\"ternary\":{\"bgcolor\":\"#E5ECF6\",\"aaxis\":{\"gridcolor\":\"white\",\"linecolor\":\"white\",\"ticks\":\"\"},\"baxis\":{\"gridcolor\":\"white\",\"linecolor\":\"white\",\"ticks\":\"\"},\"caxis\":{\"gridcolor\":\"white\",\"linecolor\":\"white\",\"ticks\":\"\"}},\"coloraxis\":{\"colorbar\":{\"outlinewidth\":0,\"ticks\":\"\"}},\"colorscale\":{\"sequential\":[[0.0,\"#0d0887\"],[0.1111111111111111,\"#46039f\"],[0.2222222222222222,\"#7201a8\"],[0.3333333333333333,\"#9c179e\"],[0.4444444444444444,\"#bd3786\"],[0.5555555555555556,\"#d8576b\"],[0.6666666666666666,\"#ed7953\"],[0.7777777777777778,\"#fb9f3a\"],[0.8888888888888888,\"#fdca26\"],[1.0,\"#f0f921\"]],\"sequentialminus\":[[0.0,\"#0d0887\"],[0.1111111111111111,\"#46039f\"],[0.2222222222222222,\"#7201a8\"],[0.3333333333333333,\"#9c179e\"],[0.4444444444444444,\"#bd3786\"],[0.5555555555555556,\"#d8576b\"],[0.6666666666666666,\"#ed7953\"],[0.7777777777777778,\"#fb9f3a\"],[0.8888888888888888,\"#fdca26\"],[1.0,\"#f0f921\"]],\"diverging\":[[0,\"#8e0152\"],[0.1,\"#c51b7d\"],[0.2,\"#de77ae\"],[0.3,\"#f1b6da\"],[0.4,\"#fde0ef\"],[0.5,\"#f7f7f7\"],[0.6,\"#e6f5d0\"],[0.7,\"#b8e186\"],[0.8,\"#7fbc41\"],[0.9,\"#4d9221\"],[1,\"#276419\"]]},\"xaxis\":{\"gridcolor\":\"white\",\"linecolor\":\"white\",\"ticks\":\"\",\"title\":{\"standoff\":15},\"zerolinecolor\":\"white\",\"automargin\":true,\"zerolinewidth\":2},\"yaxis\":{\"gridcolor\":\"white\",\"linecolor\":\"white\",\"ticks\":\"\",\"title\":{\"standoff\":15},\"zerolinecolor\":\"white\",\"automargin\":true,\"zerolinewidth\":2},\"scene\":{\"xaxis\":{\"backgroundcolor\":\"#E5ECF6\",\"gridcolor\":\"white\",\"linecolor\":\"white\",\"showbackground\":true,\"ticks\":\"\",\"zerolinecolor\":\"white\",\"gridwidth\":2},\"yaxis\":{\"backgroundcolor\":\"#E5ECF6\",\"gridcolor\":\"white\",\"linecolor\":\"white\",\"showbackground\":true,\"ticks\":\"\",\"zerolinecolor\":\"white\",\"gridwidth\":2},\"zaxis\":{\"backgroundcolor\":\"#E5ECF6\",\"gridcolor\":\"white\",\"linecolor\":\"white\",\"showbackground\":true,\"ticks\":\"\",\"zerolinecolor\":\"white\",\"gridwidth\":2}},\"shapedefaults\":{\"line\":{\"color\":\"#2a3f5f\"}},\"annotationdefaults\":{\"arrowcolor\":\"#2a3f5f\",\"arrowhead\":0,\"arrowwidth\":1},\"geo\":{\"bgcolor\":\"white\",\"landcolor\":\"#E5ECF6\",\"subunitcolor\":\"white\",\"showland\":true,\"showlakes\":true,\"lakecolor\":\"white\"},\"title\":{\"x\":0.05},\"mapbox\":{\"style\":\"light\"}}},\"xaxis\":{\"anchor\":\"y\",\"domain\":[0.0,1.0],\"title\":{\"text\":\"Genre\"}},\"yaxis\":{\"anchor\":\"x\",\"domain\":[0.0,1.0],\"title\":{\"text\":\"Total Sales\"}},\"legend\":{\"tracegroupgap\":0},\"title\":{\"text\":\"Mean Sales per Genre\"},\"barmode\":\"relative\"},                        {\"responsive\": true}                    ).then(function(){\n",
       "                            \n",
       "var gd = document.getElementById('15bca364-44ae-4d27-ad9b-4ab26b468cbb');\n",
       "var x = new MutationObserver(function (mutations, observer) {{\n",
       "        var display = window.getComputedStyle(gd).display;\n",
       "        if (!display || display === 'none') {{\n",
       "            console.log([gd, 'removed!']);\n",
       "            Plotly.purge(gd);\n",
       "            observer.disconnect();\n",
       "        }}\n",
       "}});\n",
       "\n",
       "// Listen for the removal of the full notebook cells\n",
       "var notebookContainer = gd.closest('#notebook-container');\n",
       "if (notebookContainer) {{\n",
       "    x.observe(notebookContainer, {childList: true});\n",
       "}}\n",
       "\n",
       "// Listen for the clearing of the current output cell\n",
       "var outputEl = gd.closest('.output');\n",
       "if (outputEl) {{\n",
       "    x.observe(outputEl, {childList: true});\n",
       "}}\n",
       "\n",
       "                        })                };                });            </script>        </div>"
      ]
     },
     "metadata": {},
     "output_type": "display_data"
    }
   ],
   "source": [
    "# Visualização da média de vendas por gênero\n",
    "mean_sales_by_gender = sales_last_5_years.groupby(\n",
    "    'genre')['total_sales'].mean().reset_index()\n",
    "\n",
    "fig = px.bar(mean_sales_by_gender,\n",
    "             x='genre',\n",
    "             y='total_sales',\n",
    "             labels={\n",
    "                 'genre': 'Genre',\n",
    "                 'total_sales': 'Total Sales'\n",
    "             },\n",
    "             title='Mean Sales per Genre')\n",
    "\n",
    "fig.show()"
   ]
  },
  {
   "cell_type": "code",
   "execution_count": 83,
   "metadata": {},
   "outputs": [
    {
     "data": {
      "text/html": [
       "<div>                            <div id=\"92382c78-3acc-46cc-8d7a-b89731693000\" class=\"plotly-graph-div\" style=\"height:525px; width:100%;\"></div>            <script type=\"text/javascript\">                require([\"plotly\"], function(Plotly) {                    window.PLOTLYENV=window.PLOTLYENV || {};                                    if (document.getElementById(\"92382c78-3acc-46cc-8d7a-b89731693000\")) {                    Plotly.newPlot(                        \"92382c78-3acc-46cc-8d7a-b89731693000\",                        [{\"alignmentgroup\":\"True\",\"hovertemplate\":\"Genre=%{x}\\u003cbr\\u003eTotal Sales=%{y}\\u003cextra\\u003e\\u003c\\u002fextra\\u003e\",\"legendgroup\":\"\",\"marker\":{\"color\":\"#636efa\",\"pattern\":{\"shape\":\"\"}},\"name\":\"\",\"offsetgroup\":\"\",\"orientation\":\"v\",\"showlegend\":false,\"textposition\":\"auto\",\"x\":[\"Action\",\"Adventure\",\"Fighting\",\"Misc\",\"Platform\",\"Puzzle\",\"Racing\",\"Role-Playing\",\"Shooter\",\"Simulation\",\"Sports\",\"Strategy\"],\"xaxis\":\"x\",\"y\":[0.12,0.03,0.13,0.12,0.21,0.045,0.13999999999999999,0.14,0.44,0.12,0.24000000000000002,0.08],\"yaxis\":\"y\",\"type\":\"bar\"}],                        {\"template\":{\"data\":{\"histogram2dcontour\":[{\"type\":\"histogram2dcontour\",\"colorbar\":{\"outlinewidth\":0,\"ticks\":\"\"},\"colorscale\":[[0.0,\"#0d0887\"],[0.1111111111111111,\"#46039f\"],[0.2222222222222222,\"#7201a8\"],[0.3333333333333333,\"#9c179e\"],[0.4444444444444444,\"#bd3786\"],[0.5555555555555556,\"#d8576b\"],[0.6666666666666666,\"#ed7953\"],[0.7777777777777778,\"#fb9f3a\"],[0.8888888888888888,\"#fdca26\"],[1.0,\"#f0f921\"]]}],\"choropleth\":[{\"type\":\"choropleth\",\"colorbar\":{\"outlinewidth\":0,\"ticks\":\"\"}}],\"histogram2d\":[{\"type\":\"histogram2d\",\"colorbar\":{\"outlinewidth\":0,\"ticks\":\"\"},\"colorscale\":[[0.0,\"#0d0887\"],[0.1111111111111111,\"#46039f\"],[0.2222222222222222,\"#7201a8\"],[0.3333333333333333,\"#9c179e\"],[0.4444444444444444,\"#bd3786\"],[0.5555555555555556,\"#d8576b\"],[0.6666666666666666,\"#ed7953\"],[0.7777777777777778,\"#fb9f3a\"],[0.8888888888888888,\"#fdca26\"],[1.0,\"#f0f921\"]]}],\"heatmap\":[{\"type\":\"heatmap\",\"colorbar\":{\"outlinewidth\":0,\"ticks\":\"\"},\"colorscale\":[[0.0,\"#0d0887\"],[0.1111111111111111,\"#46039f\"],[0.2222222222222222,\"#7201a8\"],[0.3333333333333333,\"#9c179e\"],[0.4444444444444444,\"#bd3786\"],[0.5555555555555556,\"#d8576b\"],[0.6666666666666666,\"#ed7953\"],[0.7777777777777778,\"#fb9f3a\"],[0.8888888888888888,\"#fdca26\"],[1.0,\"#f0f921\"]]}],\"heatmapgl\":[{\"type\":\"heatmapgl\",\"colorbar\":{\"outlinewidth\":0,\"ticks\":\"\"},\"colorscale\":[[0.0,\"#0d0887\"],[0.1111111111111111,\"#46039f\"],[0.2222222222222222,\"#7201a8\"],[0.3333333333333333,\"#9c179e\"],[0.4444444444444444,\"#bd3786\"],[0.5555555555555556,\"#d8576b\"],[0.6666666666666666,\"#ed7953\"],[0.7777777777777778,\"#fb9f3a\"],[0.8888888888888888,\"#fdca26\"],[1.0,\"#f0f921\"]]}],\"contourcarpet\":[{\"type\":\"contourcarpet\",\"colorbar\":{\"outlinewidth\":0,\"ticks\":\"\"}}],\"contour\":[{\"type\":\"contour\",\"colorbar\":{\"outlinewidth\":0,\"ticks\":\"\"},\"colorscale\":[[0.0,\"#0d0887\"],[0.1111111111111111,\"#46039f\"],[0.2222222222222222,\"#7201a8\"],[0.3333333333333333,\"#9c179e\"],[0.4444444444444444,\"#bd3786\"],[0.5555555555555556,\"#d8576b\"],[0.6666666666666666,\"#ed7953\"],[0.7777777777777778,\"#fb9f3a\"],[0.8888888888888888,\"#fdca26\"],[1.0,\"#f0f921\"]]}],\"surface\":[{\"type\":\"surface\",\"colorbar\":{\"outlinewidth\":0,\"ticks\":\"\"},\"colorscale\":[[0.0,\"#0d0887\"],[0.1111111111111111,\"#46039f\"],[0.2222222222222222,\"#7201a8\"],[0.3333333333333333,\"#9c179e\"],[0.4444444444444444,\"#bd3786\"],[0.5555555555555556,\"#d8576b\"],[0.6666666666666666,\"#ed7953\"],[0.7777777777777778,\"#fb9f3a\"],[0.8888888888888888,\"#fdca26\"],[1.0,\"#f0f921\"]]}],\"mesh3d\":[{\"type\":\"mesh3d\",\"colorbar\":{\"outlinewidth\":0,\"ticks\":\"\"}}],\"scatter\":[{\"fillpattern\":{\"fillmode\":\"overlay\",\"size\":10,\"solidity\":0.2},\"type\":\"scatter\"}],\"parcoords\":[{\"type\":\"parcoords\",\"line\":{\"colorbar\":{\"outlinewidth\":0,\"ticks\":\"\"}}}],\"scatterpolargl\":[{\"type\":\"scatterpolargl\",\"marker\":{\"colorbar\":{\"outlinewidth\":0,\"ticks\":\"\"}}}],\"bar\":[{\"error_x\":{\"color\":\"#2a3f5f\"},\"error_y\":{\"color\":\"#2a3f5f\"},\"marker\":{\"line\":{\"color\":\"#E5ECF6\",\"width\":0.5},\"pattern\":{\"fillmode\":\"overlay\",\"size\":10,\"solidity\":0.2}},\"type\":\"bar\"}],\"scattergeo\":[{\"type\":\"scattergeo\",\"marker\":{\"colorbar\":{\"outlinewidth\":0,\"ticks\":\"\"}}}],\"scatterpolar\":[{\"type\":\"scatterpolar\",\"marker\":{\"colorbar\":{\"outlinewidth\":0,\"ticks\":\"\"}}}],\"histogram\":[{\"marker\":{\"pattern\":{\"fillmode\":\"overlay\",\"size\":10,\"solidity\":0.2}},\"type\":\"histogram\"}],\"scattergl\":[{\"type\":\"scattergl\",\"marker\":{\"colorbar\":{\"outlinewidth\":0,\"ticks\":\"\"}}}],\"scatter3d\":[{\"type\":\"scatter3d\",\"line\":{\"colorbar\":{\"outlinewidth\":0,\"ticks\":\"\"}},\"marker\":{\"colorbar\":{\"outlinewidth\":0,\"ticks\":\"\"}}}],\"scattermapbox\":[{\"type\":\"scattermapbox\",\"marker\":{\"colorbar\":{\"outlinewidth\":0,\"ticks\":\"\"}}}],\"scatterternary\":[{\"type\":\"scatterternary\",\"marker\":{\"colorbar\":{\"outlinewidth\":0,\"ticks\":\"\"}}}],\"scattercarpet\":[{\"type\":\"scattercarpet\",\"marker\":{\"colorbar\":{\"outlinewidth\":0,\"ticks\":\"\"}}}],\"carpet\":[{\"aaxis\":{\"endlinecolor\":\"#2a3f5f\",\"gridcolor\":\"white\",\"linecolor\":\"white\",\"minorgridcolor\":\"white\",\"startlinecolor\":\"#2a3f5f\"},\"baxis\":{\"endlinecolor\":\"#2a3f5f\",\"gridcolor\":\"white\",\"linecolor\":\"white\",\"minorgridcolor\":\"white\",\"startlinecolor\":\"#2a3f5f\"},\"type\":\"carpet\"}],\"table\":[{\"cells\":{\"fill\":{\"color\":\"#EBF0F8\"},\"line\":{\"color\":\"white\"}},\"header\":{\"fill\":{\"color\":\"#C8D4E3\"},\"line\":{\"color\":\"white\"}},\"type\":\"table\"}],\"barpolar\":[{\"marker\":{\"line\":{\"color\":\"#E5ECF6\",\"width\":0.5},\"pattern\":{\"fillmode\":\"overlay\",\"size\":10,\"solidity\":0.2}},\"type\":\"barpolar\"}],\"pie\":[{\"automargin\":true,\"type\":\"pie\"}]},\"layout\":{\"autotypenumbers\":\"strict\",\"colorway\":[\"#636efa\",\"#EF553B\",\"#00cc96\",\"#ab63fa\",\"#FFA15A\",\"#19d3f3\",\"#FF6692\",\"#B6E880\",\"#FF97FF\",\"#FECB52\"],\"font\":{\"color\":\"#2a3f5f\"},\"hovermode\":\"closest\",\"hoverlabel\":{\"align\":\"left\"},\"paper_bgcolor\":\"white\",\"plot_bgcolor\":\"#E5ECF6\",\"polar\":{\"bgcolor\":\"#E5ECF6\",\"angularaxis\":{\"gridcolor\":\"white\",\"linecolor\":\"white\",\"ticks\":\"\"},\"radialaxis\":{\"gridcolor\":\"white\",\"linecolor\":\"white\",\"ticks\":\"\"}},\"ternary\":{\"bgcolor\":\"#E5ECF6\",\"aaxis\":{\"gridcolor\":\"white\",\"linecolor\":\"white\",\"ticks\":\"\"},\"baxis\":{\"gridcolor\":\"white\",\"linecolor\":\"white\",\"ticks\":\"\"},\"caxis\":{\"gridcolor\":\"white\",\"linecolor\":\"white\",\"ticks\":\"\"}},\"coloraxis\":{\"colorbar\":{\"outlinewidth\":0,\"ticks\":\"\"}},\"colorscale\":{\"sequential\":[[0.0,\"#0d0887\"],[0.1111111111111111,\"#46039f\"],[0.2222222222222222,\"#7201a8\"],[0.3333333333333333,\"#9c179e\"],[0.4444444444444444,\"#bd3786\"],[0.5555555555555556,\"#d8576b\"],[0.6666666666666666,\"#ed7953\"],[0.7777777777777778,\"#fb9f3a\"],[0.8888888888888888,\"#fdca26\"],[1.0,\"#f0f921\"]],\"sequentialminus\":[[0.0,\"#0d0887\"],[0.1111111111111111,\"#46039f\"],[0.2222222222222222,\"#7201a8\"],[0.3333333333333333,\"#9c179e\"],[0.4444444444444444,\"#bd3786\"],[0.5555555555555556,\"#d8576b\"],[0.6666666666666666,\"#ed7953\"],[0.7777777777777778,\"#fb9f3a\"],[0.8888888888888888,\"#fdca26\"],[1.0,\"#f0f921\"]],\"diverging\":[[0,\"#8e0152\"],[0.1,\"#c51b7d\"],[0.2,\"#de77ae\"],[0.3,\"#f1b6da\"],[0.4,\"#fde0ef\"],[0.5,\"#f7f7f7\"],[0.6,\"#e6f5d0\"],[0.7,\"#b8e186\"],[0.8,\"#7fbc41\"],[0.9,\"#4d9221\"],[1,\"#276419\"]]},\"xaxis\":{\"gridcolor\":\"white\",\"linecolor\":\"white\",\"ticks\":\"\",\"title\":{\"standoff\":15},\"zerolinecolor\":\"white\",\"automargin\":true,\"zerolinewidth\":2},\"yaxis\":{\"gridcolor\":\"white\",\"linecolor\":\"white\",\"ticks\":\"\",\"title\":{\"standoff\":15},\"zerolinecolor\":\"white\",\"automargin\":true,\"zerolinewidth\":2},\"scene\":{\"xaxis\":{\"backgroundcolor\":\"#E5ECF6\",\"gridcolor\":\"white\",\"linecolor\":\"white\",\"showbackground\":true,\"ticks\":\"\",\"zerolinecolor\":\"white\",\"gridwidth\":2},\"yaxis\":{\"backgroundcolor\":\"#E5ECF6\",\"gridcolor\":\"white\",\"linecolor\":\"white\",\"showbackground\":true,\"ticks\":\"\",\"zerolinecolor\":\"white\",\"gridwidth\":2},\"zaxis\":{\"backgroundcolor\":\"#E5ECF6\",\"gridcolor\":\"white\",\"linecolor\":\"white\",\"showbackground\":true,\"ticks\":\"\",\"zerolinecolor\":\"white\",\"gridwidth\":2}},\"shapedefaults\":{\"line\":{\"color\":\"#2a3f5f\"}},\"annotationdefaults\":{\"arrowcolor\":\"#2a3f5f\",\"arrowhead\":0,\"arrowwidth\":1},\"geo\":{\"bgcolor\":\"white\",\"landcolor\":\"#E5ECF6\",\"subunitcolor\":\"white\",\"showland\":true,\"showlakes\":true,\"lakecolor\":\"white\"},\"title\":{\"x\":0.05},\"mapbox\":{\"style\":\"light\"}}},\"xaxis\":{\"anchor\":\"y\",\"domain\":[0.0,1.0],\"title\":{\"text\":\"Genre\"}},\"yaxis\":{\"anchor\":\"x\",\"domain\":[0.0,1.0],\"title\":{\"text\":\"Total Sales\"}},\"legend\":{\"tracegroupgap\":0},\"title\":{\"text\":\"Median Sales per Genre\"},\"barmode\":\"relative\"},                        {\"responsive\": true}                    ).then(function(){\n",
       "                            \n",
       "var gd = document.getElementById('92382c78-3acc-46cc-8d7a-b89731693000');\n",
       "var x = new MutationObserver(function (mutations, observer) {{\n",
       "        var display = window.getComputedStyle(gd).display;\n",
       "        if (!display || display === 'none') {{\n",
       "            console.log([gd, 'removed!']);\n",
       "            Plotly.purge(gd);\n",
       "            observer.disconnect();\n",
       "        }}\n",
       "}});\n",
       "\n",
       "// Listen for the removal of the full notebook cells\n",
       "var notebookContainer = gd.closest('#notebook-container');\n",
       "if (notebookContainer) {{\n",
       "    x.observe(notebookContainer, {childList: true});\n",
       "}}\n",
       "\n",
       "// Listen for the clearing of the current output cell\n",
       "var outputEl = gd.closest('.output');\n",
       "if (outputEl) {{\n",
       "    x.observe(outputEl, {childList: true});\n",
       "}}\n",
       "\n",
       "                        })                };                });            </script>        </div>"
      ]
     },
     "metadata": {},
     "output_type": "display_data"
    }
   ],
   "source": [
    "# Visualização da mediana de vendas por gênero\n",
    "median_sales_by_gender = sales_last_5_years.groupby(\n",
    "    'genre')['total_sales'].median().reset_index()\n",
    "\n",
    "fig = px.bar(median_sales_by_gender,\n",
    "             x='genre',\n",
    "             y='total_sales',\n",
    "             labels={\n",
    "                 'genre': 'Genre',\n",
    "                 'total_sales': 'Total Sales'\n",
    "             },\n",
    "             title='Median Sales per Genre')\n",
    "\n",
    "fig.show()"
   ]
  },
  {
   "cell_type": "markdown",
   "metadata": {},
   "source": [
    "Observando os dois gráficos, é possível perceber que os jogos do gênero Shooter, Platform e Sports tem as maiores médias e medianas de vendas dentre todos os gêneros de jogos, porém os jogos do gênero Shooter apresentam uma discrepância muito maior em relação aos outros.\n",
    "\n",
    "Apesar de o total de vendas para jogo de Ação serem maiores, eles são liderados por alguns jogos outliers que têm vendas muito altas, enquanto os jogos do gênero Shooter apresenta uma maior consistência no valores de venda por jogo, e com valores altos, levando a estar como segundo gênero mais vendido.\n",
    "\n",
    "Observando também é possível concluir que jogos que se assemelham um pouco mais com o gênero Ação tem os maiores números de vendas, sendo mais populares pelo público."
   ]
  },
  {
   "cell_type": "markdown",
   "metadata": {},
   "source": [
    "Essas são as conclusões para os números em geral, porém podemos ver que os dados de venda também possuem informações sobre vendas em diferentes partes do mundo, o que levanta algumas questões: \n",
    "- Como será que é o comportamento de vendas de jogos de acordo com cada região do globo? \n",
    "- Será que os mesmos comportamentos em relação a plataformas se aplica a cada região?\n",
    "- Será que os usuários têm os mesmos gostos em relação a gênero a depender da região?"
   ]
  },
  {
   "cell_type": "code",
   "execution_count": 84,
   "metadata": {},
   "outputs": [
    {
     "data": {
      "text/html": [
       "<div>\n",
       "<style scoped>\n",
       "    .dataframe tbody tr th:only-of-type {\n",
       "        vertical-align: middle;\n",
       "    }\n",
       "\n",
       "    .dataframe tbody tr th {\n",
       "        vertical-align: top;\n",
       "    }\n",
       "\n",
       "    .dataframe thead th {\n",
       "        text-align: right;\n",
       "    }\n",
       "</style>\n",
       "<table border=\"1\" class=\"dataframe\">\n",
       "  <thead>\n",
       "    <tr style=\"text-align: right;\">\n",
       "      <th></th>\n",
       "      <th>platform</th>\n",
       "      <th>eu_total_sales</th>\n",
       "    </tr>\n",
       "  </thead>\n",
       "  <tbody>\n",
       "    <tr>\n",
       "      <th>0</th>\n",
       "      <td>PS4</td>\n",
       "      <td>141.09</td>\n",
       "    </tr>\n",
       "    <tr>\n",
       "      <th>1</th>\n",
       "      <td>PS3</td>\n",
       "      <td>106.86</td>\n",
       "    </tr>\n",
       "    <tr>\n",
       "      <th>2</th>\n",
       "      <td>X360</td>\n",
       "      <td>74.52</td>\n",
       "    </tr>\n",
       "    <tr>\n",
       "      <th>3</th>\n",
       "      <td>XOne</td>\n",
       "      <td>51.59</td>\n",
       "    </tr>\n",
       "    <tr>\n",
       "      <th>4</th>\n",
       "      <td>3DS</td>\n",
       "      <td>42.64</td>\n",
       "    </tr>\n",
       "    <tr>\n",
       "      <th>5</th>\n",
       "      <td>PC</td>\n",
       "      <td>37.76</td>\n",
       "    </tr>\n",
       "    <tr>\n",
       "      <th>6</th>\n",
       "      <td>WiiU</td>\n",
       "      <td>25.13</td>\n",
       "    </tr>\n",
       "    <tr>\n",
       "      <th>7</th>\n",
       "      <td>Wii</td>\n",
       "      <td>11.92</td>\n",
       "    </tr>\n",
       "    <tr>\n",
       "      <th>8</th>\n",
       "      <td>PSV</td>\n",
       "      <td>11.36</td>\n",
       "    </tr>\n",
       "    <tr>\n",
       "      <th>9</th>\n",
       "      <td>DS</td>\n",
       "      <td>3.53</td>\n",
       "    </tr>\n",
       "    <tr>\n",
       "      <th>10</th>\n",
       "      <td>PSP</td>\n",
       "      <td>0.42</td>\n",
       "    </tr>\n",
       "  </tbody>\n",
       "</table>\n",
       "</div>"
      ],
      "text/plain": [
       "   platform  eu_total_sales\n",
       "0       PS4          141.09\n",
       "1       PS3          106.86\n",
       "2      X360           74.52\n",
       "3      XOne           51.59\n",
       "4       3DS           42.64\n",
       "5        PC           37.76\n",
       "6      WiiU           25.13\n",
       "7       Wii           11.92\n",
       "8       PSV           11.36\n",
       "9        DS            3.53\n",
       "10      PSP            0.42"
      ]
     },
     "execution_count": 84,
     "metadata": {},
     "output_type": "execute_result"
    }
   ],
   "source": [
    "# Gerando informações de vendas por plataforma na Europa\n",
    "\n",
    "eu_sales_per_platform = sales_last_5_years.groupby(\n",
    "    'platform')['eu_sales'].sum().reset_index()\n",
    "eu_sales_per_platform = eu_sales_per_platform.sort_values(\n",
    "    by='eu_sales', ascending=False).reset_index(drop=True)\n",
    "eu_sales_per_platform.rename(\n",
    "    columns={'eu_sales': 'eu_total_sales'}, inplace=True)\n",
    "eu_sales_per_platform"
   ]
  },
  {
   "cell_type": "code",
   "execution_count": 85,
   "metadata": {},
   "outputs": [
    {
     "data": {
      "text/html": [
       "<div>\n",
       "<style scoped>\n",
       "    .dataframe tbody tr th:only-of-type {\n",
       "        vertical-align: middle;\n",
       "    }\n",
       "\n",
       "    .dataframe tbody tr th {\n",
       "        vertical-align: top;\n",
       "    }\n",
       "\n",
       "    .dataframe thead th {\n",
       "        text-align: right;\n",
       "    }\n",
       "</style>\n",
       "<table border=\"1\" class=\"dataframe\">\n",
       "  <thead>\n",
       "    <tr style=\"text-align: right;\">\n",
       "      <th></th>\n",
       "      <th>platform</th>\n",
       "      <th>na_total_sales</th>\n",
       "    </tr>\n",
       "  </thead>\n",
       "  <tbody>\n",
       "    <tr>\n",
       "      <th>0</th>\n",
       "      <td>X360</td>\n",
       "      <td>140.05</td>\n",
       "    </tr>\n",
       "    <tr>\n",
       "      <th>1</th>\n",
       "      <td>PS4</td>\n",
       "      <td>108.74</td>\n",
       "    </tr>\n",
       "    <tr>\n",
       "      <th>2</th>\n",
       "      <td>PS3</td>\n",
       "      <td>103.38</td>\n",
       "    </tr>\n",
       "    <tr>\n",
       "      <th>3</th>\n",
       "      <td>XOne</td>\n",
       "      <td>93.12</td>\n",
       "    </tr>\n",
       "    <tr>\n",
       "      <th>4</th>\n",
       "      <td>3DS</td>\n",
       "      <td>55.31</td>\n",
       "    </tr>\n",
       "    <tr>\n",
       "      <th>5</th>\n",
       "      <td>WiiU</td>\n",
       "      <td>38.10</td>\n",
       "    </tr>\n",
       "    <tr>\n",
       "      <th>6</th>\n",
       "      <td>PC</td>\n",
       "      <td>19.12</td>\n",
       "    </tr>\n",
       "    <tr>\n",
       "      <th>7</th>\n",
       "      <td>Wii</td>\n",
       "      <td>17.45</td>\n",
       "    </tr>\n",
       "    <tr>\n",
       "      <th>8</th>\n",
       "      <td>PSV</td>\n",
       "      <td>10.98</td>\n",
       "    </tr>\n",
       "    <tr>\n",
       "      <th>9</th>\n",
       "      <td>DS</td>\n",
       "      <td>4.59</td>\n",
       "    </tr>\n",
       "    <tr>\n",
       "      <th>10</th>\n",
       "      <td>PSP</td>\n",
       "      <td>0.13</td>\n",
       "    </tr>\n",
       "  </tbody>\n",
       "</table>\n",
       "</div>"
      ],
      "text/plain": [
       "   platform  na_total_sales\n",
       "0      X360          140.05\n",
       "1       PS4          108.74\n",
       "2       PS3          103.38\n",
       "3      XOne           93.12\n",
       "4       3DS           55.31\n",
       "5      WiiU           38.10\n",
       "6        PC           19.12\n",
       "7       Wii           17.45\n",
       "8       PSV           10.98\n",
       "9        DS            4.59\n",
       "10      PSP            0.13"
      ]
     },
     "execution_count": 85,
     "metadata": {},
     "output_type": "execute_result"
    }
   ],
   "source": [
    "# Gerando informações de vendas por plataforma na América do Norte\n",
    "\n",
    "na_sales_per_platform = sales_last_5_years.groupby(\n",
    "    'platform')['na_sales'].sum().reset_index()\n",
    "na_sales_per_platform = na_sales_per_platform.sort_values(\n",
    "    by='na_sales', ascending=False).reset_index(drop=True)\n",
    "na_sales_per_platform.rename(\n",
    "    columns={'na_sales': 'na_total_sales'}, inplace=True)\n",
    "na_sales_per_platform"
   ]
  },
  {
   "cell_type": "code",
   "execution_count": 86,
   "metadata": {},
   "outputs": [
    {
     "data": {
      "text/html": [
       "<div>\n",
       "<style scoped>\n",
       "    .dataframe tbody tr th:only-of-type {\n",
       "        vertical-align: middle;\n",
       "    }\n",
       "\n",
       "    .dataframe tbody tr th {\n",
       "        vertical-align: top;\n",
       "    }\n",
       "\n",
       "    .dataframe thead th {\n",
       "        text-align: right;\n",
       "    }\n",
       "</style>\n",
       "<table border=\"1\" class=\"dataframe\">\n",
       "  <thead>\n",
       "    <tr style=\"text-align: right;\">\n",
       "      <th></th>\n",
       "      <th>platform</th>\n",
       "      <th>jp_total_sales</th>\n",
       "    </tr>\n",
       "  </thead>\n",
       "  <tbody>\n",
       "    <tr>\n",
       "      <th>0</th>\n",
       "      <td>3DS</td>\n",
       "      <td>87.79</td>\n",
       "    </tr>\n",
       "    <tr>\n",
       "      <th>1</th>\n",
       "      <td>PS3</td>\n",
       "      <td>35.29</td>\n",
       "    </tr>\n",
       "    <tr>\n",
       "      <th>2</th>\n",
       "      <td>PSV</td>\n",
       "      <td>21.04</td>\n",
       "    </tr>\n",
       "    <tr>\n",
       "      <th>3</th>\n",
       "      <td>PS4</td>\n",
       "      <td>15.96</td>\n",
       "    </tr>\n",
       "    <tr>\n",
       "      <th>4</th>\n",
       "      <td>WiiU</td>\n",
       "      <td>13.01</td>\n",
       "    </tr>\n",
       "    <tr>\n",
       "      <th>5</th>\n",
       "      <td>PSP</td>\n",
       "      <td>10.47</td>\n",
       "    </tr>\n",
       "    <tr>\n",
       "      <th>6</th>\n",
       "      <td>DS</td>\n",
       "      <td>3.72</td>\n",
       "    </tr>\n",
       "    <tr>\n",
       "      <th>7</th>\n",
       "      <td>Wii</td>\n",
       "      <td>3.39</td>\n",
       "    </tr>\n",
       "    <tr>\n",
       "      <th>8</th>\n",
       "      <td>X360</td>\n",
       "      <td>1.57</td>\n",
       "    </tr>\n",
       "    <tr>\n",
       "      <th>9</th>\n",
       "      <td>XOne</td>\n",
       "      <td>0.34</td>\n",
       "    </tr>\n",
       "    <tr>\n",
       "      <th>10</th>\n",
       "      <td>PC</td>\n",
       "      <td>0.00</td>\n",
       "    </tr>\n",
       "  </tbody>\n",
       "</table>\n",
       "</div>"
      ],
      "text/plain": [
       "   platform  jp_total_sales\n",
       "0       3DS           87.79\n",
       "1       PS3           35.29\n",
       "2       PSV           21.04\n",
       "3       PS4           15.96\n",
       "4      WiiU           13.01\n",
       "5       PSP           10.47\n",
       "6        DS            3.72\n",
       "7       Wii            3.39\n",
       "8      X360            1.57\n",
       "9      XOne            0.34\n",
       "10       PC            0.00"
      ]
     },
     "execution_count": 86,
     "metadata": {},
     "output_type": "execute_result"
    }
   ],
   "source": [
    "# Gerando informações de vendas por plataforma no Japão\n",
    "\n",
    "jp_sales_per_platform = sales_last_5_years.groupby(\n",
    "    'platform')['jp_sales'].sum().reset_index()\n",
    "jp_sales_per_platform = jp_sales_per_platform.sort_values(\n",
    "    by='jp_sales', ascending=False).reset_index(drop=True)\n",
    "jp_sales_per_platform.rename(\n",
    "    columns={'jp_sales': 'jp_total_sales'}, inplace=True)\n",
    "jp_sales_per_platform"
   ]
  },
  {
   "cell_type": "code",
   "execution_count": 87,
   "metadata": {},
   "outputs": [
    {
     "data": {
      "text/html": [
       "<div>\n",
       "<style scoped>\n",
       "    .dataframe tbody tr th:only-of-type {\n",
       "        vertical-align: middle;\n",
       "    }\n",
       "\n",
       "    .dataframe tbody tr th {\n",
       "        vertical-align: top;\n",
       "    }\n",
       "\n",
       "    .dataframe thead th {\n",
       "        text-align: right;\n",
       "    }\n",
       "</style>\n",
       "<table border=\"1\" class=\"dataframe\">\n",
       "  <thead>\n",
       "    <tr style=\"text-align: right;\">\n",
       "      <th></th>\n",
       "      <th>platform</th>\n",
       "      <th>other_total_sales</th>\n",
       "    </tr>\n",
       "  </thead>\n",
       "  <tbody>\n",
       "    <tr>\n",
       "      <th>0</th>\n",
       "      <td>PS4</td>\n",
       "      <td>48.35</td>\n",
       "    </tr>\n",
       "    <tr>\n",
       "      <th>1</th>\n",
       "      <td>PS3</td>\n",
       "      <td>43.26</td>\n",
       "    </tr>\n",
       "    <tr>\n",
       "      <th>2</th>\n",
       "      <td>X360</td>\n",
       "      <td>20.40</td>\n",
       "    </tr>\n",
       "    <tr>\n",
       "      <th>3</th>\n",
       "      <td>XOne</td>\n",
       "      <td>14.27</td>\n",
       "    </tr>\n",
       "    <tr>\n",
       "      <th>4</th>\n",
       "      <td>3DS</td>\n",
       "      <td>8.87</td>\n",
       "    </tr>\n",
       "    <tr>\n",
       "      <th>5</th>\n",
       "      <td>WiiU</td>\n",
       "      <td>5.95</td>\n",
       "    </tr>\n",
       "    <tr>\n",
       "      <th>6</th>\n",
       "      <td>PSV</td>\n",
       "      <td>5.80</td>\n",
       "    </tr>\n",
       "    <tr>\n",
       "      <th>7</th>\n",
       "      <td>PC</td>\n",
       "      <td>5.77</td>\n",
       "    </tr>\n",
       "    <tr>\n",
       "      <th>8</th>\n",
       "      <td>Wii</td>\n",
       "      <td>2.61</td>\n",
       "    </tr>\n",
       "    <tr>\n",
       "      <th>9</th>\n",
       "      <td>DS</td>\n",
       "      <td>0.71</td>\n",
       "    </tr>\n",
       "    <tr>\n",
       "      <th>10</th>\n",
       "      <td>PSP</td>\n",
       "      <td>0.17</td>\n",
       "    </tr>\n",
       "  </tbody>\n",
       "</table>\n",
       "</div>"
      ],
      "text/plain": [
       "   platform  other_total_sales\n",
       "0       PS4              48.35\n",
       "1       PS3              43.26\n",
       "2      X360              20.40\n",
       "3      XOne              14.27\n",
       "4       3DS               8.87\n",
       "5      WiiU               5.95\n",
       "6       PSV               5.80\n",
       "7        PC               5.77\n",
       "8       Wii               2.61\n",
       "9        DS               0.71\n",
       "10      PSP               0.17"
      ]
     },
     "execution_count": 87,
     "metadata": {},
     "output_type": "execute_result"
    }
   ],
   "source": [
    "# Gerando informações de vendas por plataforma em outras regiões\n",
    "\n",
    "other_sales_per_platform = sales_last_5_years.groupby(\n",
    "    'platform')['other_sales'].sum().reset_index()\n",
    "other_sales_per_platform = other_sales_per_platform.sort_values(\n",
    "    by='other_sales', ascending=False).reset_index(drop=True)\n",
    "other_sales_per_platform.rename(\n",
    "    columns={'other_sales': 'other_total_sales'}, inplace=True)\n",
    "other_sales_per_platform"
   ]
  },
  {
   "cell_type": "markdown",
   "metadata": {},
   "source": [
    "Olhando só para as tabelas, parece que o Japão tem uma prerência diferente por plataformas do que as outras regiões, porém observando só os números não nos dá essa clareza, então vamos colocar num gráfico para confirmar nossa suspeita."
   ]
  },
  {
   "cell_type": "code",
   "execution_count": 88,
   "metadata": {},
   "outputs": [
    {
     "data": {
      "text/html": [
       "<div>\n",
       "<style scoped>\n",
       "    .dataframe tbody tr th:only-of-type {\n",
       "        vertical-align: middle;\n",
       "    }\n",
       "\n",
       "    .dataframe tbody tr th {\n",
       "        vertical-align: top;\n",
       "    }\n",
       "\n",
       "    .dataframe thead th {\n",
       "        text-align: right;\n",
       "    }\n",
       "</style>\n",
       "<table border=\"1\" class=\"dataframe\">\n",
       "  <thead>\n",
       "    <tr style=\"text-align: right;\">\n",
       "      <th></th>\n",
       "      <th>platform</th>\n",
       "      <th>eu_total_sales</th>\n",
       "      <th>na_total_sales</th>\n",
       "      <th>jp_total_sales</th>\n",
       "      <th>other_total_sales</th>\n",
       "    </tr>\n",
       "  </thead>\n",
       "  <tbody>\n",
       "    <tr>\n",
       "      <th>0</th>\n",
       "      <td>3DS</td>\n",
       "      <td>42.64</td>\n",
       "      <td>55.31</td>\n",
       "      <td>87.79</td>\n",
       "      <td>8.87</td>\n",
       "    </tr>\n",
       "    <tr>\n",
       "      <th>1</th>\n",
       "      <td>PS3</td>\n",
       "      <td>106.86</td>\n",
       "      <td>103.38</td>\n",
       "      <td>35.29</td>\n",
       "      <td>43.26</td>\n",
       "    </tr>\n",
       "    <tr>\n",
       "      <th>2</th>\n",
       "      <td>PS4</td>\n",
       "      <td>141.09</td>\n",
       "      <td>108.74</td>\n",
       "      <td>15.96</td>\n",
       "      <td>48.35</td>\n",
       "    </tr>\n",
       "    <tr>\n",
       "      <th>3</th>\n",
       "      <td>PSV</td>\n",
       "      <td>NaN</td>\n",
       "      <td>NaN</td>\n",
       "      <td>21.04</td>\n",
       "      <td>NaN</td>\n",
       "    </tr>\n",
       "    <tr>\n",
       "      <th>4</th>\n",
       "      <td>WiiU</td>\n",
       "      <td>NaN</td>\n",
       "      <td>NaN</td>\n",
       "      <td>13.01</td>\n",
       "      <td>NaN</td>\n",
       "    </tr>\n",
       "    <tr>\n",
       "      <th>5</th>\n",
       "      <td>X360</td>\n",
       "      <td>74.52</td>\n",
       "      <td>140.05</td>\n",
       "      <td>NaN</td>\n",
       "      <td>20.40</td>\n",
       "    </tr>\n",
       "    <tr>\n",
       "      <th>6</th>\n",
       "      <td>XOne</td>\n",
       "      <td>51.59</td>\n",
       "      <td>93.12</td>\n",
       "      <td>NaN</td>\n",
       "      <td>14.27</td>\n",
       "    </tr>\n",
       "  </tbody>\n",
       "</table>\n",
       "</div>"
      ],
      "text/plain": [
       "  platform  eu_total_sales  na_total_sales  jp_total_sales  other_total_sales\n",
       "0      3DS           42.64           55.31           87.79               8.87\n",
       "1      PS3          106.86          103.38           35.29              43.26\n",
       "2      PS4          141.09          108.74           15.96              48.35\n",
       "3      PSV             NaN             NaN           21.04                NaN\n",
       "4     WiiU             NaN             NaN           13.01                NaN\n",
       "5     X360           74.52          140.05             NaN              20.40\n",
       "6     XOne           51.59           93.12             NaN              14.27"
      ]
     },
     "execution_count": 88,
     "metadata": {},
     "output_type": "execute_result"
    }
   ],
   "source": [
    "# Juntando as informações de vendas das top 5 plataformas de cada região\n",
    "\n",
    "eu_top_5 = eu_sales_per_platform.nlargest(5, 'eu_total_sales')\n",
    "na_top_5 = na_sales_per_platform.nlargest(5, 'na_total_sales')\n",
    "jp_top_5 = jp_sales_per_platform.nlargest(5, 'jp_total_sales')\n",
    "other_top_5 = other_sales_per_platform.nlargest(5, 'other_total_sales')\n",
    "\n",
    "regions_top_5_per_platform = eu_top_5.merge(na_top_5,\n",
    "                                            on='platform',\n",
    "                                            how='outer').merge(jp_top_5,\n",
    "                                                               on='platform',\n",
    "                                                               how='outer').merge(other_top_5,\n",
    "                                                                                  on='platform',\n",
    "                                                                                  how='outer')\n",
    "regions_top_5_per_platform"
   ]
  },
  {
   "cell_type": "code",
   "execution_count": 89,
   "metadata": {},
   "outputs": [
    {
     "data": {
      "text/html": [
       "<div>                            <div id=\"3546f37b-8d80-4279-9f95-3295f3840bb3\" class=\"plotly-graph-div\" style=\"height:525px; width:100%;\"></div>            <script type=\"text/javascript\">                require([\"plotly\"], function(Plotly) {                    window.PLOTLYENV=window.PLOTLYENV || {};                                    if (document.getElementById(\"3546f37b-8d80-4279-9f95-3295f3840bb3\")) {                    Plotly.newPlot(                        \"3546f37b-8d80-4279-9f95-3295f3840bb3\",                        [{\"alignmentgroup\":\"True\",\"hovertemplate\":\"Region=eu_total_sales\\u003cbr\\u003ePlataform=%{x}\\u003cbr\\u003eTotal Sales (Millions)=%{y}\\u003cextra\\u003e\\u003c\\u002fextra\\u003e\",\"legendgroup\":\"eu_total_sales\",\"marker\":{\"color\":\"#636efa\",\"pattern\":{\"shape\":\"\"}},\"name\":\"EU Total Sales\",\"offsetgroup\":\"eu_total_sales\",\"orientation\":\"v\",\"showlegend\":true,\"textposition\":\"auto\",\"x\":[\"3DS\",\"PS3\",\"PS4\",\"PSV\",\"WiiU\",\"X360\",\"XOne\"],\"xaxis\":\"x\",\"y\":[42.64,106.86,141.09,null,null,74.52,51.59],\"yaxis\":\"y\",\"type\":\"bar\"},{\"alignmentgroup\":\"True\",\"hovertemplate\":\"Region=na_total_sales\\u003cbr\\u003ePlataform=%{x}\\u003cbr\\u003eTotal Sales (Millions)=%{y}\\u003cextra\\u003e\\u003c\\u002fextra\\u003e\",\"legendgroup\":\"na_total_sales\",\"marker\":{\"color\":\"#EF553B\",\"pattern\":{\"shape\":\"\"}},\"name\":\"NA Total Sales\",\"offsetgroup\":\"na_total_sales\",\"orientation\":\"v\",\"showlegend\":true,\"textposition\":\"auto\",\"x\":[\"3DS\",\"PS3\",\"PS4\",\"PSV\",\"WiiU\",\"X360\",\"XOne\"],\"xaxis\":\"x\",\"y\":[55.31,103.38,108.74,null,null,140.05,93.12],\"yaxis\":\"y\",\"type\":\"bar\"},{\"alignmentgroup\":\"True\",\"hovertemplate\":\"Region=jp_total_sales\\u003cbr\\u003ePlataform=%{x}\\u003cbr\\u003eTotal Sales (Millions)=%{y}\\u003cextra\\u003e\\u003c\\u002fextra\\u003e\",\"legendgroup\":\"jp_total_sales\",\"marker\":{\"color\":\"#00cc96\",\"pattern\":{\"shape\":\"\"}},\"name\":\"Japan Total Sales\",\"offsetgroup\":\"jp_total_sales\",\"orientation\":\"v\",\"showlegend\":true,\"textposition\":\"auto\",\"x\":[\"3DS\",\"PS3\",\"PS4\",\"PSV\",\"WiiU\",\"X360\",\"XOne\"],\"xaxis\":\"x\",\"y\":[87.79,35.29,15.96,21.04,13.01,null,null],\"yaxis\":\"y\",\"type\":\"bar\"},{\"alignmentgroup\":\"True\",\"hovertemplate\":\"Region=other_total_sales\\u003cbr\\u003ePlataform=%{x}\\u003cbr\\u003eTotal Sales (Millions)=%{y}\\u003cextra\\u003e\\u003c\\u002fextra\\u003e\",\"legendgroup\":\"other_total_sales\",\"marker\":{\"color\":\"#ab63fa\",\"pattern\":{\"shape\":\"\"}},\"name\":\"Other Regions Total Sales\",\"offsetgroup\":\"other_total_sales\",\"orientation\":\"v\",\"showlegend\":true,\"textposition\":\"auto\",\"x\":[\"3DS\",\"PS3\",\"PS4\",\"PSV\",\"WiiU\",\"X360\",\"XOne\"],\"xaxis\":\"x\",\"y\":[8.870000000000001,43.26,48.35,null,null,20.4,14.27],\"yaxis\":\"y\",\"type\":\"bar\"}],                        {\"template\":{\"data\":{\"histogram2dcontour\":[{\"type\":\"histogram2dcontour\",\"colorbar\":{\"outlinewidth\":0,\"ticks\":\"\"},\"colorscale\":[[0.0,\"#0d0887\"],[0.1111111111111111,\"#46039f\"],[0.2222222222222222,\"#7201a8\"],[0.3333333333333333,\"#9c179e\"],[0.4444444444444444,\"#bd3786\"],[0.5555555555555556,\"#d8576b\"],[0.6666666666666666,\"#ed7953\"],[0.7777777777777778,\"#fb9f3a\"],[0.8888888888888888,\"#fdca26\"],[1.0,\"#f0f921\"]]}],\"choropleth\":[{\"type\":\"choropleth\",\"colorbar\":{\"outlinewidth\":0,\"ticks\":\"\"}}],\"histogram2d\":[{\"type\":\"histogram2d\",\"colorbar\":{\"outlinewidth\":0,\"ticks\":\"\"},\"colorscale\":[[0.0,\"#0d0887\"],[0.1111111111111111,\"#46039f\"],[0.2222222222222222,\"#7201a8\"],[0.3333333333333333,\"#9c179e\"],[0.4444444444444444,\"#bd3786\"],[0.5555555555555556,\"#d8576b\"],[0.6666666666666666,\"#ed7953\"],[0.7777777777777778,\"#fb9f3a\"],[0.8888888888888888,\"#fdca26\"],[1.0,\"#f0f921\"]]}],\"heatmap\":[{\"type\":\"heatmap\",\"colorbar\":{\"outlinewidth\":0,\"ticks\":\"\"},\"colorscale\":[[0.0,\"#0d0887\"],[0.1111111111111111,\"#46039f\"],[0.2222222222222222,\"#7201a8\"],[0.3333333333333333,\"#9c179e\"],[0.4444444444444444,\"#bd3786\"],[0.5555555555555556,\"#d8576b\"],[0.6666666666666666,\"#ed7953\"],[0.7777777777777778,\"#fb9f3a\"],[0.8888888888888888,\"#fdca26\"],[1.0,\"#f0f921\"]]}],\"heatmapgl\":[{\"type\":\"heatmapgl\",\"colorbar\":{\"outlinewidth\":0,\"ticks\":\"\"},\"colorscale\":[[0.0,\"#0d0887\"],[0.1111111111111111,\"#46039f\"],[0.2222222222222222,\"#7201a8\"],[0.3333333333333333,\"#9c179e\"],[0.4444444444444444,\"#bd3786\"],[0.5555555555555556,\"#d8576b\"],[0.6666666666666666,\"#ed7953\"],[0.7777777777777778,\"#fb9f3a\"],[0.8888888888888888,\"#fdca26\"],[1.0,\"#f0f921\"]]}],\"contourcarpet\":[{\"type\":\"contourcarpet\",\"colorbar\":{\"outlinewidth\":0,\"ticks\":\"\"}}],\"contour\":[{\"type\":\"contour\",\"colorbar\":{\"outlinewidth\":0,\"ticks\":\"\"},\"colorscale\":[[0.0,\"#0d0887\"],[0.1111111111111111,\"#46039f\"],[0.2222222222222222,\"#7201a8\"],[0.3333333333333333,\"#9c179e\"],[0.4444444444444444,\"#bd3786\"],[0.5555555555555556,\"#d8576b\"],[0.6666666666666666,\"#ed7953\"],[0.7777777777777778,\"#fb9f3a\"],[0.8888888888888888,\"#fdca26\"],[1.0,\"#f0f921\"]]}],\"surface\":[{\"type\":\"surface\",\"colorbar\":{\"outlinewidth\":0,\"ticks\":\"\"},\"colorscale\":[[0.0,\"#0d0887\"],[0.1111111111111111,\"#46039f\"],[0.2222222222222222,\"#7201a8\"],[0.3333333333333333,\"#9c179e\"],[0.4444444444444444,\"#bd3786\"],[0.5555555555555556,\"#d8576b\"],[0.6666666666666666,\"#ed7953\"],[0.7777777777777778,\"#fb9f3a\"],[0.8888888888888888,\"#fdca26\"],[1.0,\"#f0f921\"]]}],\"mesh3d\":[{\"type\":\"mesh3d\",\"colorbar\":{\"outlinewidth\":0,\"ticks\":\"\"}}],\"scatter\":[{\"fillpattern\":{\"fillmode\":\"overlay\",\"size\":10,\"solidity\":0.2},\"type\":\"scatter\"}],\"parcoords\":[{\"type\":\"parcoords\",\"line\":{\"colorbar\":{\"outlinewidth\":0,\"ticks\":\"\"}}}],\"scatterpolargl\":[{\"type\":\"scatterpolargl\",\"marker\":{\"colorbar\":{\"outlinewidth\":0,\"ticks\":\"\"}}}],\"bar\":[{\"error_x\":{\"color\":\"#2a3f5f\"},\"error_y\":{\"color\":\"#2a3f5f\"},\"marker\":{\"line\":{\"color\":\"#E5ECF6\",\"width\":0.5},\"pattern\":{\"fillmode\":\"overlay\",\"size\":10,\"solidity\":0.2}},\"type\":\"bar\"}],\"scattergeo\":[{\"type\":\"scattergeo\",\"marker\":{\"colorbar\":{\"outlinewidth\":0,\"ticks\":\"\"}}}],\"scatterpolar\":[{\"type\":\"scatterpolar\",\"marker\":{\"colorbar\":{\"outlinewidth\":0,\"ticks\":\"\"}}}],\"histogram\":[{\"marker\":{\"pattern\":{\"fillmode\":\"overlay\",\"size\":10,\"solidity\":0.2}},\"type\":\"histogram\"}],\"scattergl\":[{\"type\":\"scattergl\",\"marker\":{\"colorbar\":{\"outlinewidth\":0,\"ticks\":\"\"}}}],\"scatter3d\":[{\"type\":\"scatter3d\",\"line\":{\"colorbar\":{\"outlinewidth\":0,\"ticks\":\"\"}},\"marker\":{\"colorbar\":{\"outlinewidth\":0,\"ticks\":\"\"}}}],\"scattermapbox\":[{\"type\":\"scattermapbox\",\"marker\":{\"colorbar\":{\"outlinewidth\":0,\"ticks\":\"\"}}}],\"scatterternary\":[{\"type\":\"scatterternary\",\"marker\":{\"colorbar\":{\"outlinewidth\":0,\"ticks\":\"\"}}}],\"scattercarpet\":[{\"type\":\"scattercarpet\",\"marker\":{\"colorbar\":{\"outlinewidth\":0,\"ticks\":\"\"}}}],\"carpet\":[{\"aaxis\":{\"endlinecolor\":\"#2a3f5f\",\"gridcolor\":\"white\",\"linecolor\":\"white\",\"minorgridcolor\":\"white\",\"startlinecolor\":\"#2a3f5f\"},\"baxis\":{\"endlinecolor\":\"#2a3f5f\",\"gridcolor\":\"white\",\"linecolor\":\"white\",\"minorgridcolor\":\"white\",\"startlinecolor\":\"#2a3f5f\"},\"type\":\"carpet\"}],\"table\":[{\"cells\":{\"fill\":{\"color\":\"#EBF0F8\"},\"line\":{\"color\":\"white\"}},\"header\":{\"fill\":{\"color\":\"#C8D4E3\"},\"line\":{\"color\":\"white\"}},\"type\":\"table\"}],\"barpolar\":[{\"marker\":{\"line\":{\"color\":\"#E5ECF6\",\"width\":0.5},\"pattern\":{\"fillmode\":\"overlay\",\"size\":10,\"solidity\":0.2}},\"type\":\"barpolar\"}],\"pie\":[{\"automargin\":true,\"type\":\"pie\"}]},\"layout\":{\"autotypenumbers\":\"strict\",\"colorway\":[\"#636efa\",\"#EF553B\",\"#00cc96\",\"#ab63fa\",\"#FFA15A\",\"#19d3f3\",\"#FF6692\",\"#B6E880\",\"#FF97FF\",\"#FECB52\"],\"font\":{\"color\":\"#2a3f5f\"},\"hovermode\":\"closest\",\"hoverlabel\":{\"align\":\"left\"},\"paper_bgcolor\":\"white\",\"plot_bgcolor\":\"#E5ECF6\",\"polar\":{\"bgcolor\":\"#E5ECF6\",\"angularaxis\":{\"gridcolor\":\"white\",\"linecolor\":\"white\",\"ticks\":\"\"},\"radialaxis\":{\"gridcolor\":\"white\",\"linecolor\":\"white\",\"ticks\":\"\"}},\"ternary\":{\"bgcolor\":\"#E5ECF6\",\"aaxis\":{\"gridcolor\":\"white\",\"linecolor\":\"white\",\"ticks\":\"\"},\"baxis\":{\"gridcolor\":\"white\",\"linecolor\":\"white\",\"ticks\":\"\"},\"caxis\":{\"gridcolor\":\"white\",\"linecolor\":\"white\",\"ticks\":\"\"}},\"coloraxis\":{\"colorbar\":{\"outlinewidth\":0,\"ticks\":\"\"}},\"colorscale\":{\"sequential\":[[0.0,\"#0d0887\"],[0.1111111111111111,\"#46039f\"],[0.2222222222222222,\"#7201a8\"],[0.3333333333333333,\"#9c179e\"],[0.4444444444444444,\"#bd3786\"],[0.5555555555555556,\"#d8576b\"],[0.6666666666666666,\"#ed7953\"],[0.7777777777777778,\"#fb9f3a\"],[0.8888888888888888,\"#fdca26\"],[1.0,\"#f0f921\"]],\"sequentialminus\":[[0.0,\"#0d0887\"],[0.1111111111111111,\"#46039f\"],[0.2222222222222222,\"#7201a8\"],[0.3333333333333333,\"#9c179e\"],[0.4444444444444444,\"#bd3786\"],[0.5555555555555556,\"#d8576b\"],[0.6666666666666666,\"#ed7953\"],[0.7777777777777778,\"#fb9f3a\"],[0.8888888888888888,\"#fdca26\"],[1.0,\"#f0f921\"]],\"diverging\":[[0,\"#8e0152\"],[0.1,\"#c51b7d\"],[0.2,\"#de77ae\"],[0.3,\"#f1b6da\"],[0.4,\"#fde0ef\"],[0.5,\"#f7f7f7\"],[0.6,\"#e6f5d0\"],[0.7,\"#b8e186\"],[0.8,\"#7fbc41\"],[0.9,\"#4d9221\"],[1,\"#276419\"]]},\"xaxis\":{\"gridcolor\":\"white\",\"linecolor\":\"white\",\"ticks\":\"\",\"title\":{\"standoff\":15},\"zerolinecolor\":\"white\",\"automargin\":true,\"zerolinewidth\":2},\"yaxis\":{\"gridcolor\":\"white\",\"linecolor\":\"white\",\"ticks\":\"\",\"title\":{\"standoff\":15},\"zerolinecolor\":\"white\",\"automargin\":true,\"zerolinewidth\":2},\"scene\":{\"xaxis\":{\"backgroundcolor\":\"#E5ECF6\",\"gridcolor\":\"white\",\"linecolor\":\"white\",\"showbackground\":true,\"ticks\":\"\",\"zerolinecolor\":\"white\",\"gridwidth\":2},\"yaxis\":{\"backgroundcolor\":\"#E5ECF6\",\"gridcolor\":\"white\",\"linecolor\":\"white\",\"showbackground\":true,\"ticks\":\"\",\"zerolinecolor\":\"white\",\"gridwidth\":2},\"zaxis\":{\"backgroundcolor\":\"#E5ECF6\",\"gridcolor\":\"white\",\"linecolor\":\"white\",\"showbackground\":true,\"ticks\":\"\",\"zerolinecolor\":\"white\",\"gridwidth\":2}},\"shapedefaults\":{\"line\":{\"color\":\"#2a3f5f\"}},\"annotationdefaults\":{\"arrowcolor\":\"#2a3f5f\",\"arrowhead\":0,\"arrowwidth\":1},\"geo\":{\"bgcolor\":\"white\",\"landcolor\":\"#E5ECF6\",\"subunitcolor\":\"white\",\"showland\":true,\"showlakes\":true,\"lakecolor\":\"white\"},\"title\":{\"x\":0.05},\"mapbox\":{\"style\":\"light\"}}},\"xaxis\":{\"anchor\":\"y\",\"domain\":[0.0,1.0],\"title\":{\"text\":\"Plataform\"}},\"yaxis\":{\"anchor\":\"x\",\"domain\":[0.0,1.0],\"title\":{\"text\":\"Total Sales (Millions)\"}},\"legend\":{\"title\":{\"text\":\"Region\"},\"tracegroupgap\":0},\"title\":{\"text\":\"Total Sales per Platform and Region\"},\"barmode\":\"group\"},                        {\"responsive\": true}                    ).then(function(){\n",
       "                            \n",
       "var gd = document.getElementById('3546f37b-8d80-4279-9f95-3295f3840bb3');\n",
       "var x = new MutationObserver(function (mutations, observer) {{\n",
       "        var display = window.getComputedStyle(gd).display;\n",
       "        if (!display || display === 'none') {{\n",
       "            console.log([gd, 'removed!']);\n",
       "            Plotly.purge(gd);\n",
       "            observer.disconnect();\n",
       "        }}\n",
       "}});\n",
       "\n",
       "// Listen for the removal of the full notebook cells\n",
       "var notebookContainer = gd.closest('#notebook-container');\n",
       "if (notebookContainer) {{\n",
       "    x.observe(notebookContainer, {childList: true});\n",
       "}}\n",
       "\n",
       "// Listen for the clearing of the current output cell\n",
       "var outputEl = gd.closest('.output');\n",
       "if (outputEl) {{\n",
       "    x.observe(outputEl, {childList: true});\n",
       "}}\n",
       "\n",
       "                        })                };                });            </script>        </div>"
      ]
     },
     "metadata": {},
     "output_type": "display_data"
    }
   ],
   "source": [
    "# Visulizando a tabela em um gráfico de barras\n",
    "\n",
    "# Converte o DataFrame para formato longo para facilitar a plotagem\n",
    "df_long_platform = regions_top_5_per_platform.melt(\n",
    "    id_vars=\"platform\", var_name=\"region\", value_name=\"sales\")\n",
    "\n",
    "# Mapeia os nomes das regiões\n",
    "region_labels = {\n",
    "    \"eu_total_sales\": \"EU Total Sales\",\n",
    "    \"na_total_sales\": \"NA Total Sales\",\n",
    "    \"jp_total_sales\": \"Japan Total Sales\",\n",
    "    \"other_total_sales\": \"Other Regions Total Sales\"\n",
    "}\n",
    "\n",
    "# Cria o gráfico de barras agrupado\n",
    "fig = px.bar(df_long_platform, x=\"platform\", y=\"sales\", color=\"region\",\n",
    "             title=\"Total Sales per Platform and Region\",\n",
    "             labels={\n",
    "                 \"sales\": \"Total Sales (Millions)\",\n",
    "                 \"platform\": \"Plataform\",\n",
    "                 \"region\": \"Region\"\n",
    "             },\n",
    "             barmode=\"group\")\n",
    "\n",
    "# Atualiza os nomes das regiões na legenda\n",
    "fig.for_each_trace(lambda t: t.update(name=region_labels[t.name]))\n",
    "\n",
    "# Exibe o gráfico\n",
    "fig.show()"
   ]
  },
  {
   "cell_type": "markdown",
   "metadata": {},
   "source": [
    "Podemos ver claramente que o Japão tem uma preferência muito diferente por plataformas em comparação com o resto do mundo, o que com certeza nos leva a, ao construir um plano de ação para vendas de jogos, no caso do Japão, ele deve ser personalizado."
   ]
  },
  {
   "cell_type": "code",
   "execution_count": 90,
   "metadata": {},
   "outputs": [
    {
     "data": {
      "text/html": [
       "<div>\n",
       "<style scoped>\n",
       "    .dataframe tbody tr th:only-of-type {\n",
       "        vertical-align: middle;\n",
       "    }\n",
       "\n",
       "    .dataframe tbody tr th {\n",
       "        vertical-align: top;\n",
       "    }\n",
       "\n",
       "    .dataframe thead th {\n",
       "        text-align: right;\n",
       "    }\n",
       "</style>\n",
       "<table border=\"1\" class=\"dataframe\">\n",
       "  <thead>\n",
       "    <tr style=\"text-align: right;\">\n",
       "      <th></th>\n",
       "      <th>genre</th>\n",
       "      <th>eu_total_sales</th>\n",
       "      <th>na_total_sales</th>\n",
       "      <th>jp_total_sales</th>\n",
       "      <th>other_total_sales</th>\n",
       "    </tr>\n",
       "  </thead>\n",
       "  <tbody>\n",
       "    <tr>\n",
       "      <th>0</th>\n",
       "      <td>Action</td>\n",
       "      <td>159.34</td>\n",
       "      <td>177.84</td>\n",
       "      <td>52.80</td>\n",
       "      <td>51.14</td>\n",
       "    </tr>\n",
       "    <tr>\n",
       "      <th>1</th>\n",
       "      <td>Adventure</td>\n",
       "      <td>9.46</td>\n",
       "      <td>8.92</td>\n",
       "      <td>8.24</td>\n",
       "      <td>2.81</td>\n",
       "    </tr>\n",
       "    <tr>\n",
       "      <th>2</th>\n",
       "      <td>Fighting</td>\n",
       "      <td>10.79</td>\n",
       "      <td>19.79</td>\n",
       "      <td>9.44</td>\n",
       "      <td>4.47</td>\n",
       "    </tr>\n",
       "    <tr>\n",
       "      <th>3</th>\n",
       "      <td>Misc</td>\n",
       "      <td>26.32</td>\n",
       "      <td>38.19</td>\n",
       "      <td>12.86</td>\n",
       "      <td>7.67</td>\n",
       "    </tr>\n",
       "    <tr>\n",
       "      <th>4</th>\n",
       "      <td>Platform</td>\n",
       "      <td>21.41</td>\n",
       "      <td>25.38</td>\n",
       "      <td>8.63</td>\n",
       "      <td>5.58</td>\n",
       "    </tr>\n",
       "    <tr>\n",
       "      <th>5</th>\n",
       "      <td>Puzzle</td>\n",
       "      <td>1.40</td>\n",
       "      <td>1.13</td>\n",
       "      <td>2.14</td>\n",
       "      <td>0.22</td>\n",
       "    </tr>\n",
       "    <tr>\n",
       "      <th>6</th>\n",
       "      <td>Racing</td>\n",
       "      <td>27.29</td>\n",
       "      <td>17.22</td>\n",
       "      <td>2.50</td>\n",
       "      <td>6.49</td>\n",
       "    </tr>\n",
       "    <tr>\n",
       "      <th>7</th>\n",
       "      <td>Role-Playing</td>\n",
       "      <td>48.53</td>\n",
       "      <td>64.00</td>\n",
       "      <td>65.44</td>\n",
       "      <td>14.83</td>\n",
       "    </tr>\n",
       "    <tr>\n",
       "      <th>8</th>\n",
       "      <td>Shooter</td>\n",
       "      <td>113.47</td>\n",
       "      <td>144.77</td>\n",
       "      <td>9.23</td>\n",
       "      <td>37.26</td>\n",
       "    </tr>\n",
       "    <tr>\n",
       "      <th>9</th>\n",
       "      <td>Simulation</td>\n",
       "      <td>14.55</td>\n",
       "      <td>7.97</td>\n",
       "      <td>10.41</td>\n",
       "      <td>2.19</td>\n",
       "    </tr>\n",
       "    <tr>\n",
       "      <th>10</th>\n",
       "      <td>Sports</td>\n",
       "      <td>69.09</td>\n",
       "      <td>81.53</td>\n",
       "      <td>8.01</td>\n",
       "      <td>22.44</td>\n",
       "    </tr>\n",
       "    <tr>\n",
       "      <th>11</th>\n",
       "      <td>Strategy</td>\n",
       "      <td>5.17</td>\n",
       "      <td>4.23</td>\n",
       "      <td>2.88</td>\n",
       "      <td>1.06</td>\n",
       "    </tr>\n",
       "  </tbody>\n",
       "</table>\n",
       "</div>"
      ],
      "text/plain": [
       "           genre  eu_total_sales  na_total_sales  jp_total_sales  \\\n",
       "0         Action          159.34          177.84           52.80   \n",
       "1      Adventure            9.46            8.92            8.24   \n",
       "2       Fighting           10.79           19.79            9.44   \n",
       "3           Misc           26.32           38.19           12.86   \n",
       "4       Platform           21.41           25.38            8.63   \n",
       "5         Puzzle            1.40            1.13            2.14   \n",
       "6         Racing           27.29           17.22            2.50   \n",
       "7   Role-Playing           48.53           64.00           65.44   \n",
       "8        Shooter          113.47          144.77            9.23   \n",
       "9     Simulation           14.55            7.97           10.41   \n",
       "10        Sports           69.09           81.53            8.01   \n",
       "11      Strategy            5.17            4.23            2.88   \n",
       "\n",
       "    other_total_sales  \n",
       "0               51.14  \n",
       "1                2.81  \n",
       "2                4.47  \n",
       "3                7.67  \n",
       "4                5.58  \n",
       "5                0.22  \n",
       "6                6.49  \n",
       "7               14.83  \n",
       "8               37.26  \n",
       "9                2.19  \n",
       "10              22.44  \n",
       "11               1.06  "
      ]
     },
     "execution_count": 90,
     "metadata": {},
     "output_type": "execute_result"
    }
   ],
   "source": [
    "# Gerando informações de vendas por gênero na Europa\n",
    "\n",
    "eu_sales_per_genre = sales_last_5_years.groupby(\n",
    "    'genre')['eu_sales'].sum().reset_index()\n",
    "eu_sales_per_genre = eu_sales_per_genre.sort_values(\n",
    "    by='eu_sales', ascending=False).reset_index(drop=True)\n",
    "eu_sales_per_genre.rename(columns={'eu_sales': 'eu_total_sales'}, inplace=True)\n",
    "\n",
    "# Gerando informações de vendas por gênero na América do Norte\n",
    "\n",
    "na_sales_per_genre = sales_last_5_years.groupby(\n",
    "    'genre')['na_sales'].sum().reset_index()\n",
    "na_sales_per_genre = na_sales_per_genre.sort_values(\n",
    "    by='na_sales', ascending=False).reset_index(drop=True)\n",
    "na_sales_per_genre.rename(columns={'na_sales': 'na_total_sales'}, inplace=True)\n",
    "\n",
    "# Gerando informações de vendas por gênero no Japão\n",
    "\n",
    "jp_sales_per_genre = sales_last_5_years.groupby(\n",
    "    'genre')['jp_sales'].sum().reset_index()\n",
    "jp_sales_per_genre = jp_sales_per_genre.sort_values(\n",
    "    by='jp_sales', ascending=False).reset_index(drop=True)\n",
    "jp_sales_per_genre.rename(columns={'jp_sales': 'jp_total_sales'}, inplace=True)\n",
    "\n",
    "# Gerando informações de vendas por gênero em outras regiões\n",
    "\n",
    "other_sales_per_genre = sales_last_5_years.groupby(\n",
    "    'genre')['other_sales'].sum().reset_index()\n",
    "other_sales_per_genre = other_sales_per_genre.sort_values(\n",
    "    by='other_sales', ascending=False).reset_index(drop=True)\n",
    "other_sales_per_genre.rename(\n",
    "    columns={'other_sales': 'other_total_sales'}, inplace=True)\n",
    "\n",
    "# Juntando as informações de vendas de cada gênero por região região\n",
    "\n",
    "regions_per_genre = eu_sales_per_genre.merge(na_sales_per_genre,\n",
    "                                             on='genre',\n",
    "                                             how='outer').merge(jp_sales_per_genre,\n",
    "                                                                on='genre',\n",
    "                                                                how='outer').merge(other_sales_per_genre,\n",
    "                                                                                   on='genre',\n",
    "                                                                                   how='outer')\n",
    "regions_per_genre"
   ]
  },
  {
   "cell_type": "code",
   "execution_count": 91,
   "metadata": {},
   "outputs": [
    {
     "data": {
      "text/html": [
       "<div>                            <div id=\"8b35be2c-bda7-4e12-95e7-44fd36c92aba\" class=\"plotly-graph-div\" style=\"height:525px; width:100%;\"></div>            <script type=\"text/javascript\">                require([\"plotly\"], function(Plotly) {                    window.PLOTLYENV=window.PLOTLYENV || {};                                    if (document.getElementById(\"8b35be2c-bda7-4e12-95e7-44fd36c92aba\")) {                    Plotly.newPlot(                        \"8b35be2c-bda7-4e12-95e7-44fd36c92aba\",                        [{\"alignmentgroup\":\"True\",\"hovertemplate\":\"Region=eu_total_sales\\u003cbr\\u003eGenre=%{x}\\u003cbr\\u003eTotal Sales (Millions)=%{y}\\u003cextra\\u003e\\u003c\\u002fextra\\u003e\",\"legendgroup\":\"eu_total_sales\",\"marker\":{\"color\":\"#636efa\",\"pattern\":{\"shape\":\"\"}},\"name\":\"EU Total Sales\",\"offsetgroup\":\"eu_total_sales\",\"orientation\":\"v\",\"showlegend\":true,\"textposition\":\"auto\",\"x\":[\"Action\",\"Adventure\",\"Fighting\",\"Misc\",\"Platform\",\"Puzzle\",\"Racing\",\"Role-Playing\",\"Shooter\",\"Simulation\",\"Sports\",\"Strategy\"],\"xaxis\":\"x\",\"y\":[159.34,9.46,10.790000000000001,26.32,21.41,1.4,27.29,48.53,113.47,14.55,69.09,5.17],\"yaxis\":\"y\",\"type\":\"bar\"},{\"alignmentgroup\":\"True\",\"hovertemplate\":\"Region=na_total_sales\\u003cbr\\u003eGenre=%{x}\\u003cbr\\u003eTotal Sales (Millions)=%{y}\\u003cextra\\u003e\\u003c\\u002fextra\\u003e\",\"legendgroup\":\"na_total_sales\",\"marker\":{\"color\":\"#EF553B\",\"pattern\":{\"shape\":\"\"}},\"name\":\"NA Total Sales\",\"offsetgroup\":\"na_total_sales\",\"orientation\":\"v\",\"showlegend\":true,\"textposition\":\"auto\",\"x\":[\"Action\",\"Adventure\",\"Fighting\",\"Misc\",\"Platform\",\"Puzzle\",\"Racing\",\"Role-Playing\",\"Shooter\",\"Simulation\",\"Sports\",\"Strategy\"],\"xaxis\":\"x\",\"y\":[177.84,8.92,19.79,38.19,25.38,1.1300000000000001,17.22,64.0,144.77,7.97,81.53,4.23],\"yaxis\":\"y\",\"type\":\"bar\"},{\"alignmentgroup\":\"True\",\"hovertemplate\":\"Region=jp_total_sales\\u003cbr\\u003eGenre=%{x}\\u003cbr\\u003eTotal Sales (Millions)=%{y}\\u003cextra\\u003e\\u003c\\u002fextra\\u003e\",\"legendgroup\":\"jp_total_sales\",\"marker\":{\"color\":\"#00cc96\",\"pattern\":{\"shape\":\"\"}},\"name\":\"Japan Total Sales\",\"offsetgroup\":\"jp_total_sales\",\"orientation\":\"v\",\"showlegend\":true,\"textposition\":\"auto\",\"x\":[\"Action\",\"Adventure\",\"Fighting\",\"Misc\",\"Platform\",\"Puzzle\",\"Racing\",\"Role-Playing\",\"Shooter\",\"Simulation\",\"Sports\",\"Strategy\"],\"xaxis\":\"x\",\"y\":[52.800000000000004,8.24,9.44,12.86,8.63,2.14,2.5,65.44,9.23,10.41,8.01,2.88],\"yaxis\":\"y\",\"type\":\"bar\"},{\"alignmentgroup\":\"True\",\"hovertemplate\":\"Region=other_total_sales\\u003cbr\\u003eGenre=%{x}\\u003cbr\\u003eTotal Sales (Millions)=%{y}\\u003cextra\\u003e\\u003c\\u002fextra\\u003e\",\"legendgroup\":\"other_total_sales\",\"marker\":{\"color\":\"#ab63fa\",\"pattern\":{\"shape\":\"\"}},\"name\":\"Other Regions Total Sales\",\"offsetgroup\":\"other_total_sales\",\"orientation\":\"v\",\"showlegend\":true,\"textposition\":\"auto\",\"x\":[\"Action\",\"Adventure\",\"Fighting\",\"Misc\",\"Platform\",\"Puzzle\",\"Racing\",\"Role-Playing\",\"Shooter\",\"Simulation\",\"Sports\",\"Strategy\"],\"xaxis\":\"x\",\"y\":[51.14,2.81,4.47,7.67,5.58,0.22,6.49,14.83,37.26,2.19,22.44,1.06],\"yaxis\":\"y\",\"type\":\"bar\"}],                        {\"template\":{\"data\":{\"histogram2dcontour\":[{\"type\":\"histogram2dcontour\",\"colorbar\":{\"outlinewidth\":0,\"ticks\":\"\"},\"colorscale\":[[0.0,\"#0d0887\"],[0.1111111111111111,\"#46039f\"],[0.2222222222222222,\"#7201a8\"],[0.3333333333333333,\"#9c179e\"],[0.4444444444444444,\"#bd3786\"],[0.5555555555555556,\"#d8576b\"],[0.6666666666666666,\"#ed7953\"],[0.7777777777777778,\"#fb9f3a\"],[0.8888888888888888,\"#fdca26\"],[1.0,\"#f0f921\"]]}],\"choropleth\":[{\"type\":\"choropleth\",\"colorbar\":{\"outlinewidth\":0,\"ticks\":\"\"}}],\"histogram2d\":[{\"type\":\"histogram2d\",\"colorbar\":{\"outlinewidth\":0,\"ticks\":\"\"},\"colorscale\":[[0.0,\"#0d0887\"],[0.1111111111111111,\"#46039f\"],[0.2222222222222222,\"#7201a8\"],[0.3333333333333333,\"#9c179e\"],[0.4444444444444444,\"#bd3786\"],[0.5555555555555556,\"#d8576b\"],[0.6666666666666666,\"#ed7953\"],[0.7777777777777778,\"#fb9f3a\"],[0.8888888888888888,\"#fdca26\"],[1.0,\"#f0f921\"]]}],\"heatmap\":[{\"type\":\"heatmap\",\"colorbar\":{\"outlinewidth\":0,\"ticks\":\"\"},\"colorscale\":[[0.0,\"#0d0887\"],[0.1111111111111111,\"#46039f\"],[0.2222222222222222,\"#7201a8\"],[0.3333333333333333,\"#9c179e\"],[0.4444444444444444,\"#bd3786\"],[0.5555555555555556,\"#d8576b\"],[0.6666666666666666,\"#ed7953\"],[0.7777777777777778,\"#fb9f3a\"],[0.8888888888888888,\"#fdca26\"],[1.0,\"#f0f921\"]]}],\"heatmapgl\":[{\"type\":\"heatmapgl\",\"colorbar\":{\"outlinewidth\":0,\"ticks\":\"\"},\"colorscale\":[[0.0,\"#0d0887\"],[0.1111111111111111,\"#46039f\"],[0.2222222222222222,\"#7201a8\"],[0.3333333333333333,\"#9c179e\"],[0.4444444444444444,\"#bd3786\"],[0.5555555555555556,\"#d8576b\"],[0.6666666666666666,\"#ed7953\"],[0.7777777777777778,\"#fb9f3a\"],[0.8888888888888888,\"#fdca26\"],[1.0,\"#f0f921\"]]}],\"contourcarpet\":[{\"type\":\"contourcarpet\",\"colorbar\":{\"outlinewidth\":0,\"ticks\":\"\"}}],\"contour\":[{\"type\":\"contour\",\"colorbar\":{\"outlinewidth\":0,\"ticks\":\"\"},\"colorscale\":[[0.0,\"#0d0887\"],[0.1111111111111111,\"#46039f\"],[0.2222222222222222,\"#7201a8\"],[0.3333333333333333,\"#9c179e\"],[0.4444444444444444,\"#bd3786\"],[0.5555555555555556,\"#d8576b\"],[0.6666666666666666,\"#ed7953\"],[0.7777777777777778,\"#fb9f3a\"],[0.8888888888888888,\"#fdca26\"],[1.0,\"#f0f921\"]]}],\"surface\":[{\"type\":\"surface\",\"colorbar\":{\"outlinewidth\":0,\"ticks\":\"\"},\"colorscale\":[[0.0,\"#0d0887\"],[0.1111111111111111,\"#46039f\"],[0.2222222222222222,\"#7201a8\"],[0.3333333333333333,\"#9c179e\"],[0.4444444444444444,\"#bd3786\"],[0.5555555555555556,\"#d8576b\"],[0.6666666666666666,\"#ed7953\"],[0.7777777777777778,\"#fb9f3a\"],[0.8888888888888888,\"#fdca26\"],[1.0,\"#f0f921\"]]}],\"mesh3d\":[{\"type\":\"mesh3d\",\"colorbar\":{\"outlinewidth\":0,\"ticks\":\"\"}}],\"scatter\":[{\"fillpattern\":{\"fillmode\":\"overlay\",\"size\":10,\"solidity\":0.2},\"type\":\"scatter\"}],\"parcoords\":[{\"type\":\"parcoords\",\"line\":{\"colorbar\":{\"outlinewidth\":0,\"ticks\":\"\"}}}],\"scatterpolargl\":[{\"type\":\"scatterpolargl\",\"marker\":{\"colorbar\":{\"outlinewidth\":0,\"ticks\":\"\"}}}],\"bar\":[{\"error_x\":{\"color\":\"#2a3f5f\"},\"error_y\":{\"color\":\"#2a3f5f\"},\"marker\":{\"line\":{\"color\":\"#E5ECF6\",\"width\":0.5},\"pattern\":{\"fillmode\":\"overlay\",\"size\":10,\"solidity\":0.2}},\"type\":\"bar\"}],\"scattergeo\":[{\"type\":\"scattergeo\",\"marker\":{\"colorbar\":{\"outlinewidth\":0,\"ticks\":\"\"}}}],\"scatterpolar\":[{\"type\":\"scatterpolar\",\"marker\":{\"colorbar\":{\"outlinewidth\":0,\"ticks\":\"\"}}}],\"histogram\":[{\"marker\":{\"pattern\":{\"fillmode\":\"overlay\",\"size\":10,\"solidity\":0.2}},\"type\":\"histogram\"}],\"scattergl\":[{\"type\":\"scattergl\",\"marker\":{\"colorbar\":{\"outlinewidth\":0,\"ticks\":\"\"}}}],\"scatter3d\":[{\"type\":\"scatter3d\",\"line\":{\"colorbar\":{\"outlinewidth\":0,\"ticks\":\"\"}},\"marker\":{\"colorbar\":{\"outlinewidth\":0,\"ticks\":\"\"}}}],\"scattermapbox\":[{\"type\":\"scattermapbox\",\"marker\":{\"colorbar\":{\"outlinewidth\":0,\"ticks\":\"\"}}}],\"scatterternary\":[{\"type\":\"scatterternary\",\"marker\":{\"colorbar\":{\"outlinewidth\":0,\"ticks\":\"\"}}}],\"scattercarpet\":[{\"type\":\"scattercarpet\",\"marker\":{\"colorbar\":{\"outlinewidth\":0,\"ticks\":\"\"}}}],\"carpet\":[{\"aaxis\":{\"endlinecolor\":\"#2a3f5f\",\"gridcolor\":\"white\",\"linecolor\":\"white\",\"minorgridcolor\":\"white\",\"startlinecolor\":\"#2a3f5f\"},\"baxis\":{\"endlinecolor\":\"#2a3f5f\",\"gridcolor\":\"white\",\"linecolor\":\"white\",\"minorgridcolor\":\"white\",\"startlinecolor\":\"#2a3f5f\"},\"type\":\"carpet\"}],\"table\":[{\"cells\":{\"fill\":{\"color\":\"#EBF0F8\"},\"line\":{\"color\":\"white\"}},\"header\":{\"fill\":{\"color\":\"#C8D4E3\"},\"line\":{\"color\":\"white\"}},\"type\":\"table\"}],\"barpolar\":[{\"marker\":{\"line\":{\"color\":\"#E5ECF6\",\"width\":0.5},\"pattern\":{\"fillmode\":\"overlay\",\"size\":10,\"solidity\":0.2}},\"type\":\"barpolar\"}],\"pie\":[{\"automargin\":true,\"type\":\"pie\"}]},\"layout\":{\"autotypenumbers\":\"strict\",\"colorway\":[\"#636efa\",\"#EF553B\",\"#00cc96\",\"#ab63fa\",\"#FFA15A\",\"#19d3f3\",\"#FF6692\",\"#B6E880\",\"#FF97FF\",\"#FECB52\"],\"font\":{\"color\":\"#2a3f5f\"},\"hovermode\":\"closest\",\"hoverlabel\":{\"align\":\"left\"},\"paper_bgcolor\":\"white\",\"plot_bgcolor\":\"#E5ECF6\",\"polar\":{\"bgcolor\":\"#E5ECF6\",\"angularaxis\":{\"gridcolor\":\"white\",\"linecolor\":\"white\",\"ticks\":\"\"},\"radialaxis\":{\"gridcolor\":\"white\",\"linecolor\":\"white\",\"ticks\":\"\"}},\"ternary\":{\"bgcolor\":\"#E5ECF6\",\"aaxis\":{\"gridcolor\":\"white\",\"linecolor\":\"white\",\"ticks\":\"\"},\"baxis\":{\"gridcolor\":\"white\",\"linecolor\":\"white\",\"ticks\":\"\"},\"caxis\":{\"gridcolor\":\"white\",\"linecolor\":\"white\",\"ticks\":\"\"}},\"coloraxis\":{\"colorbar\":{\"outlinewidth\":0,\"ticks\":\"\"}},\"colorscale\":{\"sequential\":[[0.0,\"#0d0887\"],[0.1111111111111111,\"#46039f\"],[0.2222222222222222,\"#7201a8\"],[0.3333333333333333,\"#9c179e\"],[0.4444444444444444,\"#bd3786\"],[0.5555555555555556,\"#d8576b\"],[0.6666666666666666,\"#ed7953\"],[0.7777777777777778,\"#fb9f3a\"],[0.8888888888888888,\"#fdca26\"],[1.0,\"#f0f921\"]],\"sequentialminus\":[[0.0,\"#0d0887\"],[0.1111111111111111,\"#46039f\"],[0.2222222222222222,\"#7201a8\"],[0.3333333333333333,\"#9c179e\"],[0.4444444444444444,\"#bd3786\"],[0.5555555555555556,\"#d8576b\"],[0.6666666666666666,\"#ed7953\"],[0.7777777777777778,\"#fb9f3a\"],[0.8888888888888888,\"#fdca26\"],[1.0,\"#f0f921\"]],\"diverging\":[[0,\"#8e0152\"],[0.1,\"#c51b7d\"],[0.2,\"#de77ae\"],[0.3,\"#f1b6da\"],[0.4,\"#fde0ef\"],[0.5,\"#f7f7f7\"],[0.6,\"#e6f5d0\"],[0.7,\"#b8e186\"],[0.8,\"#7fbc41\"],[0.9,\"#4d9221\"],[1,\"#276419\"]]},\"xaxis\":{\"gridcolor\":\"white\",\"linecolor\":\"white\",\"ticks\":\"\",\"title\":{\"standoff\":15},\"zerolinecolor\":\"white\",\"automargin\":true,\"zerolinewidth\":2},\"yaxis\":{\"gridcolor\":\"white\",\"linecolor\":\"white\",\"ticks\":\"\",\"title\":{\"standoff\":15},\"zerolinecolor\":\"white\",\"automargin\":true,\"zerolinewidth\":2},\"scene\":{\"xaxis\":{\"backgroundcolor\":\"#E5ECF6\",\"gridcolor\":\"white\",\"linecolor\":\"white\",\"showbackground\":true,\"ticks\":\"\",\"zerolinecolor\":\"white\",\"gridwidth\":2},\"yaxis\":{\"backgroundcolor\":\"#E5ECF6\",\"gridcolor\":\"white\",\"linecolor\":\"white\",\"showbackground\":true,\"ticks\":\"\",\"zerolinecolor\":\"white\",\"gridwidth\":2},\"zaxis\":{\"backgroundcolor\":\"#E5ECF6\",\"gridcolor\":\"white\",\"linecolor\":\"white\",\"showbackground\":true,\"ticks\":\"\",\"zerolinecolor\":\"white\",\"gridwidth\":2}},\"shapedefaults\":{\"line\":{\"color\":\"#2a3f5f\"}},\"annotationdefaults\":{\"arrowcolor\":\"#2a3f5f\",\"arrowhead\":0,\"arrowwidth\":1},\"geo\":{\"bgcolor\":\"white\",\"landcolor\":\"#E5ECF6\",\"subunitcolor\":\"white\",\"showland\":true,\"showlakes\":true,\"lakecolor\":\"white\"},\"title\":{\"x\":0.05},\"mapbox\":{\"style\":\"light\"}}},\"xaxis\":{\"anchor\":\"y\",\"domain\":[0.0,1.0],\"title\":{\"text\":\"Genre\"}},\"yaxis\":{\"anchor\":\"x\",\"domain\":[0.0,1.0],\"title\":{\"text\":\"Total Sales (Millions)\"}},\"legend\":{\"title\":{\"text\":\"Region\"},\"tracegroupgap\":0},\"title\":{\"text\":\"Total Sales per Platform and Region\"},\"barmode\":\"group\"},                        {\"responsive\": true}                    ).then(function(){\n",
       "                            \n",
       "var gd = document.getElementById('8b35be2c-bda7-4e12-95e7-44fd36c92aba');\n",
       "var x = new MutationObserver(function (mutations, observer) {{\n",
       "        var display = window.getComputedStyle(gd).display;\n",
       "        if (!display || display === 'none') {{\n",
       "            console.log([gd, 'removed!']);\n",
       "            Plotly.purge(gd);\n",
       "            observer.disconnect();\n",
       "        }}\n",
       "}});\n",
       "\n",
       "// Listen for the removal of the full notebook cells\n",
       "var notebookContainer = gd.closest('#notebook-container');\n",
       "if (notebookContainer) {{\n",
       "    x.observe(notebookContainer, {childList: true});\n",
       "}}\n",
       "\n",
       "// Listen for the clearing of the current output cell\n",
       "var outputEl = gd.closest('.output');\n",
       "if (outputEl) {{\n",
       "    x.observe(outputEl, {childList: true});\n",
       "}}\n",
       "\n",
       "                        })                };                });            </script>        </div>"
      ]
     },
     "metadata": {},
     "output_type": "display_data"
    }
   ],
   "source": [
    "# Visulizando a tabela em um gráfico de barras\n",
    "\n",
    "# Converte o DataFrame para formato longo para facilitar a plotagem\n",
    "df_long_genre = regions_per_genre.melt(\n",
    "    id_vars=\"genre\", var_name=\"region\", value_name=\"sales\")\n",
    "\n",
    "# Mapeia os nomes das regiões\n",
    "region_labels = {\n",
    "    \"eu_total_sales\": \"EU Total Sales\",\n",
    "    \"na_total_sales\": \"NA Total Sales\",\n",
    "    \"jp_total_sales\": \"Japan Total Sales\",\n",
    "    \"other_total_sales\": \"Other Regions Total Sales\"\n",
    "}\n",
    "\n",
    "# Cria o gráfico de barras agrupado\n",
    "fig = px.bar(df_long_genre, x=\"genre\", y=\"sales\", color=\"region\",\n",
    "             title=\"Total Sales per Platform and Region\",\n",
    "             labels={\n",
    "                 \"sales\": \"Total Sales (Millions)\",\n",
    "                 \"genre\": \"Genre\",\n",
    "                 \"region\": \"Region\"\n",
    "             },\n",
    "             barmode=\"group\")\n",
    "\n",
    "# Atualiza os nomes das regiões na legenda\n",
    "fig.for_each_trace(lambda t: t.update(name=region_labels[t.name]))\n",
    "\n",
    "# Exibe o gráfico\n",
    "fig.show()"
   ]
  },
  {
   "cell_type": "markdown",
   "metadata": {},
   "source": [
    "Pra confirmar ainda mais que o Japão tem um gosto diferente quando se trata de jogos, as preferências em relação ao tipo de jogo também são diferentes por lá, preferindo mais jogos estilo RPG do que jogos de Ação e Shooter, que são as prerências em outras regiões do mundo."
   ]
  },
  {
   "cell_type": "markdown",
   "metadata": {},
   "source": [
    "Uma outra questão pode ser levantada: será que a classificação indicativa dos jogos influenciam as vendas a depender da região?"
   ]
  },
  {
   "cell_type": "code",
   "execution_count": 92,
   "metadata": {},
   "outputs": [
    {
     "data": {
      "text/html": [
       "<div>\n",
       "<style scoped>\n",
       "    .dataframe tbody tr th:only-of-type {\n",
       "        vertical-align: middle;\n",
       "    }\n",
       "\n",
       "    .dataframe tbody tr th {\n",
       "        vertical-align: top;\n",
       "    }\n",
       "\n",
       "    .dataframe thead th {\n",
       "        text-align: right;\n",
       "    }\n",
       "</style>\n",
       "<table border=\"1\" class=\"dataframe\">\n",
       "  <thead>\n",
       "    <tr style=\"text-align: right;\">\n",
       "      <th></th>\n",
       "      <th>rating</th>\n",
       "      <th>eu_total_sales</th>\n",
       "      <th>na_total_sales</th>\n",
       "      <th>jp_total_sales</th>\n",
       "      <th>other_total_sales</th>\n",
       "    </tr>\n",
       "  </thead>\n",
       "  <tbody>\n",
       "    <tr>\n",
       "      <th>0</th>\n",
       "      <td>E</td>\n",
       "      <td>113.03</td>\n",
       "      <td>114.37</td>\n",
       "      <td>28.33</td>\n",
       "      <td>31.44</td>\n",
       "    </tr>\n",
       "    <tr>\n",
       "      <th>1</th>\n",
       "      <td>E10+</td>\n",
       "      <td>55.37</td>\n",
       "      <td>75.70</td>\n",
       "      <td>8.19</td>\n",
       "      <td>16.23</td>\n",
       "    </tr>\n",
       "    <tr>\n",
       "      <th>2</th>\n",
       "      <td>M</td>\n",
       "      <td>193.96</td>\n",
       "      <td>231.57</td>\n",
       "      <td>21.20</td>\n",
       "      <td>63.38</td>\n",
       "    </tr>\n",
       "    <tr>\n",
       "      <th>3</th>\n",
       "      <td>NR</td>\n",
       "      <td>91.50</td>\n",
       "      <td>103.31</td>\n",
       "      <td>108.84</td>\n",
       "      <td>27.17</td>\n",
       "    </tr>\n",
       "    <tr>\n",
       "      <th>4</th>\n",
       "      <td>T</td>\n",
       "      <td>52.96</td>\n",
       "      <td>66.02</td>\n",
       "      <td>26.02</td>\n",
       "      <td>17.94</td>\n",
       "    </tr>\n",
       "  </tbody>\n",
       "</table>\n",
       "</div>"
      ],
      "text/plain": [
       "  rating  eu_total_sales  na_total_sales  jp_total_sales  other_total_sales\n",
       "0      E          113.03          114.37           28.33              31.44\n",
       "1   E10+           55.37           75.70            8.19              16.23\n",
       "2      M          193.96          231.57           21.20              63.38\n",
       "3     NR           91.50          103.31          108.84              27.17\n",
       "4      T           52.96           66.02           26.02              17.94"
      ]
     },
     "execution_count": 92,
     "metadata": {},
     "output_type": "execute_result"
    }
   ],
   "source": [
    "# # Gerando informações de vendas por gênero na Europa\n",
    "\n",
    "eu_sales_per_rating = sales_last_5_years.groupby(\n",
    "    'rating')['eu_sales'].sum().reset_index()\n",
    "eu_sales_per_rating = eu_sales_per_rating.sort_values(\n",
    "    by='eu_sales', ascending=False).reset_index(drop=True)\n",
    "eu_sales_per_rating.rename(\n",
    "    columns={'eu_sales': 'eu_total_sales'}, inplace=True)\n",
    "\n",
    "# Gerando informações de vendas por gênero na América do Norte\n",
    "\n",
    "na_sales_per_rating = sales_last_5_years.groupby(\n",
    "    'rating')['na_sales'].sum().reset_index()\n",
    "na_sales_per_rating = na_sales_per_rating.sort_values(\n",
    "    by='na_sales', ascending=False).reset_index(drop=True)\n",
    "na_sales_per_rating.rename(\n",
    "    columns={'na_sales': 'na_total_sales'}, inplace=True)\n",
    "\n",
    "# Gerando informações de vendas por gênero no Japão\n",
    "\n",
    "jp_sales_per_rating = sales_last_5_years.groupby(\n",
    "    'rating')['jp_sales'].sum().reset_index()\n",
    "jp_sales_per_rating = jp_sales_per_rating.sort_values(\n",
    "    by='jp_sales', ascending=False).reset_index(drop=True)\n",
    "jp_sales_per_rating.rename(\n",
    "    columns={'jp_sales': 'jp_total_sales'}, inplace=True)\n",
    "\n",
    "# Gerando informações de vendas por gênero em outras regiões\n",
    "\n",
    "other_sales_per_rating = sales_last_5_years.groupby(\n",
    "    'rating')['other_sales'].sum().reset_index()\n",
    "other_sales_per_rating = other_sales_per_rating.sort_values(\n",
    "    by='other_sales', ascending=False).reset_index(drop=True)\n",
    "other_sales_per_rating.rename(\n",
    "    columns={'other_sales': 'other_total_sales'}, inplace=True)\n",
    "\n",
    "# Juntando as informações de vendas de cada gênero por região região\n",
    "\n",
    "regions_per_rating = eu_sales_per_rating.merge(na_sales_per_rating,\n",
    "                                               on='rating',\n",
    "                                               how='outer').merge(jp_sales_per_rating,\n",
    "                                                                  on='rating',\n",
    "                                                                  how='outer').merge(other_sales_per_rating,\n",
    "                                                                                     on='rating',\n",
    "                                                                                     how='outer')\n",
    "regions_per_rating"
   ]
  },
  {
   "cell_type": "code",
   "execution_count": 93,
   "metadata": {},
   "outputs": [
    {
     "data": {
      "text/html": [
       "<div>                            <div id=\"b1e2a4e7-53b6-4897-a27e-f07e32155e79\" class=\"plotly-graph-div\" style=\"height:525px; width:100%;\"></div>            <script type=\"text/javascript\">                require([\"plotly\"], function(Plotly) {                    window.PLOTLYENV=window.PLOTLYENV || {};                                    if (document.getElementById(\"b1e2a4e7-53b6-4897-a27e-f07e32155e79\")) {                    Plotly.newPlot(                        \"b1e2a4e7-53b6-4897-a27e-f07e32155e79\",                        [{\"alignmentgroup\":\"True\",\"hovertemplate\":\"Region=eu_total_sales\\u003cbr\\u003eRating=%{x}\\u003cbr\\u003eTotal Sales (Millions)=%{y}\\u003cextra\\u003e\\u003c\\u002fextra\\u003e\",\"legendgroup\":\"eu_total_sales\",\"marker\":{\"color\":\"#636efa\",\"pattern\":{\"shape\":\"\"}},\"name\":\"EU Total Sales\",\"offsetgroup\":\"eu_total_sales\",\"orientation\":\"v\",\"showlegend\":true,\"textposition\":\"auto\",\"x\":[\"E\",\"E10+\",\"M\",\"NR\",\"T\"],\"xaxis\":\"x\",\"y\":[113.03,55.37,193.96,91.5,52.96],\"yaxis\":\"y\",\"type\":\"bar\"},{\"alignmentgroup\":\"True\",\"hovertemplate\":\"Region=na_total_sales\\u003cbr\\u003eRating=%{x}\\u003cbr\\u003eTotal Sales (Millions)=%{y}\\u003cextra\\u003e\\u003c\\u002fextra\\u003e\",\"legendgroup\":\"na_total_sales\",\"marker\":{\"color\":\"#EF553B\",\"pattern\":{\"shape\":\"\"}},\"name\":\"NA Total Sales\",\"offsetgroup\":\"na_total_sales\",\"orientation\":\"v\",\"showlegend\":true,\"textposition\":\"auto\",\"x\":[\"E\",\"E10+\",\"M\",\"NR\",\"T\"],\"xaxis\":\"x\",\"y\":[114.37,75.7,231.57,103.31,66.02],\"yaxis\":\"y\",\"type\":\"bar\"},{\"alignmentgroup\":\"True\",\"hovertemplate\":\"Region=jp_total_sales\\u003cbr\\u003eRating=%{x}\\u003cbr\\u003eTotal Sales (Millions)=%{y}\\u003cextra\\u003e\\u003c\\u002fextra\\u003e\",\"legendgroup\":\"jp_total_sales\",\"marker\":{\"color\":\"#00cc96\",\"pattern\":{\"shape\":\"\"}},\"name\":\"Japan Total Sales\",\"offsetgroup\":\"jp_total_sales\",\"orientation\":\"v\",\"showlegend\":true,\"textposition\":\"auto\",\"x\":[\"E\",\"E10+\",\"M\",\"NR\",\"T\"],\"xaxis\":\"x\",\"y\":[28.330000000000002,8.19,21.2,108.84,26.02],\"yaxis\":\"y\",\"type\":\"bar\"},{\"alignmentgroup\":\"True\",\"hovertemplate\":\"Region=other_total_sales\\u003cbr\\u003eRating=%{x}\\u003cbr\\u003eTotal Sales (Millions)=%{y}\\u003cextra\\u003e\\u003c\\u002fextra\\u003e\",\"legendgroup\":\"other_total_sales\",\"marker\":{\"color\":\"#ab63fa\",\"pattern\":{\"shape\":\"\"}},\"name\":\"Other Regions Total Sales\",\"offsetgroup\":\"other_total_sales\",\"orientation\":\"v\",\"showlegend\":true,\"textposition\":\"auto\",\"x\":[\"E\",\"E10+\",\"M\",\"NR\",\"T\"],\"xaxis\":\"x\",\"y\":[31.44,16.23,63.38,27.17,17.94],\"yaxis\":\"y\",\"type\":\"bar\"}],                        {\"template\":{\"data\":{\"histogram2dcontour\":[{\"type\":\"histogram2dcontour\",\"colorbar\":{\"outlinewidth\":0,\"ticks\":\"\"},\"colorscale\":[[0.0,\"#0d0887\"],[0.1111111111111111,\"#46039f\"],[0.2222222222222222,\"#7201a8\"],[0.3333333333333333,\"#9c179e\"],[0.4444444444444444,\"#bd3786\"],[0.5555555555555556,\"#d8576b\"],[0.6666666666666666,\"#ed7953\"],[0.7777777777777778,\"#fb9f3a\"],[0.8888888888888888,\"#fdca26\"],[1.0,\"#f0f921\"]]}],\"choropleth\":[{\"type\":\"choropleth\",\"colorbar\":{\"outlinewidth\":0,\"ticks\":\"\"}}],\"histogram2d\":[{\"type\":\"histogram2d\",\"colorbar\":{\"outlinewidth\":0,\"ticks\":\"\"},\"colorscale\":[[0.0,\"#0d0887\"],[0.1111111111111111,\"#46039f\"],[0.2222222222222222,\"#7201a8\"],[0.3333333333333333,\"#9c179e\"],[0.4444444444444444,\"#bd3786\"],[0.5555555555555556,\"#d8576b\"],[0.6666666666666666,\"#ed7953\"],[0.7777777777777778,\"#fb9f3a\"],[0.8888888888888888,\"#fdca26\"],[1.0,\"#f0f921\"]]}],\"heatmap\":[{\"type\":\"heatmap\",\"colorbar\":{\"outlinewidth\":0,\"ticks\":\"\"},\"colorscale\":[[0.0,\"#0d0887\"],[0.1111111111111111,\"#46039f\"],[0.2222222222222222,\"#7201a8\"],[0.3333333333333333,\"#9c179e\"],[0.4444444444444444,\"#bd3786\"],[0.5555555555555556,\"#d8576b\"],[0.6666666666666666,\"#ed7953\"],[0.7777777777777778,\"#fb9f3a\"],[0.8888888888888888,\"#fdca26\"],[1.0,\"#f0f921\"]]}],\"heatmapgl\":[{\"type\":\"heatmapgl\",\"colorbar\":{\"outlinewidth\":0,\"ticks\":\"\"},\"colorscale\":[[0.0,\"#0d0887\"],[0.1111111111111111,\"#46039f\"],[0.2222222222222222,\"#7201a8\"],[0.3333333333333333,\"#9c179e\"],[0.4444444444444444,\"#bd3786\"],[0.5555555555555556,\"#d8576b\"],[0.6666666666666666,\"#ed7953\"],[0.7777777777777778,\"#fb9f3a\"],[0.8888888888888888,\"#fdca26\"],[1.0,\"#f0f921\"]]}],\"contourcarpet\":[{\"type\":\"contourcarpet\",\"colorbar\":{\"outlinewidth\":0,\"ticks\":\"\"}}],\"contour\":[{\"type\":\"contour\",\"colorbar\":{\"outlinewidth\":0,\"ticks\":\"\"},\"colorscale\":[[0.0,\"#0d0887\"],[0.1111111111111111,\"#46039f\"],[0.2222222222222222,\"#7201a8\"],[0.3333333333333333,\"#9c179e\"],[0.4444444444444444,\"#bd3786\"],[0.5555555555555556,\"#d8576b\"],[0.6666666666666666,\"#ed7953\"],[0.7777777777777778,\"#fb9f3a\"],[0.8888888888888888,\"#fdca26\"],[1.0,\"#f0f921\"]]}],\"surface\":[{\"type\":\"surface\",\"colorbar\":{\"outlinewidth\":0,\"ticks\":\"\"},\"colorscale\":[[0.0,\"#0d0887\"],[0.1111111111111111,\"#46039f\"],[0.2222222222222222,\"#7201a8\"],[0.3333333333333333,\"#9c179e\"],[0.4444444444444444,\"#bd3786\"],[0.5555555555555556,\"#d8576b\"],[0.6666666666666666,\"#ed7953\"],[0.7777777777777778,\"#fb9f3a\"],[0.8888888888888888,\"#fdca26\"],[1.0,\"#f0f921\"]]}],\"mesh3d\":[{\"type\":\"mesh3d\",\"colorbar\":{\"outlinewidth\":0,\"ticks\":\"\"}}],\"scatter\":[{\"fillpattern\":{\"fillmode\":\"overlay\",\"size\":10,\"solidity\":0.2},\"type\":\"scatter\"}],\"parcoords\":[{\"type\":\"parcoords\",\"line\":{\"colorbar\":{\"outlinewidth\":0,\"ticks\":\"\"}}}],\"scatterpolargl\":[{\"type\":\"scatterpolargl\",\"marker\":{\"colorbar\":{\"outlinewidth\":0,\"ticks\":\"\"}}}],\"bar\":[{\"error_x\":{\"color\":\"#2a3f5f\"},\"error_y\":{\"color\":\"#2a3f5f\"},\"marker\":{\"line\":{\"color\":\"#E5ECF6\",\"width\":0.5},\"pattern\":{\"fillmode\":\"overlay\",\"size\":10,\"solidity\":0.2}},\"type\":\"bar\"}],\"scattergeo\":[{\"type\":\"scattergeo\",\"marker\":{\"colorbar\":{\"outlinewidth\":0,\"ticks\":\"\"}}}],\"scatterpolar\":[{\"type\":\"scatterpolar\",\"marker\":{\"colorbar\":{\"outlinewidth\":0,\"ticks\":\"\"}}}],\"histogram\":[{\"marker\":{\"pattern\":{\"fillmode\":\"overlay\",\"size\":10,\"solidity\":0.2}},\"type\":\"histogram\"}],\"scattergl\":[{\"type\":\"scattergl\",\"marker\":{\"colorbar\":{\"outlinewidth\":0,\"ticks\":\"\"}}}],\"scatter3d\":[{\"type\":\"scatter3d\",\"line\":{\"colorbar\":{\"outlinewidth\":0,\"ticks\":\"\"}},\"marker\":{\"colorbar\":{\"outlinewidth\":0,\"ticks\":\"\"}}}],\"scattermapbox\":[{\"type\":\"scattermapbox\",\"marker\":{\"colorbar\":{\"outlinewidth\":0,\"ticks\":\"\"}}}],\"scatterternary\":[{\"type\":\"scatterternary\",\"marker\":{\"colorbar\":{\"outlinewidth\":0,\"ticks\":\"\"}}}],\"scattercarpet\":[{\"type\":\"scattercarpet\",\"marker\":{\"colorbar\":{\"outlinewidth\":0,\"ticks\":\"\"}}}],\"carpet\":[{\"aaxis\":{\"endlinecolor\":\"#2a3f5f\",\"gridcolor\":\"white\",\"linecolor\":\"white\",\"minorgridcolor\":\"white\",\"startlinecolor\":\"#2a3f5f\"},\"baxis\":{\"endlinecolor\":\"#2a3f5f\",\"gridcolor\":\"white\",\"linecolor\":\"white\",\"minorgridcolor\":\"white\",\"startlinecolor\":\"#2a3f5f\"},\"type\":\"carpet\"}],\"table\":[{\"cells\":{\"fill\":{\"color\":\"#EBF0F8\"},\"line\":{\"color\":\"white\"}},\"header\":{\"fill\":{\"color\":\"#C8D4E3\"},\"line\":{\"color\":\"white\"}},\"type\":\"table\"}],\"barpolar\":[{\"marker\":{\"line\":{\"color\":\"#E5ECF6\",\"width\":0.5},\"pattern\":{\"fillmode\":\"overlay\",\"size\":10,\"solidity\":0.2}},\"type\":\"barpolar\"}],\"pie\":[{\"automargin\":true,\"type\":\"pie\"}]},\"layout\":{\"autotypenumbers\":\"strict\",\"colorway\":[\"#636efa\",\"#EF553B\",\"#00cc96\",\"#ab63fa\",\"#FFA15A\",\"#19d3f3\",\"#FF6692\",\"#B6E880\",\"#FF97FF\",\"#FECB52\"],\"font\":{\"color\":\"#2a3f5f\"},\"hovermode\":\"closest\",\"hoverlabel\":{\"align\":\"left\"},\"paper_bgcolor\":\"white\",\"plot_bgcolor\":\"#E5ECF6\",\"polar\":{\"bgcolor\":\"#E5ECF6\",\"angularaxis\":{\"gridcolor\":\"white\",\"linecolor\":\"white\",\"ticks\":\"\"},\"radialaxis\":{\"gridcolor\":\"white\",\"linecolor\":\"white\",\"ticks\":\"\"}},\"ternary\":{\"bgcolor\":\"#E5ECF6\",\"aaxis\":{\"gridcolor\":\"white\",\"linecolor\":\"white\",\"ticks\":\"\"},\"baxis\":{\"gridcolor\":\"white\",\"linecolor\":\"white\",\"ticks\":\"\"},\"caxis\":{\"gridcolor\":\"white\",\"linecolor\":\"white\",\"ticks\":\"\"}},\"coloraxis\":{\"colorbar\":{\"outlinewidth\":0,\"ticks\":\"\"}},\"colorscale\":{\"sequential\":[[0.0,\"#0d0887\"],[0.1111111111111111,\"#46039f\"],[0.2222222222222222,\"#7201a8\"],[0.3333333333333333,\"#9c179e\"],[0.4444444444444444,\"#bd3786\"],[0.5555555555555556,\"#d8576b\"],[0.6666666666666666,\"#ed7953\"],[0.7777777777777778,\"#fb9f3a\"],[0.8888888888888888,\"#fdca26\"],[1.0,\"#f0f921\"]],\"sequentialminus\":[[0.0,\"#0d0887\"],[0.1111111111111111,\"#46039f\"],[0.2222222222222222,\"#7201a8\"],[0.3333333333333333,\"#9c179e\"],[0.4444444444444444,\"#bd3786\"],[0.5555555555555556,\"#d8576b\"],[0.6666666666666666,\"#ed7953\"],[0.7777777777777778,\"#fb9f3a\"],[0.8888888888888888,\"#fdca26\"],[1.0,\"#f0f921\"]],\"diverging\":[[0,\"#8e0152\"],[0.1,\"#c51b7d\"],[0.2,\"#de77ae\"],[0.3,\"#f1b6da\"],[0.4,\"#fde0ef\"],[0.5,\"#f7f7f7\"],[0.6,\"#e6f5d0\"],[0.7,\"#b8e186\"],[0.8,\"#7fbc41\"],[0.9,\"#4d9221\"],[1,\"#276419\"]]},\"xaxis\":{\"gridcolor\":\"white\",\"linecolor\":\"white\",\"ticks\":\"\",\"title\":{\"standoff\":15},\"zerolinecolor\":\"white\",\"automargin\":true,\"zerolinewidth\":2},\"yaxis\":{\"gridcolor\":\"white\",\"linecolor\":\"white\",\"ticks\":\"\",\"title\":{\"standoff\":15},\"zerolinecolor\":\"white\",\"automargin\":true,\"zerolinewidth\":2},\"scene\":{\"xaxis\":{\"backgroundcolor\":\"#E5ECF6\",\"gridcolor\":\"white\",\"linecolor\":\"white\",\"showbackground\":true,\"ticks\":\"\",\"zerolinecolor\":\"white\",\"gridwidth\":2},\"yaxis\":{\"backgroundcolor\":\"#E5ECF6\",\"gridcolor\":\"white\",\"linecolor\":\"white\",\"showbackground\":true,\"ticks\":\"\",\"zerolinecolor\":\"white\",\"gridwidth\":2},\"zaxis\":{\"backgroundcolor\":\"#E5ECF6\",\"gridcolor\":\"white\",\"linecolor\":\"white\",\"showbackground\":true,\"ticks\":\"\",\"zerolinecolor\":\"white\",\"gridwidth\":2}},\"shapedefaults\":{\"line\":{\"color\":\"#2a3f5f\"}},\"annotationdefaults\":{\"arrowcolor\":\"#2a3f5f\",\"arrowhead\":0,\"arrowwidth\":1},\"geo\":{\"bgcolor\":\"white\",\"landcolor\":\"#E5ECF6\",\"subunitcolor\":\"white\",\"showland\":true,\"showlakes\":true,\"lakecolor\":\"white\"},\"title\":{\"x\":0.05},\"mapbox\":{\"style\":\"light\"}}},\"xaxis\":{\"anchor\":\"y\",\"domain\":[0.0,1.0],\"title\":{\"text\":\"Rating\"}},\"yaxis\":{\"anchor\":\"x\",\"domain\":[0.0,1.0],\"title\":{\"text\":\"Total Sales (Millions)\"}},\"legend\":{\"title\":{\"text\":\"Region\"},\"tracegroupgap\":0},\"title\":{\"text\":\"Total Sales per Platform and Region\"},\"barmode\":\"group\"},                        {\"responsive\": true}                    ).then(function(){\n",
       "                            \n",
       "var gd = document.getElementById('b1e2a4e7-53b6-4897-a27e-f07e32155e79');\n",
       "var x = new MutationObserver(function (mutations, observer) {{\n",
       "        var display = window.getComputedStyle(gd).display;\n",
       "        if (!display || display === 'none') {{\n",
       "            console.log([gd, 'removed!']);\n",
       "            Plotly.purge(gd);\n",
       "            observer.disconnect();\n",
       "        }}\n",
       "}});\n",
       "\n",
       "// Listen for the removal of the full notebook cells\n",
       "var notebookContainer = gd.closest('#notebook-container');\n",
       "if (notebookContainer) {{\n",
       "    x.observe(notebookContainer, {childList: true});\n",
       "}}\n",
       "\n",
       "// Listen for the clearing of the current output cell\n",
       "var outputEl = gd.closest('.output');\n",
       "if (outputEl) {{\n",
       "    x.observe(outputEl, {childList: true});\n",
       "}}\n",
       "\n",
       "                        })                };                });            </script>        </div>"
      ]
     },
     "metadata": {},
     "output_type": "display_data"
    }
   ],
   "source": [
    "# Visulizando a tabela em um gráfico de barras\n",
    "\n",
    "# Converte o DataFrame para formato longo para facilitar a plotagem\n",
    "df_long_rating = regions_per_rating.melt(\n",
    "    id_vars=\"rating\", var_name=\"region\", value_name=\"sales\")\n",
    "\n",
    "# Mapeia os nomes das regiões\n",
    "region_labels = {\n",
    "    \"eu_total_sales\": \"EU Total Sales\",\n",
    "    \"na_total_sales\": \"NA Total Sales\",\n",
    "    \"jp_total_sales\": \"Japan Total Sales\",\n",
    "    \"other_total_sales\": \"Other Regions Total Sales\"\n",
    "}\n",
    "\n",
    "# Cria o gráfico de barras agrupado\n",
    "fig = px.bar(df_long_rating, x=\"rating\", y=\"sales\", color=\"region\",\n",
    "             title=\"Total Sales per Platform and Region\",\n",
    "             labels={\n",
    "                 \"sales\": \"Total Sales (Millions)\",\n",
    "                 \"rating\": \"Rating\",\n",
    "                 \"region\": \"Region\"\n",
    "             },\n",
    "             barmode=\"group\")\n",
    "\n",
    "# Atualiza os nomes das regiões na legenda\n",
    "fig.for_each_trace(lambda t: t.update(name=region_labels[t.name]))\n",
    "\n",
    "# Exibe o gráfico\n",
    "fig.show()"
   ]
  },
  {
   "cell_type": "markdown",
   "metadata": {},
   "source": [
    "Podemos perceber algo interessante: no Japão, a maioria das vendas são de jogos sem classificação alguma, porém, excluindo esses jogos, o comportamente de vendas é muito parecido, com o Japão mais uma vez não seguindo a tendência: enquanto nas outras regiões do mundo, os jogos para público adulto lidera o ranking, sendo seguido por jogos para todos os públicos e jogos para jovens, no japão os jogos para público não são tão preferidos, com os jogadores preferindo jogos para qualquer público ou público jovem."
   ]
  },
  {
   "cell_type": "markdown",
   "metadata": {},
   "source": [
    "## Testando hipóteses\n",
    "\n",
    "Chegou a hora de testar algumas hipóteses sobre nossos dados. Vamos pensar em algumas:\n",
    "- Olhando para as plataformas Xbox One e PC, será que a classificação média dos usuários é a mesma nas duas plataformas?\n",
    "- Para os jogos de Ação e Sports, será que existe diferença na classificação média dos usuários?\n",
    "\n",
    "Para os testes de hipótese será utilizado o limiar padrão de 95%, que é o mais utilizado quando se trata de testes de hipótese."
   ]
  },
  {
   "cell_type": "markdown",
   "metadata": {},
   "source": [
    "### Teste da igualdade de médias de classificação de usuário para Xbox One e PC\n",
    "\n",
    "**Hipótese nula(H0):** As médias são iguais\n",
    "\n",
    "**Hipótese alternativa(H1):** As médias são diferentes"
   ]
  },
  {
   "cell_type": "code",
   "execution_count": 94,
   "metadata": {},
   "outputs": [
    {
     "name": "stdout",
     "output_type": "stream",
     "text": [
      "Média de classificação para Xbox One: 65.21428571428571\n",
      "Média de classificação para PC: 64.2864077669903\n",
      "Valor-p: 0.012514842818505541\n",
      "Rejeitamos H0: as variâncias são diferentes\n"
     ]
    }
   ],
   "source": [
    "# Filtrando os dados\n",
    "xbox_scores = sales_last_5_years[sales_last_5_years['platform'] == 'XOne']\n",
    "xbox_scores = xbox_scores[xbox_scores['user_score'] > 0]\n",
    "print('Média de classificação para Xbox One:',\n",
    "      xbox_scores['user_score'].mean())\n",
    "\n",
    "pc_scores = sales_last_5_years[sales_last_5_years['platform'] == 'PC']\n",
    "pc_scores = pc_scores[pc_scores['user_score'] > 0]\n",
    "print('Média de classificação para PC:', pc_scores['user_score'].mean())\n",
    "\n",
    "# teste para verificação de igualdade de variâncias\n",
    "# Hipótese nula(H0): as variâncias são iguais\n",
    "# Hipótese alternativa(H1): as variâncias são diferentes\n",
    "stat, p = levene(xbox_scores['user_score'], pc_scores['user_score'])\n",
    "\n",
    "alpha = 0.05\n",
    "print(f'Valor-p: {p}')\n",
    "\n",
    "if p < alpha:\n",
    "    print(\"Rejeitamos H0: as variâncias são diferentes\")\n",
    "else:\n",
    "    print(\"Não podemos rejeitar H0: as variâncias são iguais\")"
   ]
  },
  {
   "cell_type": "code",
   "execution_count": 95,
   "metadata": {},
   "outputs": [
    {
     "name": "stdout",
     "output_type": "stream",
     "text": [
      "Valor-p: 0.012514842818505541\n",
      "Rejeitamos H0: as médias são diferentes\n"
     ]
    }
   ],
   "source": [
    "# Teste t de Student\n",
    "t_stat, p_value = st.ttest_ind(\n",
    "    xbox_scores['user_score'], pc_scores['user_score'], equal_var=False)\n",
    "\n",
    "alpha = 0.05\n",
    "print(f'Valor-p: {p}')\n",
    "\n",
    "if p < alpha:\n",
    "    print(\"Rejeitamos H0: as médias são diferentes\")\n",
    "else:\n",
    "    print(\"Não podemos rejeitar H0: as médias são iguais\")"
   ]
  },
  {
   "cell_type": "markdown",
   "metadata": {},
   "source": [
    "Podemos perceber então que a classificação dos usuários para os jogos em ambas as plataformas são em média diferentes."
   ]
  },
  {
   "cell_type": "markdown",
   "metadata": {},
   "source": [
    "### Teste da igualdade de médias de classificação de usuário para Action e Sports\n",
    "\n",
    "**Hipótese nula(H0):** As médias são iguais\n",
    "\n",
    "**Hipótese alternativa(H1):** As médias são diferentes"
   ]
  },
  {
   "cell_type": "code",
   "execution_count": 96,
   "metadata": {},
   "outputs": [
    {
     "name": "stdout",
     "output_type": "stream",
     "text": [
      "Média de classificação para jogos de Ação: 68.25047801147228\n",
      "Média de classificação para jogos de Esportes: 54.55897435897436\n",
      "Valor-p: 1.3125789036876737e-05\n",
      "Rejeitamos H0: as variâncias são diferentes\n"
     ]
    }
   ],
   "source": [
    "# Filtrando os dados\n",
    "action_scores = sales_last_5_years[sales_last_5_years['genre'] == 'Action']\n",
    "action_scores = action_scores[action_scores['user_score'] > 0]\n",
    "print('Média de classificação para jogos de Ação:',\n",
    "      action_scores['user_score'].mean())\n",
    "\n",
    "sports_scores = sales_last_5_years[sales_last_5_years['genre'] == 'Sports']\n",
    "sports_scores = sports_scores[sports_scores['user_score'] > 0]\n",
    "print('Média de classificação para jogos de Esportes:',\n",
    "      sports_scores['user_score'].mean())\n",
    "\n",
    "# teste para verificação de igualdade de variâncias\n",
    "# Hipótese nula(H0): as variâncias são iguais\n",
    "# Hipótese alternativa(H1): as variâncias são diferentes\n",
    "stat, p = levene(action_scores['user_score'], sports_scores['user_score'])\n",
    "\n",
    "alpha = 0.05\n",
    "print(f'Valor-p: {p}')\n",
    "\n",
    "if p < alpha:\n",
    "    print(\"Rejeitamos H0: as variâncias são diferentes\")\n",
    "else:\n",
    "    print(\"Não podemos rejeitar H0: as variâncias são iguais\")"
   ]
  },
  {
   "cell_type": "code",
   "execution_count": 97,
   "metadata": {},
   "outputs": [
    {
     "name": "stdout",
     "output_type": "stream",
     "text": [
      "Valor-p: 1.3125789036876737e-05\n",
      "Rejeitamos H0: as médias são diferentes\n"
     ]
    }
   ],
   "source": [
    "# Teste t de Student\n",
    "t_stat, p_value = st.ttest_ind(\n",
    "    action_scores['user_score'], sports_scores['user_score'], equal_var=False)\n",
    "\n",
    "alpha = 0.05\n",
    "print(f'Valor-p: {p}')\n",
    "\n",
    "if p < alpha:\n",
    "    print(\"Rejeitamos H0: as médias são diferentes\")\n",
    "else:\n",
    "    print(\"Não podemos rejeitar H0: as médias são iguais\")"
   ]
  },
  {
   "cell_type": "markdown",
   "metadata": {},
   "source": [
    "Assim como no caso anterior, os usuários tendem a classificar os jogos de ação, em média, diferente dos jogos de esporte."
   ]
  },
  {
   "cell_type": "markdown",
   "metadata": {},
   "source": [
    "## Conclusão\n",
    "\n",
    "Depois de todas as análises, foi possível tirar as seguintes conclusões:\n",
    "\n",
    "- As vendas de jogos vêm crescendo desde a década de 90, alcançando um pico no final da década de 2000, porém com uma queda nos últimos anos;\n",
    "- As plataformas tendem a começar com pouca popularidade assim que lançadas, porém crescendo com o tempo; outro ponto importante é que, com a chegada de uma nova plataforma, como uma nova versão de uma plataforma antiga, a popularidade da antiga tende a diminuir e da nova tende a crescer;\n",
    "- Tem tido um domínio no mercado das plataformas Xbox e PlayStation, porém a última domina o mercado com constantes vendas maiores do que a primeira;\n",
    "- As plataformas Xbox e PlayStation têm dominado o mercado de jogos nos últimos anos, com a PlayStation com valores totais maiores e a Xbox com valores médios maiores, liderados principalmente por alguns outliers;\n",
    "- As críticas dos usuários e dos críticos têm pouca relação com o valor total de vendas, porém a avaliação dos críticos têm melhor correlação;\n",
    "- Os jogos mais vendidos não só são jogos de ação ou tiro, mas também são jogos que podem ser jogados em mais de uma plataforma;\n",
    "- Apesar de os jogos de ação serem os mais vendidos, suas vendas são lideradas por muitos oultiers, observado pela média não tão alta nos valores de venda, o que não acontece com os jogos de tiro, que têm melhor consistência;\n",
    "- Em relação a vendas por região, o Japão é um mercado bem único, com preferências bem diferentes do resto do mundo, tanto para platafromas, quanto para tipos de jogos e classificação indicativa dos jogos;\n",
    "- As médias de classificação para Xbox One são estatíticamente maiores do que para PC;\n",
    "- As médias de classificação para jogos de ação são estatísticamente maiores do que jogos de esporte;"
   ]
  }
 ],
 "metadata": {
  "ExecuteTimeLog": [
   {
    "duration": 701,
    "start_time": "2025-05-05T23:37:28.999Z"
   },
   {
    "duration": 36,
    "start_time": "2025-05-05T23:38:33.978Z"
   },
   {
    "duration": 22,
    "start_time": "2025-05-05T23:39:05.755Z"
   },
   {
    "duration": 251,
    "start_time": "2025-05-06T00:12:37.120Z"
   },
   {
    "duration": 5,
    "start_time": "2025-05-06T00:12:59.599Z"
   },
   {
    "duration": 13,
    "start_time": "2025-05-06T00:14:12.699Z"
   },
   {
    "duration": 25,
    "start_time": "2025-05-06T00:15:13.204Z"
   },
   {
    "duration": 19,
    "start_time": "2025-05-06T00:15:13.370Z"
   },
   {
    "duration": 5,
    "start_time": "2025-05-06T00:15:16.145Z"
   },
   {
    "duration": 552,
    "start_time": "2025-05-06T00:15:24.303Z"
   },
   {
    "duration": 8,
    "start_time": "2025-05-06T00:17:20.539Z"
   },
   {
    "duration": 58,
    "start_time": "2025-05-06T00:20:39.210Z"
   },
   {
    "duration": 20,
    "start_time": "2025-05-06T00:29:36.470Z"
   },
   {
    "duration": 24,
    "start_time": "2025-05-06T00:30:20.504Z"
   },
   {
    "duration": 23,
    "start_time": "2025-05-06T00:30:28.722Z"
   },
   {
    "duration": 18,
    "start_time": "2025-05-06T00:30:28.976Z"
   },
   {
    "duration": 3,
    "start_time": "2025-05-06T00:30:29.966Z"
   },
   {
    "duration": 8,
    "start_time": "2025-05-06T00:30:30.279Z"
   },
   {
    "duration": 22,
    "start_time": "2025-05-06T00:30:31.815Z"
   },
   {
    "duration": 21,
    "start_time": "2025-05-06T00:31:12.361Z"
   },
   {
    "duration": 22,
    "start_time": "2025-05-06T00:34:42.434Z"
   },
   {
    "duration": 20,
    "start_time": "2025-05-06T00:34:42.611Z"
   },
   {
    "duration": 5,
    "start_time": "2025-05-06T00:34:42.927Z"
   },
   {
    "duration": 8,
    "start_time": "2025-05-06T00:34:43.079Z"
   },
   {
    "duration": 25,
    "start_time": "2025-05-06T00:34:45.713Z"
   },
   {
    "duration": 16,
    "start_time": "2025-05-06T00:36:11.610Z"
   },
   {
    "duration": 6,
    "start_time": "2025-05-06T00:36:24.834Z"
   },
   {
    "duration": 5,
    "start_time": "2025-05-06T00:36:48.083Z"
   },
   {
    "duration": 88,
    "start_time": "2025-05-06T00:37:29.145Z"
   },
   {
    "duration": 7,
    "start_time": "2025-05-06T00:37:32.441Z"
   },
   {
    "duration": 7,
    "start_time": "2025-05-06T00:37:59.426Z"
   },
   {
    "duration": 3,
    "start_time": "2025-05-06T00:38:16.336Z"
   },
   {
    "duration": 7,
    "start_time": "2025-05-06T00:38:21.413Z"
   },
   {
    "duration": 16,
    "start_time": "2025-05-06T00:38:28.346Z"
   },
   {
    "duration": 16,
    "start_time": "2025-05-06T00:43:18.608Z"
   },
   {
    "duration": 4,
    "start_time": "2025-05-06T02:23:43.513Z"
   },
   {
    "duration": 657,
    "start_time": "2025-05-06T15:10:38.279Z"
   },
   {
    "duration": 36,
    "start_time": "2025-05-06T15:10:40.218Z"
   },
   {
    "duration": 28,
    "start_time": "2025-05-06T15:10:40.682Z"
   },
   {
    "duration": 5,
    "start_time": "2025-05-06T15:10:41.977Z"
   },
   {
    "duration": 9,
    "start_time": "2025-05-06T15:10:42.671Z"
   },
   {
    "duration": 22,
    "start_time": "2025-05-06T15:10:45.545Z"
   },
   {
    "duration": 19,
    "start_time": "2025-05-06T15:10:55.707Z"
   },
   {
    "duration": 25,
    "start_time": "2025-05-06T15:12:42.751Z"
   },
   {
    "duration": 19,
    "start_time": "2025-05-06T15:12:42.941Z"
   },
   {
    "duration": 4,
    "start_time": "2025-05-06T15:12:43.508Z"
   },
   {
    "duration": 9,
    "start_time": "2025-05-06T15:12:43.842Z"
   },
   {
    "duration": 22,
    "start_time": "2025-05-06T15:12:44.884Z"
   },
   {
    "duration": 17,
    "start_time": "2025-05-06T15:12:55.781Z"
   },
   {
    "duration": 27,
    "start_time": "2025-05-06T15:39:40.592Z"
   },
   {
    "duration": 20,
    "start_time": "2025-05-06T15:39:40.710Z"
   },
   {
    "duration": 4,
    "start_time": "2025-05-06T15:39:42.384Z"
   },
   {
    "duration": 829,
    "start_time": "2025-05-06T15:40:20.460Z"
   },
   {
    "duration": 9,
    "start_time": "2025-05-06T15:41:16.851Z"
   },
   {
    "duration": 9,
    "start_time": "2025-05-06T15:42:48.810Z"
   },
   {
    "duration": 24,
    "start_time": "2025-05-06T15:43:01.952Z"
   },
   {
    "duration": 19,
    "start_time": "2025-05-06T15:43:02.107Z"
   },
   {
    "duration": 7,
    "start_time": "2025-05-06T15:43:02.991Z"
   },
   {
    "duration": 151,
    "start_time": "2025-05-06T15:43:03.791Z"
   },
   {
    "duration": 11,
    "start_time": "2025-05-06T15:43:37.967Z"
   },
   {
    "duration": 22,
    "start_time": "2025-05-06T15:43:48.361Z"
   },
   {
    "duration": 20,
    "start_time": "2025-05-06T15:46:13.784Z"
   },
   {
    "duration": 455,
    "start_time": "2025-05-06T15:51:04.932Z"
   },
   {
    "duration": 19,
    "start_time": "2025-05-06T15:51:15.467Z"
   },
   {
    "duration": 9,
    "start_time": "2025-05-06T15:54:10.564Z"
   },
   {
    "duration": 10,
    "start_time": "2025-05-06T15:54:41.237Z"
   },
   {
    "duration": 6,
    "start_time": "2025-05-06T15:54:47.257Z"
   },
   {
    "duration": 10,
    "start_time": "2025-05-06T15:54:56.276Z"
   },
   {
    "duration": 19,
    "start_time": "2025-05-06T15:55:38.097Z"
   },
   {
    "duration": 3,
    "start_time": "2025-05-06T15:55:47.564Z"
   },
   {
    "duration": 399,
    "start_time": "2025-05-06T15:55:51.025Z"
   },
   {
    "duration": 6,
    "start_time": "2025-05-06T15:58:02.170Z"
   },
   {
    "duration": 38,
    "start_time": "2025-05-06T15:58:08.357Z"
   },
   {
    "duration": 102,
    "start_time": "2025-05-06T16:00:55.800Z"
   },
   {
    "duration": 25,
    "start_time": "2025-05-06T16:01:01.270Z"
   },
   {
    "duration": 10,
    "start_time": "2025-05-06T16:01:17.694Z"
   },
   {
    "duration": 37,
    "start_time": "2025-05-06T16:01:24.220Z"
   },
   {
    "duration": 666,
    "start_time": "2025-05-06T16:01:32.662Z"
   },
   {
    "duration": 25,
    "start_time": "2025-05-06T16:01:33.331Z"
   },
   {
    "duration": 37,
    "start_time": "2025-05-06T16:01:33.358Z"
   },
   {
    "duration": 5,
    "start_time": "2025-05-06T16:01:33.397Z"
   },
   {
    "duration": 12,
    "start_time": "2025-05-06T16:01:33.406Z"
   },
   {
    "duration": 23,
    "start_time": "2025-05-06T16:01:33.420Z"
   },
   {
    "duration": 58,
    "start_time": "2025-05-06T16:01:33.445Z"
   },
   {
    "duration": 20,
    "start_time": "2025-05-06T16:01:33.505Z"
   },
   {
    "duration": 360,
    "start_time": "2025-05-06T16:01:33.527Z"
   },
   {
    "duration": 21,
    "start_time": "2025-05-06T16:01:33.889Z"
   },
   {
    "duration": 4,
    "start_time": "2025-05-06T16:03:31.894Z"
   },
   {
    "duration": 14,
    "start_time": "2025-05-06T16:06:30.241Z"
   },
   {
    "duration": 19,
    "start_time": "2025-05-06T16:07:18.127Z"
   },
   {
    "duration": 15,
    "start_time": "2025-05-06T16:07:58.192Z"
   },
   {
    "duration": 13,
    "start_time": "2025-05-06T16:10:58.103Z"
   },
   {
    "duration": 11,
    "start_time": "2025-05-06T16:11:26.491Z"
   },
   {
    "duration": 10,
    "start_time": "2025-05-06T16:11:57.081Z"
   },
   {
    "duration": 12,
    "start_time": "2025-05-06T16:12:28.785Z"
   },
   {
    "duration": 360,
    "start_time": "2025-05-06T16:12:52.319Z"
   },
   {
    "duration": 11,
    "start_time": "2025-05-06T16:13:01.032Z"
   },
   {
    "duration": 7,
    "start_time": "2025-05-06T18:22:57.594Z"
   },
   {
    "duration": 7,
    "start_time": "2025-05-06T18:23:13.666Z"
   },
   {
    "duration": 10,
    "start_time": "2025-05-06T18:24:57.260Z"
   },
   {
    "duration": 51,
    "start_time": "2025-05-06T18:27:06.427Z"
   },
   {
    "duration": 82,
    "start_time": "2025-05-06T18:42:01.129Z"
   },
   {
    "duration": 63,
    "start_time": "2025-05-06T18:43:55.131Z"
   },
   {
    "duration": 56,
    "start_time": "2025-05-06T18:46:59.230Z"
   },
   {
    "duration": 11,
    "start_time": "2025-05-06T19:06:29.544Z"
   },
   {
    "duration": 11,
    "start_time": "2025-05-06T19:06:59.707Z"
   },
   {
    "duration": 605,
    "start_time": "2025-05-06T19:07:51.049Z"
   },
   {
    "duration": 7,
    "start_time": "2025-05-06T19:08:01.648Z"
   },
   {
    "duration": 402,
    "start_time": "2025-05-06T19:08:17.933Z"
   },
   {
    "duration": 33,
    "start_time": "2025-05-06T19:08:43.804Z"
   },
   {
    "duration": 13,
    "start_time": "2025-05-06T19:08:49.389Z"
   },
   {
    "duration": 14,
    "start_time": "2025-05-06T19:09:00.418Z"
   },
   {
    "duration": 14,
    "start_time": "2025-05-06T19:09:07.516Z"
   },
   {
    "duration": 12,
    "start_time": "2025-05-06T19:09:09.656Z"
   },
   {
    "duration": 7,
    "start_time": "2025-05-06T19:09:14.464Z"
   },
   {
    "duration": 48,
    "start_time": "2025-05-06T19:09:15.405Z"
   },
   {
    "duration": 48,
    "start_time": "2025-05-06T19:12:59.400Z"
   },
   {
    "duration": 14,
    "start_time": "2025-05-06T19:17:16.908Z"
   },
   {
    "duration": 34,
    "start_time": "2025-05-06T19:17:28.070Z"
   },
   {
    "duration": 11,
    "start_time": "2025-05-06T19:17:31.833Z"
   },
   {
    "duration": 17,
    "start_time": "2025-05-06T19:17:46.399Z"
   },
   {
    "duration": 11,
    "start_time": "2025-05-06T19:17:51.916Z"
   },
   {
    "duration": 14,
    "start_time": "2025-05-06T19:18:03.372Z"
   },
   {
    "duration": 62,
    "start_time": "2025-05-06T19:18:44.215Z"
   },
   {
    "duration": 7,
    "start_time": "2025-05-06T19:18:51.301Z"
   },
   {
    "duration": 55,
    "start_time": "2025-05-06T19:19:10.154Z"
   },
   {
    "duration": 63,
    "start_time": "2025-05-06T19:19:27.944Z"
   },
   {
    "duration": 23,
    "start_time": "2025-05-06T19:23:55.610Z"
   },
   {
    "duration": 24,
    "start_time": "2025-05-06T19:23:58.353Z"
   },
   {
    "duration": 23,
    "start_time": "2025-05-06T19:23:58.544Z"
   },
   {
    "duration": 27,
    "start_time": "2025-05-06T19:24:06.510Z"
   },
   {
    "duration": 31,
    "start_time": "2025-05-06T19:25:16.618Z"
   },
   {
    "duration": 33,
    "start_time": "2025-05-06T19:25:58.236Z"
   },
   {
    "duration": 9,
    "start_time": "2025-05-06T19:37:12.161Z"
   },
   {
    "duration": 22,
    "start_time": "2025-05-06T19:37:40.795Z"
   },
   {
    "duration": 17,
    "start_time": "2025-05-06T19:37:51.106Z"
   },
   {
    "duration": 73,
    "start_time": "2025-05-06T19:38:36.176Z"
   },
   {
    "duration": 123,
    "start_time": "2025-05-06T19:45:05.156Z"
   },
   {
    "duration": 80,
    "start_time": "2025-05-06T19:45:17.581Z"
   },
   {
    "duration": 99,
    "start_time": "2025-05-06T20:04:24.076Z"
   },
   {
    "duration": 77,
    "start_time": "2025-05-06T20:04:35.324Z"
   },
   {
    "duration": 728,
    "start_time": "2025-05-06T20:07:47.501Z"
   },
   {
    "duration": 25,
    "start_time": "2025-05-06T20:07:48.231Z"
   },
   {
    "duration": 39,
    "start_time": "2025-05-06T20:07:48.258Z"
   },
   {
    "duration": 5,
    "start_time": "2025-05-06T20:07:48.299Z"
   },
   {
    "duration": 12,
    "start_time": "2025-05-06T20:07:48.306Z"
   },
   {
    "duration": 20,
    "start_time": "2025-05-06T20:07:48.319Z"
   },
   {
    "duration": 56,
    "start_time": "2025-05-06T20:07:48.340Z"
   },
   {
    "duration": 18,
    "start_time": "2025-05-06T20:07:48.398Z"
   },
   {
    "duration": 320,
    "start_time": "2025-05-06T20:07:48.417Z"
   },
   {
    "duration": 50,
    "start_time": "2025-05-06T20:07:48.739Z"
   },
   {
    "duration": 5,
    "start_time": "2025-05-06T20:07:48.791Z"
   },
   {
    "duration": 15,
    "start_time": "2025-05-06T20:07:48.797Z"
   },
   {
    "duration": 10,
    "start_time": "2025-05-06T20:07:48.813Z"
   },
   {
    "duration": 66,
    "start_time": "2025-05-06T20:07:48.826Z"
   },
   {
    "duration": 47,
    "start_time": "2025-05-06T20:07:48.894Z"
   },
   {
    "duration": 103,
    "start_time": "2025-05-06T20:07:48.942Z"
   },
   {
    "duration": 72,
    "start_time": "2025-05-06T20:07:49.047Z"
   },
   {
    "duration": 4,
    "start_time": "2025-05-06T20:07:49.120Z"
   },
   {
    "duration": 38,
    "start_time": "2025-05-06T20:09:30.151Z"
   },
   {
    "duration": 10,
    "start_time": "2025-05-06T20:14:50.295Z"
   },
   {
    "duration": 52,
    "start_time": "2025-05-06T20:15:14.508Z"
   },
   {
    "duration": 34,
    "start_time": "2025-05-06T20:15:19.803Z"
   },
   {
    "duration": 36,
    "start_time": "2025-05-06T20:15:38.410Z"
   },
   {
    "duration": 36,
    "start_time": "2025-05-06T20:17:21.108Z"
   },
   {
    "duration": 54,
    "start_time": "2025-05-06T20:17:43.435Z"
   },
   {
    "duration": 693,
    "start_time": "2025-05-06T20:39:39.338Z"
   },
   {
    "duration": 92,
    "start_time": "2025-05-06T20:40:18.543Z"
   },
   {
    "duration": 180,
    "start_time": "2025-05-06T20:40:40.591Z"
   },
   {
    "duration": 155,
    "start_time": "2025-05-06T20:41:13.283Z"
   },
   {
    "duration": 9,
    "start_time": "2025-05-06T20:41:45.507Z"
   },
   {
    "duration": 9,
    "start_time": "2025-05-06T20:41:49.862Z"
   },
   {
    "duration": 13,
    "start_time": "2025-05-06T20:41:57.742Z"
   },
   {
    "duration": 85,
    "start_time": "2025-05-06T20:43:16.958Z"
   },
   {
    "duration": 64,
    "start_time": "2025-05-06T20:43:26.804Z"
   },
   {
    "duration": 11,
    "start_time": "2025-05-06T20:43:59.083Z"
   },
   {
    "duration": 9,
    "start_time": "2025-05-06T20:44:04.924Z"
   },
   {
    "duration": 433,
    "start_time": "2025-05-06T20:44:37.401Z"
   },
   {
    "duration": 62,
    "start_time": "2025-05-06T20:45:04.032Z"
   },
   {
    "duration": 46,
    "start_time": "2025-05-06T20:47:12.075Z"
   },
   {
    "duration": 51,
    "start_time": "2025-05-06T20:51:52.863Z"
   },
   {
    "duration": 63,
    "start_time": "2025-05-06T20:52:04.886Z"
   },
   {
    "duration": 94,
    "start_time": "2025-05-06T20:52:48.550Z"
   },
   {
    "duration": 97,
    "start_time": "2025-05-06T20:56:28.195Z"
   },
   {
    "duration": 9,
    "start_time": "2025-05-06T20:56:59.897Z"
   },
   {
    "duration": 4,
    "start_time": "2025-05-06T20:57:19.945Z"
   },
   {
    "duration": 674,
    "start_time": "2025-05-06T20:58:18.095Z"
   },
   {
    "duration": 25,
    "start_time": "2025-05-06T20:58:18.771Z"
   },
   {
    "duration": 29,
    "start_time": "2025-05-06T20:58:18.797Z"
   },
   {
    "duration": 4,
    "start_time": "2025-05-06T20:58:18.828Z"
   },
   {
    "duration": 12,
    "start_time": "2025-05-06T20:58:18.836Z"
   },
   {
    "duration": 52,
    "start_time": "2025-05-06T20:58:18.850Z"
   },
   {
    "duration": 20,
    "start_time": "2025-05-06T20:58:18.904Z"
   },
   {
    "duration": 21,
    "start_time": "2025-05-06T20:58:18.925Z"
   },
   {
    "duration": 349,
    "start_time": "2025-05-06T20:58:18.948Z"
   },
   {
    "duration": 22,
    "start_time": "2025-05-06T20:58:19.299Z"
   },
   {
    "duration": 4,
    "start_time": "2025-05-06T20:58:19.323Z"
   },
   {
    "duration": 68,
    "start_time": "2025-05-06T20:58:19.329Z"
   },
   {
    "duration": 10,
    "start_time": "2025-05-06T20:58:19.398Z"
   },
   {
    "duration": 6,
    "start_time": "2025-05-06T20:58:19.412Z"
   },
   {
    "duration": 86,
    "start_time": "2025-05-06T20:58:19.419Z"
   },
   {
    "duration": 64,
    "start_time": "2025-05-06T20:58:19.507Z"
   },
   {
    "duration": 64,
    "start_time": "2025-05-06T20:58:19.587Z"
   },
   {
    "duration": 53,
    "start_time": "2025-05-06T20:58:19.652Z"
   },
   {
    "duration": 35,
    "start_time": "2025-05-06T20:58:19.707Z"
   },
   {
    "duration": 63,
    "start_time": "2025-05-06T20:58:19.744Z"
   },
   {
    "duration": 35,
    "start_time": "2025-05-06T20:58:19.809Z"
   },
   {
    "duration": 10,
    "start_time": "2025-05-06T20:58:19.846Z"
   },
   {
    "duration": 31,
    "start_time": "2025-05-06T20:58:19.858Z"
   },
   {
    "duration": 9,
    "start_time": "2025-05-06T21:42:35.497Z"
   },
   {
    "duration": 633,
    "start_time": "2025-05-06T21:45:33.291Z"
   },
   {
    "duration": 24,
    "start_time": "2025-05-06T21:45:33.926Z"
   },
   {
    "duration": 37,
    "start_time": "2025-05-06T21:45:33.952Z"
   },
   {
    "duration": 6,
    "start_time": "2025-05-06T21:45:33.992Z"
   },
   {
    "duration": 11,
    "start_time": "2025-05-06T21:45:34.001Z"
   },
   {
    "duration": 19,
    "start_time": "2025-05-06T21:45:34.014Z"
   },
   {
    "duration": 55,
    "start_time": "2025-05-06T21:45:34.035Z"
   },
   {
    "duration": 19,
    "start_time": "2025-05-06T21:45:34.092Z"
   },
   {
    "duration": 332,
    "start_time": "2025-05-06T21:45:34.112Z"
   },
   {
    "duration": 44,
    "start_time": "2025-05-06T21:45:34.446Z"
   },
   {
    "duration": 4,
    "start_time": "2025-05-06T21:45:34.492Z"
   },
   {
    "duration": 16,
    "start_time": "2025-05-06T21:45:34.497Z"
   },
   {
    "duration": 9,
    "start_time": "2025-05-06T21:45:34.515Z"
   },
   {
    "duration": 66,
    "start_time": "2025-05-06T21:45:34.527Z"
   },
   {
    "duration": 47,
    "start_time": "2025-05-06T21:45:34.595Z"
   },
   {
    "duration": 102,
    "start_time": "2025-05-06T21:45:34.644Z"
   },
   {
    "duration": 105,
    "start_time": "2025-05-06T21:45:34.748Z"
   },
   {
    "duration": 117,
    "start_time": "2025-05-06T21:45:34.855Z"
   },
   {
    "duration": 48,
    "start_time": "2025-05-06T21:45:34.974Z"
   },
   {
    "duration": 41,
    "start_time": "2025-05-06T21:45:35.024Z"
   },
   {
    "duration": 37,
    "start_time": "2025-05-06T21:45:35.087Z"
   },
   {
    "duration": 18,
    "start_time": "2025-05-06T21:45:35.126Z"
   },
   {
    "duration": 17,
    "start_time": "2025-05-06T21:47:54.622Z"
   },
   {
    "duration": 68,
    "start_time": "2025-05-06T21:48:37.741Z"
   },
   {
    "duration": 39,
    "start_time": "2025-05-06T21:49:04.898Z"
   },
   {
    "duration": 50,
    "start_time": "2025-05-06T21:49:20.014Z"
   },
   {
    "duration": 44,
    "start_time": "2025-05-06T21:53:56.139Z"
   },
   {
    "duration": 12,
    "start_time": "2025-05-06T21:54:30.336Z"
   },
   {
    "duration": 11,
    "start_time": "2025-05-06T21:55:04.394Z"
   },
   {
    "duration": 11,
    "start_time": "2025-05-06T21:55:34.223Z"
   },
   {
    "duration": 585,
    "start_time": "2025-05-06T21:57:39.521Z"
   },
   {
    "duration": 6,
    "start_time": "2025-05-06T21:57:48.795Z"
   },
   {
    "duration": 56,
    "start_time": "2025-05-06T22:01:47.545Z"
   },
   {
    "duration": 54,
    "start_time": "2025-05-06T22:52:53.196Z"
   },
   {
    "duration": 401,
    "start_time": "2025-05-06T22:59:09.874Z"
   },
   {
    "duration": 16,
    "start_time": "2025-05-06T22:59:25.193Z"
   },
   {
    "duration": 17,
    "start_time": "2025-05-06T22:59:55.379Z"
   },
   {
    "duration": 35,
    "start_time": "2025-05-06T22:59:59.411Z"
   },
   {
    "duration": 36,
    "start_time": "2025-05-06T23:00:42.988Z"
   },
   {
    "duration": 16,
    "start_time": "2025-05-06T23:11:02.002Z"
   },
   {
    "duration": 8,
    "start_time": "2025-05-06T23:11:22.072Z"
   },
   {
    "duration": 53,
    "start_time": "2025-05-06T23:12:52.719Z"
   },
   {
    "duration": 76,
    "start_time": "2025-05-06T23:13:52.074Z"
   },
   {
    "duration": 84,
    "start_time": "2025-05-06T23:17:59.628Z"
   },
   {
    "duration": 36,
    "start_time": "2025-05-06T23:18:13.901Z"
   },
   {
    "duration": 657,
    "start_time": "2025-05-07T01:06:30.182Z"
   },
   {
    "duration": 35,
    "start_time": "2025-05-07T01:06:30.842Z"
   },
   {
    "duration": 34,
    "start_time": "2025-05-07T01:06:30.878Z"
   },
   {
    "duration": 3,
    "start_time": "2025-05-07T01:06:30.914Z"
   },
   {
    "duration": 12,
    "start_time": "2025-05-07T01:06:30.920Z"
   },
   {
    "duration": 20,
    "start_time": "2025-05-07T01:06:30.935Z"
   },
   {
    "duration": 22,
    "start_time": "2025-05-07T01:06:30.987Z"
   },
   {
    "duration": 20,
    "start_time": "2025-05-07T01:06:31.012Z"
   },
   {
    "duration": 376,
    "start_time": "2025-05-07T01:06:31.033Z"
   },
   {
    "duration": 21,
    "start_time": "2025-05-07T01:06:31.411Z"
   },
   {
    "duration": 8,
    "start_time": "2025-05-07T01:06:31.433Z"
   },
   {
    "duration": 51,
    "start_time": "2025-05-07T01:06:31.443Z"
   },
   {
    "duration": 11,
    "start_time": "2025-05-07T01:06:31.497Z"
   },
   {
    "duration": 7,
    "start_time": "2025-05-07T01:06:31.510Z"
   },
   {
    "duration": 105,
    "start_time": "2025-05-07T01:06:31.519Z"
   },
   {
    "duration": 96,
    "start_time": "2025-05-07T01:06:31.625Z"
   },
   {
    "duration": 89,
    "start_time": "2025-05-07T01:06:31.723Z"
   },
   {
    "duration": 113,
    "start_time": "2025-05-07T01:06:31.814Z"
   },
   {
    "duration": 59,
    "start_time": "2025-05-07T01:06:31.929Z"
   },
   {
    "duration": 40,
    "start_time": "2025-05-07T01:06:31.990Z"
   },
   {
    "duration": 62,
    "start_time": "2025-05-07T01:06:32.032Z"
   },
   {
    "duration": 56,
    "start_time": "2025-05-07T01:06:32.096Z"
   },
   {
    "duration": 57,
    "start_time": "2025-05-07T01:06:32.154Z"
   },
   {
    "duration": 47,
    "start_time": "2025-05-07T01:06:32.213Z"
   },
   {
    "duration": 53,
    "start_time": "2025-05-07T01:06:32.261Z"
   },
   {
    "duration": 35,
    "start_time": "2025-05-07T01:07:53.648Z"
   },
   {
    "duration": 619,
    "start_time": "2025-05-07T13:35:41.932Z"
   },
   {
    "duration": 48,
    "start_time": "2025-05-07T13:35:44.204Z"
   },
   {
    "duration": 31,
    "start_time": "2025-05-07T13:35:45.246Z"
   },
   {
    "duration": 636,
    "start_time": "2025-05-07T13:35:59.120Z"
   },
   {
    "duration": 24,
    "start_time": "2025-05-07T13:35:59.758Z"
   },
   {
    "duration": 29,
    "start_time": "2025-05-07T13:35:59.783Z"
   },
   {
    "duration": 23,
    "start_time": "2025-05-07T13:35:59.823Z"
   },
   {
    "duration": 11,
    "start_time": "2025-05-07T13:35:59.848Z"
   },
   {
    "duration": 20,
    "start_time": "2025-05-07T13:35:59.860Z"
   },
   {
    "duration": 19,
    "start_time": "2025-05-07T13:35:59.881Z"
   },
   {
    "duration": 43,
    "start_time": "2025-05-07T13:35:59.901Z"
   },
   {
    "duration": 348,
    "start_time": "2025-05-07T13:35:59.946Z"
   },
   {
    "duration": 45,
    "start_time": "2025-05-07T13:36:00.298Z"
   },
   {
    "duration": 6,
    "start_time": "2025-05-07T13:36:00.344Z"
   },
   {
    "duration": 19,
    "start_time": "2025-05-07T13:36:00.351Z"
   },
   {
    "duration": 9,
    "start_time": "2025-05-07T13:36:00.371Z"
   },
   {
    "duration": 38,
    "start_time": "2025-05-07T13:36:00.381Z"
   },
   {
    "duration": 47,
    "start_time": "2025-05-07T13:36:00.428Z"
   },
   {
    "duration": 70,
    "start_time": "2025-05-07T13:36:00.477Z"
   },
   {
    "duration": 92,
    "start_time": "2025-05-07T13:36:00.548Z"
   },
   {
    "duration": 116,
    "start_time": "2025-05-07T13:36:00.642Z"
   },
   {
    "duration": 36,
    "start_time": "2025-05-07T13:36:00.759Z"
   },
   {
    "duration": 87,
    "start_time": "2025-05-07T13:36:00.797Z"
   },
   {
    "duration": 44,
    "start_time": "2025-05-07T13:36:00.885Z"
   },
   {
    "duration": 56,
    "start_time": "2025-05-07T13:36:00.938Z"
   },
   {
    "duration": 40,
    "start_time": "2025-05-07T13:36:00.995Z"
   },
   {
    "duration": 57,
    "start_time": "2025-05-07T13:36:01.036Z"
   },
   {
    "duration": 58,
    "start_time": "2025-05-07T13:36:01.095Z"
   },
   {
    "duration": 34,
    "start_time": "2025-05-07T13:36:01.155Z"
   },
   {
    "duration": 13,
    "start_time": "2025-05-07T13:39:28.405Z"
   },
   {
    "duration": 10,
    "start_time": "2025-05-07T13:39:37.745Z"
   },
   {
    "duration": 196,
    "start_time": "2025-05-07T13:41:36.551Z"
   },
   {
    "duration": 11,
    "start_time": "2025-05-07T13:41:47.100Z"
   },
   {
    "duration": 30,
    "start_time": "2025-05-07T13:42:16.426Z"
   },
   {
    "duration": 14,
    "start_time": "2025-05-07T13:42:25.430Z"
   },
   {
    "duration": 9,
    "start_time": "2025-05-07T13:43:05.249Z"
   },
   {
    "duration": 17,
    "start_time": "2025-05-07T13:43:37.154Z"
   },
   {
    "duration": 10,
    "start_time": "2025-05-07T13:43:57.953Z"
   },
   {
    "duration": 20,
    "start_time": "2025-05-07T13:48:09.890Z"
   },
   {
    "duration": 57,
    "start_time": "2025-05-07T13:52:05.792Z"
   },
   {
    "duration": 65,
    "start_time": "2025-05-07T13:52:52.883Z"
   },
   {
    "duration": 48,
    "start_time": "2025-05-07T13:54:18.539Z"
   },
   {
    "duration": 178,
    "start_time": "2025-05-07T13:57:32.783Z"
   },
   {
    "duration": 645,
    "start_time": "2025-05-07T13:57:42.158Z"
   },
   {
    "duration": 110,
    "start_time": "2025-05-07T13:58:29.449Z"
   },
   {
    "duration": 46,
    "start_time": "2025-05-07T14:01:16.205Z"
   },
   {
    "duration": 26,
    "start_time": "2025-05-07T14:37:48.472Z"
   },
   {
    "duration": 18,
    "start_time": "2025-05-07T14:39:24.261Z"
   },
   {
    "duration": 16,
    "start_time": "2025-05-07T14:39:29.937Z"
   },
   {
    "duration": 4,
    "start_time": "2025-05-07T14:39:43.350Z"
   },
   {
    "duration": 20,
    "start_time": "2025-05-07T14:39:52.424Z"
   },
   {
    "duration": 9,
    "start_time": "2025-05-07T14:40:03.963Z"
   },
   {
    "duration": 36,
    "start_time": "2025-05-07T14:40:34.235Z"
   },
   {
    "duration": 27,
    "start_time": "2025-05-07T14:40:45.632Z"
   },
   {
    "duration": 18,
    "start_time": "2025-05-07T14:41:18.223Z"
   },
   {
    "duration": 17,
    "start_time": "2025-05-07T14:41:53.001Z"
   },
   {
    "duration": 19,
    "start_time": "2025-05-07T14:41:59.303Z"
   },
   {
    "duration": 46,
    "start_time": "2025-05-07T14:42:00.933Z"
   },
   {
    "duration": 26,
    "start_time": "2025-05-07T14:42:05.983Z"
   },
   {
    "duration": 45,
    "start_time": "2025-05-07T14:42:07.867Z"
   },
   {
    "duration": 695,
    "start_time": "2025-05-07T16:27:25.307Z"
   },
   {
    "duration": 35,
    "start_time": "2025-05-07T16:27:26.004Z"
   },
   {
    "duration": 31,
    "start_time": "2025-05-07T16:27:26.040Z"
   },
   {
    "duration": 4,
    "start_time": "2025-05-07T16:27:26.073Z"
   },
   {
    "duration": 12,
    "start_time": "2025-05-07T16:27:26.078Z"
   },
   {
    "duration": 21,
    "start_time": "2025-05-07T16:27:26.091Z"
   },
   {
    "duration": 19,
    "start_time": "2025-05-07T16:27:26.114Z"
   },
   {
    "duration": 19,
    "start_time": "2025-05-07T16:27:26.171Z"
   },
   {
    "duration": 347,
    "start_time": "2025-05-07T16:27:26.192Z"
   },
   {
    "duration": 48,
    "start_time": "2025-05-07T16:27:26.542Z"
   },
   {
    "duration": 4,
    "start_time": "2025-05-07T16:27:26.591Z"
   },
   {
    "duration": 12,
    "start_time": "2025-05-07T16:27:26.597Z"
   },
   {
    "duration": 63,
    "start_time": "2025-05-07T16:27:26.611Z"
   },
   {
    "duration": 7,
    "start_time": "2025-05-07T16:27:26.676Z"
   },
   {
    "duration": 105,
    "start_time": "2025-05-07T16:27:26.684Z"
   },
   {
    "duration": 68,
    "start_time": "2025-05-07T16:27:26.791Z"
   },
   {
    "duration": 80,
    "start_time": "2025-05-07T16:27:26.870Z"
   },
   {
    "duration": 122,
    "start_time": "2025-05-07T16:27:26.951Z"
   },
   {
    "duration": 36,
    "start_time": "2025-05-07T16:27:27.074Z"
   },
   {
    "duration": 70,
    "start_time": "2025-05-07T16:27:27.112Z"
   },
   {
    "duration": 38,
    "start_time": "2025-05-07T16:27:27.184Z"
   },
   {
    "duration": 79,
    "start_time": "2025-05-07T16:27:27.224Z"
   },
   {
    "duration": 37,
    "start_time": "2025-05-07T16:27:27.305Z"
   },
   {
    "duration": 70,
    "start_time": "2025-05-07T16:27:27.344Z"
   },
   {
    "duration": 62,
    "start_time": "2025-05-07T16:27:27.415Z"
   },
   {
    "duration": 37,
    "start_time": "2025-05-07T16:27:27.479Z"
   },
   {
    "duration": 9,
    "start_time": "2025-05-07T16:27:27.518Z"
   },
   {
    "duration": 9,
    "start_time": "2025-05-07T16:27:27.530Z"
   },
   {
    "duration": 39,
    "start_time": "2025-05-07T16:27:27.541Z"
   },
   {
    "duration": 9,
    "start_time": "2025-05-07T16:27:27.582Z"
   },
   {
    "duration": 18,
    "start_time": "2025-05-07T16:27:27.593Z"
   },
   {
    "duration": 77,
    "start_time": "2025-05-07T16:27:27.613Z"
   },
   {
    "duration": 28,
    "start_time": "2025-05-07T16:27:27.692Z"
   },
   {
    "duration": 64,
    "start_time": "2025-05-07T16:27:27.721Z"
   },
   {
    "duration": 26,
    "start_time": "2025-05-07T16:58:00.186Z"
   },
   {
    "duration": 583,
    "start_time": "2025-05-07T16:58:41.433Z"
   },
   {
    "duration": 43,
    "start_time": "2025-05-07T16:58:54.216Z"
   },
   {
    "duration": 4,
    "start_time": "2025-05-07T17:39:30.685Z"
   },
   {
    "duration": 3,
    "start_time": "2025-05-07T17:42:20.455Z"
   },
   {
    "duration": 364,
    "start_time": "2025-05-07T17:43:17.993Z"
   },
   {
    "duration": 17,
    "start_time": "2025-05-07T17:43:27.653Z"
   },
   {
    "duration": 8,
    "start_time": "2025-05-07T17:44:21.112Z"
   },
   {
    "duration": 14,
    "start_time": "2025-05-07T17:45:38.219Z"
   },
   {
    "duration": 5,
    "start_time": "2025-05-07T17:45:50.099Z"
   },
   {
    "duration": 4,
    "start_time": "2025-05-07T17:46:00.603Z"
   },
   {
    "duration": 9,
    "start_time": "2025-05-07T17:49:59.283Z"
   },
   {
    "duration": 4,
    "start_time": "2025-05-07T17:50:19.684Z"
   },
   {
    "duration": 88,
    "start_time": "2025-05-07T17:59:22.158Z"
   },
   {
    "duration": 59,
    "start_time": "2025-05-07T17:59:50.485Z"
   },
   {
    "duration": 36,
    "start_time": "2025-05-07T18:04:09.848Z"
   },
   {
    "duration": 21,
    "start_time": "2025-05-07T18:20:47.854Z"
   },
   {
    "duration": 10,
    "start_time": "2025-05-07T18:20:57.310Z"
   },
   {
    "duration": 4,
    "start_time": "2025-05-07T18:21:07.076Z"
   },
   {
    "duration": 9,
    "start_time": "2025-05-07T18:22:50.058Z"
   },
   {
    "duration": 7,
    "start_time": "2025-05-07T18:22:54.347Z"
   },
   {
    "duration": 654,
    "start_time": "2025-05-07T19:03:36.267Z"
   },
   {
    "duration": 33,
    "start_time": "2025-05-07T19:03:36.923Z"
   },
   {
    "duration": 28,
    "start_time": "2025-05-07T19:03:36.958Z"
   },
   {
    "duration": 4,
    "start_time": "2025-05-07T19:03:36.989Z"
   },
   {
    "duration": 12,
    "start_time": "2025-05-07T19:03:36.995Z"
   },
   {
    "duration": 20,
    "start_time": "2025-05-07T19:03:37.008Z"
   },
   {
    "duration": 43,
    "start_time": "2025-05-07T19:03:37.030Z"
   },
   {
    "duration": 18,
    "start_time": "2025-05-07T19:03:37.076Z"
   },
   {
    "duration": 328,
    "start_time": "2025-05-07T19:03:37.095Z"
   },
   {
    "duration": 47,
    "start_time": "2025-05-07T19:03:37.427Z"
   },
   {
    "duration": 6,
    "start_time": "2025-05-07T19:03:37.476Z"
   },
   {
    "duration": 21,
    "start_time": "2025-05-07T19:03:37.484Z"
   },
   {
    "duration": 10,
    "start_time": "2025-05-07T19:03:37.508Z"
   },
   {
    "duration": 7,
    "start_time": "2025-05-07T19:03:37.520Z"
   },
   {
    "duration": 47,
    "start_time": "2025-05-07T19:03:37.571Z"
   },
   {
    "duration": 75,
    "start_time": "2025-05-07T19:03:37.620Z"
   },
   {
    "duration": 72,
    "start_time": "2025-05-07T19:03:37.697Z"
   },
   {
    "duration": 51,
    "start_time": "2025-05-07T19:03:37.771Z"
   },
   {
    "duration": 56,
    "start_time": "2025-05-07T19:03:37.824Z"
   },
   {
    "duration": 35,
    "start_time": "2025-05-07T19:03:37.882Z"
   },
   {
    "duration": 93,
    "start_time": "2025-05-07T19:03:37.918Z"
   },
   {
    "duration": 34,
    "start_time": "2025-05-07T19:03:38.013Z"
   },
   {
    "duration": 71,
    "start_time": "2025-05-07T19:03:38.049Z"
   },
   {
    "duration": 33,
    "start_time": "2025-05-07T19:03:38.121Z"
   },
   {
    "duration": 49,
    "start_time": "2025-05-07T19:03:38.170Z"
   },
   {
    "duration": 54,
    "start_time": "2025-05-07T19:03:38.220Z"
   },
   {
    "duration": 33,
    "start_time": "2025-05-07T19:03:38.276Z"
   },
   {
    "duration": 9,
    "start_time": "2025-05-07T19:03:38.313Z"
   },
   {
    "duration": 10,
    "start_time": "2025-05-07T19:03:38.323Z"
   },
   {
    "duration": 36,
    "start_time": "2025-05-07T19:03:38.334Z"
   },
   {
    "duration": 9,
    "start_time": "2025-05-07T19:03:38.372Z"
   },
   {
    "duration": 18,
    "start_time": "2025-05-07T19:03:38.382Z"
   },
   {
    "duration": 42,
    "start_time": "2025-05-07T19:03:38.401Z"
   },
   {
    "duration": 44,
    "start_time": "2025-05-07T19:03:38.445Z"
   },
   {
    "duration": 49,
    "start_time": "2025-05-07T19:03:38.491Z"
   },
   {
    "duration": 43,
    "start_time": "2025-05-07T19:03:38.542Z"
   },
   {
    "duration": 44,
    "start_time": "2025-05-07T19:03:38.586Z"
   },
   {
    "duration": 8,
    "start_time": "2025-05-07T19:03:38.631Z"
   },
   {
    "duration": 3,
    "start_time": "2025-05-07T19:03:38.641Z"
   },
   {
    "duration": 8,
    "start_time": "2025-05-07T19:03:38.670Z"
   },
   {
    "duration": 6,
    "start_time": "2025-05-07T19:03:38.680Z"
   },
   {
    "duration": 3,
    "start_time": "2025-05-07T19:40:44.982Z"
   },
   {
    "duration": 23,
    "start_time": "2025-05-07T19:40:46.511Z"
   },
   {
    "duration": 26,
    "start_time": "2025-05-07T19:40:47.130Z"
   },
   {
    "duration": 4,
    "start_time": "2025-05-07T19:40:49.926Z"
   },
   {
    "duration": 11,
    "start_time": "2025-05-07T19:40:55.523Z"
   },
   {
    "duration": 22,
    "start_time": "2025-05-07T19:41:03.485Z"
   },
   {
    "duration": 19,
    "start_time": "2025-05-07T19:41:11.614Z"
   },
   {
    "duration": 19,
    "start_time": "2025-05-07T19:41:20.030Z"
   },
   {
    "duration": 37,
    "start_time": "2025-05-07T19:43:50.227Z"
   },
   {
    "duration": 13,
    "start_time": "2025-05-07T19:43:58.429Z"
   },
   {
    "duration": 11,
    "start_time": "2025-05-07T19:44:43.834Z"
   },
   {
    "duration": 314,
    "start_time": "2025-05-07T19:55:56.662Z"
   },
   {
    "duration": 11,
    "start_time": "2025-05-07T19:56:06.458Z"
   },
   {
    "duration": 48,
    "start_time": "2025-05-07T19:56:07.483Z"
   },
   {
    "duration": 22,
    "start_time": "2025-05-07T19:56:23.757Z"
   },
   {
    "duration": 13,
    "start_time": "2025-05-07T19:56:42.949Z"
   },
   {
    "duration": 14,
    "start_time": "2025-05-07T19:56:49.331Z"
   },
   {
    "duration": 12,
    "start_time": "2025-05-07T19:57:06.967Z"
   },
   {
    "duration": 37,
    "start_time": "2025-05-07T19:58:20.921Z"
   },
   {
    "duration": 16,
    "start_time": "2025-05-07T19:58:50.340Z"
   },
   {
    "duration": 39,
    "start_time": "2025-05-07T19:58:57.606Z"
   },
   {
    "duration": 37,
    "start_time": "2025-05-07T19:59:04.558Z"
   },
   {
    "duration": 92,
    "start_time": "2025-05-07T19:59:11.519Z"
   },
   {
    "duration": 689,
    "start_time": "2025-05-07T20:02:59.309Z"
   },
   {
    "duration": 29,
    "start_time": "2025-05-07T20:03:00.001Z"
   },
   {
    "duration": 42,
    "start_time": "2025-05-07T20:03:00.032Z"
   },
   {
    "duration": 4,
    "start_time": "2025-05-07T20:03:00.077Z"
   },
   {
    "duration": 10,
    "start_time": "2025-05-07T20:03:00.083Z"
   },
   {
    "duration": 22,
    "start_time": "2025-05-07T20:03:00.095Z"
   },
   {
    "duration": 18,
    "start_time": "2025-05-07T20:03:00.118Z"
   },
   {
    "duration": 19,
    "start_time": "2025-05-07T20:03:00.169Z"
   },
   {
    "duration": 335,
    "start_time": "2025-05-07T20:03:00.190Z"
   },
   {
    "duration": 13,
    "start_time": "2025-05-07T20:03:00.528Z"
   },
   {
    "duration": 28,
    "start_time": "2025-05-07T20:03:00.543Z"
   },
   {
    "duration": 7,
    "start_time": "2025-05-07T20:03:00.573Z"
   },
   {
    "duration": 111,
    "start_time": "2025-05-07T20:03:00.581Z"
   },
   {
    "duration": 13,
    "start_time": "2025-05-07T20:03:00.694Z"
   },
   {
    "duration": 64,
    "start_time": "2025-05-07T20:03:00.709Z"
   },
   {
    "duration": 15,
    "start_time": "2025-05-07T20:03:00.775Z"
   },
   {
    "duration": 33,
    "start_time": "2025-05-07T20:03:00.792Z"
   },
   {
    "duration": 90,
    "start_time": "2025-05-07T20:03:00.827Z"
   },
   {
    "duration": 337,
    "start_time": "2025-05-07T20:03:00.919Z"
   },
   {
    "duration": 0,
    "start_time": "2025-05-07T20:03:01.259Z"
   },
   {
    "duration": 0,
    "start_time": "2025-05-07T20:03:01.260Z"
   },
   {
    "duration": 0,
    "start_time": "2025-05-07T20:03:01.270Z"
   },
   {
    "duration": 0,
    "start_time": "2025-05-07T20:03:01.271Z"
   },
   {
    "duration": 0,
    "start_time": "2025-05-07T20:03:01.272Z"
   },
   {
    "duration": 0,
    "start_time": "2025-05-07T20:03:01.273Z"
   },
   {
    "duration": 0,
    "start_time": "2025-05-07T20:03:01.275Z"
   },
   {
    "duration": 0,
    "start_time": "2025-05-07T20:03:01.275Z"
   },
   {
    "duration": 0,
    "start_time": "2025-05-07T20:03:01.277Z"
   },
   {
    "duration": 0,
    "start_time": "2025-05-07T20:03:01.278Z"
   },
   {
    "duration": 0,
    "start_time": "2025-05-07T20:03:01.279Z"
   },
   {
    "duration": 0,
    "start_time": "2025-05-07T20:03:01.280Z"
   },
   {
    "duration": 0,
    "start_time": "2025-05-07T20:03:01.280Z"
   },
   {
    "duration": 0,
    "start_time": "2025-05-07T20:03:01.281Z"
   },
   {
    "duration": 0,
    "start_time": "2025-05-07T20:03:01.283Z"
   },
   {
    "duration": 0,
    "start_time": "2025-05-07T20:03:01.284Z"
   },
   {
    "duration": 0,
    "start_time": "2025-05-07T20:03:01.285Z"
   },
   {
    "duration": 0,
    "start_time": "2025-05-07T20:03:01.287Z"
   },
   {
    "duration": 0,
    "start_time": "2025-05-07T20:03:01.288Z"
   },
   {
    "duration": 0,
    "start_time": "2025-05-07T20:03:01.289Z"
   },
   {
    "duration": 0,
    "start_time": "2025-05-07T20:03:01.290Z"
   },
   {
    "duration": 0,
    "start_time": "2025-05-07T20:03:01.291Z"
   },
   {
    "duration": 0,
    "start_time": "2025-05-07T20:03:01.293Z"
   },
   {
    "duration": 0,
    "start_time": "2025-05-07T20:03:01.294Z"
   },
   {
    "duration": 679,
    "start_time": "2025-05-07T20:04:22.515Z"
   },
   {
    "duration": 23,
    "start_time": "2025-05-07T20:04:23.196Z"
   },
   {
    "duration": 31,
    "start_time": "2025-05-07T20:04:23.221Z"
   },
   {
    "duration": 19,
    "start_time": "2025-05-07T20:04:23.253Z"
   },
   {
    "duration": 10,
    "start_time": "2025-05-07T20:04:23.275Z"
   },
   {
    "duration": 20,
    "start_time": "2025-05-07T20:04:23.287Z"
   },
   {
    "duration": 19,
    "start_time": "2025-05-07T20:04:23.309Z"
   },
   {
    "duration": 58,
    "start_time": "2025-05-07T20:04:23.330Z"
   },
   {
    "duration": 340,
    "start_time": "2025-05-07T20:04:23.390Z"
   },
   {
    "duration": 12,
    "start_time": "2025-05-07T20:04:23.732Z"
   },
   {
    "duration": 27,
    "start_time": "2025-05-07T20:04:23.745Z"
   },
   {
    "duration": 7,
    "start_time": "2025-05-07T20:04:23.773Z"
   },
   {
    "duration": 99,
    "start_time": "2025-05-07T20:04:23.782Z"
   },
   {
    "duration": 16,
    "start_time": "2025-05-07T20:04:23.885Z"
   },
   {
    "duration": 41,
    "start_time": "2025-05-07T20:04:23.903Z"
   },
   {
    "duration": 16,
    "start_time": "2025-05-07T20:04:23.970Z"
   },
   {
    "duration": 35,
    "start_time": "2025-05-07T20:04:23.988Z"
   },
   {
    "duration": 87,
    "start_time": "2025-05-07T20:04:24.025Z"
   },
   {
    "duration": 73,
    "start_time": "2025-05-07T20:04:24.113Z"
   },
   {
    "duration": 48,
    "start_time": "2025-05-07T20:04:24.188Z"
   },
   {
    "duration": 58,
    "start_time": "2025-05-07T20:04:24.238Z"
   },
   {
    "duration": 35,
    "start_time": "2025-05-07T20:04:24.298Z"
   },
   {
    "duration": 125,
    "start_time": "2025-05-07T20:04:24.334Z"
   },
   {
    "duration": 38,
    "start_time": "2025-05-07T20:04:24.470Z"
   },
   {
    "duration": 76,
    "start_time": "2025-05-07T20:04:24.510Z"
   },
   {
    "duration": 37,
    "start_time": "2025-05-07T20:04:24.588Z"
   },
   {
    "duration": 63,
    "start_time": "2025-05-07T20:04:24.627Z"
   },
   {
    "duration": 37,
    "start_time": "2025-05-07T20:04:24.691Z"
   },
   {
    "duration": 60,
    "start_time": "2025-05-07T20:04:24.730Z"
   },
   {
    "duration": 10,
    "start_time": "2025-05-07T20:04:24.792Z"
   },
   {
    "duration": 10,
    "start_time": "2025-05-07T20:04:24.803Z"
   },
   {
    "duration": 11,
    "start_time": "2025-05-07T20:04:24.814Z"
   },
   {
    "duration": 45,
    "start_time": "2025-05-07T20:04:24.826Z"
   },
   {
    "duration": 22,
    "start_time": "2025-05-07T20:04:24.872Z"
   },
   {
    "duration": 46,
    "start_time": "2025-05-07T20:04:24.895Z"
   },
   {
    "duration": 45,
    "start_time": "2025-05-07T20:04:24.943Z"
   },
   {
    "duration": 43,
    "start_time": "2025-05-07T20:04:24.990Z"
   },
   {
    "duration": 48,
    "start_time": "2025-05-07T20:04:25.034Z"
   },
   {
    "duration": 43,
    "start_time": "2025-05-07T20:04:25.084Z"
   },
   {
    "duration": 9,
    "start_time": "2025-05-07T20:04:25.129Z"
   },
   {
    "duration": 3,
    "start_time": "2025-05-07T20:04:25.142Z"
   },
   {
    "duration": 8,
    "start_time": "2025-05-07T20:04:25.170Z"
   },
   {
    "duration": 4,
    "start_time": "2025-05-07T20:04:25.180Z"
   }
  ],
  "kernelspec": {
   "display_name": "base",
   "language": "python",
   "name": "python3"
  },
  "language_info": {
   "codemirror_mode": {
    "name": "ipython",
    "version": 3
   },
   "file_extension": ".py",
   "mimetype": "text/x-python",
   "name": "python",
   "nbconvert_exporter": "python",
   "pygments_lexer": "ipython3",
   "version": "3.10.14"
  },
  "toc": {
   "base_numbering": 1,
   "nav_menu": {},
   "number_sections": true,
   "sideBar": true,
   "skip_h1_title": true,
   "title_cell": "Table of Contents",
   "title_sidebar": "Contents",
   "toc_cell": false,
   "toc_position": {},
   "toc_section_display": true,
   "toc_window_display": false
  }
 },
 "nbformat": 4,
 "nbformat_minor": 4
}
